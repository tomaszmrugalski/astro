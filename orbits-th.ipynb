{
 "cells": [
  {
   "cell_type": "code",
   "execution_count": 4,
   "metadata": {},
   "outputs": [],
   "source": [
    "from astropy import units as u\n",
    "\n",
    "from poliastro.bodies import Earth, Mars, Sun\n",
    "from poliastro.twobody import Orbit\n",
    "\n",
    "# Needed to handle TLE into Poliastro's Orbit\n",
    "from tletools import TLE\n",
    "\n",
    "# Needed for defining manouvers\n",
    "from poliastro.maneuver import Maneuver"
   ]
  },
  {
   "cell_type": "code",
   "execution_count": 6,
   "metadata": {},
   "outputs": [
    {
     "output_type": "execute_result",
     "data": {
      "text/plain": "[<matplotlib.lines.Line2D at 0x12d8cda58>,\n <matplotlib.lines.Line2D at 0x12d817a20>]"
     },
     "metadata": {},
     "execution_count": 6
    },
    {
     "output_type": "display_data",
     "data": {
      "text/plain": "<Figure size 1008x432 with 1 Axes>",
      "image/svg+xml": "<?xml version=\"1.0\" encoding=\"utf-8\" standalone=\"no\"?>\n<!DOCTYPE svg PUBLIC \"-//W3C//DTD SVG 1.1//EN\"\n  \"http://www.w3.org/Graphics/SVG/1.1/DTD/svg11.dtd\">\n<!-- Created with matplotlib (https://matplotlib.org/) -->\n<svg height=\"370.91625pt\" version=\"1.1\" viewBox=\"0 0 542.496406 370.91625\" width=\"542.496406pt\" xmlns=\"http://www.w3.org/2000/svg\" xmlns:xlink=\"http://www.w3.org/1999/xlink\">\n <metadata>\n  <rdf:RDF xmlns:cc=\"http://creativecommons.org/ns#\" xmlns:dc=\"http://purl.org/dc/elements/1.1/\" xmlns:rdf=\"http://www.w3.org/1999/02/22-rdf-syntax-ns#\">\n   <cc:Work>\n    <dc:type rdf:resource=\"http://purl.org/dc/dcmitype/StillImage\"/>\n    <dc:date>2020-09-20T14:01:21.918791</dc:date>\n    <dc:format>image/svg+xml</dc:format>\n    <dc:creator>\n     <cc:Agent>\n      <dc:title>Matplotlib v3.3.0, https://matplotlib.org/</dc:title>\n     </cc:Agent>\n    </dc:creator>\n   </cc:Work>\n  </rdf:RDF>\n </metadata>\n <defs>\n  <style type=\"text/css\">*{stroke-linecap:butt;stroke-linejoin:round;}</style>\n </defs>\n <g id=\"figure_1\">\n  <g id=\"patch_1\">\n   <path d=\"M 0 370.91625 \nL 542.496406 370.91625 \nL 542.496406 0 \nL 0 0 \nz\n\" style=\"fill:none;\"/>\n  </g>\n  <g id=\"axes_1\">\n   <g id=\"patch_2\">\n    <path d=\"M 61.729687 333.36 \nL 387.876562 333.36 \nL 387.876562 7.2 \nL 61.729687 7.2 \nz\n\" style=\"fill:#ffffff;\"/>\n   </g>\n   <g id=\"patch_3\">\n    <path clip-path=\"url(#p6360a249a6)\" d=\"M 224.981934 301.870142 \nC 259.879469 301.870142 293.352389 288.005204 318.028673 263.328921 \nC 342.704957 238.652637 356.569895 205.179716 356.569895 170.282181 \nC 356.569895 135.384646 342.704957 101.911725 318.028673 77.235442 \nC 293.352389 52.559158 259.879469 38.69422 224.981934 38.69422 \nC 190.084398 38.69422 156.611478 52.559158 131.935194 77.235442 \nC 107.25891 101.911725 93.393973 135.384646 93.393973 170.282181 \nC 93.393973 205.179716 107.25891 238.652637 131.935194 263.328921 \nC 156.611478 288.005204 190.084398 301.870142 224.981934 301.870142 \nz\n\" style=\"fill:#2a7bd1;\"/>\n   </g>\n   <g id=\"matplotlib.axis_1\">\n    <g id=\"xtick_1\">\n     <g id=\"line2d_1\">\n      <defs>\n       <path d=\"M 0 0 \nL 0 3.5 \n\" id=\"m9f7e376e66\" style=\"stroke:#000000;stroke-width:0.8;\"/>\n      </defs>\n      <g>\n       <use style=\"stroke:#000000;stroke-width:0.8;\" x=\"101.195346\" xlink:href=\"#m9f7e376e66\" y=\"333.36\"/>\n      </g>\n     </g>\n     <g id=\"text_1\">\n      <!-- −6000 -->\n      <g transform=\"translate(84.280502 347.958438)scale(0.1 -0.1)\">\n       <defs>\n        <path d=\"M 10.59375 35.5 \nL 73.1875 35.5 \nL 73.1875 27.203125 \nL 10.59375 27.203125 \nz\n\" id=\"DejaVuSans-8722\"/>\n        <path d=\"M 33.015625 40.375 \nQ 26.375 40.375 22.484375 35.828125 \nQ 18.609375 31.296875 18.609375 23.390625 \nQ 18.609375 15.53125 22.484375 10.953125 \nQ 26.375 6.390625 33.015625 6.390625 \nQ 39.65625 6.390625 43.53125 10.953125 \nQ 47.40625 15.53125 47.40625 23.390625 \nQ 47.40625 31.296875 43.53125 35.828125 \nQ 39.65625 40.375 33.015625 40.375 \nz\nM 52.59375 71.296875 \nL 52.59375 62.3125 \nQ 48.875 64.0625 45.09375 64.984375 \nQ 41.3125 65.921875 37.59375 65.921875 \nQ 27.828125 65.921875 22.671875 59.328125 \nQ 17.53125 52.734375 16.796875 39.40625 \nQ 19.671875 43.65625 24.015625 45.921875 \nQ 28.375 48.1875 33.59375 48.1875 \nQ 44.578125 48.1875 50.953125 41.515625 \nQ 57.328125 34.859375 57.328125 23.390625 \nQ 57.328125 12.15625 50.6875 5.359375 \nQ 44.046875 -1.421875 33.015625 -1.421875 \nQ 20.359375 -1.421875 13.671875 8.265625 \nQ 6.984375 17.96875 6.984375 36.375 \nQ 6.984375 53.65625 15.1875 63.9375 \nQ 23.390625 74.21875 37.203125 74.21875 \nQ 40.921875 74.21875 44.703125 73.484375 \nQ 48.484375 72.75 52.59375 71.296875 \nz\n\" id=\"DejaVuSans-54\"/>\n        <path d=\"M 31.78125 66.40625 \nQ 24.171875 66.40625 20.328125 58.90625 \nQ 16.5 51.421875 16.5 36.375 \nQ 16.5 21.390625 20.328125 13.890625 \nQ 24.171875 6.390625 31.78125 6.390625 \nQ 39.453125 6.390625 43.28125 13.890625 \nQ 47.125 21.390625 47.125 36.375 \nQ 47.125 51.421875 43.28125 58.90625 \nQ 39.453125 66.40625 31.78125 66.40625 \nz\nM 31.78125 74.21875 \nQ 44.046875 74.21875 50.515625 64.515625 \nQ 56.984375 54.828125 56.984375 36.375 \nQ 56.984375 17.96875 50.515625 8.265625 \nQ 44.046875 -1.421875 31.78125 -1.421875 \nQ 19.53125 -1.421875 13.0625 8.265625 \nQ 6.59375 17.96875 6.59375 36.375 \nQ 6.59375 54.828125 13.0625 64.515625 \nQ 19.53125 74.21875 31.78125 74.21875 \nz\n\" id=\"DejaVuSans-48\"/>\n       </defs>\n       <use xlink:href=\"#DejaVuSans-8722\"/>\n       <use x=\"83.789062\" xlink:href=\"#DejaVuSans-54\"/>\n       <use x=\"147.412109\" xlink:href=\"#DejaVuSans-48\"/>\n       <use x=\"211.035156\" xlink:href=\"#DejaVuSans-48\"/>\n       <use x=\"274.658203\" xlink:href=\"#DejaVuSans-48\"/>\n      </g>\n     </g>\n    </g>\n    <g id=\"xtick_2\">\n     <g id=\"line2d_2\">\n      <g>\n       <use style=\"stroke:#000000;stroke-width:0.8;\" x=\"142.457542\" xlink:href=\"#m9f7e376e66\" y=\"333.36\"/>\n      </g>\n     </g>\n     <g id=\"text_2\">\n      <!-- −4000 -->\n      <g transform=\"translate(125.542698 347.958438)scale(0.1 -0.1)\">\n       <defs>\n        <path d=\"M 37.796875 64.3125 \nL 12.890625 25.390625 \nL 37.796875 25.390625 \nz\nM 35.203125 72.90625 \nL 47.609375 72.90625 \nL 47.609375 25.390625 \nL 58.015625 25.390625 \nL 58.015625 17.1875 \nL 47.609375 17.1875 \nL 47.609375 0 \nL 37.796875 0 \nL 37.796875 17.1875 \nL 4.890625 17.1875 \nL 4.890625 26.703125 \nz\n\" id=\"DejaVuSans-52\"/>\n       </defs>\n       <use xlink:href=\"#DejaVuSans-8722\"/>\n       <use x=\"83.789062\" xlink:href=\"#DejaVuSans-52\"/>\n       <use x=\"147.412109\" xlink:href=\"#DejaVuSans-48\"/>\n       <use x=\"211.035156\" xlink:href=\"#DejaVuSans-48\"/>\n       <use x=\"274.658203\" xlink:href=\"#DejaVuSans-48\"/>\n      </g>\n     </g>\n    </g>\n    <g id=\"xtick_3\">\n     <g id=\"line2d_3\">\n      <g>\n       <use style=\"stroke:#000000;stroke-width:0.8;\" x=\"183.719738\" xlink:href=\"#m9f7e376e66\" y=\"333.36\"/>\n      </g>\n     </g>\n     <g id=\"text_3\">\n      <!-- −2000 -->\n      <g transform=\"translate(166.804894 347.958438)scale(0.1 -0.1)\">\n       <defs>\n        <path d=\"M 19.1875 8.296875 \nL 53.609375 8.296875 \nL 53.609375 0 \nL 7.328125 0 \nL 7.328125 8.296875 \nQ 12.9375 14.109375 22.625 23.890625 \nQ 32.328125 33.6875 34.8125 36.53125 \nQ 39.546875 41.84375 41.421875 45.53125 \nQ 43.3125 49.21875 43.3125 52.78125 \nQ 43.3125 58.59375 39.234375 62.25 \nQ 35.15625 65.921875 28.609375 65.921875 \nQ 23.96875 65.921875 18.8125 64.3125 \nQ 13.671875 62.703125 7.8125 59.421875 \nL 7.8125 69.390625 \nQ 13.765625 71.78125 18.9375 73 \nQ 24.125 74.21875 28.421875 74.21875 \nQ 39.75 74.21875 46.484375 68.546875 \nQ 53.21875 62.890625 53.21875 53.421875 \nQ 53.21875 48.921875 51.53125 44.890625 \nQ 49.859375 40.875 45.40625 35.40625 \nQ 44.1875 33.984375 37.640625 27.21875 \nQ 31.109375 20.453125 19.1875 8.296875 \nz\n\" id=\"DejaVuSans-50\"/>\n       </defs>\n       <use xlink:href=\"#DejaVuSans-8722\"/>\n       <use x=\"83.789062\" xlink:href=\"#DejaVuSans-50\"/>\n       <use x=\"147.412109\" xlink:href=\"#DejaVuSans-48\"/>\n       <use x=\"211.035156\" xlink:href=\"#DejaVuSans-48\"/>\n       <use x=\"274.658203\" xlink:href=\"#DejaVuSans-48\"/>\n      </g>\n     </g>\n    </g>\n    <g id=\"xtick_4\">\n     <g id=\"line2d_4\">\n      <g>\n       <use style=\"stroke:#000000;stroke-width:0.8;\" x=\"224.981934\" xlink:href=\"#m9f7e376e66\" y=\"333.36\"/>\n      </g>\n     </g>\n     <g id=\"text_4\">\n      <!-- 0 -->\n      <g transform=\"translate(221.800684 347.958438)scale(0.1 -0.1)\">\n       <use xlink:href=\"#DejaVuSans-48\"/>\n      </g>\n     </g>\n    </g>\n    <g id=\"xtick_5\">\n     <g id=\"line2d_5\">\n      <g>\n       <use style=\"stroke:#000000;stroke-width:0.8;\" x=\"266.24413\" xlink:href=\"#m9f7e376e66\" y=\"333.36\"/>\n      </g>\n     </g>\n     <g id=\"text_5\">\n      <!-- 2000 -->\n      <g transform=\"translate(253.51913 347.958438)scale(0.1 -0.1)\">\n       <use xlink:href=\"#DejaVuSans-50\"/>\n       <use x=\"63.623047\" xlink:href=\"#DejaVuSans-48\"/>\n       <use x=\"127.246094\" xlink:href=\"#DejaVuSans-48\"/>\n       <use x=\"190.869141\" xlink:href=\"#DejaVuSans-48\"/>\n      </g>\n     </g>\n    </g>\n    <g id=\"xtick_6\">\n     <g id=\"line2d_6\">\n      <g>\n       <use style=\"stroke:#000000;stroke-width:0.8;\" x=\"307.506325\" xlink:href=\"#m9f7e376e66\" y=\"333.36\"/>\n      </g>\n     </g>\n     <g id=\"text_6\">\n      <!-- 4000 -->\n      <g transform=\"translate(294.781325 347.958438)scale(0.1 -0.1)\">\n       <use xlink:href=\"#DejaVuSans-52\"/>\n       <use x=\"63.623047\" xlink:href=\"#DejaVuSans-48\"/>\n       <use x=\"127.246094\" xlink:href=\"#DejaVuSans-48\"/>\n       <use x=\"190.869141\" xlink:href=\"#DejaVuSans-48\"/>\n      </g>\n     </g>\n    </g>\n    <g id=\"xtick_7\">\n     <g id=\"line2d_7\">\n      <g>\n       <use style=\"stroke:#000000;stroke-width:0.8;\" x=\"348.768521\" xlink:href=\"#m9f7e376e66\" y=\"333.36\"/>\n      </g>\n     </g>\n     <g id=\"text_7\">\n      <!-- 6000 -->\n      <g transform=\"translate(336.043521 347.958438)scale(0.1 -0.1)\">\n       <use xlink:href=\"#DejaVuSans-54\"/>\n       <use x=\"63.623047\" xlink:href=\"#DejaVuSans-48\"/>\n       <use x=\"127.246094\" xlink:href=\"#DejaVuSans-48\"/>\n       <use x=\"190.869141\" xlink:href=\"#DejaVuSans-48\"/>\n      </g>\n     </g>\n    </g>\n    <g id=\"text_8\">\n     <!-- $x$ (km) -->\n     <g transform=\"translate(208.553125 361.636563)scale(0.1 -0.1)\">\n      <defs>\n       <path d=\"M 60.015625 54.6875 \nL 34.90625 27.875 \nL 50.296875 0 \nL 39.984375 0 \nL 28.421875 21.6875 \nL 8.296875 0 \nL -2.59375 0 \nL 24.3125 28.8125 \nL 10.015625 54.6875 \nL 20.3125 54.6875 \nL 30.8125 34.90625 \nL 49.125 54.6875 \nz\n\" id=\"DejaVuSans-Oblique-120\"/>\n       <path id=\"DejaVuSans-32\"/>\n       <path d=\"M 31 75.875 \nQ 24.46875 64.65625 21.28125 53.65625 \nQ 18.109375 42.671875 18.109375 31.390625 \nQ 18.109375 20.125 21.3125 9.0625 \nQ 24.515625 -2 31 -13.1875 \nL 23.1875 -13.1875 \nQ 15.875 -1.703125 12.234375 9.375 \nQ 8.59375 20.453125 8.59375 31.390625 \nQ 8.59375 42.28125 12.203125 53.3125 \nQ 15.828125 64.359375 23.1875 75.875 \nz\n\" id=\"DejaVuSans-40\"/>\n       <path d=\"M 9.078125 75.984375 \nL 18.109375 75.984375 \nL 18.109375 31.109375 \nL 44.921875 54.6875 \nL 56.390625 54.6875 \nL 27.390625 29.109375 \nL 57.625 0 \nL 45.90625 0 \nL 18.109375 26.703125 \nL 18.109375 0 \nL 9.078125 0 \nz\n\" id=\"DejaVuSans-107\"/>\n       <path d=\"M 52 44.1875 \nQ 55.375 50.25 60.0625 53.125 \nQ 64.75 56 71.09375 56 \nQ 79.640625 56 84.28125 50.015625 \nQ 88.921875 44.046875 88.921875 33.015625 \nL 88.921875 0 \nL 79.890625 0 \nL 79.890625 32.71875 \nQ 79.890625 40.578125 77.09375 44.375 \nQ 74.3125 48.1875 68.609375 48.1875 \nQ 61.625 48.1875 57.5625 43.546875 \nQ 53.515625 38.921875 53.515625 30.90625 \nL 53.515625 0 \nL 44.484375 0 \nL 44.484375 32.71875 \nQ 44.484375 40.625 41.703125 44.40625 \nQ 38.921875 48.1875 33.109375 48.1875 \nQ 26.21875 48.1875 22.15625 43.53125 \nQ 18.109375 38.875 18.109375 30.90625 \nL 18.109375 0 \nL 9.078125 0 \nL 9.078125 54.6875 \nL 18.109375 54.6875 \nL 18.109375 46.1875 \nQ 21.1875 51.21875 25.484375 53.609375 \nQ 29.78125 56 35.6875 56 \nQ 41.65625 56 45.828125 52.96875 \nQ 50 49.953125 52 44.1875 \nz\n\" id=\"DejaVuSans-109\"/>\n       <path d=\"M 8.015625 75.875 \nL 15.828125 75.875 \nQ 23.140625 64.359375 26.78125 53.3125 \nQ 30.421875 42.28125 30.421875 31.390625 \nQ 30.421875 20.453125 26.78125 9.375 \nQ 23.140625 -1.703125 15.828125 -13.1875 \nL 8.015625 -13.1875 \nQ 14.5 -2 17.703125 9.0625 \nQ 20.90625 20.125 20.90625 31.390625 \nQ 20.90625 42.671875 17.703125 53.65625 \nQ 14.5 64.65625 8.015625 75.875 \nz\n\" id=\"DejaVuSans-41\"/>\n      </defs>\n      <use transform=\"translate(0 0.015625)\" xlink:href=\"#DejaVuSans-Oblique-120\"/>\n      <use transform=\"translate(59.179688 0.015625)\" xlink:href=\"#DejaVuSans-32\"/>\n      <use transform=\"translate(90.966797 0.015625)\" xlink:href=\"#DejaVuSans-40\"/>\n      <use transform=\"translate(129.980469 0.015625)\" xlink:href=\"#DejaVuSans-107\"/>\n      <use transform=\"translate(187.890625 0.015625)\" xlink:href=\"#DejaVuSans-109\"/>\n      <use transform=\"translate(285.302734 0.015625)\" xlink:href=\"#DejaVuSans-41\"/>\n     </g>\n    </g>\n   </g>\n   <g id=\"matplotlib.axis_2\">\n    <g id=\"ytick_1\">\n     <g id=\"line2d_8\">\n      <defs>\n       <path d=\"M 0 0 \nL -3.5 0 \n\" id=\"m17eb9d1334\" style=\"stroke:#000000;stroke-width:0.8;\"/>\n      </defs>\n      <g>\n       <use style=\"stroke:#000000;stroke-width:0.8;\" x=\"61.729687\" xlink:href=\"#m17eb9d1334\" y=\"294.068769\"/>\n      </g>\n     </g>\n     <g id=\"text_9\">\n      <!-- −6000 -->\n      <g transform=\"translate(20.9 297.867988)scale(0.1 -0.1)\">\n       <use xlink:href=\"#DejaVuSans-8722\"/>\n       <use x=\"83.789062\" xlink:href=\"#DejaVuSans-54\"/>\n       <use x=\"147.412109\" xlink:href=\"#DejaVuSans-48\"/>\n       <use x=\"211.035156\" xlink:href=\"#DejaVuSans-48\"/>\n       <use x=\"274.658203\" xlink:href=\"#DejaVuSans-48\"/>\n      </g>\n     </g>\n    </g>\n    <g id=\"ytick_2\">\n     <g id=\"line2d_9\">\n      <g>\n       <use style=\"stroke:#000000;stroke-width:0.8;\" x=\"61.729687\" xlink:href=\"#m17eb9d1334\" y=\"252.806573\"/>\n      </g>\n     </g>\n     <g id=\"text_10\">\n      <!-- −4000 -->\n      <g transform=\"translate(20.9 256.605792)scale(0.1 -0.1)\">\n       <use xlink:href=\"#DejaVuSans-8722\"/>\n       <use x=\"83.789062\" xlink:href=\"#DejaVuSans-52\"/>\n       <use x=\"147.412109\" xlink:href=\"#DejaVuSans-48\"/>\n       <use x=\"211.035156\" xlink:href=\"#DejaVuSans-48\"/>\n       <use x=\"274.658203\" xlink:href=\"#DejaVuSans-48\"/>\n      </g>\n     </g>\n    </g>\n    <g id=\"ytick_3\">\n     <g id=\"line2d_10\">\n      <g>\n       <use style=\"stroke:#000000;stroke-width:0.8;\" x=\"61.729687\" xlink:href=\"#m17eb9d1334\" y=\"211.544377\"/>\n      </g>\n     </g>\n     <g id=\"text_11\">\n      <!-- −2000 -->\n      <g transform=\"translate(20.9 215.343596)scale(0.1 -0.1)\">\n       <use xlink:href=\"#DejaVuSans-8722\"/>\n       <use x=\"83.789062\" xlink:href=\"#DejaVuSans-50\"/>\n       <use x=\"147.412109\" xlink:href=\"#DejaVuSans-48\"/>\n       <use x=\"211.035156\" xlink:href=\"#DejaVuSans-48\"/>\n       <use x=\"274.658203\" xlink:href=\"#DejaVuSans-48\"/>\n      </g>\n     </g>\n    </g>\n    <g id=\"ytick_4\">\n     <g id=\"line2d_11\">\n      <g>\n       <use style=\"stroke:#000000;stroke-width:0.8;\" x=\"61.729687\" xlink:href=\"#m17eb9d1334\" y=\"170.282181\"/>\n      </g>\n     </g>\n     <g id=\"text_12\">\n      <!-- 0 -->\n      <g transform=\"translate(48.367187 174.0814)scale(0.1 -0.1)\">\n       <use xlink:href=\"#DejaVuSans-48\"/>\n      </g>\n     </g>\n    </g>\n    <g id=\"ytick_5\">\n     <g id=\"line2d_12\">\n      <g>\n       <use style=\"stroke:#000000;stroke-width:0.8;\" x=\"61.729687\" xlink:href=\"#m17eb9d1334\" y=\"129.019985\"/>\n      </g>\n     </g>\n     <g id=\"text_13\">\n      <!-- 2000 -->\n      <g transform=\"translate(29.279687 132.819204)scale(0.1 -0.1)\">\n       <use xlink:href=\"#DejaVuSans-50\"/>\n       <use x=\"63.623047\" xlink:href=\"#DejaVuSans-48\"/>\n       <use x=\"127.246094\" xlink:href=\"#DejaVuSans-48\"/>\n       <use x=\"190.869141\" xlink:href=\"#DejaVuSans-48\"/>\n      </g>\n     </g>\n    </g>\n    <g id=\"ytick_6\">\n     <g id=\"line2d_13\">\n      <g>\n       <use style=\"stroke:#000000;stroke-width:0.8;\" x=\"61.729687\" xlink:href=\"#m17eb9d1334\" y=\"87.757789\"/>\n      </g>\n     </g>\n     <g id=\"text_14\">\n      <!-- 4000 -->\n      <g transform=\"translate(29.279687 91.557008)scale(0.1 -0.1)\">\n       <use xlink:href=\"#DejaVuSans-52\"/>\n       <use x=\"63.623047\" xlink:href=\"#DejaVuSans-48\"/>\n       <use x=\"127.246094\" xlink:href=\"#DejaVuSans-48\"/>\n       <use x=\"190.869141\" xlink:href=\"#DejaVuSans-48\"/>\n      </g>\n     </g>\n    </g>\n    <g id=\"ytick_7\">\n     <g id=\"line2d_14\">\n      <g>\n       <use style=\"stroke:#000000;stroke-width:0.8;\" x=\"61.729687\" xlink:href=\"#m17eb9d1334\" y=\"46.495593\"/>\n      </g>\n     </g>\n     <g id=\"text_15\">\n      <!-- 6000 -->\n      <g transform=\"translate(29.279687 50.294812)scale(0.1 -0.1)\">\n       <use xlink:href=\"#DejaVuSans-54\"/>\n       <use x=\"63.623047\" xlink:href=\"#DejaVuSans-48\"/>\n       <use x=\"127.246094\" xlink:href=\"#DejaVuSans-48\"/>\n       <use x=\"190.869141\" xlink:href=\"#DejaVuSans-48\"/>\n      </g>\n     </g>\n    </g>\n    <g id=\"text_16\">\n     <!-- $y$ (km) -->\n     <g transform=\"translate(14.8 186.53)rotate(-90)scale(0.1 -0.1)\">\n      <defs>\n       <path d=\"M 24.8125 -5.078125 \nQ 18.5625 -15.578125 14.625 -18.1875 \nQ 10.6875 -20.796875 4.59375 -20.796875 \nL -2.484375 -20.796875 \nL -0.984375 -13.28125 \nL 4.203125 -13.28125 \nQ 7.953125 -13.28125 10.59375 -11.234375 \nQ 13.234375 -9.1875 16.5 -3.21875 \nL 19.28125 2 \nL 7.171875 54.6875 \nL 16.703125 54.6875 \nL 25.78125 12.796875 \nL 50.875 54.6875 \nL 60.296875 54.6875 \nz\n\" id=\"DejaVuSans-Oblique-121\"/>\n      </defs>\n      <use transform=\"translate(0 0.015625)\" xlink:href=\"#DejaVuSans-Oblique-121\"/>\n      <use transform=\"translate(59.179688 0.015625)\" xlink:href=\"#DejaVuSans-32\"/>\n      <use transform=\"translate(90.966797 0.015625)\" xlink:href=\"#DejaVuSans-40\"/>\n      <use transform=\"translate(129.980469 0.015625)\" xlink:href=\"#DejaVuSans-107\"/>\n      <use transform=\"translate(187.890625 0.015625)\" xlink:href=\"#DejaVuSans-109\"/>\n      <use transform=\"translate(285.302734 0.015625)\" xlink:href=\"#DejaVuSans-41\"/>\n     </g>\n    </g>\n   </g>\n   <g id=\"line2d_15\">\n    <path clip-path=\"url(#p6360a249a6)\" d=\"M 349.809027 90.538757 \nL 346.336203 85.340438 \nL 342.647324 80.293142 \nL 338.748947 75.405844 \nL 334.648004 70.687232 \nL 330.351786 66.145696 \nL 325.867932 61.789312 \nL 321.204414 57.625823 \nL 316.369524 53.662634 \nL 311.371857 49.90679 \nL 306.220299 46.364969 \nL 300.92401 43.043468 \nL 295.492407 39.948193 \nL 289.935146 37.084647 \nL 284.262107 34.457921 \nL 278.483379 32.072686 \nL 272.609234 29.933183 \nL 266.650117 28.043214 \nL 260.616624 26.406142 \nL 254.51948 25.024876 \nL 248.369528 23.901872 \nL 242.1777 23.039127 \nL 235.955007 22.438174 \nL 229.712511 22.100083 \nL 223.461312 22.025455 \nL 217.212524 22.214421 \nL 210.977258 22.666646 \nL 204.766599 23.381327 \nL 198.591589 24.357192 \nL 192.463208 25.592506 \nL 186.392352 27.085073 \nL 180.389813 28.832239 \nL 174.466266 30.830898 \nL 168.632241 33.077497 \nL 162.898112 35.56804 \nL 157.274072 38.2981 \nL 151.770122 41.262823 \nL 146.396048 44.456938 \nL 141.161404 47.874765 \nL 136.075497 51.510229 \nL 131.14737 55.356864 \nL 126.385786 59.407833 \nL 121.799209 63.655932 \nL 117.395794 68.093609 \nL 113.183372 72.712973 \nL 109.16943 77.505812 \nL 105.361107 82.463604 \nL 101.765172 87.577534 \nL 98.38802 92.838509 \nL 95.235655 98.237177 \nL 92.313681 103.763939 \nL 89.627295 109.408967 \nL 87.181271 115.162225 \nL 84.979959 121.013485 \nL 83.027274 126.952343 \nL 81.326686 132.96824 \nL 79.881219 139.050479 \nL 78.693443 145.188248 \nL 77.765471 151.370632 \nL 77.098952 157.586641 \nL 76.695071 163.825221 \nL 76.554545 170.075282 \nL 76.677626 176.325711 \nL 77.064094 182.565395 \nL 77.713262 188.783239 \nL 78.623976 194.968189 \nL 79.794617 201.109249 \nL 81.223102 207.195499 \nL 82.906893 213.216118 \nL 84.842996 219.160403 \nL 87.027969 225.017784 \nL 89.457926 230.777847 \nL 92.128547 236.430351 \nL 95.035084 241.965246 \nL 98.172369 247.372691 \nL 101.534825 252.643071 \nL 105.116473 257.767018 \nL 108.910944 262.735419 \nL 112.911493 267.539442 \nL 117.111007 272.170545 \nL 121.502019 276.620494 \nL 126.076722 280.881378 \nL 130.826982 284.94562 \nL 135.744354 288.805995 \nL 140.820094 292.455639 \nL 146.045178 295.888063 \nL 151.410317 299.097164 \nL 156.905971 302.077237 \nL 162.522369 304.822983 \nL 168.249525 307.32952 \nL 174.077257 309.592392 \nL 179.995204 311.607576 \nL 185.992842 313.371489 \nL 192.059509 314.880993 \nL 198.184418 316.133407 \nL 204.35668 317.126502 \nL 210.565321 317.858514 \nL 216.799301 318.32814 \nL 223.047537 318.534545 \nL 229.29892 318.477364 \nL 235.542335 318.156697 \nL 241.766681 317.573114 \nL 247.960892 316.727654 \nL 254.113955 315.621818 \nL 260.21493 314.257575 \nL 266.252969 312.637348 \nL 272.217338 310.764019 \nL 278.097431 308.640918 \nL 283.882794 306.27182 \nL 289.563141 303.660938 \nL 295.128373 300.812914 \nL 300.568594 297.73281 \nL 305.874133 294.426104 \nL 311.035555 290.898675 \nL 316.043685 287.156793 \nL 320.889618 283.207113 \nL 325.564738 279.056657 \nL 330.060733 274.712804 \nL 334.369609 270.183276 \nL 338.483706 265.476129 \nL 342.395708 260.599729 \nL 346.09866 255.562749 \nL 349.585978 250.374143 \nL 352.851463 245.043136 \nL 355.889307 239.579207 \nL 358.694111 233.99207 \nL 361.260887 228.29166 \nL 363.585071 222.488111 \nL 365.662531 216.591741 \nL 367.489574 210.613035 \nL 369.062951 204.562622 \nL 370.379865 198.45126 \nL 371.437974 192.289814 \nL 372.235397 186.089239 \nL 372.770716 179.86056 \nL 373.04298 173.614851 \nL 373.051704 167.363217 \nL 372.796873 161.116772 \nL 372.27894 154.886624 \nL 371.498826 148.683847 \nL 370.457917 142.519472 \nL 369.158065 136.404458 \nL 367.601581 130.349678 \nL 365.791231 124.365896 \nL 363.730236 118.463751 \nL 361.422258 112.653738 \nL 358.871402 106.946186 \nL 356.082203 101.351243 \nL 353.05962 95.878857 \nL 349.809027 90.538757 \nL 349.809027 90.538757 \n\" style=\"fill:none;stroke:#1f77b4;stroke-dasharray:5.55,2.4;stroke-dashoffset:0;stroke-width:1.5;\"/>\n   </g>\n   <g id=\"line2d_16\">\n    <defs>\n     <path d=\"M 0 3 \nC 0.795609 3 1.55874 2.683901 2.12132 2.12132 \nC 2.683901 1.55874 3 0.795609 3 0 \nC 3 -0.795609 2.683901 -1.55874 2.12132 -2.12132 \nC 1.55874 -2.683901 0.795609 -3 0 -3 \nC -0.795609 -3 -1.55874 -2.683901 -2.12132 -2.12132 \nC -2.683901 -1.55874 -3 -0.795609 -3 0 \nC -3 0.795609 -2.683901 1.55874 -2.12132 2.12132 \nC -1.55874 2.683901 -0.795609 3 0 3 \nz\n\" id=\"m80cd97a0ba\"/>\n    </defs>\n    <g clip-path=\"url(#p6360a249a6)\">\n     <use style=\"fill:#1f77b4;\" x=\"349.809027\" xlink:href=\"#m80cd97a0ba\" y=\"90.538757\"/>\n    </g>\n   </g>\n   <g id=\"patch_4\">\n    <path d=\"M 61.729687 333.36 \nL 61.729687 7.2 \n\" style=\"fill:none;stroke:#000000;stroke-linecap:square;stroke-linejoin:miter;stroke-width:0.8;\"/>\n   </g>\n   <g id=\"patch_5\">\n    <path d=\"M 387.876562 333.36 \nL 387.876562 7.2 \n\" style=\"fill:none;stroke:#000000;stroke-linecap:square;stroke-linejoin:miter;stroke-width:0.8;\"/>\n   </g>\n   <g id=\"patch_6\">\n    <path d=\"M 61.729687 333.36 \nL 387.876562 333.36 \n\" style=\"fill:none;stroke:#000000;stroke-linecap:square;stroke-linejoin:miter;stroke-width:0.8;\"/>\n   </g>\n   <g id=\"patch_7\">\n    <path d=\"M 61.729687 7.2 \nL 387.876562 7.2 \n\" style=\"fill:none;stroke:#000000;stroke-linecap:square;stroke-linejoin:miter;stroke-width:0.8;\"/>\n   </g>\n   <g id=\"legend_1\">\n    <g id=\"patch_8\">\n     <path d=\"M 411.183906 39.66385 \nL 533.296406 39.66385 \nQ 535.296406 39.66385 535.296406 37.66385 \nL 535.296406 9.3076 \nQ 535.296406 7.3076 533.296406 7.3076 \nL 411.183906 7.3076 \nQ 409.183906 7.3076 409.183906 9.3076 \nL 409.183906 37.66385 \nQ 409.183906 39.66385 411.183906 39.66385 \nz\n\" style=\"fill:#ffffff;opacity:0.8;stroke:#cccccc;stroke-linejoin:miter;\"/>\n    </g>\n    <g id=\"text_17\">\n     <!-- Names and epochs -->\n     <g transform=\"translate(424.465937 18.906038)scale(0.1 -0.1)\">\n      <defs>\n       <path d=\"M 9.8125 72.90625 \nL 23.09375 72.90625 \nL 55.421875 11.921875 \nL 55.421875 72.90625 \nL 64.984375 72.90625 \nL 64.984375 0 \nL 51.703125 0 \nL 19.390625 60.984375 \nL 19.390625 0 \nL 9.8125 0 \nz\n\" id=\"DejaVuSans-78\"/>\n       <path d=\"M 34.28125 27.484375 \nQ 23.390625 27.484375 19.1875 25 \nQ 14.984375 22.515625 14.984375 16.5 \nQ 14.984375 11.71875 18.140625 8.90625 \nQ 21.296875 6.109375 26.703125 6.109375 \nQ 34.1875 6.109375 38.703125 11.40625 \nQ 43.21875 16.703125 43.21875 25.484375 \nL 43.21875 27.484375 \nz\nM 52.203125 31.203125 \nL 52.203125 0 \nL 43.21875 0 \nL 43.21875 8.296875 \nQ 40.140625 3.328125 35.546875 0.953125 \nQ 30.953125 -1.421875 24.3125 -1.421875 \nQ 15.921875 -1.421875 10.953125 3.296875 \nQ 6 8.015625 6 15.921875 \nQ 6 25.140625 12.171875 29.828125 \nQ 18.359375 34.515625 30.609375 34.515625 \nL 43.21875 34.515625 \nL 43.21875 35.40625 \nQ 43.21875 41.609375 39.140625 45 \nQ 35.0625 48.390625 27.6875 48.390625 \nQ 23 48.390625 18.546875 47.265625 \nQ 14.109375 46.140625 10.015625 43.890625 \nL 10.015625 52.203125 \nQ 14.9375 54.109375 19.578125 55.046875 \nQ 24.21875 56 28.609375 56 \nQ 40.484375 56 46.34375 49.84375 \nQ 52.203125 43.703125 52.203125 31.203125 \nz\n\" id=\"DejaVuSans-97\"/>\n       <path d=\"M 56.203125 29.59375 \nL 56.203125 25.203125 \nL 14.890625 25.203125 \nQ 15.484375 15.921875 20.484375 11.0625 \nQ 25.484375 6.203125 34.421875 6.203125 \nQ 39.59375 6.203125 44.453125 7.46875 \nQ 49.3125 8.734375 54.109375 11.28125 \nL 54.109375 2.78125 \nQ 49.265625 0.734375 44.1875 -0.34375 \nQ 39.109375 -1.421875 33.890625 -1.421875 \nQ 20.796875 -1.421875 13.15625 6.1875 \nQ 5.515625 13.8125 5.515625 26.8125 \nQ 5.515625 40.234375 12.765625 48.109375 \nQ 20.015625 56 32.328125 56 \nQ 43.359375 56 49.78125 48.890625 \nQ 56.203125 41.796875 56.203125 29.59375 \nz\nM 47.21875 32.234375 \nQ 47.125 39.59375 43.09375 43.984375 \nQ 39.0625 48.390625 32.421875 48.390625 \nQ 24.90625 48.390625 20.390625 44.140625 \nQ 15.875 39.890625 15.1875 32.171875 \nz\n\" id=\"DejaVuSans-101\"/>\n       <path d=\"M 44.28125 53.078125 \nL 44.28125 44.578125 \nQ 40.484375 46.53125 36.375 47.5 \nQ 32.28125 48.484375 27.875 48.484375 \nQ 21.1875 48.484375 17.84375 46.4375 \nQ 14.5 44.390625 14.5 40.28125 \nQ 14.5 37.15625 16.890625 35.375 \nQ 19.28125 33.59375 26.515625 31.984375 \nL 29.59375 31.296875 \nQ 39.15625 29.25 43.1875 25.515625 \nQ 47.21875 21.78125 47.21875 15.09375 \nQ 47.21875 7.46875 41.1875 3.015625 \nQ 35.15625 -1.421875 24.609375 -1.421875 \nQ 20.21875 -1.421875 15.453125 -0.5625 \nQ 10.6875 0.296875 5.421875 2 \nL 5.421875 11.28125 \nQ 10.40625 8.6875 15.234375 7.390625 \nQ 20.0625 6.109375 24.8125 6.109375 \nQ 31.15625 6.109375 34.5625 8.28125 \nQ 37.984375 10.453125 37.984375 14.40625 \nQ 37.984375 18.0625 35.515625 20.015625 \nQ 33.0625 21.96875 24.703125 23.78125 \nL 21.578125 24.515625 \nQ 13.234375 26.265625 9.515625 29.90625 \nQ 5.8125 33.546875 5.8125 39.890625 \nQ 5.8125 47.609375 11.28125 51.796875 \nQ 16.75 56 26.8125 56 \nQ 31.78125 56 36.171875 55.265625 \nQ 40.578125 54.546875 44.28125 53.078125 \nz\n\" id=\"DejaVuSans-115\"/>\n       <path d=\"M 54.890625 33.015625 \nL 54.890625 0 \nL 45.90625 0 \nL 45.90625 32.71875 \nQ 45.90625 40.484375 42.875 44.328125 \nQ 39.84375 48.1875 33.796875 48.1875 \nQ 26.515625 48.1875 22.3125 43.546875 \nQ 18.109375 38.921875 18.109375 30.90625 \nL 18.109375 0 \nL 9.078125 0 \nL 9.078125 54.6875 \nL 18.109375 54.6875 \nL 18.109375 46.1875 \nQ 21.34375 51.125 25.703125 53.5625 \nQ 30.078125 56 35.796875 56 \nQ 45.21875 56 50.046875 50.171875 \nQ 54.890625 44.34375 54.890625 33.015625 \nz\n\" id=\"DejaVuSans-110\"/>\n       <path d=\"M 45.40625 46.390625 \nL 45.40625 75.984375 \nL 54.390625 75.984375 \nL 54.390625 0 \nL 45.40625 0 \nL 45.40625 8.203125 \nQ 42.578125 3.328125 38.25 0.953125 \nQ 33.9375 -1.421875 27.875 -1.421875 \nQ 17.96875 -1.421875 11.734375 6.484375 \nQ 5.515625 14.40625 5.515625 27.296875 \nQ 5.515625 40.1875 11.734375 48.09375 \nQ 17.96875 56 27.875 56 \nQ 33.9375 56 38.25 53.625 \nQ 42.578125 51.265625 45.40625 46.390625 \nz\nM 14.796875 27.296875 \nQ 14.796875 17.390625 18.875 11.75 \nQ 22.953125 6.109375 30.078125 6.109375 \nQ 37.203125 6.109375 41.296875 11.75 \nQ 45.40625 17.390625 45.40625 27.296875 \nQ 45.40625 37.203125 41.296875 42.84375 \nQ 37.203125 48.484375 30.078125 48.484375 \nQ 22.953125 48.484375 18.875 42.84375 \nQ 14.796875 37.203125 14.796875 27.296875 \nz\n\" id=\"DejaVuSans-100\"/>\n       <path d=\"M 18.109375 8.203125 \nL 18.109375 -20.796875 \nL 9.078125 -20.796875 \nL 9.078125 54.6875 \nL 18.109375 54.6875 \nL 18.109375 46.390625 \nQ 20.953125 51.265625 25.265625 53.625 \nQ 29.59375 56 35.59375 56 \nQ 45.5625 56 51.78125 48.09375 \nQ 58.015625 40.1875 58.015625 27.296875 \nQ 58.015625 14.40625 51.78125 6.484375 \nQ 45.5625 -1.421875 35.59375 -1.421875 \nQ 29.59375 -1.421875 25.265625 0.953125 \nQ 20.953125 3.328125 18.109375 8.203125 \nz\nM 48.6875 27.296875 \nQ 48.6875 37.203125 44.609375 42.84375 \nQ 40.53125 48.484375 33.40625 48.484375 \nQ 26.265625 48.484375 22.1875 42.84375 \nQ 18.109375 37.203125 18.109375 27.296875 \nQ 18.109375 17.390625 22.1875 11.75 \nQ 26.265625 6.109375 33.40625 6.109375 \nQ 40.53125 6.109375 44.609375 11.75 \nQ 48.6875 17.390625 48.6875 27.296875 \nz\n\" id=\"DejaVuSans-112\"/>\n       <path d=\"M 30.609375 48.390625 \nQ 23.390625 48.390625 19.1875 42.75 \nQ 14.984375 37.109375 14.984375 27.296875 \nQ 14.984375 17.484375 19.15625 11.84375 \nQ 23.34375 6.203125 30.609375 6.203125 \nQ 37.796875 6.203125 41.984375 11.859375 \nQ 46.1875 17.53125 46.1875 27.296875 \nQ 46.1875 37.015625 41.984375 42.703125 \nQ 37.796875 48.390625 30.609375 48.390625 \nz\nM 30.609375 56 \nQ 42.328125 56 49.015625 48.375 \nQ 55.71875 40.765625 55.71875 27.296875 \nQ 55.71875 13.875 49.015625 6.21875 \nQ 42.328125 -1.421875 30.609375 -1.421875 \nQ 18.84375 -1.421875 12.171875 6.21875 \nQ 5.515625 13.875 5.515625 27.296875 \nQ 5.515625 40.765625 12.171875 48.375 \nQ 18.84375 56 30.609375 56 \nz\n\" id=\"DejaVuSans-111\"/>\n       <path d=\"M 48.78125 52.59375 \nL 48.78125 44.1875 \nQ 44.96875 46.296875 41.140625 47.34375 \nQ 37.3125 48.390625 33.40625 48.390625 \nQ 24.65625 48.390625 19.8125 42.84375 \nQ 14.984375 37.3125 14.984375 27.296875 \nQ 14.984375 17.28125 19.8125 11.734375 \nQ 24.65625 6.203125 33.40625 6.203125 \nQ 37.3125 6.203125 41.140625 7.25 \nQ 44.96875 8.296875 48.78125 10.40625 \nL 48.78125 2.09375 \nQ 45.015625 0.34375 40.984375 -0.53125 \nQ 36.96875 -1.421875 32.421875 -1.421875 \nQ 20.0625 -1.421875 12.78125 6.34375 \nQ 5.515625 14.109375 5.515625 27.296875 \nQ 5.515625 40.671875 12.859375 48.328125 \nQ 20.21875 56 33.015625 56 \nQ 37.15625 56 41.109375 55.140625 \nQ 45.0625 54.296875 48.78125 52.59375 \nz\n\" id=\"DejaVuSans-99\"/>\n       <path d=\"M 54.890625 33.015625 \nL 54.890625 0 \nL 45.90625 0 \nL 45.90625 32.71875 \nQ 45.90625 40.484375 42.875 44.328125 \nQ 39.84375 48.1875 33.796875 48.1875 \nQ 26.515625 48.1875 22.3125 43.546875 \nQ 18.109375 38.921875 18.109375 30.90625 \nL 18.109375 0 \nL 9.078125 0 \nL 9.078125 75.984375 \nL 18.109375 75.984375 \nL 18.109375 46.1875 \nQ 21.34375 51.125 25.703125 53.5625 \nQ 30.078125 56 35.796875 56 \nQ 45.21875 56 50.046875 50.171875 \nQ 54.890625 44.34375 54.890625 33.015625 \nz\n\" id=\"DejaVuSans-104\"/>\n      </defs>\n      <use xlink:href=\"#DejaVuSans-78\"/>\n      <use x=\"74.804688\" xlink:href=\"#DejaVuSans-97\"/>\n      <use x=\"136.083984\" xlink:href=\"#DejaVuSans-109\"/>\n      <use x=\"233.496094\" xlink:href=\"#DejaVuSans-101\"/>\n      <use x=\"295.019531\" xlink:href=\"#DejaVuSans-115\"/>\n      <use x=\"347.119141\" xlink:href=\"#DejaVuSans-32\"/>\n      <use x=\"378.90625\" xlink:href=\"#DejaVuSans-97\"/>\n      <use x=\"440.185547\" xlink:href=\"#DejaVuSans-110\"/>\n      <use x=\"503.564453\" xlink:href=\"#DejaVuSans-100\"/>\n      <use x=\"567.041016\" xlink:href=\"#DejaVuSans-32\"/>\n      <use x=\"598.828125\" xlink:href=\"#DejaVuSans-101\"/>\n      <use x=\"660.351562\" xlink:href=\"#DejaVuSans-112\"/>\n      <use x=\"723.828125\" xlink:href=\"#DejaVuSans-111\"/>\n      <use x=\"785.009766\" xlink:href=\"#DejaVuSans-99\"/>\n      <use x=\"839.990234\" xlink:href=\"#DejaVuSans-104\"/>\n      <use x=\"903.369141\" xlink:href=\"#DejaVuSans-115\"/>\n     </g>\n    </g>\n    <g id=\"line2d_17\"/>\n    <g id=\"line2d_18\">\n     <g>\n      <use style=\"fill:#1f77b4;\" x=\"423.183906\" xlink:href=\"#m80cd97a0ba\" y=\"30.084163\"/>\n     </g>\n    </g>\n    <g id=\"text_18\">\n     <!-- 2020-09-19 19:25 -->\n     <g transform=\"translate(441.183906 33.584163)scale(0.1 -0.1)\">\n      <defs>\n       <path d=\"M 4.890625 31.390625 \nL 31.203125 31.390625 \nL 31.203125 23.390625 \nL 4.890625 23.390625 \nz\n\" id=\"DejaVuSans-45\"/>\n       <path d=\"M 10.984375 1.515625 \nL 10.984375 10.5 \nQ 14.703125 8.734375 18.5 7.8125 \nQ 22.3125 6.890625 25.984375 6.890625 \nQ 35.75 6.890625 40.890625 13.453125 \nQ 46.046875 20.015625 46.78125 33.40625 \nQ 43.953125 29.203125 39.59375 26.953125 \nQ 35.25 24.703125 29.984375 24.703125 \nQ 19.046875 24.703125 12.671875 31.3125 \nQ 6.296875 37.9375 6.296875 49.421875 \nQ 6.296875 60.640625 12.9375 67.421875 \nQ 19.578125 74.21875 30.609375 74.21875 \nQ 43.265625 74.21875 49.921875 64.515625 \nQ 56.59375 54.828125 56.59375 36.375 \nQ 56.59375 19.140625 48.40625 8.859375 \nQ 40.234375 -1.421875 26.421875 -1.421875 \nQ 22.703125 -1.421875 18.890625 -0.6875 \nQ 15.09375 0.046875 10.984375 1.515625 \nz\nM 30.609375 32.421875 \nQ 37.25 32.421875 41.125 36.953125 \nQ 45.015625 41.5 45.015625 49.421875 \nQ 45.015625 57.28125 41.125 61.84375 \nQ 37.25 66.40625 30.609375 66.40625 \nQ 23.96875 66.40625 20.09375 61.84375 \nQ 16.21875 57.28125 16.21875 49.421875 \nQ 16.21875 41.5 20.09375 36.953125 \nQ 23.96875 32.421875 30.609375 32.421875 \nz\n\" id=\"DejaVuSans-57\"/>\n       <path d=\"M 12.40625 8.296875 \nL 28.515625 8.296875 \nL 28.515625 63.921875 \nL 10.984375 60.40625 \nL 10.984375 69.390625 \nL 28.421875 72.90625 \nL 38.28125 72.90625 \nL 38.28125 8.296875 \nL 54.390625 8.296875 \nL 54.390625 0 \nL 12.40625 0 \nz\n\" id=\"DejaVuSans-49\"/>\n       <path d=\"M 11.71875 12.40625 \nL 22.015625 12.40625 \nL 22.015625 0 \nL 11.71875 0 \nz\nM 11.71875 51.703125 \nL 22.015625 51.703125 \nL 22.015625 39.3125 \nL 11.71875 39.3125 \nz\n\" id=\"DejaVuSans-58\"/>\n       <path d=\"M 10.796875 72.90625 \nL 49.515625 72.90625 \nL 49.515625 64.59375 \nL 19.828125 64.59375 \nL 19.828125 46.734375 \nQ 21.96875 47.46875 24.109375 47.828125 \nQ 26.265625 48.1875 28.421875 48.1875 \nQ 40.625 48.1875 47.75 41.5 \nQ 54.890625 34.8125 54.890625 23.390625 \nQ 54.890625 11.625 47.5625 5.09375 \nQ 40.234375 -1.421875 26.90625 -1.421875 \nQ 22.3125 -1.421875 17.546875 -0.640625 \nQ 12.796875 0.140625 7.71875 1.703125 \nL 7.71875 11.625 \nQ 12.109375 9.234375 16.796875 8.0625 \nQ 21.484375 6.890625 26.703125 6.890625 \nQ 35.15625 6.890625 40.078125 11.328125 \nQ 45.015625 15.765625 45.015625 23.390625 \nQ 45.015625 31 40.078125 35.4375 \nQ 35.15625 39.890625 26.703125 39.890625 \nQ 22.75 39.890625 18.8125 39.015625 \nQ 14.890625 38.140625 10.796875 36.28125 \nz\n\" id=\"DejaVuSans-53\"/>\n      </defs>\n      <use xlink:href=\"#DejaVuSans-50\"/>\n      <use x=\"63.623047\" xlink:href=\"#DejaVuSans-48\"/>\n      <use x=\"127.246094\" xlink:href=\"#DejaVuSans-50\"/>\n      <use x=\"190.869141\" xlink:href=\"#DejaVuSans-48\"/>\n      <use x=\"254.492188\" xlink:href=\"#DejaVuSans-45\"/>\n      <use x=\"290.576172\" xlink:href=\"#DejaVuSans-48\"/>\n      <use x=\"354.199219\" xlink:href=\"#DejaVuSans-57\"/>\n      <use x=\"417.822266\" xlink:href=\"#DejaVuSans-45\"/>\n      <use x=\"453.90625\" xlink:href=\"#DejaVuSans-49\"/>\n      <use x=\"517.529297\" xlink:href=\"#DejaVuSans-57\"/>\n      <use x=\"581.152344\" xlink:href=\"#DejaVuSans-32\"/>\n      <use x=\"612.939453\" xlink:href=\"#DejaVuSans-49\"/>\n      <use x=\"676.5625\" xlink:href=\"#DejaVuSans-57\"/>\n      <use x=\"740.185547\" xlink:href=\"#DejaVuSans-58\"/>\n      <use x=\"773.876953\" xlink:href=\"#DejaVuSans-50\"/>\n      <use x=\"837.5\" xlink:href=\"#DejaVuSans-53\"/>\n     </g>\n    </g>\n   </g>\n  </g>\n </g>\n <defs>\n  <clipPath id=\"p6360a249a6\">\n   <rect height=\"326.16\" width=\"326.146875\" x=\"61.729687\" y=\"7.2\"/>\n  </clipPath>\n </defs>\n</svg>\n",
      "image/png": "[encoded data removed]"
     },
     "metadata": {
      "needs_background": "light"
     }
    }
   ],
   "source": [
    "# Let's get the TLE orbital data for the target satellite. As an example, let's pick a dead NOAA-17 sat.\n",
    "# Its TLE data can be obtained from many places, such as celestrak or n2yo (https://www.n2yo.com/satellite/?s=27453)\n",
    "\n",
    "tle_text = \"\"\"NOAA-17\n",
    "1 27453U 02032A   20263.80942421 -.00000011 +00000-0 +13583-4 0  9998\n",
    "2 27453 098.5909 208.3215 0011096 327.5463 032.5033 14.25072668948324\"\"\"\n",
    "tle_lines = tle_text.strip().splitlines()\n",
    "\n",
    "tle = TLE.from_lines(*tle_lines)\n",
    "\n",
    "orb2 = tle.to_orbit()\n",
    "\n",
    "orb2.plot()"
   ]
  },
  {
   "cell_type": "code",
   "execution_count": 8,
   "metadata": {},
   "outputs": [
    {
     "output_type": "execute_result",
     "data": {
      "text/plain": "7178 x 7194 km x 98.6 deg (GCRS) orbit around Earth (♁) at epoch 2020-09-19T19:25:34.251744000 (UTC)"
     },
     "metadata": {},
     "execution_count": 8
    }
   ],
   "source": [
    "orb2"
   ]
  },
  {
   "cell_type": "code",
   "execution_count": 10,
   "metadata": {},
   "outputs": [
    {
     "output_type": "execute_result",
     "data": {
      "text/plain": "(<Quantity 7186.38534253 km>,\n <Quantity 0.0011096>,\n <Quantity 98.5909 deg>,\n <Quantity 208.3215 deg>,\n <Quantity 327.5463 deg>,\n <Quantity 32.57170424 deg>)"
     },
     "metadata": {},
     "execution_count": 10
    }
   ],
   "source": [
    "# This will return classical elements: Semimajor axis (𝑎), eccentricity (e), inclination (i), RAAN (Ω) - right ascension of the ascending node, argument or perigeum (𝜔), nu (𝜈) - true anomaly\n",
    "orb2.classical()"
   ]
  },
  {
   "cell_type": "code",
   "execution_count": 12,
   "metadata": {
    "tags": []
   },
   "outputs": [
    {
     "output_type": "stream",
     "name": "stdout",
     "text": "There are 2 impulses needed to conduct Hohmann transfer\n(<Quantity -547.39608549 s>, <Quantity [-1153.06909054,  -311.1783978 ,  1807.77931493] m / s>)\n(<Quantity 15784.68720455 s>, <Quantity [  749.72472309,   202.32797847, -1175.41685698] m / s>)\nThe total Delta-v cost is 3.575440182097535 km / s, the total time is 15237.29111905773 s\n"
    }
   ],
   "source": [
    "# Define a Hohmann manouver that raises an orbit to 36000km\n",
    "hoh = Maneuver.hohmann(orb2, 36000 * u.km)\n",
    "print(\"There are %s impulses needed to conduct Hohmann transfer\" % len(hoh.impulses))\n",
    "print(hoh.impulses[0])\n",
    "print(hoh.impulses[1])\n",
    "print(\"The total Delta-v cost is %s, the total time is %s\" % (hoh.get_total_cost(), hoh.get_total_time()))"
   ]
  },
  {
   "cell_type": "code",
   "execution_count": 13,
   "metadata": {},
   "outputs": [
    {
     "output_type": "display_data",
     "data": {
      "application/vnd.plotly.v1+json": {
       "config": {
        "plotlyServerURL": "https://plot.ly"
       },
       "data": [
        {
         "hoverinfo": "none",
         "line": {
          "color": "rgb(31, 119, 180)",
          "dash": "dash",
          "width": 2
         },
         "mode": "lines",
         "name": "2020-09-19 19:25 (Initial orbit)",
         "type": "scatter",
         "x": [
          6050.43383295311,
          5882.104275916529,
          5703.302374628607,
          5514.34603234481,
          5315.571206546141,
          5107.331311618973,
          4889.996590497185,
          4663.953456383739,
          4429.603805722095,
          4187.364303639003,
          3937.665643129125,
          3680.951779298589,
          3417.679140029016,
          3148.315814465431,
          2873.3407207708065,
          2593.242754627057,
          2308.5199199963727,
          2019.6784436883431,
          1727.2318753071295,
          1431.7001741790787,
          1133.6087848839506,
          833.4877030336575,
          531.8705329594095,
          229.29353898268755,
          -73.70530804316786,
          -376.5872872254804,
          -678.8138854583362,
          -979.8477548792494,
          -1279.1536682540077,
          -1576.1994705911982,
          -1870.4570252943618,
          -2161.403153169586,
          -2448.5205626190136,
          -2731.298769366398,
          -3009.2350040795973,
          -3281.8351062759957,
          -3548.614402921902,
          -3809.0985701634445,
          -4062.8244766571397,
          -4309.341007000427,
          -4548.209863798525,
          -4779.006346941067,
          -5001.320108703483,
          -5214.7558833302655,
          -5418.9341898030325,
          -5613.492006543961,
          -5798.083416854888,
          -5972.380223944567,
          -6136.072534450613,
          -6288.869309418574,
          -6430.498881758564,
          -6560.709439259454,
          -6679.26947230178,
          -6785.968185473411,
          -6880.6158723560775,
          -6963.044252816483,
          -7033.106772202231,
          -7090.678861910643,
          -7135.658160867199,
          -7167.964697519778,
          -7187.541032025179,
          -7194.35235837505,
          -7188.386566279705,
          -7169.6542626997825,
          -7138.188752987446,
          -7094.045981670697,
          -7037.304432986031,
          -6968.064991336345,
          -6886.450761922129,
          -6792.606851864941,
          -6686.700112212206,
          -6568.918841282183,
          -6439.472449876386,
          -6298.59108895485,
          -6146.525240436106,
          -5983.545271849476,
          -5809.940955631485,
          -5626.02095392103,
          -5432.112269769352,
          -5228.559665740554,
          -5015.725050936369,
          -4793.986837534934,
          -4563.739267987769,
          -4325.391714071143,
          -4079.367949037868,
          -3826.105394164032,
          -3566.0543410298906,
          -3299.6771509178698,
          -3027.4474327510916,
          -2749.849201033963,
          -2467.3760152921013,
          -2180.5301025414533,
          -1889.8214643470033,
          -1595.7669700586512,
          -1298.889437836293,
          -999.7167050982839,
          -698.7806900456994,
          -396.61644593125857,
          -93.76120975410322,
          209.24655292792113,
          511.8681053704622,
          813.5653974968209,
          1113.8020225314403,
          1412.044170711562,
          1707.7615783814485,
          2000.4284707819038,
          2289.524496858529,
          2574.535654426939,
          2854.955204049892,
          3130.2845700015123,
          3400.0342267167357,
          3663.724569149882,
          3920.8867654949845,
          4171.063590751551,
          4413.810239653967,
          4648.695117519061,
          4875.300607605635,
          5093.223813621821,
          5302.077276060013,
          5501.48966108567,
          5691.10642075539,
          5870.590423390155,
          6039.622552983192,
          6197.902276576579,
          6345.148178597861,
          6481.098461206704,
          6605.51140976185,
          6718.1658225809815,
          6818.861404229197,
          6907.419121637012,
          6983.681522414616,
          7047.513014796468,
          7098.800108718517,
          7137.451617599387,
          7163.398820466802,
          7176.595584140952,
          7177.018445257616,
          7164.666651985155,
          7139.5621653612625,
          7101.749620247009,
          7051.296245967718,
          6988.291746781666,
          6912.848142389175,
          6825.099568765697,
          6725.202039672919,
          6613.333169272015,
          6489.691856332122,
          6354.497930595602,
          6207.991761928786,
          6050.43383295311
         ],
         "y": [
          3865.205074401849,
          4117.1702866489295,
          4361.815320374273,
          4598.7052056357425,
          4827.418760862169,
          5047.549341698803,
          5258.705564006146,
          5460.511999726666,
          5652.609844382165,
          5834.657555015079,
          6006.331457439368,
          6167.326321721424,
          6317.355904867738,
          6456.153459754504,
          6583.472209394273,
          6699.085785696432,
          6802.788631941402,
          6894.396368252986,
          6973.746119419067,
          7040.696804477781,
          7095.129387554326,
          7136.9470895024,
          7166.075559973991,
          7182.463009611589,
          7186.080302127764,
          7176.92100610843,
          7155.001406447657,
          7120.360475393729,
          7073.059803257912,
          7013.183488909117,
          6940.837990249191,
          6856.151934934644,
          6759.275891681377,
          6650.3821025590005,
          6529.664176750704,
          6397.336746323225,
          6253.63508461883,
          6098.81468794793,
          5933.150821325932,
          5756.938029062139,
          5570.489611070637,
          5374.137065834566,
          5168.2295010138605,
          4953.133012744579,
          4729.2300347333585,
          4496.918658304199,
          4256.611924606651,
          4008.737090243726,
          3753.7348676252122,
          3492.058641397126,
          3224.1736623403567,
          2950.5562201717366,
          2671.6927967183174,
          2388.079200970426,
          2100.2196875514055,
          1808.6260601712574,
          1513.816761658315,
          1216.315952186871,
          916.6525773394578,
          615.3594276609638,
          312.9721913763842,
          10.028501956834134,
          -292.9330177732577,
          -595.3737132877186,
          -896.7558560669318,
          -1196.5435996593692,
          -1494.203932397089,
          -1789.2076250709954,
          -2081.030171881096,
          -2369.152722988634,
          -2653.063007012212,
          -2932.2562418275556,
          -3206.2360320517805,
          -3474.515251616203,
          -3736.6169098587643,
          -3992.074999595986,
          -4240.43532566674,
          -4481.256312474685,
          -4714.109789093563,
          -4938.581750539482,
          -5154.273093856625,
          -5360.800327707816,
          -5557.79625420807,
          -5744.9106217890185,
          -5921.81074793349,
          -6088.182110672815,
          -6243.728907795431,
          -6388.174582772426,
          -6521.262316464945,
          -6642.755483739256,
          -6752.438074177593,
          -6850.115076136804,
          -6935.612823471941,
          -7008.779304308303,
          -7069.484431313033,
          -7117.620272985626,
          -7153.101245556212,
          -7175.864265150367,
          -7185.868859949944,
          -7183.097242150485,
          -7167.5543395872955,
          -7139.267786973924,
          -7098.287876768657,
          -7044.687469756357,
          -6978.561865504656,
          -6900.028632924789,
          -6809.227401238366,
          -6706.319611721723,
          -6591.4882306692,
          -6464.937424085763,
          -6326.892194687306,
          -6177.597981854017,
          -6017.320225248105,
          -5846.343892871805,
          -5664.9729744046535,
          -5473.529940720896,
          -5272.355170548095,
          -5061.806345286162,
          -4842.257813062829,
          -4614.099923156422,
          -4377.7383319690125,
          -4133.593281784195,
          -3882.0988535916126,
          -3623.7021953067983,
          -3358.862726758523,
          -3088.0513228570635,
          -2811.749476395847,
          -2530.448441974781,
          -2244.648362567554,
          -1954.8573802856572,
          -1661.5907329202278,
          -1365.3698378681092,
          -1066.7213650707072,
          -766.1763006140859,
          -464.2690026550449,
          -161.53625135185257,
          141.48370551129028,
          444.2521095092102,
          746.2306494685154,
          1046.8824185652597,
          1345.6728689256888,
          1642.070762032807,
          1935.5491132491372,
          2225.5861287761195,
          2511.6661333844622,
          2793.280487265894,
          3069.9284903761654,
          3341.118272661473,
          3606.367668585433,
          3865.205074401849
         ]
        },
        {
         "marker": {
          "color": "rgb(31, 119, 180)",
          "size": 10
         },
         "mode": "markers",
         "name": "2020-09-19 19:25 (Initial orbit)",
         "type": "scatter",
         "x": [
          6050.4338329531065
         ],
         "y": [
          3865.205074401848
         ]
        },
        {
         "hoverinfo": "none",
         "line": {
          "color": "rgb(255, 127, 14)",
          "dash": "dash",
          "width": 2
         },
         "mode": "lines",
         "name": "2020-09-19 19:16 (Transfer orbit)",
         "type": "scatter",
         "x": [
          7178.411329353242,
          7159.218919444898,
          7101.675813124199,
          7005.8843199342555,
          6872.014753654242,
          6700.305129487703,
          6491.060740880205,
          6244.653616718737,
          5961.521859877921,
          5642.168868289092,
          5287.162439917131,
          4897.13376323645,
          4472.776295000871,
          4014.8445273028155,
          3524.1526461139565,
          3001.573083692221,
          2448.034967429107,
          1864.5224678950608,
          1252.0730490201213,
          611.7756235209063,
          -55.231383146372536,
          -747.7620568650018,
          -1464.5851033696126,
          -2204.4260374425703,
          -2965.9694489020726,
          -3747.8613413535677,
          -4548.711539545877,
          -5367.096161052037,
          -6201.560147880333,
          -7050.619853514302,
          -7912.76568078201,
          -8786.464765864883,
          -9670.163703673583,
          -10562.291309745488,
          -11461.261413753466,
          -12365.475679658646,
          -13273.326447493822,
          -14183.199591723895,
          -15093.477391102522,
          -16002.541404921116,
          -16908.775350537595,
          -17810.567977067883,
          -18706.31593013116,
          -19594.426602555308,
          -20473.320965974657,
          -21341.436378284554,
          -22197.229361962032,
          -23039.17834831257,
          -23865.786382763705,
          -24675.58378639557,
          -25467.130768976473,
          -26239.019988857293,
          -26989.87905517366,
          -27718.372967906726,
          -28423.20649146466,
          -29103.126457563965,
          -29756.923993317352,
          -30383.436670565243,
          -30981.55057263081,
          -31550.202274823125,
          -32088.380735167557,
          -32595.12909200135,
          -33069.54636523881,
          -33510.78905828104,
          -33918.072657722114,
          -34290.67302818515,
          -34627.92769980886,
          -34929.23704609447,
          -35194.06535002001,
          -35421.94175652545,
          -35612.46110967595,
          -35765.284673014175,
          -35880.14073182158,
          -35956.82507621701,
          -35995.20136423455,
          -35995.20136423459,
          -35956.82507621716,
          -35880.14073182183,
          -35765.28467301453,
          -35612.4611096764,
          -35421.94175652601,
          -35194.06535002066,
          -34929.23704609522,
          -34627.92769980971,
          -34290.673028186095,
          -33918.07265772315,
          -33510.789058282186,
          -33069.54636524003,
          -32595.129092002655,
          -32088.380735168954,
          -31550.202274824605,
          -30981.55057263236,
          -30383.436670566865,
          -29756.92399331907,
          -29103.12645756578,
          -28423.2064914665,
          -27718.37296790864,
          -26989.879055175625,
          -26239.01998885932,
          -25467.13076897855,
          -24675.5837863977,
          -23865.78638276588,
          -23039.17834831481,
          -22197.22936196429,
          -21341.436378286868,
          -20473.320965976985,
          -19594.426602557658,
          -18706.31593013353,
          -17810.5679770703,
          -16908.775350540014,
          -16002.54140492353,
          -15093.477391104945,
          -14183.199591726332,
          -13273.326447496214,
          -12365.475679661078,
          -11461.261413755861,
          -10562.29130974787,
          -9670.163703675946,
          -8786.464765867222,
          -7912.7656807843205,
          -7050.61985351656,
          -6201.560147882561,
          -5367.096161054237,
          -4548.71153954803,
          -3747.8613413556704,
          -2965.969448904112,
          -2204.4260374445685,
          -1464.5851033715498,
          -747.7620568668763,
          -55.231383148190616,
          611.7756235191846,
          1252.0730490184405,
          1864.52246789347,
          2448.034967427606,
          3001.573083690805,
          3524.1526461126214,
          4014.8445273015536,
          4472.776294999698,
          4897.133763235379,
          5287.162439916141,
          5642.168868288194,
          5961.5218598771135,
          6244.653616718033,
          6491.0607408796,
          6700.305129487197,
          6872.014753653835,
          7005.88431993395,
          7101.675813123993,
          7159.2189194447965,
          7178.411329353242
         ],
         "y": [
          -5.411493475548923e-10,
          677.6887878335629,
          1354.1726697337858,
          2028.2488820450603,
          2698.718941860956,
          3364.390777882596,
          4024.0808498779006,
          4676.616252972928,
          5320.83680303395,
          5955.597099432512,
          6579.7685615259425,
          7192.241435232507,
          7791.926766133725,
          8377.758335595609,
          8948.694556466391,
          9503.720324980546,
          10041.848825576202,
          10562.123285417236,
          11063.61867550043,
          11545.443355323303,
          12006.74065818833,
          12446.690414325176,
          12864.5104091225,
          13259.457773877071,
          13630.830306587155,
          13977.9677204421,
          14300.252817788172,
          14597.112587483425,
          14868.019223690662,
          15112.491064296899,
          15330.093447291041,
          15520.43948357709,
          15683.190744848842,
          15818.057865303032,
          15924.801056121198,
          16003.23053180544,
          16053.206847610134,
          16074.64114746955,
          16067.495321980747,
          16031.78207616067,
          15967.564906857097,
          15874.957989853587,
          15754.125976869058,
          15605.283702813067,
          15428.695803817198,
          15224.676246721636,
          14993.587770853608,
          14735.841243090095,
          14451.89492735151,
          14142.253669825193,
          13807.46800136727,
          13448.133158678942,
          13064.888025997285,
          12658.413999182452,
          12229.433774220648,
          11778.710062297108,
          11307.044233723323,
          10815.274893129998,
          10304.276388458582,
          9774.957256402542,
          9228.258607062195,
          8665.152450685375,
          8086.6399694687025,
          7493.749737492135,
          6887.535891951735,
          6269.0762589423575,
          5639.470437121992,
          4999.837842665691,
          4351.315718984228,
          3695.057114747022,
          3032.2288338034923,
          2364.009360648697,
          1691.586765120388,
          1016.1565900548394,
          338.91972565477045,
          -338.9197256493353,
          -1016.1565900494279,
          -1691.5867651150184,
          -2364.0093606432947,
          -3032.228833798161,
          -3695.0571147416904,
          -4351.315718978942,
          -4999.83784266043,
          -5639.470437116795,
          -6269.076258937192,
          -6887.535891946625,
          -7493.7497374870745,
          -8086.63996946372,
          -8665.152450680469,
          -9228.258607057354,
          -9774.957256397789,
          -10304.276388453933,
          -10815.274893125417,
          -11307.044233718825,
          -11778.710062292701,
          -12229.433774216368,
          -12658.413999178274,
          -13064.888025993216,
          -13448.133158674987,
          -13807.468001363435,
          -14142.253669821477,
          -14451.89492734792,
          -14735.841243086617,
          -14993.587770850267,
          -15224.67624671842,
          -15428.695803814118,
          -15605.283702810117,
          -15754.125976866238,
          -15874.9579898509,
          -15967.564906854554,
          -16031.782076158259,
          -16067.495321978477,
          -16074.641147467413,
          -16053.206847608133,
          -16003.23053180358,
          -15924.801056119471,
          -15818.057865301442,
          -15683.190744847385,
          -15520.439483575767,
          -15330.093447289848,
          -15112.491064295835,
          -14868.019223689724,
          -14597.112587482616,
          -14300.252817787485,
          -13977.967720441535,
          -13630.830306586702,
          -13259.45777387674,
          -12864.510409122278,
          -12446.690414325061,
          -12006.740658188328,
          -11545.443355323383,
          -11063.618675500627,
          -10562.123285417518,
          -10041.848825576562,
          -9503.720324980983,
          -8948.694556466906,
          -8377.758335596214,
          -7791.926766134399,
          -7192.241435233227,
          -6579.768561526738,
          -5955.597099433362,
          -5320.8368030348665,
          -4676.6162529738685,
          -4024.0808498788774,
          -3364.3907778836056,
          -2698.718941861991,
          -2028.2488820461144,
          -1354.172669734855,
          -677.6887878346406,
          -5.411493475548923e-10
         ]
        },
        {
         "marker": {
          "color": "rgb(255, 127, 14)",
          "size": 10
         },
         "mode": "markers",
         "name": "2020-09-19 19:16 (Transfer orbit)",
         "type": "scatter",
         "x": [
          7178.41132935324
         ],
         "y": [
          -5.366018740460277e-10
         ]
        },
        {
         "hoverinfo": "none",
         "line": {
          "color": "rgb(44, 160, 44)",
          "dash": "dash",
          "width": 2
         },
         "mode": "lines",
         "name": "2020-09-19 23:39 (Final orbit)",
         "type": "scatter",
         "x": [
          -36000.00000000844,
          -35967.996656882664,
          -35872.04352828128,
          -35712.311215365306,
          -35489.083716358,
          -35202.75792160638,
          -34853.842907924605,
          -34442.959033474035,
          -33970.836834789065,
          -33438.31572790979,
          -32846.34251593097,
          -32195.96970562061,
          -31488.353636101354,
          -30724.7524229218,
          -29906.5237211729,
          -29035.12231162668,
          -28112.09751418927,
          -27139.09043326659,
          -26117.831039940553,
          -25050.135096143724,
          -23937.900926300616,
          -22783.106042176565,
          -21587.80362693351,
          -20354.118884645643,
          -19084.245261763903,
          -17780.440547248134,
          -16445.02285830117,
          -15080.366518840416,
          -13688.897838037046,
          -12273.090796426737,
          -10835.46264726236,
          -9378.569440929727,
          -7905.001480383358,
          -6417.378715682049,
          -4918.346085813804,
          -3410.568816090119,
          -1896.7276794734207,
          -379.51423025985787,
          1138.3739814055261,
          2654.2382056745882,
          4165.383291275126,
          5669.122477391118,
          7162.7821706255945,
          8643.70669855224,
          10109.263031403658,
          11556.845463502636,
          12983.88024611152,
          14387.830163463703,
          15766.199043840337,
          17116.536197673056,
          18436.44077478019,
          19723.566032990904,
          20975.623510567148,
          22190.38709500521,
          23365.69698098222,
          24499.463510411646,
          25589.670887778608,
          26634.380764151112,
          27631.735683493593,
          28579.96238515588,
          29477.37495666611,
          30322.37783122143,
          31113.468624547568,
          31849.24080608326,
          32528.38619974028,
          33149.69730979274,
          33712.069467760506,
          34214.50279646934,
          34656.10398779614,
          35036.087890938026,
          35353.77890838201,
          35608.61219709257,
          35800.13467278199,
          35928.00581547774,
          35991.998274954516,
          35991.99827495464,
          35928.0058154781,
          35800.13467278259,
          35608.612197093404,
          35353.77890838308,
          35036.08789093933,
          34656.10398779766,
          34214.502796471104,
          33712.069467762485,
          33149.69730979495,
          32528.386199742697,
          31849.240806085894,
          31113.46862455042,
          30322.377831224487,
          29477.37495666935,
          28579.962385159324,
          27631.73568349721,
          26634.38076415492,
          25589.670887782595,
          24499.4635104158,
          23365.69698098659,
          22190.387095009675,
          20975.623510571786,
          19723.566032995623,
          18436.44077478508,
          17116.536197678033,
          15766.19904384541,
          14387.830163468847,
          12983.880246116805,
          11556.845463508003,
          10109.263031409086,
          8643.706698557735,
          7162.782170631204,
          5669.122477396721,
          4165.383291280743,
          2654.238205680227,
          1138.3739814111814,
          -379.51423025420445,
          -1896.7276794677418,
          -3410.568816084484,
          -4918.346085808122,
          -6417.378715676476,
          -7905.0014803777885,
          -9378.569440924266,
          -10835.462647256905,
          -12273.090796421387,
          -13688.897838031808,
          -15080.366518835273,
          -16445.022858296124,
          -17780.440547243223,
          -19084.245261759075,
          -20354.118884640946,
          -21587.803626928995,
          -22783.106042172156,
          -23937.900926296392,
          -25050.13509613965,
          -26117.831039936686,
          -27139.090433262903,
          -28112.097514185753,
          -29035.122311623345,
          -29906.523721169746,
          -30724.752422918846,
          -31488.353636098585,
          -32195.969705618052,
          -32846.34251592863,
          -33438.31572790769,
          -33970.83683478718,
          -34442.95903347239,
          -34853.84290792319,
          -35202.757921605196,
          -35489.08371635707,
          -35712.3112153646,
          -35872.0435282808,
          -35967.996656882424,
          -36000.00000000844
         ],
         "y": [
          2.799424692057073e-9,
          -1517.6351640250414,
          -3032.572028114342,
          -4542.117089805326,
          -6043.586433066137,
          -7534.310500197575,
          -9011.638838209295,
          -10472.9448112285,
          -11915.630270562579,
          -13337.130174112765,
          -14734.91714692533,
          -16106.505974772082,
          -17449.458022770537,
          -18761.385571187682,
          -20039.956060718574,
          -21282.896239691792,
          -22487.99620582772,
          -23653.11333536425,
          -24776.17609256373,
          -25855.1877128277,
          -26888.229752871877,
          -27873.46550164772,
          -28809.143245948228,
          -29693.59938488966,
          -30525.261387733437,
          -31302.650589788434,
          -32024.384821422565,
          -32689.180865510294,
          -33295.856738945644,
          -33843.333794165024,
          -34330.638636943375,
          -34756.904857053465,
          -35121.374568711624,
          -35423.39975807119,
          -35662.443435367226,
          -35838.080589664954,
          -35949.99894451356,
          -35997.999513162344,
          -35981.99695235194,
          -35902.0197140515,
          -35758.20999487211,
          -35550.82348324641,
          -35280.22890482392,
          -34946.90736689025,
          -34551.451502975964,
          -34094.564419175724,
          -33577.05844405135,
          -32999.853684341215,
          -32363.976389044223,
          -31670.557124786297,
          -30920.828765714316,
          -30116.124301490905,
          -29257.874467287376,
          -28347.605199988753,
          -27386.93492513395,
          -26377.571679413777,
          -25321.3100738445,
          -24220.028103014658,
          -23075.683806079287,
          -21890.311785437814,
          -20666.01958928512,
          -19404.983964467825,
          -18109.446986307885,
          -16781.712072274473,
          -15424.139886591664,
          -14039.144143063768,
          -12629.187313580043,
          -11196.776249929833,
          -9744.457726711229,
          -8274.813913259064,
          -6790.457782641988,
          -5294.028465891624,
          -3788.186559723881,
          -2275.6093960952585,
          -758.9862820042454,
          758.9862819985083,
          2275.609396089596,
          3788.1865597182186,
          5294.028465885969,
          6790.45778263638,
          8274.813913253496,
          9744.45772670569,
          11196.776249924367,
          12629.187313574688,
          14039.144143058453,
          15424.139886586483,
          16781.712072269394,
          18109.446986302915,
          19404.98396446296,
          20666.019589280408,
          21890.31178543324,
          23075.683806074867,
          24220.028103010394,
          25321.31007384039,
          26377.571679409826,
          27386.934925130146,
          28347.60519998519,
          29257.874467283968,
          30116.12430148774,
          30920.828765711332,
          31670.557124783532,
          32363.976389041687,
          32999.8536843389,
          33577.05844404923,
          34094.56441917383,
          34551.45150297431,
          34946.907366888816,
          35280.22890482271,
          35550.82348324545,
          35758.20999487139,
          35902.01971405102,
          35981.9969523517,
          35997.99951316234,
          35949.99894451378,
          35838.08058966542,
          35662.44343536794,
          35423.39975807213,
          35121.37456871281,
          34756.90485705486,
          34330.638636945034,
          33843.333794166894,
          33295.856738947725,
          32689.180865512593,
          32024.384821425076,
          31302.65058979117,
          30525.261387736384,
          29693.59938489282,
          28809.143245951545,
          27873.46550165125,
          26888.229752875573,
          25855.187712831586,
          24776.176092567734,
          23653.113335368427,
          22487.996205832045,
          21282.896239696274,
          20039.95606072321,
          18761.385571192448,
          17449.458022775456,
          16106.505974777096,
          14734.91714693048,
          13337.130174117952,
          11915.630270567846,
          10472.94481123385,
          9011.63883821473,
          7534.310500203033,
          6043.586433071627,
          4542.117089810839,
          3032.572028119879,
          1517.635164030693,
          2.799424692057073e-9
         ]
        },
        {
         "marker": {
          "color": "rgb(44, 160, 44)",
          "size": 10
         },
         "mode": "markers",
         "name": "2020-09-19 23:39 (Final orbit)",
         "type": "scatter",
         "x": [
          -36000.00000000839
         ],
         "y": [
          2.7939677238464355e-9
         ]
        }
       ],
       "layout": {
        "autosize": true,
        "shapes": [
         {
          "fillcolor": "#2a7bd1",
          "line": {
           "color": "#2a7bd1"
          },
          "opacity": 1,
          "type": "circle",
          "x0": -6378.1366,
          "x1": 6378.1366,
          "xref": "x",
          "y0": -6378.1366,
          "y1": 6378.1366,
          "yref": "y"
         },
         {
          "fillcolor": "#2a7bd1",
          "line": {
           "color": "#2a7bd1"
          },
          "opacity": 1,
          "type": "circle",
          "x0": -6378.1366,
          "x1": 6378.1366,
          "xref": "x",
          "y0": -6378.1366,
          "y1": 6378.1366,
          "yref": "y"
         },
         {
          "fillcolor": "#2a7bd1",
          "line": {
           "color": "#2a7bd1"
          },
          "opacity": 1,
          "type": "circle",
          "x0": -6378.1366,
          "x1": 6378.1366,
          "xref": "x",
          "y0": -6378.1366,
          "y1": 6378.1366,
          "yref": "y"
         },
         {
          "fillcolor": "#2a7bd1",
          "line": {
           "color": "#2a7bd1"
          },
          "opacity": 1,
          "type": "circle",
          "x0": -6378.1366,
          "x1": 6378.1366,
          "xref": "x",
          "y0": -6378.1366,
          "y1": 6378.1366,
          "yref": "y"
         },
         {
          "fillcolor": "#2a7bd1",
          "line": {
           "color": "#2a7bd1"
          },
          "opacity": 1,
          "type": "circle",
          "x0": -6378.1366,
          "x1": 6378.1366,
          "xref": "x",
          "y0": -6378.1366,
          "y1": 6378.1366,
          "yref": "y"
         },
         {
          "fillcolor": "#2a7bd1",
          "line": {
           "color": "#2a7bd1"
          },
          "opacity": 1,
          "type": "circle",
          "x0": -6378.1366,
          "x1": 6378.1366,
          "xref": "x",
          "y0": -6378.1366,
          "y1": 6378.1366,
          "yref": "y"
         }
        ],
        "template": {
         "data": {
          "bar": [
           {
            "error_x": {
             "color": "#2a3f5f"
            },
            "error_y": {
             "color": "#2a3f5f"
            },
            "marker": {
             "line": {
              "color": "#E5ECF6",
              "width": 0.5
             }
            },
            "type": "bar"
           }
          ],
          "barpolar": [
           {
            "marker": {
             "line": {
              "color": "#E5ECF6",
              "width": 0.5
             }
            },
            "type": "barpolar"
           }
          ],
          "carpet": [
           {
            "aaxis": {
             "endlinecolor": "#2a3f5f",
             "gridcolor": "white",
             "linecolor": "white",
             "minorgridcolor": "white",
             "startlinecolor": "#2a3f5f"
            },
            "baxis": {
             "endlinecolor": "#2a3f5f",
             "gridcolor": "white",
             "linecolor": "white",
             "minorgridcolor": "white",
             "startlinecolor": "#2a3f5f"
            },
            "type": "carpet"
           }
          ],
          "choropleth": [
           {
            "colorbar": {
             "outlinewidth": 0,
             "ticks": ""
            },
            "type": "choropleth"
           }
          ],
          "contour": [
           {
            "colorbar": {
             "outlinewidth": 0,
             "ticks": ""
            },
            "colorscale": [
             [
              0,
              "#0d0887"
             ],
             [
              0.1111111111111111,
              "#46039f"
             ],
             [
              0.2222222222222222,
              "#7201a8"
             ],
             [
              0.3333333333333333,
              "#9c179e"
             ],
             [
              0.4444444444444444,
              "#bd3786"
             ],
             [
              0.5555555555555556,
              "#d8576b"
             ],
             [
              0.6666666666666666,
              "#ed7953"
             ],
             [
              0.7777777777777778,
              "#fb9f3a"
             ],
             [
              0.8888888888888888,
              "#fdca26"
             ],
             [
              1,
              "#f0f921"
             ]
            ],
            "type": "contour"
           }
          ],
          "contourcarpet": [
           {
            "colorbar": {
             "outlinewidth": 0,
             "ticks": ""
            },
            "type": "contourcarpet"
           }
          ],
          "heatmap": [
           {
            "colorbar": {
             "outlinewidth": 0,
             "ticks": ""
            },
            "colorscale": [
             [
              0,
              "#0d0887"
             ],
             [
              0.1111111111111111,
              "#46039f"
             ],
             [
              0.2222222222222222,
              "#7201a8"
             ],
             [
              0.3333333333333333,
              "#9c179e"
             ],
             [
              0.4444444444444444,
              "#bd3786"
             ],
             [
              0.5555555555555556,
              "#d8576b"
             ],
             [
              0.6666666666666666,
              "#ed7953"
             ],
             [
              0.7777777777777778,
              "#fb9f3a"
             ],
             [
              0.8888888888888888,
              "#fdca26"
             ],
             [
              1,
              "#f0f921"
             ]
            ],
            "type": "heatmap"
           }
          ],
          "heatmapgl": [
           {
            "colorbar": {
             "outlinewidth": 0,
             "ticks": ""
            },
            "colorscale": [
             [
              0,
              "#0d0887"
             ],
             [
              0.1111111111111111,
              "#46039f"
             ],
             [
              0.2222222222222222,
              "#7201a8"
             ],
             [
              0.3333333333333333,
              "#9c179e"
             ],
             [
              0.4444444444444444,
              "#bd3786"
             ],
             [
              0.5555555555555556,
              "#d8576b"
             ],
             [
              0.6666666666666666,
              "#ed7953"
             ],
             [
              0.7777777777777778,
              "#fb9f3a"
             ],
             [
              0.8888888888888888,
              "#fdca26"
             ],
             [
              1,
              "#f0f921"
             ]
            ],
            "type": "heatmapgl"
           }
          ],
          "histogram": [
           {
            "marker": {
             "colorbar": {
              "outlinewidth": 0,
              "ticks": ""
             }
            },
            "type": "histogram"
           }
          ],
          "histogram2d": [
           {
            "colorbar": {
             "outlinewidth": 0,
             "ticks": ""
            },
            "colorscale": [
             [
              0,
              "#0d0887"
             ],
             [
              0.1111111111111111,
              "#46039f"
             ],
             [
              0.2222222222222222,
              "#7201a8"
             ],
             [
              0.3333333333333333,
              "#9c179e"
             ],
             [
              0.4444444444444444,
              "#bd3786"
             ],
             [
              0.5555555555555556,
              "#d8576b"
             ],
             [
              0.6666666666666666,
              "#ed7953"
             ],
             [
              0.7777777777777778,
              "#fb9f3a"
             ],
             [
              0.8888888888888888,
              "#fdca26"
             ],
             [
              1,
              "#f0f921"
             ]
            ],
            "type": "histogram2d"
           }
          ],
          "histogram2dcontour": [
           {
            "colorbar": {
             "outlinewidth": 0,
             "ticks": ""
            },
            "colorscale": [
             [
              0,
              "#0d0887"
             ],
             [
              0.1111111111111111,
              "#46039f"
             ],
             [
              0.2222222222222222,
              "#7201a8"
             ],
             [
              0.3333333333333333,
              "#9c179e"
             ],
             [
              0.4444444444444444,
              "#bd3786"
             ],
             [
              0.5555555555555556,
              "#d8576b"
             ],
             [
              0.6666666666666666,
              "#ed7953"
             ],
             [
              0.7777777777777778,
              "#fb9f3a"
             ],
             [
              0.8888888888888888,
              "#fdca26"
             ],
             [
              1,
              "#f0f921"
             ]
            ],
            "type": "histogram2dcontour"
           }
          ],
          "mesh3d": [
           {
            "colorbar": {
             "outlinewidth": 0,
             "ticks": ""
            },
            "type": "mesh3d"
           }
          ],
          "parcoords": [
           {
            "line": {
             "colorbar": {
              "outlinewidth": 0,
              "ticks": ""
             }
            },
            "type": "parcoords"
           }
          ],
          "pie": [
           {
            "automargin": true,
            "type": "pie"
           }
          ],
          "scatter": [
           {
            "marker": {
             "colorbar": {
              "outlinewidth": 0,
              "ticks": ""
             }
            },
            "type": "scatter"
           }
          ],
          "scatter3d": [
           {
            "line": {
             "colorbar": {
              "outlinewidth": 0,
              "ticks": ""
             }
            },
            "marker": {
             "colorbar": {
              "outlinewidth": 0,
              "ticks": ""
             }
            },
            "type": "scatter3d"
           }
          ],
          "scattercarpet": [
           {
            "marker": {
             "colorbar": {
              "outlinewidth": 0,
              "ticks": ""
             }
            },
            "type": "scattercarpet"
           }
          ],
          "scattergeo": [
           {
            "marker": {
             "colorbar": {
              "outlinewidth": 0,
              "ticks": ""
             }
            },
            "type": "scattergeo"
           }
          ],
          "scattergl": [
           {
            "marker": {
             "colorbar": {
              "outlinewidth": 0,
              "ticks": ""
             }
            },
            "type": "scattergl"
           }
          ],
          "scattermapbox": [
           {
            "marker": {
             "colorbar": {
              "outlinewidth": 0,
              "ticks": ""
             }
            },
            "type": "scattermapbox"
           }
          ],
          "scatterpolar": [
           {
            "marker": {
             "colorbar": {
              "outlinewidth": 0,
              "ticks": ""
             }
            },
            "type": "scatterpolar"
           }
          ],
          "scatterpolargl": [
           {
            "marker": {
             "colorbar": {
              "outlinewidth": 0,
              "ticks": ""
             }
            },
            "type": "scatterpolargl"
           }
          ],
          "scatterternary": [
           {
            "marker": {
             "colorbar": {
              "outlinewidth": 0,
              "ticks": ""
             }
            },
            "type": "scatterternary"
           }
          ],
          "surface": [
           {
            "colorbar": {
             "outlinewidth": 0,
             "ticks": ""
            },
            "colorscale": [
             [
              0,
              "#0d0887"
             ],
             [
              0.1111111111111111,
              "#46039f"
             ],
             [
              0.2222222222222222,
              "#7201a8"
             ],
             [
              0.3333333333333333,
              "#9c179e"
             ],
             [
              0.4444444444444444,
              "#bd3786"
             ],
             [
              0.5555555555555556,
              "#d8576b"
             ],
             [
              0.6666666666666666,
              "#ed7953"
             ],
             [
              0.7777777777777778,
              "#fb9f3a"
             ],
             [
              0.8888888888888888,
              "#fdca26"
             ],
             [
              1,
              "#f0f921"
             ]
            ],
            "type": "surface"
           }
          ],
          "table": [
           {
            "cells": {
             "fill": {
              "color": "#EBF0F8"
             },
             "line": {
              "color": "white"
             }
            },
            "header": {
             "fill": {
              "color": "#C8D4E3"
             },
             "line": {
              "color": "white"
             }
            },
            "type": "table"
           }
          ]
         },
         "layout": {
          "annotationdefaults": {
           "arrowcolor": "#2a3f5f",
           "arrowhead": 0,
           "arrowwidth": 1
          },
          "coloraxis": {
           "colorbar": {
            "outlinewidth": 0,
            "ticks": ""
           }
          },
          "colorscale": {
           "diverging": [
            [
             0,
             "#8e0152"
            ],
            [
             0.1,
             "#c51b7d"
            ],
            [
             0.2,
             "#de77ae"
            ],
            [
             0.3,
             "#f1b6da"
            ],
            [
             0.4,
             "#fde0ef"
            ],
            [
             0.5,
             "#f7f7f7"
            ],
            [
             0.6,
             "#e6f5d0"
            ],
            [
             0.7,
             "#b8e186"
            ],
            [
             0.8,
             "#7fbc41"
            ],
            [
             0.9,
             "#4d9221"
            ],
            [
             1,
             "#276419"
            ]
           ],
           "sequential": [
            [
             0,
             "#0d0887"
            ],
            [
             0.1111111111111111,
             "#46039f"
            ],
            [
             0.2222222222222222,
             "#7201a8"
            ],
            [
             0.3333333333333333,
             "#9c179e"
            ],
            [
             0.4444444444444444,
             "#bd3786"
            ],
            [
             0.5555555555555556,
             "#d8576b"
            ],
            [
             0.6666666666666666,
             "#ed7953"
            ],
            [
             0.7777777777777778,
             "#fb9f3a"
            ],
            [
             0.8888888888888888,
             "#fdca26"
            ],
            [
             1,
             "#f0f921"
            ]
           ],
           "sequentialminus": [
            [
             0,
             "#0d0887"
            ],
            [
             0.1111111111111111,
             "#46039f"
            ],
            [
             0.2222222222222222,
             "#7201a8"
            ],
            [
             0.3333333333333333,
             "#9c179e"
            ],
            [
             0.4444444444444444,
             "#bd3786"
            ],
            [
             0.5555555555555556,
             "#d8576b"
            ],
            [
             0.6666666666666666,
             "#ed7953"
            ],
            [
             0.7777777777777778,
             "#fb9f3a"
            ],
            [
             0.8888888888888888,
             "#fdca26"
            ],
            [
             1,
             "#f0f921"
            ]
           ]
          },
          "colorway": [
           "#636efa",
           "#EF553B",
           "#00cc96",
           "#ab63fa",
           "#FFA15A",
           "#19d3f3",
           "#FF6692",
           "#B6E880",
           "#FF97FF",
           "#FECB52"
          ],
          "font": {
           "color": "#2a3f5f"
          },
          "geo": {
           "bgcolor": "white",
           "lakecolor": "white",
           "landcolor": "#E5ECF6",
           "showlakes": true,
           "showland": true,
           "subunitcolor": "white"
          },
          "hoverlabel": {
           "align": "left"
          },
          "hovermode": "closest",
          "mapbox": {
           "style": "light"
          },
          "paper_bgcolor": "white",
          "plot_bgcolor": "#E5ECF6",
          "polar": {
           "angularaxis": {
            "gridcolor": "white",
            "linecolor": "white",
            "ticks": ""
           },
           "bgcolor": "#E5ECF6",
           "radialaxis": {
            "gridcolor": "white",
            "linecolor": "white",
            "ticks": ""
           }
          },
          "scene": {
           "xaxis": {
            "backgroundcolor": "#E5ECF6",
            "gridcolor": "white",
            "gridwidth": 2,
            "linecolor": "white",
            "showbackground": true,
            "ticks": "",
            "zerolinecolor": "white"
           },
           "yaxis": {
            "backgroundcolor": "#E5ECF6",
            "gridcolor": "white",
            "gridwidth": 2,
            "linecolor": "white",
            "showbackground": true,
            "ticks": "",
            "zerolinecolor": "white"
           },
           "zaxis": {
            "backgroundcolor": "#E5ECF6",
            "gridcolor": "white",
            "gridwidth": 2,
            "linecolor": "white",
            "showbackground": true,
            "ticks": "",
            "zerolinecolor": "white"
           }
          },
          "shapedefaults": {
           "line": {
            "color": "#2a3f5f"
           }
          },
          "ternary": {
           "aaxis": {
            "gridcolor": "white",
            "linecolor": "white",
            "ticks": ""
           },
           "baxis": {
            "gridcolor": "white",
            "linecolor": "white",
            "ticks": ""
           },
           "bgcolor": "#E5ECF6",
           "caxis": {
            "gridcolor": "white",
            "linecolor": "white",
            "ticks": ""
           }
          },
          "title": {
           "x": 0.05
          },
          "xaxis": {
           "automargin": true,
           "gridcolor": "white",
           "linecolor": "white",
           "ticks": "",
           "title": {
            "standoff": 15
           },
           "zerolinecolor": "white",
           "zerolinewidth": 2
          },
          "yaxis": {
           "automargin": true,
           "gridcolor": "white",
           "linecolor": "white",
           "ticks": "",
           "title": {
            "standoff": 15
           },
           "zerolinecolor": "white",
           "zerolinewidth": 2
          }
         }
        },
        "xaxis": {
         "constrain": "domain",
         "title": {
          "text": "x (km)"
         }
        },
        "yaxis": {
         "scaleanchor": "x",
         "title": {
          "text": "y (km)"
         }
        }
       }
      }
     },
     "metadata": {}
    }
   ],
   "source": [
    "# Obtain the orbit after applying Hohmann transfer.\n",
    "\n",
    "from poliastro.plotting import OrbitPlotter2D\n",
    "\n",
    "op = OrbitPlotter2D()\n",
    "orb3, orb4 = orb2.apply_maneuver(hoh, intermediate=True)\n",
    "op.plot(orb2, label=\"Initial orbit\")\n",
    "op.plot(orb3, label=\"Transfer orbit\")\n",
    "op.plot(orb4, label=\"Final orbit\")"
   ]
  },
  {
   "cell_type": "code",
   "execution_count": null,
   "metadata": {},
   "outputs": [],
   "source": []
  },
  {
   "cell_type": "code",
   "execution_count": null,
   "metadata": {},
   "outputs": [],
   "source": []
  }
 ],
 "metadata": {
  "kernelspec": {
   "display_name": "Python 3",
   "language": "python",
   "name": "python3"
  },
  "language_info": {
   "codemirror_mode": {
    "name": "ipython",
    "version": 3
   },
   "file_extension": ".py",
   "mimetype": "text/x-python",
   "name": "python",
   "nbconvert_exporter": "python",
   "pygments_lexer": "ipython3",
   "version": "3.7.3-final"
  }
 },
 "nbformat": 4,
 "nbformat_minor": 4
}