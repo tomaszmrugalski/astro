{
 "cells": [
  {
   "cell_type": "code",
   "execution_count": 7,
   "metadata": {},
   "outputs": [],
   "source": [
    "# Imports\n",
    "from astropy import units as u\n",
    "import numpy as np\n",
    "from math import pi\n",
    "\n",
    "from poliastro.bodies import Earth, Mars, Sun\n",
    "from poliastro.twobody import Orbit\n",
    "\n",
    "from perylune.orbit_tools import *"
   ]
  },
  {
   "cell_type": "code",
   "execution_count": 8,
   "metadata": {},
   "outputs": [
    {
     "output_type": "stream",
     "name": "stdout",
     "text": [
      "Inclination change from 0.0 deg to 60.0 deg requires delta-v 7.725760463451862 km / s\n"
     ]
    }
   ],
   "source": [
    "# Create circular, equatorial orbit:\n",
    "orb1 = Orbit.circular(Earth, 300 * u.km, 0*u.deg)\n",
    "orb2 = Orbit.circular(Earth, 300 * u.km, 60*u.deg)\n",
    "\n",
    "# Calculate the delta-v cost of inclination change from 87 to 88.4 degrees\n",
    "dv_inc = inc_change(orb1, orb2)\n",
    "print(\"Inclination change from %s to %s requires delta-v %s\" % (orb1.inc, orb2.inc, dv_inc))"
   ]
  },
  {
   "cell_type": "code",
   "execution_count": 9,
   "metadata": {},
   "outputs": [
    {
     "output_type": "stream",
     "name": "stdout",
     "text": [
      "6534 x 7222 km x 0.0 deg (GCRS) orbit around Earth (♁) at epoch J2000.000 (TT)\na(𝑎)=6878.14km, b=6869.53km, e=0.05, i=0.00deg raan(Ω)=0.00deg argp(𝜔)=0.00deg nu(𝜈)=0.00deg\nperiod=5676.98s perapis=6534km(156.09km) apoapsis=7222km(843.91km)\n"
     ]
    }
   ],
   "source": [
    "# Now calculate the cost for 60 deg change for eccentric orbits (500km)\n",
    "alt = 500*u.km\n",
    "ecc = 0.05*u.one\n",
    "orb3 = Orbit.from_classical(Earth, Earth.R + alt, ecc, 0.0*u.deg, 0*u.deg, 0*u.deg, 0*u.deg)\n",
    "orb4 = Orbit.from_classical(Earth, Earth.R + alt, ecc, 60.0*u.deg, 0*u.deg, 0*u.deg, 0*u.deg)\n",
    "orb3_orig = orb3\n",
    "print_orb(orb3)"
   ]
  },
  {
   "cell_type": "code",
   "execution_count": 10,
   "metadata": {},
   "outputs": [
    {
     "output_type": "execute_result",
     "data": {
      "text/plain": [
       "[<matplotlib.lines.Line2D at 0x7f72ef5716a0>,\n",
       " <matplotlib.lines.Line2D at 0x7f72ef571a60>]"
      ]
     },
     "metadata": {},
     "execution_count": 10
    },
    {
     "output_type": "display_data",
     "data": {
      "text/plain": "<Figure size 1008x432 with 1 Axes>",
      "image/svg+xml": "<?xml version=\"1.0\" encoding=\"utf-8\" standalone=\"no\"?>\n<!DOCTYPE svg PUBLIC \"-//W3C//DTD SVG 1.1//EN\"\n  \"http://www.w3.org/Graphics/SVG/1.1/DTD/svg11.dtd\">\n<!-- Created with matplotlib (https://matplotlib.org/) -->\n<svg height=\"370.91625pt\" version=\"1.1\" viewBox=\"0 0 542.920022 370.91625\" width=\"542.920022pt\" xmlns=\"http://www.w3.org/2000/svg\" xmlns:xlink=\"http://www.w3.org/1999/xlink\">\n <defs>\n  <style type=\"text/css\">\n*{stroke-linecap:butt;stroke-linejoin:round;}\n  </style>\n </defs>\n <g id=\"figure_1\">\n  <g id=\"patch_1\">\n   <path d=\"M 0 370.91625 \nL 542.920022 370.91625 \nL 542.920022 0 \nL 0 0 \nz\n\" style=\"fill:none;\"/>\n  </g>\n  <g id=\"axes_1\">\n   <g id=\"patch_2\">\n    <path d=\"M 61.729687 333.36 \nL 388.280006 333.36 \nL 388.280006 7.2 \nL 61.729687 7.2 \nz\n\" style=\"fill:#ffffff;\"/>\n   </g>\n   <g id=\"patch_3\">\n    <path clip-path=\"url(#pcd8ccb07e7)\" d=\"M 232.410772 307.937133 \nC 268.91787 307.937133 303.934647 293.432709 329.749064 267.618292 \nC 355.563481 241.803875 370.067905 206.787098 370.067905 170.28 \nC 370.067905 133.772902 355.563481 98.756125 329.749064 72.941708 \nC 303.934647 47.127291 268.91787 32.622867 232.410772 32.622867 \nC 195.903674 32.622867 160.886897 47.127291 135.07248 72.941708 \nC 109.258063 98.756125 94.75364 133.772902 94.75364 170.28 \nC 94.75364 206.787098 109.258063 241.803875 135.07248 267.618292 \nC 160.886897 293.432709 195.903674 307.937133 232.410772 307.937133 \nz\n\" style=\"fill:#2a7bd1;\"/>\n   </g>\n   <g id=\"matplotlib.axis_1\">\n    <g id=\"xtick_1\">\n     <g id=\"line2d_1\">\n      <defs>\n       <path d=\"M 0 0 \nL 0 3.5 \n\" id=\"md1e809e2e7\" style=\"stroke:#000000;stroke-width:0.8;\"/>\n      </defs>\n      <g>\n       <use style=\"stroke:#000000;stroke-width:0.8;\" x=\"102.914832\" xlink:href=\"#md1e809e2e7\" y=\"333.36\"/>\n      </g>\n     </g>\n     <g id=\"text_1\">\n      <!-- −6000 -->\n      <defs>\n       <path d=\"M 10.59375 35.5 \nL 73.1875 35.5 \nL 73.1875 27.203125 \nL 10.59375 27.203125 \nz\n\" id=\"DejaVuSans-8722\"/>\n       <path d=\"M 33.015625 40.375 \nQ 26.375 40.375 22.484375 35.828125 \nQ 18.609375 31.296875 18.609375 23.390625 \nQ 18.609375 15.53125 22.484375 10.953125 \nQ 26.375 6.390625 33.015625 6.390625 \nQ 39.65625 6.390625 43.53125 10.953125 \nQ 47.40625 15.53125 47.40625 23.390625 \nQ 47.40625 31.296875 43.53125 35.828125 \nQ 39.65625 40.375 33.015625 40.375 \nz\nM 52.59375 71.296875 \nL 52.59375 62.3125 \nQ 48.875 64.0625 45.09375 64.984375 \nQ 41.3125 65.921875 37.59375 65.921875 \nQ 27.828125 65.921875 22.671875 59.328125 \nQ 17.53125 52.734375 16.796875 39.40625 \nQ 19.671875 43.65625 24.015625 45.921875 \nQ 28.375 48.1875 33.59375 48.1875 \nQ 44.578125 48.1875 50.953125 41.515625 \nQ 57.328125 34.859375 57.328125 23.390625 \nQ 57.328125 12.15625 50.6875 5.359375 \nQ 44.046875 -1.421875 33.015625 -1.421875 \nQ 20.359375 -1.421875 13.671875 8.265625 \nQ 6.984375 17.96875 6.984375 36.375 \nQ 6.984375 53.65625 15.1875 63.9375 \nQ 23.390625 74.21875 37.203125 74.21875 \nQ 40.921875 74.21875 44.703125 73.484375 \nQ 48.484375 72.75 52.59375 71.296875 \nz\n\" id=\"DejaVuSans-54\"/>\n       <path d=\"M 31.78125 66.40625 \nQ 24.171875 66.40625 20.328125 58.90625 \nQ 16.5 51.421875 16.5 36.375 \nQ 16.5 21.390625 20.328125 13.890625 \nQ 24.171875 6.390625 31.78125 6.390625 \nQ 39.453125 6.390625 43.28125 13.890625 \nQ 47.125 21.390625 47.125 36.375 \nQ 47.125 51.421875 43.28125 58.90625 \nQ 39.453125 66.40625 31.78125 66.40625 \nz\nM 31.78125 74.21875 \nQ 44.046875 74.21875 50.515625 64.515625 \nQ 56.984375 54.828125 56.984375 36.375 \nQ 56.984375 17.96875 50.515625 8.265625 \nQ 44.046875 -1.421875 31.78125 -1.421875 \nQ 19.53125 -1.421875 13.0625 8.265625 \nQ 6.59375 17.96875 6.59375 36.375 \nQ 6.59375 54.828125 13.0625 64.515625 \nQ 19.53125 74.21875 31.78125 74.21875 \nz\n\" id=\"DejaVuSans-48\"/>\n      </defs>\n      <g transform=\"translate(85.999988 347.958438)scale(0.1 -0.1)\">\n       <use xlink:href=\"#DejaVuSans-8722\"/>\n       <use x=\"83.789062\" xlink:href=\"#DejaVuSans-54\"/>\n       <use x=\"147.412109\" xlink:href=\"#DejaVuSans-48\"/>\n       <use x=\"211.035156\" xlink:href=\"#DejaVuSans-48\"/>\n       <use x=\"274.658203\" xlink:href=\"#DejaVuSans-48\"/>\n      </g>\n     </g>\n    </g>\n    <g id=\"xtick_2\">\n     <g id=\"line2d_2\">\n      <g>\n       <use style=\"stroke:#000000;stroke-width:0.8;\" x=\"146.080145\" xlink:href=\"#md1e809e2e7\" y=\"333.36\"/>\n      </g>\n     </g>\n     <g id=\"text_2\">\n      <!-- −4000 -->\n      <defs>\n       <path d=\"M 37.796875 64.3125 \nL 12.890625 25.390625 \nL 37.796875 25.390625 \nz\nM 35.203125 72.90625 \nL 47.609375 72.90625 \nL 47.609375 25.390625 \nL 58.015625 25.390625 \nL 58.015625 17.1875 \nL 47.609375 17.1875 \nL 47.609375 0 \nL 37.796875 0 \nL 37.796875 17.1875 \nL 4.890625 17.1875 \nL 4.890625 26.703125 \nz\n\" id=\"DejaVuSans-52\"/>\n      </defs>\n      <g transform=\"translate(129.165302 347.958438)scale(0.1 -0.1)\">\n       <use xlink:href=\"#DejaVuSans-8722\"/>\n       <use x=\"83.789062\" xlink:href=\"#DejaVuSans-52\"/>\n       <use x=\"147.412109\" xlink:href=\"#DejaVuSans-48\"/>\n       <use x=\"211.035156\" xlink:href=\"#DejaVuSans-48\"/>\n       <use x=\"274.658203\" xlink:href=\"#DejaVuSans-48\"/>\n      </g>\n     </g>\n    </g>\n    <g id=\"xtick_3\">\n     <g id=\"line2d_3\">\n      <g>\n       <use style=\"stroke:#000000;stroke-width:0.8;\" x=\"189.245459\" xlink:href=\"#md1e809e2e7\" y=\"333.36\"/>\n      </g>\n     </g>\n     <g id=\"text_3\">\n      <!-- −2000 -->\n      <defs>\n       <path d=\"M 19.1875 8.296875 \nL 53.609375 8.296875 \nL 53.609375 0 \nL 7.328125 0 \nL 7.328125 8.296875 \nQ 12.9375 14.109375 22.625 23.890625 \nQ 32.328125 33.6875 34.8125 36.53125 \nQ 39.546875 41.84375 41.421875 45.53125 \nQ 43.3125 49.21875 43.3125 52.78125 \nQ 43.3125 58.59375 39.234375 62.25 \nQ 35.15625 65.921875 28.609375 65.921875 \nQ 23.96875 65.921875 18.8125 64.3125 \nQ 13.671875 62.703125 7.8125 59.421875 \nL 7.8125 69.390625 \nQ 13.765625 71.78125 18.9375 73 \nQ 24.125 74.21875 28.421875 74.21875 \nQ 39.75 74.21875 46.484375 68.546875 \nQ 53.21875 62.890625 53.21875 53.421875 \nQ 53.21875 48.921875 51.53125 44.890625 \nQ 49.859375 40.875 45.40625 35.40625 \nQ 44.1875 33.984375 37.640625 27.21875 \nQ 31.109375 20.453125 19.1875 8.296875 \nz\n\" id=\"DejaVuSans-50\"/>\n      </defs>\n      <g transform=\"translate(172.330615 347.958438)scale(0.1 -0.1)\">\n       <use xlink:href=\"#DejaVuSans-8722\"/>\n       <use x=\"83.789062\" xlink:href=\"#DejaVuSans-50\"/>\n       <use x=\"147.412109\" xlink:href=\"#DejaVuSans-48\"/>\n       <use x=\"211.035156\" xlink:href=\"#DejaVuSans-48\"/>\n       <use x=\"274.658203\" xlink:href=\"#DejaVuSans-48\"/>\n      </g>\n     </g>\n    </g>\n    <g id=\"xtick_4\">\n     <g id=\"line2d_4\">\n      <g>\n       <use style=\"stroke:#000000;stroke-width:0.8;\" x=\"232.410772\" xlink:href=\"#md1e809e2e7\" y=\"333.36\"/>\n      </g>\n     </g>\n     <g id=\"text_4\">\n      <!-- 0 -->\n      <g transform=\"translate(229.229522 347.958438)scale(0.1 -0.1)\">\n       <use xlink:href=\"#DejaVuSans-48\"/>\n      </g>\n     </g>\n    </g>\n    <g id=\"xtick_5\">\n     <g id=\"line2d_5\">\n      <g>\n       <use style=\"stroke:#000000;stroke-width:0.8;\" x=\"275.576086\" xlink:href=\"#md1e809e2e7\" y=\"333.36\"/>\n      </g>\n     </g>\n     <g id=\"text_5\">\n      <!-- 2000 -->\n      <g transform=\"translate(262.851086 347.958438)scale(0.1 -0.1)\">\n       <use xlink:href=\"#DejaVuSans-50\"/>\n       <use x=\"63.623047\" xlink:href=\"#DejaVuSans-48\"/>\n       <use x=\"127.246094\" xlink:href=\"#DejaVuSans-48\"/>\n       <use x=\"190.869141\" xlink:href=\"#DejaVuSans-48\"/>\n      </g>\n     </g>\n    </g>\n    <g id=\"xtick_6\">\n     <g id=\"line2d_6\">\n      <g>\n       <use style=\"stroke:#000000;stroke-width:0.8;\" x=\"318.741399\" xlink:href=\"#md1e809e2e7\" y=\"333.36\"/>\n      </g>\n     </g>\n     <g id=\"text_6\">\n      <!-- 4000 -->\n      <g transform=\"translate(306.016399 347.958438)scale(0.1 -0.1)\">\n       <use xlink:href=\"#DejaVuSans-52\"/>\n       <use x=\"63.623047\" xlink:href=\"#DejaVuSans-48\"/>\n       <use x=\"127.246094\" xlink:href=\"#DejaVuSans-48\"/>\n       <use x=\"190.869141\" xlink:href=\"#DejaVuSans-48\"/>\n      </g>\n     </g>\n    </g>\n    <g id=\"xtick_7\">\n     <g id=\"line2d_7\">\n      <g>\n       <use style=\"stroke:#000000;stroke-width:0.8;\" x=\"361.906712\" xlink:href=\"#md1e809e2e7\" y=\"333.36\"/>\n      </g>\n     </g>\n     <g id=\"text_7\">\n      <!-- 6000 -->\n      <g transform=\"translate(349.181712 347.958438)scale(0.1 -0.1)\">\n       <use xlink:href=\"#DejaVuSans-54\"/>\n       <use x=\"63.623047\" xlink:href=\"#DejaVuSans-48\"/>\n       <use x=\"127.246094\" xlink:href=\"#DejaVuSans-48\"/>\n       <use x=\"190.869141\" xlink:href=\"#DejaVuSans-48\"/>\n      </g>\n     </g>\n    </g>\n    <g id=\"text_8\">\n     <!-- $x$ (km) -->\n     <defs>\n      <path d=\"M 60.015625 54.6875 \nL 34.90625 27.875 \nL 50.296875 0 \nL 39.984375 0 \nL 28.421875 21.6875 \nL 8.296875 0 \nL -2.59375 0 \nL 24.3125 28.8125 \nL 10.015625 54.6875 \nL 20.3125 54.6875 \nL 30.8125 34.90625 \nL 49.125 54.6875 \nz\n\" id=\"DejaVuSans-Oblique-120\"/>\n      <path id=\"DejaVuSans-32\"/>\n      <path d=\"M 31 75.875 \nQ 24.46875 64.65625 21.28125 53.65625 \nQ 18.109375 42.671875 18.109375 31.390625 \nQ 18.109375 20.125 21.3125 9.0625 \nQ 24.515625 -2 31 -13.1875 \nL 23.1875 -13.1875 \nQ 15.875 -1.703125 12.234375 9.375 \nQ 8.59375 20.453125 8.59375 31.390625 \nQ 8.59375 42.28125 12.203125 53.3125 \nQ 15.828125 64.359375 23.1875 75.875 \nz\n\" id=\"DejaVuSans-40\"/>\n      <path d=\"M 9.078125 75.984375 \nL 18.109375 75.984375 \nL 18.109375 31.109375 \nL 44.921875 54.6875 \nL 56.390625 54.6875 \nL 27.390625 29.109375 \nL 57.625 0 \nL 45.90625 0 \nL 18.109375 26.703125 \nL 18.109375 0 \nL 9.078125 0 \nz\n\" id=\"DejaVuSans-107\"/>\n      <path d=\"M 52 44.1875 \nQ 55.375 50.25 60.0625 53.125 \nQ 64.75 56 71.09375 56 \nQ 79.640625 56 84.28125 50.015625 \nQ 88.921875 44.046875 88.921875 33.015625 \nL 88.921875 0 \nL 79.890625 0 \nL 79.890625 32.71875 \nQ 79.890625 40.578125 77.09375 44.375 \nQ 74.3125 48.1875 68.609375 48.1875 \nQ 61.625 48.1875 57.5625 43.546875 \nQ 53.515625 38.921875 53.515625 30.90625 \nL 53.515625 0 \nL 44.484375 0 \nL 44.484375 32.71875 \nQ 44.484375 40.625 41.703125 44.40625 \nQ 38.921875 48.1875 33.109375 48.1875 \nQ 26.21875 48.1875 22.15625 43.53125 \nQ 18.109375 38.875 18.109375 30.90625 \nL 18.109375 0 \nL 9.078125 0 \nL 9.078125 54.6875 \nL 18.109375 54.6875 \nL 18.109375 46.1875 \nQ 21.1875 51.21875 25.484375 53.609375 \nQ 29.78125 56 35.6875 56 \nQ 41.65625 56 45.828125 52.96875 \nQ 50 49.953125 52 44.1875 \nz\n\" id=\"DejaVuSans-109\"/>\n      <path d=\"M 8.015625 75.875 \nL 15.828125 75.875 \nQ 23.140625 64.359375 26.78125 53.3125 \nQ 30.421875 42.28125 30.421875 31.390625 \nQ 30.421875 20.453125 26.78125 9.375 \nQ 23.140625 -1.703125 15.828125 -13.1875 \nL 8.015625 -13.1875 \nQ 14.5 -2 17.703125 9.0625 \nQ 20.90625 20.125 20.90625 31.390625 \nQ 20.90625 42.671875 17.703125 53.65625 \nQ 14.5 64.65625 8.015625 75.875 \nz\n\" id=\"DejaVuSans-41\"/>\n     </defs>\n     <g transform=\"translate(208.754847 361.636562)scale(0.1 -0.1)\">\n      <use transform=\"translate(0 0.015625)\" xlink:href=\"#DejaVuSans-Oblique-120\"/>\n      <use transform=\"translate(59.179688 0.015625)\" xlink:href=\"#DejaVuSans-32\"/>\n      <use transform=\"translate(90.966797 0.015625)\" xlink:href=\"#DejaVuSans-40\"/>\n      <use transform=\"translate(129.980469 0.015625)\" xlink:href=\"#DejaVuSans-107\"/>\n      <use transform=\"translate(187.890625 0.015625)\" xlink:href=\"#DejaVuSans-109\"/>\n      <use transform=\"translate(285.302734 0.015625)\" xlink:href=\"#DejaVuSans-41\"/>\n     </g>\n    </g>\n   </g>\n   <g id=\"matplotlib.axis_2\">\n    <g id=\"ytick_1\">\n     <g id=\"line2d_8\">\n      <defs>\n       <path d=\"M 0 0 \nL -3.5 0 \n\" id=\"me2126b56e4\" style=\"stroke:#000000;stroke-width:0.8;\"/>\n      </defs>\n      <g>\n       <use style=\"stroke:#000000;stroke-width:0.8;\" x=\"61.729687\" xlink:href=\"#me2126b56e4\" y=\"299.77594\"/>\n      </g>\n     </g>\n     <g id=\"text_9\">\n      <!-- −6000 -->\n      <g transform=\"translate(20.9 303.575159)scale(0.1 -0.1)\">\n       <use xlink:href=\"#DejaVuSans-8722\"/>\n       <use x=\"83.789062\" xlink:href=\"#DejaVuSans-54\"/>\n       <use x=\"147.412109\" xlink:href=\"#DejaVuSans-48\"/>\n       <use x=\"211.035156\" xlink:href=\"#DejaVuSans-48\"/>\n       <use x=\"274.658203\" xlink:href=\"#DejaVuSans-48\"/>\n      </g>\n     </g>\n    </g>\n    <g id=\"ytick_2\">\n     <g id=\"line2d_9\">\n      <g>\n       <use style=\"stroke:#000000;stroke-width:0.8;\" x=\"61.729687\" xlink:href=\"#me2126b56e4\" y=\"256.610627\"/>\n      </g>\n     </g>\n     <g id=\"text_10\">\n      <!-- −4000 -->\n      <g transform=\"translate(20.9 260.409846)scale(0.1 -0.1)\">\n       <use xlink:href=\"#DejaVuSans-8722\"/>\n       <use x=\"83.789062\" xlink:href=\"#DejaVuSans-52\"/>\n       <use x=\"147.412109\" xlink:href=\"#DejaVuSans-48\"/>\n       <use x=\"211.035156\" xlink:href=\"#DejaVuSans-48\"/>\n       <use x=\"274.658203\" xlink:href=\"#DejaVuSans-48\"/>\n      </g>\n     </g>\n    </g>\n    <g id=\"ytick_3\">\n     <g id=\"line2d_10\">\n      <g>\n       <use style=\"stroke:#000000;stroke-width:0.8;\" x=\"61.729687\" xlink:href=\"#me2126b56e4\" y=\"213.445313\"/>\n      </g>\n     </g>\n     <g id=\"text_11\">\n      <!-- −2000 -->\n      <g transform=\"translate(20.9 217.244532)scale(0.1 -0.1)\">\n       <use xlink:href=\"#DejaVuSans-8722\"/>\n       <use x=\"83.789062\" xlink:href=\"#DejaVuSans-50\"/>\n       <use x=\"147.412109\" xlink:href=\"#DejaVuSans-48\"/>\n       <use x=\"211.035156\" xlink:href=\"#DejaVuSans-48\"/>\n       <use x=\"274.658203\" xlink:href=\"#DejaVuSans-48\"/>\n      </g>\n     </g>\n    </g>\n    <g id=\"ytick_4\">\n     <g id=\"line2d_11\">\n      <g>\n       <use style=\"stroke:#000000;stroke-width:0.8;\" x=\"61.729687\" xlink:href=\"#me2126b56e4\" y=\"170.28\"/>\n      </g>\n     </g>\n     <g id=\"text_12\">\n      <!-- 0 -->\n      <g transform=\"translate(48.367187 174.079219)scale(0.1 -0.1)\">\n       <use xlink:href=\"#DejaVuSans-48\"/>\n      </g>\n     </g>\n    </g>\n    <g id=\"ytick_5\">\n     <g id=\"line2d_12\">\n      <g>\n       <use style=\"stroke:#000000;stroke-width:0.8;\" x=\"61.729687\" xlink:href=\"#me2126b56e4\" y=\"127.114687\"/>\n      </g>\n     </g>\n     <g id=\"text_13\">\n      <!-- 2000 -->\n      <g transform=\"translate(29.279687 130.913905)scale(0.1 -0.1)\">\n       <use xlink:href=\"#DejaVuSans-50\"/>\n       <use x=\"63.623047\" xlink:href=\"#DejaVuSans-48\"/>\n       <use x=\"127.246094\" xlink:href=\"#DejaVuSans-48\"/>\n       <use x=\"190.869141\" xlink:href=\"#DejaVuSans-48\"/>\n      </g>\n     </g>\n    </g>\n    <g id=\"ytick_6\">\n     <g id=\"line2d_13\">\n      <g>\n       <use style=\"stroke:#000000;stroke-width:0.8;\" x=\"61.729687\" xlink:href=\"#me2126b56e4\" y=\"83.949373\"/>\n      </g>\n     </g>\n     <g id=\"text_14\">\n      <!-- 4000 -->\n      <g transform=\"translate(29.279687 87.748592)scale(0.1 -0.1)\">\n       <use xlink:href=\"#DejaVuSans-52\"/>\n       <use x=\"63.623047\" xlink:href=\"#DejaVuSans-48\"/>\n       <use x=\"127.246094\" xlink:href=\"#DejaVuSans-48\"/>\n       <use x=\"190.869141\" xlink:href=\"#DejaVuSans-48\"/>\n      </g>\n     </g>\n    </g>\n    <g id=\"ytick_7\">\n     <g id=\"line2d_14\">\n      <g>\n       <use style=\"stroke:#000000;stroke-width:0.8;\" x=\"61.729687\" xlink:href=\"#me2126b56e4\" y=\"40.78406\"/>\n      </g>\n     </g>\n     <g id=\"text_15\">\n      <!-- 6000 -->\n      <g transform=\"translate(29.279687 44.583279)scale(0.1 -0.1)\">\n       <use xlink:href=\"#DejaVuSans-54\"/>\n       <use x=\"63.623047\" xlink:href=\"#DejaVuSans-48\"/>\n       <use x=\"127.246094\" xlink:href=\"#DejaVuSans-48\"/>\n       <use x=\"190.869141\" xlink:href=\"#DejaVuSans-48\"/>\n      </g>\n     </g>\n    </g>\n    <g id=\"text_16\">\n     <!-- $y$ (km) -->\n     <defs>\n      <path d=\"M 24.8125 -5.078125 \nQ 18.5625 -15.578125 14.625 -18.1875 \nQ 10.6875 -20.796875 4.59375 -20.796875 \nL -2.484375 -20.796875 \nL -0.984375 -13.28125 \nL 4.203125 -13.28125 \nQ 7.953125 -13.28125 10.59375 -11.234375 \nQ 13.234375 -9.1875 16.5 -3.21875 \nL 19.28125 2 \nL 7.171875 54.6875 \nL 16.703125 54.6875 \nL 25.78125 12.796875 \nL 50.875 54.6875 \nL 60.296875 54.6875 \nz\n\" id=\"DejaVuSans-Oblique-121\"/>\n     </defs>\n     <g transform=\"translate(14.8 186.53)rotate(-90)scale(0.1 -0.1)\">\n      <use transform=\"translate(0 0.015625)\" xlink:href=\"#DejaVuSans-Oblique-121\"/>\n      <use transform=\"translate(59.179688 0.015625)\" xlink:href=\"#DejaVuSans-32\"/>\n      <use transform=\"translate(90.966797 0.015625)\" xlink:href=\"#DejaVuSans-40\"/>\n      <use transform=\"translate(129.980469 0.015625)\" xlink:href=\"#DejaVuSans-107\"/>\n      <use transform=\"translate(187.890625 0.015625)\" xlink:href=\"#DejaVuSans-109\"/>\n      <use transform=\"translate(285.302734 0.015625)\" xlink:href=\"#DejaVuSans-41\"/>\n     </g>\n    </g>\n   </g>\n   <g id=\"line2d_15\">\n    <path clip-path=\"url(#pcd8ccb07e7)\" d=\"M 373.43681 170.28 \nL 373.304842 164.029755 \nL 372.909173 157.790623 \nL 372.250506 151.573696 \nL 371.330012 145.390029 \nL 370.149328 139.250615 \nL 368.710553 133.16637 \nL 367.016245 127.148112 \nL 365.069417 121.206541 \nL 362.87353 115.352221 \nL 360.432488 109.59556 \nL 357.750631 103.946794 \nL 354.832728 98.415966 \nL 351.683966 93.012909 \nL 348.309944 87.747231 \nL 344.716661 82.628293 \nL 340.910505 77.665196 \nL 336.898244 72.866766 \nL 332.687011 68.241532 \nL 328.284294 63.797719 \nL 323.69792 59.543228 \nL 318.936044 55.485622 \nL 314.007133 51.632117 \nL 308.91995 47.989563 \nL 303.683539 44.564438 \nL 298.307211 41.36283 \nL 292.800525 38.390432 \nL 287.173271 35.652529 \nL 281.435455 33.153988 \nL 275.597278 30.899253 \nL 269.66912 28.892331 \nL 263.661521 27.136792 \nL 257.585163 25.635756 \nL 251.450849 24.391892 \nL 245.269485 23.407412 \nL 239.052063 22.684066 \nL 232.809635 22.223141 \nL 226.553302 22.025455 \nL 220.294186 22.09136 \nL 214.043416 22.420739 \nL 207.812106 23.013006 \nL 201.611335 23.867109 \nL 195.452127 24.981529 \nL 189.345434 26.354284 \nL 183.302112 27.982933 \nL 177.332907 29.864582 \nL 171.448431 31.995884 \nL 165.659148 34.37305 \nL 159.97535 36.991854 \nL 154.407142 39.847639 \nL 148.964425 42.935329 \nL 143.656876 46.249432 \nL 138.493932 49.784057 \nL 133.484771 53.53292 \nL 128.6383 57.489355 \nL 123.963137 61.646327 \nL 119.467592 65.996446 \nL 115.159659 70.531978 \nL 111.046998 75.244857 \nL 107.13692 80.126706 \nL 103.436378 85.168844 \nL 99.951951 90.362307 \nL 96.689834 95.69786 \nL 93.655827 101.166018 \nL 90.855325 106.757058 \nL 88.293306 112.461039 \nL 85.974326 118.26782 \nL 83.902508 124.167077 \nL 82.081535 130.148321 \nL 80.514646 136.200918 \nL 79.204625 142.314106 \nL 78.153803 148.477017 \nL 77.364046 154.678692 \nL 76.836761 160.908106 \nL 76.572884 167.154183 \nL 76.572884 173.405817 \nL 76.836761 179.651894 \nL 77.364046 185.881308 \nL 78.153803 192.082983 \nL 79.204625 198.245894 \nL 80.514646 204.359082 \nL 82.081535 210.411679 \nL 83.902508 216.392923 \nL 85.974326 222.29218 \nL 88.293306 228.098961 \nL 90.855325 233.802942 \nL 93.655827 239.393982 \nL 96.689834 244.86214 \nL 99.951951 250.197693 \nL 103.436378 255.391156 \nL 107.13692 260.433294 \nL 111.046998 265.315143 \nL 115.159659 270.028022 \nL 119.467592 274.563554 \nL 123.963137 278.913673 \nL 128.6383 283.070645 \nL 133.484771 287.02708 \nL 138.493932 290.775943 \nL 143.656876 294.310568 \nL 148.964425 297.624671 \nL 154.407142 300.712361 \nL 159.97535 303.568146 \nL 165.659148 306.18695 \nL 171.448431 308.564116 \nL 177.332907 310.695418 \nL 183.302112 312.577067 \nL 189.345434 314.205716 \nL 195.452127 315.578471 \nL 201.611335 316.692891 \nL 207.812106 317.546994 \nL 214.043416 318.139261 \nL 220.294186 318.46864 \nL 226.553302 318.534545 \nL 232.809635 318.336859 \nL 239.052063 317.875934 \nL 245.269485 317.152588 \nL 251.450849 316.168108 \nL 257.585163 314.924244 \nL 263.661521 313.423208 \nL 269.66912 311.667669 \nL 275.597278 309.660747 \nL 281.435455 307.406012 \nL 287.173271 304.907471 \nL 292.800525 302.169568 \nL 298.307211 299.19717 \nL 303.683539 295.995562 \nL 308.91995 292.570437 \nL 314.007133 288.927883 \nL 318.936044 285.074378 \nL 323.69792 281.016772 \nL 328.284294 276.762281 \nL 332.687011 272.318468 \nL 336.898244 267.693234 \nL 340.910505 262.894804 \nL 344.716661 257.931707 \nL 348.309944 252.812769 \nL 351.683966 247.547091 \nL 354.832728 242.144034 \nL 357.750631 236.613206 \nL 360.432488 230.96444 \nL 362.87353 225.207779 \nL 365.069417 219.353459 \nL 367.016245 213.411888 \nL 368.710553 207.39363 \nL 370.149328 201.309385 \nL 371.330012 195.169971 \nL 372.250506 188.986304 \nL 372.909173 182.769377 \nL 373.304842 176.530245 \nL 373.43681 170.28 \nL 373.43681 170.28 \n\" style=\"fill:none;stroke:#1f77b4;stroke-dasharray:5.55,2.4;stroke-dashoffset:0;stroke-width:1.5;\"/>\n   </g>\n   <g id=\"line2d_16\">\n    <defs>\n     <path d=\"M 0 3 \nC 0.795609 3 1.55874 2.683901 2.12132 2.12132 \nC 2.683901 1.55874 3 0.795609 3 0 \nC 3 -0.795609 2.683901 -1.55874 2.12132 -2.12132 \nC 1.55874 -2.683901 0.795609 -3 0 -3 \nC -0.795609 -3 -1.55874 -2.683901 -2.12132 -2.12132 \nC -2.683901 -1.55874 -3 -0.795609 -3 0 \nC -3 0.795609 -2.683901 1.55874 -2.12132 2.12132 \nC -1.55874 2.683901 -0.795609 3 0 3 \nz\n\" id=\"m1bc1f43470\"/>\n    </defs>\n    <g clip-path=\"url(#pcd8ccb07e7)\">\n     <use style=\"fill:#1f77b4;\" x=\"373.43681\" xlink:href=\"#m1bc1f43470\" y=\"170.28\"/>\n    </g>\n   </g>\n   <g id=\"patch_4\">\n    <path d=\"M 61.729687 333.36 \nL 61.729687 7.2 \n\" style=\"fill:none;stroke:#000000;stroke-linecap:square;stroke-linejoin:miter;stroke-width:0.8;\"/>\n   </g>\n   <g id=\"patch_5\">\n    <path d=\"M 388.280006 333.36 \nL 388.280006 7.2 \n\" style=\"fill:none;stroke:#000000;stroke-linecap:square;stroke-linejoin:miter;stroke-width:0.8;\"/>\n   </g>\n   <g id=\"patch_6\">\n    <path d=\"M 61.729687 333.36 \nL 388.280006 333.36 \n\" style=\"fill:none;stroke:#000000;stroke-linecap:square;stroke-linejoin:miter;stroke-width:0.8;\"/>\n   </g>\n   <g id=\"patch_7\">\n    <path d=\"M 61.729687 7.2 \nL 388.280006 7.2 \n\" style=\"fill:none;stroke:#000000;stroke-linecap:square;stroke-linejoin:miter;stroke-width:0.8;\"/>\n   </g>\n   <g id=\"legend_1\">\n    <g id=\"patch_8\">\n     <path d=\"M 411.607522 39.66385 \nL 533.720022 39.66385 \nQ 535.720022 39.66385 535.720022 37.66385 \nL 535.720022 9.3076 \nQ 535.720022 7.3076 533.720022 7.3076 \nL 411.607522 7.3076 \nQ 409.607522 7.3076 409.607522 9.3076 \nL 409.607522 37.66385 \nQ 409.607522 39.66385 411.607522 39.66385 \nz\n\" style=\"fill:#ffffff;opacity:0.8;stroke:#cccccc;stroke-linejoin:miter;\"/>\n    </g>\n    <g id=\"text_17\">\n     <!-- Names and epochs -->\n     <defs>\n      <path d=\"M 9.8125 72.90625 \nL 23.09375 72.90625 \nL 55.421875 11.921875 \nL 55.421875 72.90625 \nL 64.984375 72.90625 \nL 64.984375 0 \nL 51.703125 0 \nL 19.390625 60.984375 \nL 19.390625 0 \nL 9.8125 0 \nz\n\" id=\"DejaVuSans-78\"/>\n      <path d=\"M 34.28125 27.484375 \nQ 23.390625 27.484375 19.1875 25 \nQ 14.984375 22.515625 14.984375 16.5 \nQ 14.984375 11.71875 18.140625 8.90625 \nQ 21.296875 6.109375 26.703125 6.109375 \nQ 34.1875 6.109375 38.703125 11.40625 \nQ 43.21875 16.703125 43.21875 25.484375 \nL 43.21875 27.484375 \nz\nM 52.203125 31.203125 \nL 52.203125 0 \nL 43.21875 0 \nL 43.21875 8.296875 \nQ 40.140625 3.328125 35.546875 0.953125 \nQ 30.953125 -1.421875 24.3125 -1.421875 \nQ 15.921875 -1.421875 10.953125 3.296875 \nQ 6 8.015625 6 15.921875 \nQ 6 25.140625 12.171875 29.828125 \nQ 18.359375 34.515625 30.609375 34.515625 \nL 43.21875 34.515625 \nL 43.21875 35.40625 \nQ 43.21875 41.609375 39.140625 45 \nQ 35.0625 48.390625 27.6875 48.390625 \nQ 23 48.390625 18.546875 47.265625 \nQ 14.109375 46.140625 10.015625 43.890625 \nL 10.015625 52.203125 \nQ 14.9375 54.109375 19.578125 55.046875 \nQ 24.21875 56 28.609375 56 \nQ 40.484375 56 46.34375 49.84375 \nQ 52.203125 43.703125 52.203125 31.203125 \nz\n\" id=\"DejaVuSans-97\"/>\n      <path d=\"M 56.203125 29.59375 \nL 56.203125 25.203125 \nL 14.890625 25.203125 \nQ 15.484375 15.921875 20.484375 11.0625 \nQ 25.484375 6.203125 34.421875 6.203125 \nQ 39.59375 6.203125 44.453125 7.46875 \nQ 49.3125 8.734375 54.109375 11.28125 \nL 54.109375 2.78125 \nQ 49.265625 0.734375 44.1875 -0.34375 \nQ 39.109375 -1.421875 33.890625 -1.421875 \nQ 20.796875 -1.421875 13.15625 6.1875 \nQ 5.515625 13.8125 5.515625 26.8125 \nQ 5.515625 40.234375 12.765625 48.109375 \nQ 20.015625 56 32.328125 56 \nQ 43.359375 56 49.78125 48.890625 \nQ 56.203125 41.796875 56.203125 29.59375 \nz\nM 47.21875 32.234375 \nQ 47.125 39.59375 43.09375 43.984375 \nQ 39.0625 48.390625 32.421875 48.390625 \nQ 24.90625 48.390625 20.390625 44.140625 \nQ 15.875 39.890625 15.1875 32.171875 \nz\n\" id=\"DejaVuSans-101\"/>\n      <path d=\"M 44.28125 53.078125 \nL 44.28125 44.578125 \nQ 40.484375 46.53125 36.375 47.5 \nQ 32.28125 48.484375 27.875 48.484375 \nQ 21.1875 48.484375 17.84375 46.4375 \nQ 14.5 44.390625 14.5 40.28125 \nQ 14.5 37.15625 16.890625 35.375 \nQ 19.28125 33.59375 26.515625 31.984375 \nL 29.59375 31.296875 \nQ 39.15625 29.25 43.1875 25.515625 \nQ 47.21875 21.78125 47.21875 15.09375 \nQ 47.21875 7.46875 41.1875 3.015625 \nQ 35.15625 -1.421875 24.609375 -1.421875 \nQ 20.21875 -1.421875 15.453125 -0.5625 \nQ 10.6875 0.296875 5.421875 2 \nL 5.421875 11.28125 \nQ 10.40625 8.6875 15.234375 7.390625 \nQ 20.0625 6.109375 24.8125 6.109375 \nQ 31.15625 6.109375 34.5625 8.28125 \nQ 37.984375 10.453125 37.984375 14.40625 \nQ 37.984375 18.0625 35.515625 20.015625 \nQ 33.0625 21.96875 24.703125 23.78125 \nL 21.578125 24.515625 \nQ 13.234375 26.265625 9.515625 29.90625 \nQ 5.8125 33.546875 5.8125 39.890625 \nQ 5.8125 47.609375 11.28125 51.796875 \nQ 16.75 56 26.8125 56 \nQ 31.78125 56 36.171875 55.265625 \nQ 40.578125 54.546875 44.28125 53.078125 \nz\n\" id=\"DejaVuSans-115\"/>\n      <path d=\"M 54.890625 33.015625 \nL 54.890625 0 \nL 45.90625 0 \nL 45.90625 32.71875 \nQ 45.90625 40.484375 42.875 44.328125 \nQ 39.84375 48.1875 33.796875 48.1875 \nQ 26.515625 48.1875 22.3125 43.546875 \nQ 18.109375 38.921875 18.109375 30.90625 \nL 18.109375 0 \nL 9.078125 0 \nL 9.078125 54.6875 \nL 18.109375 54.6875 \nL 18.109375 46.1875 \nQ 21.34375 51.125 25.703125 53.5625 \nQ 30.078125 56 35.796875 56 \nQ 45.21875 56 50.046875 50.171875 \nQ 54.890625 44.34375 54.890625 33.015625 \nz\n\" id=\"DejaVuSans-110\"/>\n      <path d=\"M 45.40625 46.390625 \nL 45.40625 75.984375 \nL 54.390625 75.984375 \nL 54.390625 0 \nL 45.40625 0 \nL 45.40625 8.203125 \nQ 42.578125 3.328125 38.25 0.953125 \nQ 33.9375 -1.421875 27.875 -1.421875 \nQ 17.96875 -1.421875 11.734375 6.484375 \nQ 5.515625 14.40625 5.515625 27.296875 \nQ 5.515625 40.1875 11.734375 48.09375 \nQ 17.96875 56 27.875 56 \nQ 33.9375 56 38.25 53.625 \nQ 42.578125 51.265625 45.40625 46.390625 \nz\nM 14.796875 27.296875 \nQ 14.796875 17.390625 18.875 11.75 \nQ 22.953125 6.109375 30.078125 6.109375 \nQ 37.203125 6.109375 41.296875 11.75 \nQ 45.40625 17.390625 45.40625 27.296875 \nQ 45.40625 37.203125 41.296875 42.84375 \nQ 37.203125 48.484375 30.078125 48.484375 \nQ 22.953125 48.484375 18.875 42.84375 \nQ 14.796875 37.203125 14.796875 27.296875 \nz\n\" id=\"DejaVuSans-100\"/>\n      <path d=\"M 18.109375 8.203125 \nL 18.109375 -20.796875 \nL 9.078125 -20.796875 \nL 9.078125 54.6875 \nL 18.109375 54.6875 \nL 18.109375 46.390625 \nQ 20.953125 51.265625 25.265625 53.625 \nQ 29.59375 56 35.59375 56 \nQ 45.5625 56 51.78125 48.09375 \nQ 58.015625 40.1875 58.015625 27.296875 \nQ 58.015625 14.40625 51.78125 6.484375 \nQ 45.5625 -1.421875 35.59375 -1.421875 \nQ 29.59375 -1.421875 25.265625 0.953125 \nQ 20.953125 3.328125 18.109375 8.203125 \nz\nM 48.6875 27.296875 \nQ 48.6875 37.203125 44.609375 42.84375 \nQ 40.53125 48.484375 33.40625 48.484375 \nQ 26.265625 48.484375 22.1875 42.84375 \nQ 18.109375 37.203125 18.109375 27.296875 \nQ 18.109375 17.390625 22.1875 11.75 \nQ 26.265625 6.109375 33.40625 6.109375 \nQ 40.53125 6.109375 44.609375 11.75 \nQ 48.6875 17.390625 48.6875 27.296875 \nz\n\" id=\"DejaVuSans-112\"/>\n      <path d=\"M 30.609375 48.390625 \nQ 23.390625 48.390625 19.1875 42.75 \nQ 14.984375 37.109375 14.984375 27.296875 \nQ 14.984375 17.484375 19.15625 11.84375 \nQ 23.34375 6.203125 30.609375 6.203125 \nQ 37.796875 6.203125 41.984375 11.859375 \nQ 46.1875 17.53125 46.1875 27.296875 \nQ 46.1875 37.015625 41.984375 42.703125 \nQ 37.796875 48.390625 30.609375 48.390625 \nz\nM 30.609375 56 \nQ 42.328125 56 49.015625 48.375 \nQ 55.71875 40.765625 55.71875 27.296875 \nQ 55.71875 13.875 49.015625 6.21875 \nQ 42.328125 -1.421875 30.609375 -1.421875 \nQ 18.84375 -1.421875 12.171875 6.21875 \nQ 5.515625 13.875 5.515625 27.296875 \nQ 5.515625 40.765625 12.171875 48.375 \nQ 18.84375 56 30.609375 56 \nz\n\" id=\"DejaVuSans-111\"/>\n      <path d=\"M 48.78125 52.59375 \nL 48.78125 44.1875 \nQ 44.96875 46.296875 41.140625 47.34375 \nQ 37.3125 48.390625 33.40625 48.390625 \nQ 24.65625 48.390625 19.8125 42.84375 \nQ 14.984375 37.3125 14.984375 27.296875 \nQ 14.984375 17.28125 19.8125 11.734375 \nQ 24.65625 6.203125 33.40625 6.203125 \nQ 37.3125 6.203125 41.140625 7.25 \nQ 44.96875 8.296875 48.78125 10.40625 \nL 48.78125 2.09375 \nQ 45.015625 0.34375 40.984375 -0.53125 \nQ 36.96875 -1.421875 32.421875 -1.421875 \nQ 20.0625 -1.421875 12.78125 6.34375 \nQ 5.515625 14.109375 5.515625 27.296875 \nQ 5.515625 40.671875 12.859375 48.328125 \nQ 20.21875 56 33.015625 56 \nQ 37.15625 56 41.109375 55.140625 \nQ 45.0625 54.296875 48.78125 52.59375 \nz\n\" id=\"DejaVuSans-99\"/>\n      <path d=\"M 54.890625 33.015625 \nL 54.890625 0 \nL 45.90625 0 \nL 45.90625 32.71875 \nQ 45.90625 40.484375 42.875 44.328125 \nQ 39.84375 48.1875 33.796875 48.1875 \nQ 26.515625 48.1875 22.3125 43.546875 \nQ 18.109375 38.921875 18.109375 30.90625 \nL 18.109375 0 \nL 9.078125 0 \nL 9.078125 75.984375 \nL 18.109375 75.984375 \nL 18.109375 46.1875 \nQ 21.34375 51.125 25.703125 53.5625 \nQ 30.078125 56 35.796875 56 \nQ 45.21875 56 50.046875 50.171875 \nQ 54.890625 44.34375 54.890625 33.015625 \nz\n\" id=\"DejaVuSans-104\"/>\n     </defs>\n     <g transform=\"translate(424.889554 18.906037)scale(0.1 -0.1)\">\n      <use xlink:href=\"#DejaVuSans-78\"/>\n      <use x=\"74.804688\" xlink:href=\"#DejaVuSans-97\"/>\n      <use x=\"136.083984\" xlink:href=\"#DejaVuSans-109\"/>\n      <use x=\"233.496094\" xlink:href=\"#DejaVuSans-101\"/>\n      <use x=\"295.019531\" xlink:href=\"#DejaVuSans-115\"/>\n      <use x=\"347.119141\" xlink:href=\"#DejaVuSans-32\"/>\n      <use x=\"378.90625\" xlink:href=\"#DejaVuSans-97\"/>\n      <use x=\"440.185547\" xlink:href=\"#DejaVuSans-110\"/>\n      <use x=\"503.564453\" xlink:href=\"#DejaVuSans-100\"/>\n      <use x=\"567.041016\" xlink:href=\"#DejaVuSans-32\"/>\n      <use x=\"598.828125\" xlink:href=\"#DejaVuSans-101\"/>\n      <use x=\"660.351562\" xlink:href=\"#DejaVuSans-112\"/>\n      <use x=\"723.828125\" xlink:href=\"#DejaVuSans-111\"/>\n      <use x=\"785.009766\" xlink:href=\"#DejaVuSans-99\"/>\n      <use x=\"839.990234\" xlink:href=\"#DejaVuSans-104\"/>\n      <use x=\"903.369141\" xlink:href=\"#DejaVuSans-115\"/>\n     </g>\n    </g>\n    <g id=\"line2d_17\"/>\n    <g id=\"line2d_18\">\n     <g>\n      <use style=\"fill:#1f77b4;\" x=\"423.607522\" xlink:href=\"#m1bc1f43470\" y=\"30.084162\"/>\n     </g>\n    </g>\n    <g id=\"text_18\">\n     <!-- 2000-01-01 12:00 -->\n     <defs>\n      <path d=\"M 4.890625 31.390625 \nL 31.203125 31.390625 \nL 31.203125 23.390625 \nL 4.890625 23.390625 \nz\n\" id=\"DejaVuSans-45\"/>\n      <path d=\"M 12.40625 8.296875 \nL 28.515625 8.296875 \nL 28.515625 63.921875 \nL 10.984375 60.40625 \nL 10.984375 69.390625 \nL 28.421875 72.90625 \nL 38.28125 72.90625 \nL 38.28125 8.296875 \nL 54.390625 8.296875 \nL 54.390625 0 \nL 12.40625 0 \nz\n\" id=\"DejaVuSans-49\"/>\n      <path d=\"M 11.71875 12.40625 \nL 22.015625 12.40625 \nL 22.015625 0 \nL 11.71875 0 \nz\nM 11.71875 51.703125 \nL 22.015625 51.703125 \nL 22.015625 39.3125 \nL 11.71875 39.3125 \nz\n\" id=\"DejaVuSans-58\"/>\n     </defs>\n     <g transform=\"translate(441.607522 33.584162)scale(0.1 -0.1)\">\n      <use xlink:href=\"#DejaVuSans-50\"/>\n      <use x=\"63.623047\" xlink:href=\"#DejaVuSans-48\"/>\n      <use x=\"127.246094\" xlink:href=\"#DejaVuSans-48\"/>\n      <use x=\"190.869141\" xlink:href=\"#DejaVuSans-48\"/>\n      <use x=\"254.492188\" xlink:href=\"#DejaVuSans-45\"/>\n      <use x=\"290.576172\" xlink:href=\"#DejaVuSans-48\"/>\n      <use x=\"354.199219\" xlink:href=\"#DejaVuSans-49\"/>\n      <use x=\"417.822266\" xlink:href=\"#DejaVuSans-45\"/>\n      <use x=\"453.90625\" xlink:href=\"#DejaVuSans-48\"/>\n      <use x=\"517.529297\" xlink:href=\"#DejaVuSans-49\"/>\n      <use x=\"581.152344\" xlink:href=\"#DejaVuSans-32\"/>\n      <use x=\"612.939453\" xlink:href=\"#DejaVuSans-49\"/>\n      <use x=\"676.5625\" xlink:href=\"#DejaVuSans-50\"/>\n      <use x=\"740.185547\" xlink:href=\"#DejaVuSans-58\"/>\n      <use x=\"773.876953\" xlink:href=\"#DejaVuSans-48\"/>\n      <use x=\"837.5\" xlink:href=\"#DejaVuSans-48\"/>\n     </g>\n    </g>\n   </g>\n  </g>\n </g>\n <defs>\n  <clipPath id=\"pcd8ccb07e7\">\n   <rect height=\"326.16\" width=\"326.550319\" x=\"61.729687\" y=\"7.2\"/>\n  </clipPath>\n </defs>\n</svg>\n",
      "image/png": "[encoded data removed]"
     },
     "metadata": {
      "needs_background": "light"
     }
    }
   ],
   "source": [
    "orb3.plot()"
   ]
  },
  {
   "cell_type": "code",
   "execution_count": 11,
   "metadata": {
    "tags": []
   },
   "outputs": [],
   "source": [
    "# Calculate velocity vector magnitudes for 200 samples spaced evenly around the full orbital period\n",
    "samples = 200\n",
    "delta_t = orb3.period / (samples - 1)\n",
    "vel = calc_vel_inc_cost(orb3, orb4, delta_t, samples)"
   ]
  },
  {
   "cell_type": "code",
   "execution_count": 12,
   "metadata": {},
   "outputs": [],
   "source": [
    "# We may now calculate some additional parameters.\n",
    "#for v, t, nu, argp, dv, r in vel:\n",
    "    #nu2pi = nu + 2*pi*u.rad*(nu<0) # nu normalized to 0..2pi\n",
    "    # time_to_periapis = argp - nu2pi\n",
    "    # print(\"v=%4.2f %s at %s, nu=%s time to argp=%s, delta-v cost=%s\" % (v.value, v.unit, t.iso, nu, (time_to_periapis), abs(dv)))"
   ]
  },
  {
   "cell_type": "code",
   "execution_count": 13,
   "metadata": {},
   "outputs": [
    {
     "output_type": "display_data",
     "data": {
      "application/vnd.plotly.v1+json": {
       "config": {
        "plotlyServerURL": "https://plot.ly"
       },
       "data": [
        {
         "mode": "markers",
         "name": "Delta-v [km/s]",
         "type": "scatter",
         "x": [
          0,
          0.034940379528549226,
          0.06987669820806497,
          0.1048049027379836,
          0.13972095488539082,
          0.17462083894582214,
          0.20950056911706794,
          0.24435619675796616,
          0.2791838175050496,
          0.31397957822094424,
          0.34873968374966324,
          0.3834604034552642,
          0.41813807752197407,
          0.4527691229954822,
          0.4873500395469379,
          0.5218774149430381,
          0.5563479302075631,
          0.5907583644617596,
          0.6251055994329544,
          0.6593866236229076,
          0.6935985361294343,
          0.7277385501167961,
          0.7618039959325476,
          0.7957923238701552,
          0.829701106578864,
          0.8635280411238719,
          0.8972709507015502,
          0.9309277860161576,
          0.9644966263257615,
          0.9979756801665456,
          1.0313632857657904,
          1.0646579111549457,
          1.097858153995162,
          1.1309627411283314,
          1.1639705278675319,
          1.1968804970412048,
          1.2296917578058437,
          1.2624035442422317,
          1.2950152137506654,
          1.327526245260315,
          1.3599362372681636,
          1.3922449057227801,
          1.4244520817678703,
          1.4565577093604096,
          1.4885618427777585,
          1.520464644027717,
          1.5522663801751344,
          1.5839674205980323,
          1.6155682341857815,
          1.6470693864911317,
          1.6784715368475727,
          1.709775435462534,
          1.7409819204965586,
          1.7720919151378505,
          1.8031064246809345,
          1.8340265336175072,
          1.8648534027470083,
          1.8955882663138235,
          1.926232429177146,
          1.9567872640193649,
          1.9872542085979594,
          2.017634763045228,
          2.0479304872201514,
          2.0781429981155206,
          2.10827396732339,
          2.138325118561416,
          2.1682982252619745,
          2.1981951082257645,
          2.2280176333410715,
          2.2577677093696398,
          2.2874472857995016,
          2.317058350765093,
          2.346602929034468,
          2.376083080063262,
          2.4055008961147086,
          2.4348585004448644,
          2.464158045551965,
          2.493401711488584,
          2.5225917042351043,
          2.551730254132935,
          2.58081961437561,
          2.6098620595559456,
          2.6388598842670996,
          2.6678154017555125,
          2.6967309426234127,
          2.725608853578568,
          2.7544514962289277,
          2.783261245919652,
          2.812040490609993,
          2.8407916297875033,
          2.8695170734168975,
          2.8982192409209393,
          2.926900560190645,
          2.955563466622105,
          2.98421040217716,
          3.012843814465163,
          3.04146615584307,
          3.070079882531039,
          3.0986874537407445,
          3.1272913308135832,
          -3.1272913308136294,
          -3.0986874537407902,
          -3.070079882531085,
          -3.041466155843115,
          -3.012843814465209,
          -2.984210402177206,
          -2.9555634666221513,
          -2.9269005601906906,
          -2.898219240920984,
          -2.86951707341694,
          -2.840791629787544,
          -2.812040490610032,
          -2.783261245919694,
          -2.754451496228972,
          -2.72560885357861,
          -2.6967309426234554,
          -2.6678154017555604,
          -2.638859884267148,
          -2.609862059555993,
          -2.5808196143756597,
          -2.5517302541329783,
          -2.522591704235146,
          -2.4934017114886227,
          -2.464158045551999,
          -2.4348585004448955,
          -2.405500896114742,
          -2.376083080063298,
          -2.346602929034506,
          -2.3170583507651203,
          -2.2874472857995314,
          -2.2577677093696717,
          -2.2280176333411044,
          -2.198195108225796,
          -2.1682982252620127,
          -2.1383251185614562,
          -2.108273967323436,
          -2.078142998115563,
          -2.0479304872201958,
          -2.017634763045271,
          -1.9872542085980032,
          -1.9567872640194186,
          -1.926232429177191,
          -1.8955882663138721,
          -1.8648534027470676,
          -1.8340265336175563,
          -1.803106424680997,
          -1.7720919151379164,
          -1.740981920496614,
          -1.7097754354625865,
          -1.6784715368476217,
          -1.6470693864911805,
          -1.6155682341858348,
          -1.583967420598092,
          -1.5522663801751908,
          -1.5204646440277738,
          -1.488561842777817,
          -1.4565577093604705,
          -1.4244520817679263,
          -1.3922449057228268,
          -1.3599362372682091,
          -1.3275262452603578,
          -1.2950152137507098,
          -1.262403544242271,
          -1.229691757805882,
          -1.1968804970412434,
          -1.163970527867562,
          -1.1309627411283603,
          -1.0978581539951922,
          -1.0646579111549723,
          -1.031363285765817,
          -0.9979756801665753,
          -0.9644966263257895,
          -0.9309277860161798,
          -0.8972709507015613,
          -0.8635280411238861,
          -0.8297011065788773,
          -0.7957923238701698,
          -0.7618039959325675,
          -0.727738550116817,
          -0.693598536129449,
          -0.6593866236229249,
          -0.6251055994329682,
          -0.5907583644617742,
          -0.5563479302075849,
          -0.5218774149430621,
          -0.4873500395469641,
          -0.45276912299550576,
          -0.41813807752199583,
          -0.38346040345528554,
          -0.3487396837496832,
          -0.31397957822096423,
          -0.27918381750507004,
          -0.2443561967579866,
          -0.20950056911708836,
          -0.1746208389458408,
          -0.13972095488540903,
          -0.10480490273800314,
          -0.06987669820808406,
          -0.034940379528568766
         ],
         "y": [
          7.241034932658295,
          7.241250933793412,
          7.2418986484274726,
          7.242977210921342,
          7.2444851807889625,
          7.24642054605447,
          7.248780727929091,
          7.251562586784877,
          7.25476242939632,
          7.25837601741474,
          7.262398577034985,
          7.266824809808382,
          7.271648904551234,
          7.276864550293571,
          7.282464950208848,
          7.288442836461753,
          7.294790485908196,
          7.301499736579137,
          7.308562004877684,
          7.315968303417611,
          7.323709259430254,
          7.3317751336663575,
          7.340155839719441,
          7.348840963697648,
          7.357819784172007,
          7.367081292330391,
          7.376614212268013,
          7.3864070213476545,
          7.396447970564912,
          7.406725104856664,
          7.417226283293705,
          7.427939199101898,
          7.438851399459227,
          7.449950305019835,
          7.461223229119561,
          7.47265739662129,
          7.484239962361952,
          7.495958029166818,
          7.507798665400482,
          7.519748922027389,
          7.531795849158508,
          7.543926512064165,
          7.556128006636459,
          7.568387474287923,
          7.580692116276246,
          7.593029207447806,
          7.605386109395645,
          7.617750283030084,
          7.63010930056277,
          7.642450856907046,
          7.65476278050001,
          7.667033043553209,
          7.679249771740927,
          7.691401253336619,
          7.703475947809388,
          7.7154624938937175,
          7.7273497171469,
          7.739126637009446,
          7.750782473384553,
          7.762306652753598,
          7.77368881384506,
          7.78491881287449,
          7.795986728374092,
          7.806882865629953,
          7.81759776074561,
          7.8281221843505016,
          7.838447144971758,
          7.848563892087719,
          7.8584639188813545,
          7.868138964711599,
          7.8775810173200815,
          7.886782314790651,
          7.89573534727849,
          7.9044328585252925,
          7.912867847176441,
          7.9210335679156865,
          7.9289235324322505,
          7.936531510234822,
          7.943851529326233,
          7.9508778767522115,
          7.9576050990368365,
          7.96402800251696,
          7.970141653587017,
          7.975941378865364,
          7.981422765292389,
          7.986581660170271,
          7.9914141711536315,
          7.9959166661996495,
          8.00008577348574,
          8.003918381302334,
          8.007411637927582,
          8.010562951490444,
          8.013369989827936,
          8.015830680341779,
          8.017943209859226,
          8.01970602450217,
          8.021117829568222,
          8.022177589426903,
          8.022884527433435,
          8.023238125862363,
          8.023238125862363,
          8.022884527433435,
          8.022177589426898,
          8.021117829568214,
          8.019706024502163,
          8.017943209859213,
          8.015830680341768,
          8.013369989827925,
          8.010562951490439,
          8.007411637927573,
          8.003918381302325,
          8.000085773485733,
          7.995916666199642,
          7.991414171153626,
          7.986581660170263,
          7.98142276529238,
          7.975941378865363,
          7.970141653587016,
          7.964028002516957,
          7.957605099036839,
          7.95087787675221,
          7.943851529326229,
          7.9365315102348175,
          7.928923532432245,
          7.92103356791568,
          7.912867847176437,
          7.904432858525291,
          7.895735347278493,
          7.886782314790648,
          7.87758101732008,
          7.868138964711598,
          7.858463918881352,
          7.848563892087718,
          7.838447144971761,
          7.828122184350507,
          7.817597760745619,
          7.806882865629964,
          7.795986728374103,
          7.784918812874501,
          7.773688813845072,
          7.762306652753618,
          7.750782473384566,
          7.739126637009461,
          7.727349717146923,
          7.715462493893733,
          7.703475947809411,
          7.691401253336645,
          7.679249771740947,
          7.667033043553228,
          7.654762780500029,
          7.642450856907064,
          7.630109300562791,
          7.6177502830301105,
          7.605386109395669,
          7.593029207447831,
          7.580692116276269,
          7.568387474287948,
          7.556128006636481,
          7.543926512064182,
          7.531795849158524,
          7.5197489220274045,
          7.507798665400497,
          7.495958029166831,
          7.484239962361965,
          7.472657396621301,
          7.4612232291195655,
          7.44995030501984,
          7.4388513994592325,
          7.427939199101899,
          7.417226283293704,
          7.406725104856666,
          7.396447970564911,
          7.386407021347648,
          7.376614212267995,
          7.367081292330374,
          7.35781978417199,
          7.348840963697629,
          7.340155839719427,
          7.331775133666345,
          7.323709259430242,
          7.315968303417601,
          7.308562004877678,
          7.30149973657913,
          7.2947904859081945,
          7.2884428364617495,
          7.2824649502088485,
          7.276864550293567,
          7.271648904551227,
          7.2668248098083765,
          7.262398577034979,
          7.258376017414728,
          7.254762429396308,
          7.251562586784864,
          7.2487807279290735,
          7.246420546054455,
          7.244485180788947,
          7.242977210921328,
          7.241898648427451,
          7.241250933793389
         ]
        },
        {
         "mode": "markers",
         "name": "Orbital velocity [km/s]",
         "type": "scatter",
         "x": [
          0,
          0.034940379528549226,
          0.06987669820806497,
          0.1048049027379836,
          0.13972095488539082,
          0.17462083894582214,
          0.20950056911706794,
          0.24435619675796616,
          0.2791838175050496,
          0.31397957822094424,
          0.34873968374966324,
          0.3834604034552642,
          0.41813807752197407,
          0.4527691229954822,
          0.4873500395469379,
          0.5218774149430381,
          0.5563479302075631,
          0.5907583644617596,
          0.6251055994329544,
          0.6593866236229076,
          0.6935985361294343,
          0.7277385501167961,
          0.7618039959325476,
          0.7957923238701552,
          0.829701106578864,
          0.8635280411238719,
          0.8972709507015502,
          0.9309277860161576,
          0.9644966263257615,
          0.9979756801665456,
          1.0313632857657904,
          1.0646579111549457,
          1.097858153995162,
          1.1309627411283314,
          1.1639705278675319,
          1.1968804970412048,
          1.2296917578058437,
          1.2624035442422317,
          1.2950152137506654,
          1.327526245260315,
          1.3599362372681636,
          1.3922449057227801,
          1.4244520817678703,
          1.4565577093604096,
          1.4885618427777585,
          1.520464644027717,
          1.5522663801751344,
          1.5839674205980323,
          1.6155682341857815,
          1.6470693864911317,
          1.6784715368475727,
          1.709775435462534,
          1.7409819204965586,
          1.7720919151378505,
          1.8031064246809345,
          1.8340265336175072,
          1.8648534027470083,
          1.8955882663138235,
          1.926232429177146,
          1.9567872640193649,
          1.9872542085979594,
          2.017634763045228,
          2.0479304872201514,
          2.0781429981155206,
          2.10827396732339,
          2.138325118561416,
          2.1682982252619745,
          2.1981951082257645,
          2.2280176333410715,
          2.2577677093696398,
          2.2874472857995016,
          2.317058350765093,
          2.346602929034468,
          2.376083080063262,
          2.4055008961147086,
          2.4348585004448644,
          2.464158045551965,
          2.493401711488584,
          2.5225917042351043,
          2.551730254132935,
          2.58081961437561,
          2.6098620595559456,
          2.6388598842670996,
          2.6678154017555125,
          2.6967309426234127,
          2.725608853578568,
          2.7544514962289277,
          2.783261245919652,
          2.812040490609993,
          2.8407916297875033,
          2.8695170734168975,
          2.8982192409209393,
          2.926900560190645,
          2.955563466622105,
          2.98421040217716,
          3.012843814465163,
          3.04146615584307,
          3.070079882531039,
          3.0986874537407445,
          3.1272913308135832,
          -3.1272913308136294,
          -3.0986874537407902,
          -3.070079882531085,
          -3.041466155843115,
          -3.012843814465209,
          -2.984210402177206,
          -2.9555634666221513,
          -2.9269005601906906,
          -2.898219240920984,
          -2.86951707341694,
          -2.840791629787544,
          -2.812040490610032,
          -2.783261245919694,
          -2.754451496228972,
          -2.72560885357861,
          -2.6967309426234554,
          -2.6678154017555604,
          -2.638859884267148,
          -2.609862059555993,
          -2.5808196143756597,
          -2.5517302541329783,
          -2.522591704235146,
          -2.4934017114886227,
          -2.464158045551999,
          -2.4348585004448955,
          -2.405500896114742,
          -2.376083080063298,
          -2.346602929034506,
          -2.3170583507651203,
          -2.2874472857995314,
          -2.2577677093696717,
          -2.2280176333411044,
          -2.198195108225796,
          -2.1682982252620127,
          -2.1383251185614562,
          -2.108273967323436,
          -2.078142998115563,
          -2.0479304872201958,
          -2.017634763045271,
          -1.9872542085980032,
          -1.9567872640194186,
          -1.926232429177191,
          -1.8955882663138721,
          -1.8648534027470676,
          -1.8340265336175563,
          -1.803106424680997,
          -1.7720919151379164,
          -1.740981920496614,
          -1.7097754354625865,
          -1.6784715368476217,
          -1.6470693864911805,
          -1.6155682341858348,
          -1.583967420598092,
          -1.5522663801751908,
          -1.5204646440277738,
          -1.488561842777817,
          -1.4565577093604705,
          -1.4244520817679263,
          -1.3922449057228268,
          -1.3599362372682091,
          -1.3275262452603578,
          -1.2950152137507098,
          -1.262403544242271,
          -1.229691757805882,
          -1.1968804970412434,
          -1.163970527867562,
          -1.1309627411283603,
          -1.0978581539951922,
          -1.0646579111549723,
          -1.031363285765817,
          -0.9979756801665753,
          -0.9644966263257895,
          -0.9309277860161798,
          -0.8972709507015613,
          -0.8635280411238861,
          -0.8297011065788773,
          -0.7957923238701698,
          -0.7618039959325675,
          -0.727738550116817,
          -0.693598536129449,
          -0.6593866236229249,
          -0.6251055994329682,
          -0.5907583644617742,
          -0.5563479302075849,
          -0.5218774149430621,
          -0.4873500395469641,
          -0.45276912299550576,
          -0.41813807752199583,
          -0.38346040345528554,
          -0.3487396837496832,
          -0.31397957822096423,
          -0.27918381750507004,
          -0.2443561967579866,
          -0.20950056911708836,
          -0.1746208389458408,
          -0.13972095488540903,
          -0.10480490273800314,
          -0.06987669820808406,
          -0.034940379528568766
         ],
         "y": [
          8.003249136096011,
          8.00302759984085,
          8.002363327657726,
          8.001257328298106,
          7.999711279701823,
          7.997727524049442,
          7.995309060877893,
          7.992459538301184,
          7.989183242389194,
          7.985485084768183,
          7.98137058851669,
          7.976845872439716,
          7.971917633812593,
          7.966593129693406,
          7.96088015690949,
          7.954787030829132,
          7.94832256303413,
          7.9414960380124695,
          7.934317188992824,
          7.926796173044071,
          7.918943545563461,
          7.91077023427659,
          7.902287512870798,
          7.893506974381397,
          7.88444050444688,
          7.875100254545456,
          7.865498615320679,
          7.8556481900987505,
          7.845561768694445,
          7.835252301596523,
          7.824732874616988,
          7.814016684081881,
          7.803117012634384,
          7.792047205713934,
          7.780820648768039,
          7.7694507452463775,
          7.757950895419836,
          7.746334476060258,
          7.734614821010079,
          7.722805202664568,
          7.710918814383296,
          7.698968753841565,
          7.686968007327049,
          7.674929434981732,
          7.662865756984427,
          7.650789540664731,
          7.6387131885352355,
          7.6266489272251565,
          7.614608797295243,
          7.602604643910949,
          7.5906481083482635,
          7.578750620304434,
          7.566923390983941,
          7.555177406928534,
          7.543523424558944,
          7.531971965394883,
          7.520533311919318,
          7.509217504052511,
          7.498034336201159,
          7.486993354847921,
          7.4761038566468345,
          7.4653748869904835,
          7.454815239015196,
          7.444433453011316,
          7.4342378162062195,
          7.424236362888658,
          7.414436874843893,
          7.404846882070131,
          7.39547366374777,
          7.386324249434052,
          7.377405420456908,
          7.368723711482852,
          7.360285412234956,
          7.3520965693381255,
          7.3441629882700195,
          7.336490235397115,
          7.32908364007653,
          7.3219482968053775,
          7.315089067400429,
          7.308510583192005,
          7.302217247216964,
          7.296213236396716,
          7.290502503687077,
          7.285088780187787,
          7.279975577200313,
          7.275166188223476,
          7.270663690877223,
          7.266470948745633,
          7.262590613131042,
          7.259025124711791,
          7.255776715096891,
          7.252847408271438,
          7.250239021927307,
          7.247953168674194,
          7.24599125712667,
          7.2443544928634465,
          7.24304387925555,
          7.242060218160652,
          7.2414041104812386,
          7.241075956584819,
          7.241075956584818,
          7.241404110481235,
          7.242060218160651,
          7.243043879255552,
          7.244354492863447,
          7.24599125712667,
          7.247953168674192,
          7.250239021927305,
          7.252847408271435,
          7.25577671509689,
          7.259025124711791,
          7.262590613131042,
          7.266470948745632,
          7.270663690877221,
          7.2751661882234755,
          7.27997557720031,
          7.285088780187783,
          7.290502503687072,
          7.296213236396712,
          7.30221724721696,
          7.3085105831920005,
          7.315089067400428,
          7.321948296805376,
          7.329083640076529,
          7.336490235397112,
          7.344162988270016,
          7.35209656933812,
          7.36028541223495,
          7.368723711482848,
          7.3774054204569035,
          7.386324249434045,
          7.395473663747762,
          7.404846882070123,
          7.414436874843882,
          7.424236362888648,
          7.434237816206209,
          7.444433453011305,
          7.454815239015186,
          7.465374886990472,
          7.476103856646823,
          7.486993354847907,
          7.498034336201146,
          7.509217504052496,
          7.5205333119193,
          7.531971965394863,
          7.543523424558923,
          7.555177406928513,
          7.56692339098392,
          7.578750620304414,
          7.590648108348244,
          7.602604643910929,
          7.614608797295223,
          7.626648927225135,
          7.638713188535216,
          7.65078954066471,
          7.662865756984405,
          7.674929434981711,
          7.686968007327027,
          7.698968753841545,
          7.710918814383275,
          7.722805202664547,
          7.734614821010058,
          7.7463344760602375,
          7.757950895419815,
          7.769450745246356,
          7.780820648768018,
          7.792047205713914,
          7.803117012634363,
          7.81401668408186,
          7.824732874616966,
          7.835252301596503,
          7.8455617686944255,
          7.855648190098731,
          7.865498615320662,
          7.875100254545438,
          7.884440504446862,
          7.893506974381379,
          7.902287512870777,
          7.910770234276568,
          7.918943545563441,
          7.92679617304405,
          7.934317188992804,
          7.941496038012449,
          7.9483225630341074,
          7.954787030829109,
          7.960880156909466,
          7.966593129693382,
          7.97191763381257,
          7.976845872439691,
          7.981370588516666,
          7.98548508476816,
          7.98918324238917,
          7.992459538301162,
          7.995309060877873,
          7.997727524049422,
          7.999711279701803,
          8.001257328298086,
          8.002363327657708,
          8.003027599840832
         ]
        }
       ],
       "layout": {
        "annotations": [
         {
          "text": "periapsis",
          "x": 0,
          "y": 7.24
         },
         {
          "text": "apoapsis",
          "x": 3.141592653589793,
          "y": 7.24
         }
        ],
        "legend": {
         "orientation": "h",
         "x": 1,
         "xanchor": "right",
         "y": 1.02,
         "yanchor": "bottom"
        },
        "margin": {
         "b": 20,
         "l": 20,
         "r": 20,
         "t": 20
        },
        "template": {
         "data": {
          "bar": [
           {
            "error_x": {
             "color": "#2a3f5f"
            },
            "error_y": {
             "color": "#2a3f5f"
            },
            "marker": {
             "line": {
              "color": "#E5ECF6",
              "width": 0.5
             }
            },
            "type": "bar"
           }
          ],
          "barpolar": [
           {
            "marker": {
             "line": {
              "color": "#E5ECF6",
              "width": 0.5
             }
            },
            "type": "barpolar"
           }
          ],
          "carpet": [
           {
            "aaxis": {
             "endlinecolor": "#2a3f5f",
             "gridcolor": "white",
             "linecolor": "white",
             "minorgridcolor": "white",
             "startlinecolor": "#2a3f5f"
            },
            "baxis": {
             "endlinecolor": "#2a3f5f",
             "gridcolor": "white",
             "linecolor": "white",
             "minorgridcolor": "white",
             "startlinecolor": "#2a3f5f"
            },
            "type": "carpet"
           }
          ],
          "choropleth": [
           {
            "colorbar": {
             "outlinewidth": 0,
             "ticks": ""
            },
            "type": "choropleth"
           }
          ],
          "contour": [
           {
            "colorbar": {
             "outlinewidth": 0,
             "ticks": ""
            },
            "colorscale": [
             [
              0,
              "#0d0887"
             ],
             [
              0.1111111111111111,
              "#46039f"
             ],
             [
              0.2222222222222222,
              "#7201a8"
             ],
             [
              0.3333333333333333,
              "#9c179e"
             ],
             [
              0.4444444444444444,
              "#bd3786"
             ],
             [
              0.5555555555555556,
              "#d8576b"
             ],
             [
              0.6666666666666666,
              "#ed7953"
             ],
             [
              0.7777777777777778,
              "#fb9f3a"
             ],
             [
              0.8888888888888888,
              "#fdca26"
             ],
             [
              1,
              "#f0f921"
             ]
            ],
            "type": "contour"
           }
          ],
          "contourcarpet": [
           {
            "colorbar": {
             "outlinewidth": 0,
             "ticks": ""
            },
            "type": "contourcarpet"
           }
          ],
          "heatmap": [
           {
            "colorbar": {
             "outlinewidth": 0,
             "ticks": ""
            },
            "colorscale": [
             [
              0,
              "#0d0887"
             ],
             [
              0.1111111111111111,
              "#46039f"
             ],
             [
              0.2222222222222222,
              "#7201a8"
             ],
             [
              0.3333333333333333,
              "#9c179e"
             ],
             [
              0.4444444444444444,
              "#bd3786"
             ],
             [
              0.5555555555555556,
              "#d8576b"
             ],
             [
              0.6666666666666666,
              "#ed7953"
             ],
             [
              0.7777777777777778,
              "#fb9f3a"
             ],
             [
              0.8888888888888888,
              "#fdca26"
             ],
             [
              1,
              "#f0f921"
             ]
            ],
            "type": "heatmap"
           }
          ],
          "heatmapgl": [
           {
            "colorbar": {
             "outlinewidth": 0,
             "ticks": ""
            },
            "colorscale": [
             [
              0,
              "#0d0887"
             ],
             [
              0.1111111111111111,
              "#46039f"
             ],
             [
              0.2222222222222222,
              "#7201a8"
             ],
             [
              0.3333333333333333,
              "#9c179e"
             ],
             [
              0.4444444444444444,
              "#bd3786"
             ],
             [
              0.5555555555555556,
              "#d8576b"
             ],
             [
              0.6666666666666666,
              "#ed7953"
             ],
             [
              0.7777777777777778,
              "#fb9f3a"
             ],
             [
              0.8888888888888888,
              "#fdca26"
             ],
             [
              1,
              "#f0f921"
             ]
            ],
            "type": "heatmapgl"
           }
          ],
          "histogram": [
           {
            "marker": {
             "colorbar": {
              "outlinewidth": 0,
              "ticks": ""
             }
            },
            "type": "histogram"
           }
          ],
          "histogram2d": [
           {
            "colorbar": {
             "outlinewidth": 0,
             "ticks": ""
            },
            "colorscale": [
             [
              0,
              "#0d0887"
             ],
             [
              0.1111111111111111,
              "#46039f"
             ],
             [
              0.2222222222222222,
              "#7201a8"
             ],
             [
              0.3333333333333333,
              "#9c179e"
             ],
             [
              0.4444444444444444,
              "#bd3786"
             ],
             [
              0.5555555555555556,
              "#d8576b"
             ],
             [
              0.6666666666666666,
              "#ed7953"
             ],
             [
              0.7777777777777778,
              "#fb9f3a"
             ],
             [
              0.8888888888888888,
              "#fdca26"
             ],
             [
              1,
              "#f0f921"
             ]
            ],
            "type": "histogram2d"
           }
          ],
          "histogram2dcontour": [
           {
            "colorbar": {
             "outlinewidth": 0,
             "ticks": ""
            },
            "colorscale": [
             [
              0,
              "#0d0887"
             ],
             [
              0.1111111111111111,
              "#46039f"
             ],
             [
              0.2222222222222222,
              "#7201a8"
             ],
             [
              0.3333333333333333,
              "#9c179e"
             ],
             [
              0.4444444444444444,
              "#bd3786"
             ],
             [
              0.5555555555555556,
              "#d8576b"
             ],
             [
              0.6666666666666666,
              "#ed7953"
             ],
             [
              0.7777777777777778,
              "#fb9f3a"
             ],
             [
              0.8888888888888888,
              "#fdca26"
             ],
             [
              1,
              "#f0f921"
             ]
            ],
            "type": "histogram2dcontour"
           }
          ],
          "mesh3d": [
           {
            "colorbar": {
             "outlinewidth": 0,
             "ticks": ""
            },
            "type": "mesh3d"
           }
          ],
          "parcoords": [
           {
            "line": {
             "colorbar": {
              "outlinewidth": 0,
              "ticks": ""
             }
            },
            "type": "parcoords"
           }
          ],
          "pie": [
           {
            "automargin": true,
            "type": "pie"
           }
          ],
          "scatter": [
           {
            "marker": {
             "colorbar": {
              "outlinewidth": 0,
              "ticks": ""
             }
            },
            "type": "scatter"
           }
          ],
          "scatter3d": [
           {
            "line": {
             "colorbar": {
              "outlinewidth": 0,
              "ticks": ""
             }
            },
            "marker": {
             "colorbar": {
              "outlinewidth": 0,
              "ticks": ""
             }
            },
            "type": "scatter3d"
           }
          ],
          "scattercarpet": [
           {
            "marker": {
             "colorbar": {
              "outlinewidth": 0,
              "ticks": ""
             }
            },
            "type": "scattercarpet"
           }
          ],
          "scattergeo": [
           {
            "marker": {
             "colorbar": {
              "outlinewidth": 0,
              "ticks": ""
             }
            },
            "type": "scattergeo"
           }
          ],
          "scattergl": [
           {
            "marker": {
             "colorbar": {
              "outlinewidth": 0,
              "ticks": ""
             }
            },
            "type": "scattergl"
           }
          ],
          "scattermapbox": [
           {
            "marker": {
             "colorbar": {
              "outlinewidth": 0,
              "ticks": ""
             }
            },
            "type": "scattermapbox"
           }
          ],
          "scatterpolar": [
           {
            "marker": {
             "colorbar": {
              "outlinewidth": 0,
              "ticks": ""
             }
            },
            "type": "scatterpolar"
           }
          ],
          "scatterpolargl": [
           {
            "marker": {
             "colorbar": {
              "outlinewidth": 0,
              "ticks": ""
             }
            },
            "type": "scatterpolargl"
           }
          ],
          "scatterternary": [
           {
            "marker": {
             "colorbar": {
              "outlinewidth": 0,
              "ticks": ""
             }
            },
            "type": "scatterternary"
           }
          ],
          "surface": [
           {
            "colorbar": {
             "outlinewidth": 0,
             "ticks": ""
            },
            "colorscale": [
             [
              0,
              "#0d0887"
             ],
             [
              0.1111111111111111,
              "#46039f"
             ],
             [
              0.2222222222222222,
              "#7201a8"
             ],
             [
              0.3333333333333333,
              "#9c179e"
             ],
             [
              0.4444444444444444,
              "#bd3786"
             ],
             [
              0.5555555555555556,
              "#d8576b"
             ],
             [
              0.6666666666666666,
              "#ed7953"
             ],
             [
              0.7777777777777778,
              "#fb9f3a"
             ],
             [
              0.8888888888888888,
              "#fdca26"
             ],
             [
              1,
              "#f0f921"
             ]
            ],
            "type": "surface"
           }
          ],
          "table": [
           {
            "cells": {
             "fill": {
              "color": "#EBF0F8"
             },
             "line": {
              "color": "white"
             }
            },
            "header": {
             "fill": {
              "color": "#C8D4E3"
             },
             "line": {
              "color": "white"
             }
            },
            "type": "table"
           }
          ]
         },
         "layout": {
          "annotationdefaults": {
           "arrowcolor": "#2a3f5f",
           "arrowhead": 0,
           "arrowwidth": 1
          },
          "coloraxis": {
           "colorbar": {
            "outlinewidth": 0,
            "ticks": ""
           }
          },
          "colorscale": {
           "diverging": [
            [
             0,
             "#8e0152"
            ],
            [
             0.1,
             "#c51b7d"
            ],
            [
             0.2,
             "#de77ae"
            ],
            [
             0.3,
             "#f1b6da"
            ],
            [
             0.4,
             "#fde0ef"
            ],
            [
             0.5,
             "#f7f7f7"
            ],
            [
             0.6,
             "#e6f5d0"
            ],
            [
             0.7,
             "#b8e186"
            ],
            [
             0.8,
             "#7fbc41"
            ],
            [
             0.9,
             "#4d9221"
            ],
            [
             1,
             "#276419"
            ]
           ],
           "sequential": [
            [
             0,
             "#0d0887"
            ],
            [
             0.1111111111111111,
             "#46039f"
            ],
            [
             0.2222222222222222,
             "#7201a8"
            ],
            [
             0.3333333333333333,
             "#9c179e"
            ],
            [
             0.4444444444444444,
             "#bd3786"
            ],
            [
             0.5555555555555556,
             "#d8576b"
            ],
            [
             0.6666666666666666,
             "#ed7953"
            ],
            [
             0.7777777777777778,
             "#fb9f3a"
            ],
            [
             0.8888888888888888,
             "#fdca26"
            ],
            [
             1,
             "#f0f921"
            ]
           ],
           "sequentialminus": [
            [
             0,
             "#0d0887"
            ],
            [
             0.1111111111111111,
             "#46039f"
            ],
            [
             0.2222222222222222,
             "#7201a8"
            ],
            [
             0.3333333333333333,
             "#9c179e"
            ],
            [
             0.4444444444444444,
             "#bd3786"
            ],
            [
             0.5555555555555556,
             "#d8576b"
            ],
            [
             0.6666666666666666,
             "#ed7953"
            ],
            [
             0.7777777777777778,
             "#fb9f3a"
            ],
            [
             0.8888888888888888,
             "#fdca26"
            ],
            [
             1,
             "#f0f921"
            ]
           ]
          },
          "colorway": [
           "#636efa",
           "#EF553B",
           "#00cc96",
           "#ab63fa",
           "#FFA15A",
           "#19d3f3",
           "#FF6692",
           "#B6E880",
           "#FF97FF",
           "#FECB52"
          ],
          "font": {
           "color": "#2a3f5f"
          },
          "geo": {
           "bgcolor": "white",
           "lakecolor": "white",
           "landcolor": "#E5ECF6",
           "showlakes": true,
           "showland": true,
           "subunitcolor": "white"
          },
          "hoverlabel": {
           "align": "left"
          },
          "hovermode": "closest",
          "mapbox": {
           "style": "light"
          },
          "paper_bgcolor": "white",
          "plot_bgcolor": "#E5ECF6",
          "polar": {
           "angularaxis": {
            "gridcolor": "white",
            "linecolor": "white",
            "ticks": ""
           },
           "bgcolor": "#E5ECF6",
           "radialaxis": {
            "gridcolor": "white",
            "linecolor": "white",
            "ticks": ""
           }
          },
          "scene": {
           "xaxis": {
            "backgroundcolor": "#E5ECF6",
            "gridcolor": "white",
            "gridwidth": 2,
            "linecolor": "white",
            "showbackground": true,
            "ticks": "",
            "zerolinecolor": "white"
           },
           "yaxis": {
            "backgroundcolor": "#E5ECF6",
            "gridcolor": "white",
            "gridwidth": 2,
            "linecolor": "white",
            "showbackground": true,
            "ticks": "",
            "zerolinecolor": "white"
           },
           "zaxis": {
            "backgroundcolor": "#E5ECF6",
            "gridcolor": "white",
            "gridwidth": 2,
            "linecolor": "white",
            "showbackground": true,
            "ticks": "",
            "zerolinecolor": "white"
           }
          },
          "shapedefaults": {
           "line": {
            "color": "#2a3f5f"
           }
          },
          "ternary": {
           "aaxis": {
            "gridcolor": "white",
            "linecolor": "white",
            "ticks": ""
           },
           "baxis": {
            "gridcolor": "white",
            "linecolor": "white",
            "ticks": ""
           },
           "bgcolor": "#E5ECF6",
           "caxis": {
            "gridcolor": "white",
            "linecolor": "white",
            "ticks": ""
           }
          },
          "title": {
           "x": 0.05
          },
          "xaxis": {
           "automargin": true,
           "gridcolor": "white",
           "linecolor": "white",
           "ticks": "",
           "title": {
            "standoff": 15
           },
           "zerolinecolor": "white",
           "zerolinewidth": 2
          },
          "yaxis": {
           "automargin": true,
           "gridcolor": "white",
           "linecolor": "white",
           "ticks": "",
           "title": {
            "standoff": 15
           },
           "zerolinecolor": "white",
           "zerolinewidth": 2
          }
         }
        },
        "title": {
         "text": "Orbit alt=500km ecc=0.05 (843x156km)"
        },
        "xaxis": {
         "title": {
          "text": "True anomaly 𝜈 [rad]"
         }
        },
        "yaxis": {
         "title": {
          "text": "Veloicty [km/s]"
         }
        }
       }
      }
     },
     "metadata": {}
    }
   ],
   "source": [
    "# Generate chart for the whole orbit (nu = -pi..pi)\n",
    "\n",
    "import plotly.express as px\n",
    "import plotly.graph_objs as go\n",
    "import numpy as np\n",
    "\n",
    "# y - blue - orbital velocity [km/s]\n",
    "# y2 - red - delta-v cost for inclination change [km/s]\n",
    "\n",
    "# Note the lowest cost is when the object passes lines of apides (i.e. in the middle between apoapsis and periapsis)\n",
    "\n",
    "nu_tbl = []\n",
    "v_tbl = []\n",
    "dv_tbl = []\n",
    "r_tbl = []\n",
    "for v,t,nu,argp, dv, r in vel:\n",
    "    nu_tbl.append(nu.value)\n",
    "    v_tbl.append(v.value)\n",
    "    dv_tbl.append(dv.value)\n",
    "    r_tbl.append(r.value)\n",
    "\n",
    "\n",
    "fig = go.Figure()\n",
    "fig.add_trace(go.Scatter(x = nu_tbl, y = dv_tbl, mode=\"markers\", name=\"Delta-v [km/s]\"))\n",
    "fig.add_trace(go.Scatter(x = nu_tbl, y = v_tbl, mode=\"markers\", name=\"Orbital velocity [km/s]\"))\n",
    "\n",
    "\n",
    "#fig.add_trace(go.Scatter(x = nu_tbl, y = r_tbl, mode=\"markers\", name=\"distance [km]\"))\n",
    "\n",
    "# Update legend to show at the top\n",
    "fig.update_layout(legend=dict(orientation=\"h\", yanchor=\"bottom\", y=1.02, xanchor=\"right\", x=1), \n",
    "                  xaxis_title=\"True anomaly 𝜈 [rad]\", yaxis_title=\"Veloicty [km/s]\", title=\"Orbit alt=500km ecc=0.05 (843x156km)\",\n",
    "                  margin=dict(l=20, r=20, t=20, b=20))\n",
    "\n",
    "fig.add_annotation(x=0, y=7.24, text=\"periapsis\")\n",
    "fig.add_annotation(x=pi, y=7.24, text=\"apoapsis\")\n",
    "\n",
    "fig.show()\n"
   ]
  },
  {
   "cell_type": "code",
   "execution_count": 14,
   "metadata": {},
   "outputs": [
    {
     "output_type": "stream",
     "name": "stdout",
     "text": [
      "Propagating to AN: 0.0 deg\n6534 x 7222 km x 60.0 deg (GCRS) orbit around Earth (♁) at epoch J2000.000 (TT)\na(𝑎)=6878.14km, b=6869.53km, e=0.05, i=60.00deg raan(Ω)=0.00deg argp(𝜔)=0.00deg nu(𝜈)=0.00deg\nperiod=5676.98s perapis=6534km(156.09km) apoapsis=7222km(843.91km)\n6534 x 7222 km x 60.0 deg (GCRS) orbit around Earth (♁) at epoch J2000.000 (TT)\na(𝑎)=6878.14km, b=6869.53km, e=0.05, i=60.00deg raan(Ω)=0.00deg argp(𝜔)=0.00deg nu(𝜈)=0.00deg\nperiod=5676.98s perapis=6534km(156.09km) apoapsis=7222km(843.91km)\n"
     ]
    }
   ],
   "source": [
    "# Perform inclination change. The inclination change can be done at the nodes (ascending or descending) only. (TODO: why?)\n",
    "# First we need to propagate the orbit to the AN\n",
    "orb5 = propagate_to_asc_node(orb4)\n",
    "\n",
    "print_orb(orb4)\n",
    "print_orb(orb5)"
   ]
  },
  {
   "cell_type": "code",
   "execution_count": null,
   "metadata": {},
   "outputs": [],
   "source": []
  }
 ],
 "metadata": {
  "kernelspec": {
   "display_name": "Python 3.8.5 64-bit ('venv')",
   "language": "python",
   "name": "python38564bitvenv457adb68d6e549088956e9e8eeb78c48"
  },
  "language_info": {
   "codemirror_mode": {
    "name": "ipython",
    "version": 3
   },
   "file_extension": ".py",
   "mimetype": "text/x-python",
   "name": "python",
   "nbconvert_exporter": "python",
   "pygments_lexer": "ipython3",
   "version": "3.8.5-final"
  }
 },
 "nbformat": 4,
 "nbformat_minor": 4
}