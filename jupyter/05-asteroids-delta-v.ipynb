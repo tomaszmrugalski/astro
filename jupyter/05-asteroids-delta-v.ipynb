{
 "cells": [
  {
   "cell_type": "code",
   "execution_count": null,
   "metadata": {},
   "outputs": [],
   "source": [
    "!which python; python -V;\n",
    "from astropy import units as u\n",
    "\n",
    "from perylune.orbit_tools import *\n",
    "from perylune.interplanetary import *\n",
    "from perylune.mpc import *\n",
    "\n",
    "import time"
   ]
  },
  {
   "cell_type": "code",
   "execution_count": null,
   "metadata": {
    "tags": []
   },
   "outputs": [],
   "source": [
    "# First step is to load the orbit data. parse_txt() will load the orbital elements from text file in MPC format.\n",
    "# This will be returned as an array. Each entry in that array has a list of 8 parameters or so.\n",
    "elements = parse_txt(\"../data/mpc/mpcorb_extended.dat\", limit=0, skip=\"------------------\")\n",
    "\n",
    "print(\"Number of orbital elements parsed: %d\" % len(elements))"
   ]
  },
  {
   "cell_type": "code",
   "execution_count": null,
   "metadata": {},
   "outputs": [],
   "source": [
    "# Now process the data. Find min and max a and e, also put the a and e values in their separate arrays (a_tbl, e_tbl)\n",
    "\n",
    "max_e = 0\n",
    "min_e = 9999999\n",
    "max_a = 0\n",
    "min_a = 9999999\n",
    "\n",
    "a_tbl = []\n",
    "e_tbl = []\n",
    "cnt = 0\n",
    "for e in elements:\n",
    "    a = e[8].value\n",
    "    ecc = e[6].value\n",
    "    if a < 6:\n",
    "        cnt = cnt + 1\n",
    "        a_tbl.append(a)\n",
    "        e_tbl.append(e)\n",
    "    if max_a < a:\n",
    "        max_a = a\n",
    "    if min_a > a:\n",
    "        min_a = a\n",
    "    if max_e < ecc:\n",
    "        max_e = ecc\n",
    "    if min_e > ecc:\n",
    "        min_e = ecc\n",
    "\n",
    "print (\"Processed %d asteroids, a=%f..%f [AU], eccentricity = %f..%f\" % (cnt, min_a, max_a, min_e, max_e))"
   ]
  },
  {
   "cell_type": "code",
   "execution_count": null,
   "metadata": {
    "tags": []
   },
   "outputs": [],
   "source": [
    "# This is the major processing part (that sadly takes a lot of time to complete). It's possible to limit\n",
    "# the number of asteroids processed by setting max to some value e.g. 20000. However, this will process\n",
    "# the first 20000 lines from the input file and they're in random (or historical detection) order.\n",
    "#\n",
    "# The result is stored in dv_tbl array.\n",
    "max = 2000000\n",
    "t0 = time.time()\n",
    "i = 0\n",
    "\n",
    "dv_tbl = []\n",
    "print(\"Starting calculation, time %s\" % time.time())\n",
    "for e in elements:\n",
    "    dv_burn1, dv_burn2, dv, tof = calc_min_delta_v(1.0*u.au, e)\n",
    "    dv_tbl.append([e[0], dv, tof, dv_burn1, dv_burn2])\n",
    "    i = i + 1\n",
    "    if (i % 10000 == 0):\n",
    "        print(\"Calculated %d orbits, time %s\" % (i, time.time()))\n",
    "    if i >= max:\n",
    "        break\n",
    "t1 = time.time()\n",
    "\n",
    "print(\"Calculated for %d orbits, calculations took %s s.\" % (i, (t1-t0)))"
   ]
  },
  {
   "cell_type": "code",
   "execution_count": null,
   "metadata": {},
   "outputs": [],
   "source": [
    "# Now sort the table by the second (index 1) value. This is the total delta-v\n",
    "t2 = time.time()\n",
    "dv_tbl2 = sorted(dv_tbl, key=lambda e: e[1].value)\n",
    "t3 = time.time()\n",
    "\n",
    "print(\"dv_tbl (%d elements) is now sorted, sorting took %s s.\" % (len(dv_tbl), t3-t2))"
   ]
  },
  {
   "cell_type": "code",
   "execution_count": null,
   "metadata": {},
   "outputs": [],
   "source": [
    "# Now print the top 10 asteroids (with smallest delta-v)\n",
    "top_x = 10\n",
    "print(len(dv_tbl2))\n",
    "print(\" TOP %d ASTEROIDS THAT ARE EASIEST TO REACH\" % top_x)\n",
    "for i in range(top_x):\n",
    "    x = dv_tbl2[i]\n",
    "    print(\"%d. %s:  fly-by delta-v=%s randezvous delta-v=%s\" % (i+1, x[0], x[3], x[1] ))"
   ]
  },
  {
   "cell_type": "code",
   "execution_count": null,
   "metadata": {},
   "outputs": [],
   "source": [
    "# And write all the data to output file.\n",
    "f = open(\"../data/mpc/asteroids.txt\", \"w+\")\n",
    "f.write(\"#name, total delta-v[m/s], time of flight[days], Hohmann burn1 [m/s], Hohmann burn2 [m/s]\\n\")\n",
    "for x in dv_tbl2:\n",
    "    f.write(\"%s, %4.2f, %4.1f, %4.2f, %4.2f\\n\" % (x[0], x[1].value, x[2].value, x[3].value, x[4].value))\n",
    "f.close()"
   ]
  }
 ],
 "metadata": {
  "kernelspec": {
   "display_name": "Python 3",
   "language": "python",
   "name": "python3"
  },
  "language_info": {
   "codemirror_mode": {
    "name": "ipython",
    "version": 3
   },
   "file_extension": ".py",
   "mimetype": "text/x-python",
   "name": "python",
   "nbconvert_exporter": "python",
   "pygments_lexer": "ipython3",
   "version": "3.8.5-final"
  }
 },
 "nbformat": 4,
 "nbformat_minor": 4
}