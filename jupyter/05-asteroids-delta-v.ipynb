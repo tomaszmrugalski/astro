{
 "cells": [
  {
   "cell_type": "code",
   "execution_count": 1,
   "metadata": {},
   "outputs": [
    {
     "output_type": "stream",
     "name": "stdout",
     "text": [
      "/home/thomson/devel/perylune/venv/bin/python\nPython 3.8.5\n"
     ]
    }
   ],
   "source": [
    "!which python; python -V;\n",
    "from astropy import units as u\n",
    "\n",
    "from perylune.orbit_tools import *\n",
    "from perylune.interplanetary import *\n",
    "from perylune.mpc import *\n",
    "\n",
    "import time"
   ]
  },
  {
   "cell_type": "code",
   "execution_count": 2,
   "metadata": {
    "tags": []
   },
   "outputs": [
    {
     "output_type": "stream",
     "name": "stdout",
     "text": [
      "Read 1028498 line(s) from NEA.txt, parsing up to 0 line(s)\n",
      "WARNING: Skipped line 546847: too short (1, expected at least 167 chars)\n",
      "WARNING: Skipped line 978222: too short (1, expected at least 167 chars)\n",
      "Number of orbital elements parsed: 1028453\n"
     ]
    }
   ],
   "source": [
    "# First step is to load the orbit data. parse_txt() will load the orbital elements from text file in MPC format.\n",
    "# This will be returned as an array. Each entry in that array has a list of 8 parameters or so.\n",
    "elements = parse_txt(\"../data/mpc/mpcorb_extended.dat\", limit=0, skip=\"------------------\")\n",
    "\n",
    "print(\"Number of orbital elements parsed: %d\" % len(elements))"
   ]
  },
  {
   "cell_type": "code",
   "execution_count": 3,
   "metadata": {},
   "outputs": [
    {
     "output_type": "stream",
     "name": "stdout",
     "text": [
      "Processed 1024421 asteroids, a=0.555412..3549.257149 [AU], eccentricity = 0.000000..0.998747\n"
     ]
    }
   ],
   "source": [
    "# Now process the data. Find min and max a and e, also put the a and e values in their separate arrays (a_tbl, e_tbl)\n",
    "\n",
    "max_e = 0\n",
    "min_e = 9999999\n",
    "max_a = 0\n",
    "min_a = 9999999\n",
    "\n",
    "a_tbl = []\n",
    "e_tbl = []\n",
    "cnt = 0\n",
    "for e in elements:\n",
    "    a = e[8].value\n",
    "    ecc = e[6].value\n",
    "    if a < 6:\n",
    "        cnt = cnt + 1\n",
    "        a_tbl.append(a)\n",
    "        e_tbl.append(e)\n",
    "    if max_a < a:\n",
    "        max_a = a\n",
    "    if min_a > a:\n",
    "        min_a = a\n",
    "    if max_e < ecc:\n",
    "        max_e = ecc\n",
    "    if min_e > ecc:\n",
    "        min_e = ecc\n",
    "\n",
    "print (\"Processed %d asteroids, a=%f..%f [AU], eccentricity = %f..%f\" % (cnt, min_a, max_a, min_e, max_e))"
   ]
  },
  {
   "cell_type": "code",
   "execution_count": 4,
   "metadata": {
    "tags": []
   },
   "outputs": [
    {
     "output_type": "stream",
     "name": "stdout",
     "text": [
      "Starting calculation, time 1605138454.17286\n",
      "Calculated 10000 orbits, time 1605138461.25387\n",
      "Calculated 20000 orbits, time 1605138468.2517946\n",
      "Calculated 30000 orbits, time 1605138475.2271688\n",
      "Calculated 40000 orbits, time 1605138482.2088675\n",
      "Calculated 50000 orbits, time 1605138489.205532\n",
      "Calculated 60000 orbits, time 1605138496.2299635\n",
      "Calculated 70000 orbits, time 1605138504.975626\n",
      "Calculated 80000 orbits, time 1605138512.0324328\n",
      "Calculated 90000 orbits, time 1605138519.0578794\n",
      "Calculated 100000 orbits, time 1605138526.0392518\n",
      "Calculated 110000 orbits, time 1605138533.0169706\n",
      "Calculated 120000 orbits, time 1605138540.2507865\n",
      "Calculated 130000 orbits, time 1605138547.542095\n",
      "Calculated 140000 orbits, time 1605138554.78781\n",
      "Calculated 150000 orbits, time 1605138561.9948137\n",
      "Calculated 160000 orbits, time 1605138569.1886222\n",
      "Calculated 170000 orbits, time 1605138576.3872247\n",
      "Calculated 180000 orbits, time 1605138583.586671\n",
      "Calculated 190000 orbits, time 1605138590.7797406\n",
      "Calculated 200000 orbits, time 1605138597.9799204\n",
      "Calculated 210000 orbits, time 1605138605.210951\n",
      "Calculated 220000 orbits, time 1605138612.4713416\n",
      "Calculated 230000 orbits, time 1605138619.7107937\n",
      "Calculated 240000 orbits, time 1605138626.92364\n",
      "Calculated 250000 orbits, time 1605138634.148263\n",
      "Calculated 260000 orbits, time 1605138641.3619924\n",
      "Calculated 270000 orbits, time 1605138648.601431\n",
      "Calculated 280000 orbits, time 1605138655.8200922\n",
      "Calculated 290000 orbits, time 1605138663.0333924\n",
      "Calculated 300000 orbits, time 1605138670.256894\n",
      "Calculated 310000 orbits, time 1605138677.4822667\n",
      "Calculated 320000 orbits, time 1605138686.8824773\n",
      "Calculated 330000 orbits, time 1605138694.0940194\n",
      "Calculated 340000 orbits, time 1605138701.2802842\n",
      "Calculated 350000 orbits, time 1605138708.5334451\n",
      "Calculated 360000 orbits, time 1605138715.72933\n",
      "Calculated 370000 orbits, time 1605138722.9357142\n",
      "Calculated 380000 orbits, time 1605138730.147699\n",
      "Calculated 390000 orbits, time 1605138737.3335078\n",
      "Calculated 400000 orbits, time 1605138744.5789945\n",
      "Calculated 410000 orbits, time 1605138751.8021677\n",
      "Calculated 420000 orbits, time 1605138759.0124354\n",
      "Calculated 430000 orbits, time 1605138766.2160065\n",
      "Calculated 440000 orbits, time 1605138773.4180093\n",
      "Calculated 450000 orbits, time 1605138780.6138268\n",
      "Calculated 460000 orbits, time 1605138787.8240244\n",
      "Calculated 470000 orbits, time 1605138795.0280218\n",
      "Calculated 480000 orbits, time 1605138802.223684\n",
      "Calculated 490000 orbits, time 1605138809.4315357\n",
      "Calculated 500000 orbits, time 1605138816.658817\n",
      "Calculated 510000 orbits, time 1605138823.86944\n",
      "Calculated 520000 orbits, time 1605138831.0564067\n",
      "Calculated 530000 orbits, time 1605138838.2559657\n",
      "Calculated 540000 orbits, time 1605138845.4547093\n",
      "Calculated 550000 orbits, time 1605138852.6610904\n",
      "Calculated 560000 orbits, time 1605138859.8512597\n",
      "Calculated 570000 orbits, time 1605138867.0502129\n",
      "Calculated 580000 orbits, time 1605138874.252377\n",
      "Calculated 590000 orbits, time 1605138881.456473\n",
      "Calculated 600000 orbits, time 1605138888.6697218\n",
      "Calculated 610000 orbits, time 1605138895.9118278\n",
      "Calculated 620000 orbits, time 1605138903.1254318\n",
      "Calculated 630000 orbits, time 1605138910.3187733\n",
      "Calculated 640000 orbits, time 1605138920.301091\n",
      "Calculated 650000 orbits, time 1605138927.5219295\n",
      "Calculated 660000 orbits, time 1605138934.7250617\n",
      "Calculated 670000 orbits, time 1605138941.9334705\n",
      "Calculated 680000 orbits, time 1605138949.1382103\n",
      "Calculated 690000 orbits, time 1605138956.384035\n",
      "Calculated 700000 orbits, time 1605138963.6368895\n",
      "Calculated 710000 orbits, time 1605138970.8743956\n",
      "Calculated 720000 orbits, time 1605138978.1090624\n",
      "Calculated 730000 orbits, time 1605138985.3668282\n",
      "Calculated 740000 orbits, time 1605138992.6015205\n",
      "Calculated 750000 orbits, time 1605138999.84376\n",
      "Calculated 760000 orbits, time 1605139007.109898\n",
      "Calculated 770000 orbits, time 1605139014.3579655\n",
      "Calculated 780000 orbits, time 1605139021.603315\n",
      "Calculated 790000 orbits, time 1605139028.8557277\n",
      "Calculated 800000 orbits, time 1605139036.1336622\n",
      "Calculated 810000 orbits, time 1605139043.3490834\n",
      "Calculated 820000 orbits, time 1605139050.5663166\n",
      "Calculated 830000 orbits, time 1605139057.807478\n",
      "Calculated 840000 orbits, time 1605139065.0367649\n",
      "Calculated 850000 orbits, time 1605139072.2335854\n",
      "Calculated 860000 orbits, time 1605139079.439212\n",
      "Calculated 870000 orbits, time 1605139086.628264\n",
      "Calculated 880000 orbits, time 1605139093.8157477\n",
      "Calculated 890000 orbits, time 1605139101.0100577\n",
      "Calculated 900000 orbits, time 1605139108.1839676\n",
      "Calculated 910000 orbits, time 1605139115.3756688\n",
      "Calculated 920000 orbits, time 1605139122.5915153\n",
      "Calculated 930000 orbits, time 1605139129.8155963\n",
      "Calculated 940000 orbits, time 1605139137.035852\n",
      "Calculated 950000 orbits, time 1605139144.2716377\n",
      "Calculated 960000 orbits, time 1605139151.5141861\n",
      "Calculated 970000 orbits, time 1605139158.7397847\n",
      "Calculated 980000 orbits, time 1605139165.934174\n",
      "Calculated 990000 orbits, time 1605139173.1366704\n",
      "Calculated 1000000 orbits, time 1605139180.3339329\n",
      "Calculated 1010000 orbits, time 1605139187.5351775\n",
      "Calculated 1020000 orbits, time 1605139194.7177832\n",
      "Calculated for 1028453 orbits, calculations took 746.6426937580109 s.\n"
     ]
    }
   ],
   "source": [
    "# This is the major processing part (that sadly takes a lot of time to complete). It's possible to limit\n",
    "# the number of asteroids processed by setting max to some value e.g. 20000. However, this will process\n",
    "# the first 20000 lines from the input file and they're in random (or historical detection) order.\n",
    "#\n",
    "# The result is stored in dv_tbl array.\n",
    "max = 2000000\n",
    "t0 = time.time()\n",
    "i = 0\n",
    "\n",
    "dv_tbl = []\n",
    "print(\"Starting calculation, time %s\" % time.time())\n",
    "for e in elements:\n",
    "    dv_burn1, dv_burn2, dv, tof = calc_min_delta_v(1.0*u.au, e)\n",
    "    dv_tbl.append([e[0], dv, tof, dv_burn1, dv_burn2])\n",
    "    i = i + 1\n",
    "    if (i % 10000 == 0):\n",
    "        print(\"Calculated %d orbits, time %s\" % (i, time.time()))\n",
    "    if i >= max:\n",
    "        break\n",
    "t1 = time.time()\n",
    "\n",
    "print(\"Calculated for %d orbits, calculations took %s s.\" % (i, (t1-t0)))"
   ]
  },
  {
   "cell_type": "code",
   "execution_count": 5,
   "metadata": {},
   "outputs": [
    {
     "output_type": "stream",
     "name": "stdout",
     "text": [
      "dv_tbl (1028453 elements) is now sorted, sorting took 1.0772876739501953 s.\n"
     ]
    }
   ],
   "source": [
    "# Now sort the table by the second (index 1) value. This is the total delta-v\n",
    "t2 = time.time()\n",
    "dv_tbl2 = sorted(dv_tbl, key=lambda e: e[1].value)\n",
    "t3 = time.time()\n",
    "\n",
    "print(\"dv_tbl (%d elements) is now sorted, sorting took %s s.\" % (len(dv_tbl), t3-t2))"
   ]
  },
  {
   "cell_type": "code",
   "execution_count": 6,
   "metadata": {},
   "outputs": [
    {
     "output_type": "stream",
     "name": "stdout",
     "text": [
      "1028453\n TOP 10 ASTEROIDS THAT ARE EASIEST TO REACH\n1. 2010 FN:  fly-by delta-v=100.73845547422833 m / s randezvous delta-v=178.38592193633747 m / s\n2. 2018 UC:  fly-by delta-v=132.27082396382207 m / s randezvous delta-v=189.4751242873342 m / s\n3. 2016 JA:  fly-by delta-v=111.15564339177044 m / s randezvous delta-v=218.82623504831835 m / s\n4. 2020 SO:  fly-by delta-v=123.50356470013689 m / s randezvous delta-v=224.53306310902377 m / s\n5. 2019 YB4:  fly-by delta-v=280.1225044691703 m / s randezvous delta-v=308.8324268322133 m / s\n6. 2019 AU6:  fly-by delta-v=218.92547156701437 m / s randezvous delta-v=342.59523498058877 m / s\n7. 2000 SG344:  fly-by delta-v=180.04330838593847 m / s randezvous delta-v=351.4091885944977 m / s\n8. 2010 JK1:  fly-by delta-v=232.52398230729133 m / s randezvous delta-v=446.5553471761266 m / s\n9. 2016 WQ3:  fly-by delta-v=348.1024745741976 m / s randezvous delta-v=466.27559915444874 m / s\n10. 2013 BS45:  fly-by delta-v=406.0127279657208 m / s randezvous delta-v=468.60941121661375 m / s\n"
     ]
    }
   ],
   "source": [
    "# Now print the top 10 asteroids (with smallest delta-v)\n",
    "top_x = 10\n",
    "print(len(dv_tbl2))\n",
    "print(\" TOP %d ASTEROIDS THAT ARE EASIEST TO REACH\" % top_x)\n",
    "for i in range(top_x):\n",
    "    x = dv_tbl2[i]\n",
    "    print(\"%d. %s:  fly-by delta-v=%s randezvous delta-v=%s\" % (i+1, x[0], x[3], x[1] ))"
   ]
  },
  {
   "cell_type": "code",
   "execution_count": 7,
   "metadata": {},
   "outputs": [],
   "source": [
    "# And write all the data to output file.\n",
    "f = open(\"../data/mpc/asteroids.txt\", \"w+\")\n",
    "f.write(\"#name, total delta-v[m/s], time of flight[days], Hohmann burn1 [m/s], Hohmann burn2 [m/s]\\n\")\n",
    "for x in dv_tbl2:\n",
    "    f.write(\"%s, %4.2f, %4.1f, %4.2f, %4.2f\\n\" % (x[0], x[1].value, x[2].value, x[3].value, x[4].value))\n",
    "f.close()"
   ]
  }
 ],
 "metadata": {
  "kernelspec": {
   "display_name": "Python 3",
   "language": "python",
   "name": "python3"
  },
  "language_info": {
   "codemirror_mode": {
    "name": "ipython",
    "version": 3
   },
   "file_extension": ".py",
   "mimetype": "text/x-python",
   "name": "python",
   "nbconvert_exporter": "python",
   "pygments_lexer": "ipython3",
   "version": "3.8.5-final"
  }
 },
 "nbformat": 4,
 "nbformat_minor": 4
}