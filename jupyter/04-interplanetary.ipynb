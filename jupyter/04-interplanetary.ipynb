{
 "cells": [
  {
   "cell_type": "code",
   "execution_count": 1,
   "metadata": {},
   "outputs": [
    {
     "output_type": "stream",
     "name": "stdout",
     "text": [
      "/home/thomson/devel/perylune/venv/bin/python\nPython 3.8.5\n"
     ]
    }
   ],
   "source": [
    "    !which python; python -V;"
   ]
  },
  {
   "cell_type": "code",
   "execution_count": 2,
   "metadata": {},
   "outputs": [],
   "source": [
    "from poliastro.bodies import Mercury, Venus, Earth, Mars, Jupiter, Saturn, Uranus, Neptune, Sun, Pluto\n",
    "from poliastro.twobody import Orbit\n",
    "\n",
    "from poliastro.constants import GM_earth\n",
    "\n",
    "from astropy import units as u\n",
    "import numpy as np\n",
    "\n",
    "from perylune.orbit_tools import *\n",
    "from perylune.interplanetary import *\n",
    "from perylune.constants import *"
   ]
  },
  {
   "cell_type": "code",
   "execution_count": 11,
   "metadata": {},
   "outputs": [],
   "source": [
    "# Let's create two departure orbits. Typically the departure orbit is circular (orb1), but we can make some\n",
    "# interesting observations on eliptical orbit (orb2) and study how the escape velocity changes between apoapsis and periapsis.\n",
    "orb1 = Orbit.circular(Earth, 250*u.km)\n",
    "orb2 = Orbit.from_classical(Earth, 350*u.km + Earth.R, 0.14285714285714285*u.one, 0*u.deg, 0*u.deg, 0*u.deg, 0*u.deg)"
   ]
  },
  {
   "cell_type": "code",
   "execution_count": 12,
   "metadata": {},
   "outputs": [
    {
     "output_type": "stream",
     "name": "stdout",
     "text": [
      "6628 x 6628 km x 0.0 deg (GCRS) orbit around Earth (♁) at epoch J2000.000 (TT)\na(𝑎)=6628.14km, b=6628.14km, e=0.00, i=0.00deg raan(Ω)=0.00deg argp(𝜔)=0.00deg nu(𝜈)=0.00deg\nperiod=5370.30s perapis=6628km(250.00km) apoapsis=6628km(250.00km)\n5767 x 7689 km x 0.0 deg (GCRS) orbit around Earth (♁) at epoch J2000.000 (TT)\na(𝑎)=6728.14km, b=6659.13km, e=0.14, i=0.00deg raan(Ω)=0.00deg argp(𝜔)=0.00deg nu(𝜈)=0.00deg\nperiod=5492.29s perapis=5767km(-611.16km) apoapsis=7689km(1311.16km)\n"
     ]
    }
   ],
   "source": [
    "print_orb(orb1)\n",
    "print_orb(orb2)"
   ]
  },
  {
   "cell_type": "code",
   "execution_count": 13,
   "metadata": {},
   "outputs": [
    {
     "output_type": "execute_result",
     "data": {
      "text/plain": [
       "(<Quantity 3212.16227604 m / s>,\n",
       " <Quantity 3212.16227604 m / s>,\n",
       " <Quantity 3212.16227604 m / s>)"
      ]
     },
     "metadata": {},
     "execution_count": 13
    }
   ],
   "source": [
    "# Calculate delta-v necessary to reach escape velocity for circular orbit. The values returned are current position, periapsis, apoapis.\n",
    "# No surprises here - it's perfectly circular, so it's always the same.\n",
    "escape_delta_v(orb1, False)"
   ]
  },
  {
   "cell_type": "code",
   "execution_count": 6,
   "metadata": {},
   "outputs": [
    {
     "output_type": "execute_result",
     "data": {
      "text/plain": [
       "(<Quantity 2869.63167184 m / s>,\n",
       " <Quantity 2869.63167184 m / s>,\n",
       " <Quantity 3516.37639716 m / s>)"
      ]
     },
     "metadata": {},
     "execution_count": 6
    }
   ],
   "source": [
    "# The situation for eliptical orbit is more interesting. The delta-v for periapsis burn is 2869 m/s, which is the smallest value\n",
    "# for this orbit and up to 3516 for apoapsis (when the velocity is smallest, so extra delta-v is needed to escape)\n",
    "escape_delta_v(orb2, False)"
   ]
  },
  {
   "cell_type": "code",
   "execution_count": 7,
   "metadata": {},
   "outputs": [
    {
     "output_type": "execute_result",
     "data": {
      "text/plain": [
       "(350.0, 0.14285714285714285)"
      ]
     },
     "metadata": {},
     "execution_count": 7
    }
   ],
   "source": [
    "# Here's an utility function that returns a (semi-major axis) and e (eccentricity) for min and max altitude orbits\n",
    "apses_to_ae(400, 300)\n",
    "apses_to_ae(300*u.km , 400*u.km, Earth.R)"
   ]
  }
 ],
 "metadata": {
  "kernelspec": {
   "display_name": "Python 3.8.5 64-bit ('venv': venv)",
   "language": "python",
   "name": "python38564bitvenvvenv83ba967ace5240319bcf0470eba02fe6"
  },
  "language_info": {
   "codemirror_mode": {
    "name": "ipython",
    "version": 3
   },
   "file_extension": ".py",
   "mimetype": "text/x-python",
   "name": "python",
   "nbconvert_exporter": "python",
   "pygments_lexer": "ipython3",
   "version": "3.8.5-final"
  }
 },
 "nbformat": 4,
 "nbformat_minor": 4
}