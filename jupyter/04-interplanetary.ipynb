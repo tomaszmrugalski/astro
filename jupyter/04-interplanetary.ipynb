{
 "cells": [
  {
   "cell_type": "code",
   "execution_count": 1,
   "metadata": {},
   "outputs": [
    {
     "output_type": "stream",
     "name": "stdout",
     "text": [
      "/home/thomson/devel/perylune/venv/bin/python\nPython 3.8.5\n"
     ]
    }
   ],
   "source": [
    "    !which python; python -V;"
   ]
  },
  {
   "cell_type": "code",
   "execution_count": 2,
   "metadata": {},
   "outputs": [],
   "source": [
    "from poliastro.bodies import Mercury, Venus, Earth, Mars, Jupiter, Saturn, Uranus, Neptune, Sun, Pluto\n",
    "from poliastro.twobody import Orbit\n",
    "\n",
    "from poliastro.constants import GM_earth\n",
    "\n",
    "from astropy import units as u\n",
    "import numpy as np\n",
    "\n",
    "from perylune.orbit_tools import *\n",
    "from perylune.interplanetary import *\n",
    "from perylune.constants import *"
   ]
  },
  {
   "cell_type": "code",
   "execution_count": 3,
   "metadata": {},
   "outputs": [],
   "source": [
    "orb1 = Orbit.circular(Earth, 300*u.km)"
   ]
  },
  {
   "cell_type": "code",
   "execution_count": 4,
   "metadata": {},
   "outputs": [
    {
     "output_type": "stream",
     "name": "stdout",
     "text": [
      "6678 x 6678 km x 0.0 deg (GCRS) orbit around Earth (♁) at epoch J2000.000 (TT)\na(𝑎)=6678.14km, b=6678.14km, e=0.00, i=0.00deg raan(Ω)=0.00deg argp(𝜔)=0.00deg nu(𝜈)=0.00deg\nperiod=5431.18s perapis=6678km(300.00km) apoapsis=6678km(300.00km)\n"
     ]
    }
   ],
   "source": [
    "print_orb(orb1)"
   ]
  },
  {
   "cell_type": "code",
   "execution_count": 5,
   "metadata": {},
   "outputs": [
    {
     "output_type": "execute_result",
     "data": {
      "text/plain": [
       "<<class 'astropy.constants.constant.Constant'> name='Geocentric gravitational constant' value=398600441800000.0 uncertainty=800000.0 unit='m3 / s2' reference='IAU 2009 system of astronomical constants'>"
      ],
      "text/latex": "$3.9860044 \\times 10^{14} \\; \\mathrm{\\frac{m^{3}}{s^{2}}}$"
     },
     "metadata": {},
     "execution_count": 5
    }
   ],
   "source": [
    "GM_earth"
   ]
  },
  {
   "cell_type": "code",
   "execution_count": 6,
   "metadata": {},
   "outputs": [
    {
     "output_type": "execute_result",
     "data": {
      "text/plain": [
       "<Quantity 3200.11476361 m / s>"
      ],
      "text/latex": "$3200.1148 \\; \\mathrm{\\frac{m}{s}}$"
     },
     "metadata": {},
     "execution_count": 6
    }
   ],
   "source": [
    "np.sqrt(2*GM_earth/(Earth.R + 300 * u.km)) - norm(orb1.v)"
   ]
  },
  {
   "cell_type": "code",
   "execution_count": 7,
   "metadata": {},
   "outputs": [
    {
     "output_type": "error",
     "ename": "NameError",
     "evalue": "name 'false' is not defined",
     "traceback": [
      "\u001b[0;31m---------------------------------------------------------------------------\u001b[0m",
      "\u001b[0;31mNameError\u001b[0m                                 Traceback (most recent call last)",
      "\u001b[0;32m<ipython-input-7-af9885b9a586>\u001b[0m in \u001b[0;36m<module>\u001b[0;34m\u001b[0m\n\u001b[0;32m----> 1\u001b[0;31m \u001b[0mescape_delta_v\u001b[0m\u001b[0;34m(\u001b[0m\u001b[0morb1\u001b[0m\u001b[0;34m,\u001b[0m \u001b[0mfalse\u001b[0m\u001b[0;34m)\u001b[0m\u001b[0;34m\u001b[0m\u001b[0;34m\u001b[0m\u001b[0m\n\u001b[0m",
      "\u001b[0;31mNameError\u001b[0m: name 'false' is not defined"
     ]
    }
   ],
   "source": [
    "escape_delta_v(orb1, False)"
   ]
  },
  {
   "cell_type": "code",
   "execution_count": null,
   "metadata": {},
   "outputs": [],
   "source": []
  }
 ],
 "metadata": {
  "kernelspec": {
   "display_name": "Python 3.8.5 64-bit ('venv': venv)",
   "language": "python",
   "name": "python38564bitvenvvenv83ba967ace5240319bcf0470eba02fe6"
  },
  "language_info": {
   "codemirror_mode": {
    "name": "ipython",
    "version": 3
   },
   "file_extension": ".py",
   "mimetype": "text/x-python",
   "name": "python",
   "nbconvert_exporter": "python",
   "pygments_lexer": "ipython3",
   "version": "3.8.5-final"
  }
 },
 "nbformat": 4,
 "nbformat_minor": 4
}