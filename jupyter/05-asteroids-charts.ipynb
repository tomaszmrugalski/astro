{
 "cells": [
  {
   "cell_type": "code",
   "execution_count": null,
   "metadata": {},
   "outputs": [],
   "source": [
    "!which python; python -V;\n",
    "from astropy import units as u\n",
    "\n",
    "from poliastro.bodies import Earth, Mars, Sun, Moon\n",
    "from poliastro.twobody import Orbit\n",
    "from poliastro.ephem import Ephem\n",
    "\n",
    "from perylune.orbit_tools import *\n",
    "from perylune.mpc import *"
   ]
  },
  {
   "cell_type": "code",
   "execution_count": null,
   "metadata": {
    "tags": []
   },
   "outputs": [],
   "source": [
    "# First step is to load the data. parse_txt() will load the orbital elements from text file in MPC format.\n",
    "# This will be returned as an array. Each entry in that array has a list of 8 parameters or so.\n",
    "elements = parse_txt(\"../data/mpc/mpcorb_extended.dat\", limit=0, skip=\"------------------\")\n",
    "\n",
    "print(\"Number of orbital elements parsed: %d\" % len(elements))"
   ]
  },
  {
   "cell_type": "code",
   "execution_count": null,
   "metadata": {},
   "outputs": [],
   "source": [
    "# Now process the data. Find min and max a and e, also put the a values in \n",
    "max_e = 0\n",
    "min_e = 9999999\n",
    "max_a = 0\n",
    "min_a = 9999999\n",
    "\n",
    "a_tbl = []\n",
    "e_tbl = []\n",
    "cnt = 0\n",
    "for e in elements:\n",
    "    a = e[8].value\n",
    "    ecc = e[6].value\n",
    "    if a < 6:\n",
    "        cnt = cnt + 1\n",
    "        a_tbl.append(a)\n",
    "        e_tbl.append(e)\n",
    "    if max_a < a:\n",
    "        max_a = a\n",
    "    if min_a > a:\n",
    "        min_a = a\n",
    "    if max_e < ecc:\n",
    "        max_e = ecc\n",
    "    if min_e > ecc:\n",
    "        min_e = ecc\n",
    "\n",
    "print (\"Processed %d asteroids, a=%f..%f [AU], eccentricity = %f..%f\" % (cnt, min_a, max_a, min_e, max_e))"
   ]
  },
  {
   "cell_type": "code",
   "execution_count": null,
   "metadata": {},
   "outputs": [],
   "source": [
    "# First, let's take a look at the major semiaxis. As seen here, the majority of the asteroids are in the main asteroid belt.\n",
    "# The histogram is truncated at 6 AU. There are some TNO (Trans-Neptunian Objects) and KBO (Kuiper Belt Objects) that \n",
    "# are very far away\n",
    "import plotly.graph_objects as go\n",
    "\n",
    "fig = go.Figure(data=[go.Histogram(x=np.array(a_tbl))])\n",
    "fig.update_layout(title_text='Distribution of %d asteroids\\' semi major-axis' % len(a_tbl), xaxis_title_text='Major semiaxis (AU)', yaxis_title_text='Count')\n",
    "fig.show()"
   ]
  },
  {
   "cell_type": "code",
   "execution_count": null,
   "metadata": {},
   "outputs": [],
   "source": [
    "print(len(e_tbl))\n",
    "print(e_tbl[0])\n",
    "#fig2 = go.Figure(data=[go.Histogram(x=np.array(e_tbl))])\n",
    "#fig2.update_layout(title_text='Solar System Asteroids (%d)' % len(e_tbl), xaxis_title_text='Eccentricity []', yaxis_title_text='Count')\n",
    "#fig2.show()"
   ]
  },
  {
   "cell_type": "code",
   "execution_count": null,
   "metadata": {},
   "outputs": [],
   "source": [
    "t2 = time.time()\n",
    "dv_tbl2 = sorted(dv_tbl, key=lambda e: e[1].value)\n",
    "t3 = time.time()\n",
    "\n",
    "print(\"dv_tbl is now sorted, sorting took %s s.\" % (t3-t2))"
   ]
  },
  {
   "cell_type": "code",
   "execution_count": null,
   "metadata": {},
   "outputs": [],
   "source": [
    "top_x = 10\n",
    "print(len(dv_tbl2))\n",
    "print(\" TOP %d ASTEROIDS THAT ARE EASIEST TO REACH\" % top_x)\n",
    "for i in range(top_x):\n",
    "    x = dv_tbl2[i]\n",
    "    print(\"%d. %s:  fly-by delta-v=%s randezvous delta-v=%s\" % (i+1, x[0], x[3], x[1] ))"
   ]
  },
  {
   "cell_type": "code",
   "execution_count": null,
   "metadata": {},
   "outputs": [],
   "source": [
    "f = open(\"../data/mpc/asteroids.txt\", \"w+\")\n",
    "f.write(\"#name, total delta-v[m/s], time of flight[days], Hohmann burn1 [m/s], Hohmann burn2 [m/s]\\n\")\n",
    "for x in dv_tbl2:\n",
    "    f.write(\"%s, %4.2f, %4.1f, %4.2f, %4.2f\\n\" % (x[0], x[1].value, x[2].value, x[3].value, x[4].value))\n",
    "f.close()"
   ]
  },
  {
   "cell_type": "code",
   "execution_count": null,
   "metadata": {},
   "outputs": [],
   "source": []
  }
 ],
 "metadata": {
  "kernelspec": {
   "display_name": "Python 3",
   "language": "python",
   "name": "python3"
  },
  "language_info": {
   "codemirror_mode": {
    "name": "ipython",
    "version": 3
   },
   "file_extension": ".py",
   "mimetype": "text/x-python",
   "name": "python",
   "nbconvert_exporter": "python",
   "pygments_lexer": "ipython3",
   "version": "3.8.5-final"
  }
 },
 "nbformat": 4,
 "nbformat_minor": 4
}