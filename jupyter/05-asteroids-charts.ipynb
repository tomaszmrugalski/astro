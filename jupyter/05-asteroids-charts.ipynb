{
 "cells": [
  {
   "cell_type": "code",
   "execution_count": null,
   "metadata": {},
   "outputs": [],
   "source": [
    "!which python; python -V;\n",
    "import time\n",
    "\n",
    "from astropy import units as u\n",
    "\n",
    "from poliastro.bodies import Earth, Mars, Sun, Moon\n",
    "from poliastro.twobody import Orbit\n",
    "from poliastro.ephem import Ephem\n",
    "\n",
    "from perylune.orbit_tools import *\n",
    "from perylune.mpc import *"
   ]
  },
  {
   "cell_type": "code",
   "execution_count": null,
   "metadata": {
    "tags": []
   },
   "outputs": [],
   "source": [
    "# First step is to load the data. parse_txt() will load the orbital elements from text file in MPC format.\n",
    "# This will be returned as an array. Each entry in that array has a list of 8 parameters or so.\n",
    "elements = parse_txt(\"../data/mpc/mpcorb_extended.dat\", limit=100, skip=\"------------------\")\n",
    "\n",
    "print(\"Number of orbital elements parsed: %d\" % len(elements))"
   ]
  },
  {
   "cell_type": "code",
   "execution_count": null,
   "metadata": {},
   "outputs": [],
   "source": [
    "# Now process the data. Find min and max a and e, also put the a values in \n",
    "max_e = 0\n",
    "min_e = 9999999\n",
    "max_a = 0\n",
    "min_a = 9999999\n",
    "\n",
    "a_tbl = np.zeros(len(elements))\n",
    "e_tbl = np.zeros(len(elements))\n",
    "cnt = 0\n",
    "for e in elements:\n",
    "    a = e[8].value\n",
    "    ecc = e[6].value\n",
    "    if a < 6:\n",
    "        a_tbl[cnt] = a\n",
    "        e_tbl[cnt] = ecc\n",
    "        cnt = cnt + 1\n",
    "    if max_a < a:\n",
    "        max_a = a\n",
    "    if min_a > a:\n",
    "        min_a = a\n",
    "    if max_e < ecc:\n",
    "        max_e = ecc\n",
    "    if min_e > ecc:\n",
    "        min_e = ecc\n",
    "\n",
    "print (\"Processed %d asteroids, a=%f..%f [AU], eccentricity = %f..%f\" % (cnt, min_a, max_a, min_e, max_e))"
   ]
  },
  {
   "cell_type": "code",
   "execution_count": null,
   "metadata": {},
   "outputs": [],
   "source": [
    "# First, let's take a look at the major semiaxis. As seen here, the majority of the asteroids are in the main asteroid belt.\n",
    "# The histogram is truncated at 6 AU. There are some TNO (Trans-Neptunian Objects) and KBO (Kuiper Belt Objects) that \n",
    "# are very far away\n",
    "import plotly.graph_objects as go\n",
    "\n",
    "fig = go.Figure(data=[go.Histogram(x=a_tbl)])\n",
    "fig.update_layout(title_text='Distribution of %d asteroids\\' semi major-axis' % len(a_tbl), xaxis_title_text='Major semiaxis (AU)', yaxis_title_text='Count')\n",
    "fig.show()"
   ]
  },
  {
   "cell_type": "code",
   "execution_count": null,
   "metadata": {},
   "outputs": [],
   "source": [
    "# Now do the eccentricity \n",
    "fig2 = go.Figure(data=[go.Histogram(x=e_tbl)])\n",
    "fig2.update_layout(title_text='Solar System Asteroids (%d)' % len(e_tbl), xaxis_title_text='Eccentricity []', yaxis_title_text='Count')\n",
    "fig2.show()"
   ]
  },
  {
   "cell_type": "code",
   "execution_count": null,
   "metadata": {},
   "outputs": [],
   "source": [
    "import plotly.express as px\n",
    "fig3 = px.scatter(x=a_tbl, y=e_tbl, labels={'x': 'Semi major axis [AU]', 'y': 'eccentricity'})\n",
    "fig3.update_traces(marker_size=1)\n",
    "fig3.show()"
   ]
  }
 ],
 "metadata": {
  "kernelspec": {
   "display_name": "Python 3",
   "language": "python",
   "name": "python3"
  },
  "language_info": {
   "codemirror_mode": {
    "name": "ipython",
    "version": 3
   },
   "file_extension": ".py",
   "mimetype": "text/x-python",
   "name": "python",
   "nbconvert_exporter": "python",
   "pygments_lexer": "ipython3",
   "version": "3.8.5-final"
  }
 },
 "nbformat": 4,
 "nbformat_minor": 4
}