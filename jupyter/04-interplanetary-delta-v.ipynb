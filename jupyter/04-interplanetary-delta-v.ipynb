{
 "cells": [
  {
   "cell_type": "code",
   "execution_count": 1,
   "metadata": {},
   "outputs": [
    {
     "output_type": "stream",
     "name": "stdout",
     "text": [
      "/home/thomson/devel/perylune/venv/bin/python\nPython 3.8.5\n"
     ]
    },
    {
     "output_type": "execute_result",
     "data": {
      "text/plain": [
       "<ScienceState solar_system_ephemeris: 'jpl'>"
      ]
     },
     "metadata": {},
     "execution_count": 1
    }
   ],
   "source": [
    "!which python; python -V;\n",
    "\n",
    "# This makes the diagrams to more reliably appear in Jupyter environment\n",
    "import plotly.io as pio\n",
    "pio.renderers.default = \"notebook_connected\"\n",
    "\n",
    "# This will cause the ephemerides to be imported from JPL horizons system\n",
    "from astropy.coordinates import solar_system_ephemeris\n",
    "solar_system_ephemeris.set(\"jpl\")"
   ]
  },
  {
   "cell_type": "code",
   "execution_count": 2,
   "metadata": {},
   "outputs": [],
   "source": [
    "# We will use the interplanetary package from perylune to calculate interplanetary transfers\n",
    "from perylune.interplanetary import *"
   ]
  },
  {
   "cell_type": "code",
   "execution_count": 3,
   "metadata": {},
   "outputs": [
    {
     "output_type": "stream",
     "name": "stdout",
     "text": [
      "# all values in km/s, except noted otherwise\n",
      "#departure, arrival, heliocentric vel @ departure, heliocentric vel @ arrival, hohmann dep burn, hohmann arrival burn, time of flight [days], time of flight [years], Hohman1 delta-v, Hohmann2 delta-v\n",
      "earth, mercury, 29.79, 47.87, 22.25, 57.48, 105.47, 0.289, 7.532, 9.610\n",
      "earth, venus, 29.79, 35.02, 27.29, 37.73, 146.06, 0.400, 2.494, 2.705\n",
      "earth, mars, 29.79, 24.13, 32.73, 21.48, 258.83, 0.709, 2.946, 2.650\n",
      "earth, jupiter, 29.79, 13.06, 38.58, 7.41, 997.71, 2.732, 8.794, 5.644\n",
      "earth, saturn, 29.79, 9.62, 40.09, 4.18, 2221.95, 6.083, 10.298, 5.439\n",
      "earth, uranus, 29.79, 6.80, 41.07, 2.14, 5864.06, 16.055, 11.283, 4.658\n",
      "earth, neptune, 29.79, 5.42, 41.45, 1.37, 11274.23, 30.867, 11.659, 4.046\n",
      "earth, ceres, 29.79, 17.91, 36.10, 13.05, 471.92, 1.292, 6.316, 4.859\n",
      "earth, eris, 29.79, 3.61, 41.82, 0.62, 36947.08, 101.156, 12.031, 2.998\n",
      "earth, pluto, 29.79, 4.74, 41.60, 1.05, 16600.16, 45.449, 11.814, 3.688\n",
      "earth, makemake, 29.79, 4.42, 41.67, 0.92, 20394.07, 55.836, 11.882, 3.503\n",
      "earth, haumea, 29.79, 4.54, 41.65, 0.97, 18927.33, 51.820, 11.858, 3.570\n",
      "earth, vesta, 29.79, 19.38, 35.31, 14.95, 398.02, 1.090, 5.523, 4.433\n",
      "earth, bernievolz, 29.79, 19.07, 35.48, 14.54, 411.86, 1.128, 5.691, 4.529\n"
     ]
    }
   ],
   "source": [
    "\n",
    "# These are the Hohmann trajectiories we want to investigate.\n",
    "trajectories = [\n",
    "    # PLANETS:\n",
    "    [\"earth\", \"mercury\"],\n",
    "    [\"earth\", \"venus\"],\n",
    "    [\"earth\", \"mars\"],\n",
    "    [\"earth\", \"jupiter\"],\n",
    "    [\"earth\", \"saturn\"],\n",
    "    [\"earth\", \"uranus\"],\n",
    "    [\"earth\", \"neptune\"],\n",
    "\n",
    "    # DWARF PLANETS\n",
    "    [\"earth\", \"ceres\"],\n",
    "    [\"earth\", \"eris\"],\n",
    "    [\"earth\", \"pluto\"],\n",
    "    [\"earth\", \"makemake\"],\n",
    "    [\"earth\", \"haumea\"],\n",
    "\n",
    "    # ASEROIDS\n",
    "    [\"earth\", \"vesta\"],\n",
    "    [\"earth\", \"bernievolz\"]\n",
    "]\n",
    "\n",
    "# Print the header\n",
    "print(transfer_vel_header())\n",
    "\n",
    "# And now calculate the trajectories\n",
    "for traj in trajectories:\n",
    "    v = transfer_vel(traj[0], traj[1], None)\n",
    "    txt = transfer_vel_format(traj[0], traj[1], v, \",\")\n",
    "    print(txt)"
   ]
  },
  {
   "cell_type": "code",
   "execution_count": null,
   "metadata": {},
   "outputs": [],
   "source": []
  }
 ],
 "metadata": {
  "kernelspec": {
   "display_name": "Python 3.8.5 64-bit ('venv': venv)",
   "language": "python",
   "name": "python38564bitvenvvenv83ba967ace5240319bcf0470eba02fe6"
  },
  "language_info": {
   "codemirror_mode": {
    "name": "ipython",
    "version": 3
   },
   "file_extension": ".py",
   "mimetype": "text/x-python",
   "name": "python",
   "nbconvert_exporter": "python",
   "pygments_lexer": "ipython3",
   "version": "3.8.5-final"
  }
 },
 "nbformat": 4,
 "nbformat_minor": 4
}