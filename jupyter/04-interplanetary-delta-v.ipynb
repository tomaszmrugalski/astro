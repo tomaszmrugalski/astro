{
 "cells": [
  {
   "cell_type": "code",
   "execution_count": 1,
   "metadata": {},
   "outputs": [
    {
     "output_type": "stream",
     "name": "stdout",
     "text": [
      "/home/thomson/devel/perylune/venv/bin/python\nPython 3.8.5\n"
     ]
    },
    {
     "output_type": "execute_result",
     "data": {
      "text/plain": [
       "<ScienceState solar_system_ephemeris: 'jpl'>"
      ]
     },
     "metadata": {},
     "execution_count": 1
    }
   ],
   "source": [
    "!which python; python -V;\n",
    "\n",
    "# This makes the diagrams to more reliably appear in Jupyter environment\n",
    "import plotly.io as pio\n",
    "pio.renderers.default = \"notebook_connected\"\n",
    "\n",
    "# This will cause the ephemerides to be imported from JPL horizons system\n",
    "from astropy.coordinates import solar_system_ephemeris\n",
    "solar_system_ephemeris.set(\"jpl\")"
   ]
  },
  {
   "cell_type": "code",
   "execution_count": 2,
   "metadata": {},
   "outputs": [],
   "source": [
    "from poliastro.bodies import Mercury, Venus, Earth, Mars, Jupiter, Saturn, Uranus, Neptune, Sun, Pluto\n",
    "from poliastro.twobody import Orbit\n",
    "from poliastro.constants import GM_earth, GM_sun\n",
    "from poliastro.maneuver import Maneuver\n",
    "\n",
    "from perylune.orbit_tools import *\n",
    "from perylune.interplanetary import *\n",
    "from perylune.constants import *\n",
    "from perylune.horizons import *\n",
    "\n",
    "from astropy import units as u\n",
    "from astropy import time\n",
    "import numpy as np"
   ]
  },
  {
   "cell_type": "code",
   "execution_count": 3,
   "metadata": {},
   "outputs": [
    {
     "output_type": "stream",
     "name": "stdout",
     "text": [
      "# all values in km/s, except noted otherwise\n",
      "#departure, arrival, heliocentric vel @ departure, vesc @ departure, heliocentric vel @ arrival, vesc @ arrival, hohmann dep burn, hohmann arrival burn, time of flight [days], time of flight [years]\n",
      "earth, mars, 29.79, 42.47, 24.13, 35.84, 32.74, 21.48, 258.81, 0.709\n",
      "earth, ceres, 29.79, 42.47, 17.91, 26.38, 36.11, 13.05, 471.90, 1.292\n",
      "earth, vesta, 29.79, 42.47, 19.38, 28.71, 35.31, 14.95, 398.00, 1.090\n",
      "earth, bernievolz, 29.79, 42.47, 19.07, 29.31, 35.48, 14.54, 411.84, 1.128\n"
     ]
    }
   ],
   "source": [
    "# Calculate delta-v necessary to reach escape velocity for circular orbit. The values returned are current position, periapsis, apoapis.\n",
    "# No surprises here - it's perfectly circular, so it's always the same.\n",
    "#escape_delta_v(orb1, False)\n",
    "\n",
    "def print_row(name1, name2, x):\n",
    "    helio1, vesc1, helio2, vesc2, hoh1, hoh2, tof = x\n",
    "\n",
    "    helio1 = helio1.to(u.km/u.s)\n",
    "    vesc1  = vesc1.to(u.km/u.s)\n",
    "    helio2 = helio2.to(u.km/u.s)\n",
    "    vesc2  = vesc2.to(u.km/u.s)\n",
    "    hoh1   = hoh1.to(u.km/u.s)\n",
    "    hoh2   = hoh2.to(u.km/u.s)\n",
    "\n",
    "    burn1 = np.abs(helio1 - hoh1)\n",
    "    burn2 = np.abs(helio2 - hoh2)\n",
    "\n",
    "    print(\"%s, %s, %4.2f, %4.2f, %4.2f, %4.2f, %4.2f, %4.2f, %4.2f, %4.3f\" % (name1, name2, helio1.value, vesc1.value, \\\n",
    "        helio2.value, vesc2.value, hoh1.value, hoh2.value, tof.value, tof.to(u.year).value))\n",
    "\n",
    "trajectories = [\n",
    "    # PLANETS:\n",
    "    # [\"earth\", \"mercury\"],\n",
    "    # [\"earth\", \"venus\"],\n",
    "    [\"earth\", \"mars\"],\n",
    "    # [\"earth\", \"jupiter\"],\n",
    "    # [\"earth\", \"saturn\"],\n",
    "    # [\"earth\", \"uranus\"],\n",
    "    # [\"earth\", \"neptune\"],\n",
    "\n",
    "    # DWARF PLANETS\n",
    "    [\"earth\", \"ceres\"],\n",
    "    # [\"earth\", \"eris\"],\n",
    "    # [\"earth\", \"pluto\"],\n",
    "    # [\"earth\", \"makemake\"],\n",
    "    # [\"earth\", \"haumea\"],\n",
    "\n",
    "    # ASEROIDS\n",
    "    [\"earth\", \"vesta\"],\n",
    "    [\"earth\", \"bernievolz\"]\n",
    "]\n",
    "\n",
    "print(\"# all values in km/s, except noted otherwise\")\n",
    "print(\"#departure, arrival, heliocentric vel @ departure, vesc @ departure, heliocentric vel @ arrival, vesc @ arrival, hohmann dep burn, hohmann arrival burn, time of flight [days], time of flight [years]\")\n",
    "for traj in trajectories:\n",
    "    v = transfer_delta_v(traj[0], traj[1], None)\n",
    "    print_row(traj[0], traj[1], v)"
   ]
  },
  {
   "cell_type": "code",
   "execution_count": null,
   "metadata": {},
   "outputs": [],
   "source": []
  }
 ],
 "metadata": {
  "kernelspec": {
   "display_name": "Python 3.8.5 64-bit ('venv': venv)",
   "language": "python",
   "name": "python38564bitvenvvenv83ba967ace5240319bcf0470eba02fe6"
  },
  "language_info": {
   "codemirror_mode": {
    "name": "ipython",
    "version": 3
   },
   "file_extension": ".py",
   "mimetype": "text/x-python",
   "name": "python",
   "nbconvert_exporter": "python",
   "pygments_lexer": "ipython3",
   "version": "3.8.5-final"
  }
 },
 "nbformat": 4,
 "nbformat_minor": 4
}