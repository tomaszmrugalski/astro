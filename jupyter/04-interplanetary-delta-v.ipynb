{
 "cells": [
  {
   "cell_type": "code",
   "execution_count": 1,
   "metadata": {},
   "outputs": [
    {
     "output_type": "stream",
     "name": "stdout",
     "text": [
      "/home/thomson/devel/perylune/venv/bin/python\nPython 3.8.5\n"
     ]
    },
    {
     "output_type": "execute_result",
     "data": {
      "text/plain": [
       "<ScienceState solar_system_ephemeris: 'jpl'>"
      ]
     },
     "metadata": {},
     "execution_count": 1
    }
   ],
   "source": [
    "!which python; python -V;\n",
    "\n",
    "# This makes the diagrams to more reliably appear in Jupyter environment\n",
    "import plotly.io as pio\n",
    "pio.renderers.default = \"notebook_connected\"\n",
    "\n",
    "# This will cause the ephemerides to be imported from JPL horizons system\n",
    "from astropy.coordinates import solar_system_ephemeris\n",
    "solar_system_ephemeris.set(\"jpl\")"
   ]
  },
  {
   "cell_type": "code",
   "execution_count": 2,
   "metadata": {},
   "outputs": [],
   "source": [
    "from poliastro.bodies import Mercury, Venus, Earth, Mars, Jupiter, Saturn, Uranus, Neptune, Sun, Pluto\n",
    "from poliastro.twobody import Orbit\n",
    "from poliastro.constants import GM_earth, GM_sun\n",
    "from poliastro.maneuver import Maneuver\n",
    "\n",
    "from perylune.orbit_tools import *\n",
    "from perylune.interplanetary import *\n",
    "from perylune.constants import *\n",
    "from perylune.horizons import *\n",
    "\n",
    "from astropy import units as u\n",
    "from astropy import time\n",
    "import numpy as np"
   ]
  },
  {
   "cell_type": "code",
   "execution_count": 3,
   "metadata": {},
   "outputs": [
    {
     "output_type": "stream",
     "name": "stdout",
     "text": [
      "v1=32735.858706857784 m / s\nv2=21479.24222246955 m / s\ntof=258.81159628413695 d\n"
     ]
    },
    {
     "output_type": "execute_result",
     "data": {
      "text/plain": [
       "(<Quantity 29789.07420348 m / s>,\n",
       " <Quantity 12191.84987828 m / s>,\n",
       " <Quantity 24129.84961595 m / s>,\n",
       " <Quantity 9335.91438879 m / s>,\n",
       " <Quantity 32735.85870686 m / s>,\n",
       " <Quantity 21479.24222247 m / s>,\n",
       " <Quantity 258.81159628 d>)"
      ]
     },
     "metadata": {},
     "execution_count": 3
    }
   ],
   "source": [
    "# Calculate delta-v necessary to reach escape velocity for circular orbit. The values returned are current position, periapsis, apoapis.\n",
    "# No surprises here - it's perfectly circular, so it's always the same.\n",
    "#escape_delta_v(orb1, False)\n",
    "transfer_delta_v(\"earth\", \"mars\", None)"
   ]
  }
 ],
 "metadata": {
  "kernelspec": {
   "display_name": "Python 3.8.5 64-bit ('venv': venv)",
   "language": "python",
   "name": "python38564bitvenvvenv83ba967ace5240319bcf0470eba02fe6"
  },
  "language_info": {
   "codemirror_mode": {
    "name": "ipython",
    "version": 3
   },
   "file_extension": ".py",
   "mimetype": "text/x-python",
   "name": "python",
   "nbconvert_exporter": "python",
   "pygments_lexer": "ipython3",
   "version": "3.8.5-final"
  }
 },
 "nbformat": 4,
 "nbformat_minor": 4
}