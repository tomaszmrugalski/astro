{
 "cells": [
  {
   "cell_type": "code",
   "execution_count": 1,
   "metadata": {},
   "outputs": [
    {
     "output_type": "stream",
     "name": "stdout",
     "text": [
      "/home/thomson/devel/perylune/venv/bin/python\nPython 3.8.5\n"
     ]
    }
   ],
   "source": [
    "!which python; python -V;\n",
    "\n",
    "# Imports\n",
    "from astropy import units as u\n",
    "import numpy as np\n",
    "from math import pi\n",
    "\n",
    "from poliastro.bodies import Earth, Mars, Sun\n",
    "from poliastro.twobody import Orbit\n",
    "\n",
    "from perylune.orbit_tools import *\n",
    "from perylune import orbit_tools"
   ]
  },
  {
   "cell_type": "code",
   "execution_count": 2,
   "metadata": {},
   "outputs": [
    {
     "output_type": "stream",
     "name": "stdout",
     "text": [
      "6010 x 7346 km x 0.0 deg (GCRS) orbit around Earth (♁) at epoch J2000.000 (TT)\na(𝑎)=6678.14km, b=6644.66km, e=0.10, i=0.00deg raan(Ω)=0.00deg argp(𝜔)=90.00deg nu(𝜈)=10.00deg\nperiod=5431.18s perapis=6010km(-367.81km) apoapsis=7346km(967.81km)\nnu=10.0 deg, asc. node=270.0 deg, desc.node=90.0 deg, distance to an=260.0 deg, distance to dn=80.0 deg\n"
     ]
    }
   ],
   "source": [
    "orb1 = Orbit.from_classical(Earth, Earth.R + 300 * u.km, 0.1*u.one, 0.0*u.deg, 0*u.deg, 90*u.deg, 10*u.deg)\n",
    "\n",
    "print_orb(orb1)\n",
    "\n",
    "an, dn, dan, ddn = calculate_nodes_dist(orb1)\n",
    "print(\"nu=%s, asc. node=%s, desc.node=%s, distance to an=%s, distance to dn=%s\" % (orb1.nu.to(u.deg), an, dn, dan, ddn))"
   ]
  },
  {
   "cell_type": "code",
   "execution_count": 3,
   "metadata": {},
   "outputs": [
    {
     "output_type": "stream",
     "name": "stdout",
     "text": [
      "6010 x 7346 km x 0.0 deg (GCRS) orbit around Earth (♁) at epoch J2000.000 (TT)\n",
      "a(𝑎)=6678.14km, b=6644.66km, e=0.10, i=0.00deg raan(Ω)=0.00deg argp(𝜔)=90.00deg nu(𝜈)=10.00deg\n",
      "period=5431.18s perapis=6010km(-367.81km) apoapsis=7346km(967.81km)\n",
      "Propagating to AN: 260.0 deg\n",
      "6010 x 7346 km x 0.0 deg (GCRS) orbit around Earth (♁) at epoch J2000.000 (TT)\n",
      "a(𝑎)=6678.14km, b=6644.66km, e=0.10, i=0.00deg raan(Ω)=0.00deg argp(𝜔)=90.00deg nu(𝜈)=-100.00deg\n",
      "period=5431.18s perapis=6010km(-367.81km) apoapsis=7346km(967.81km)\n"
     ]
    }
   ],
   "source": [
    "# Propagate the orbit to the ascending node.\n",
    "print_orb(orb1)\n",
    "orb2 = propagate_to_asc_node(orb1)\n",
    "print_orb(orb2)"
   ]
  },
  {
   "cell_type": "code",
   "execution_count": 4,
   "metadata": {},
   "outputs": [
    {
     "output_type": "stream",
     "name": "stdout",
     "text": [
      "[-0.09874294 -0.01580606  0.        ] km / s\n",
      "Number of impulses: 1, Total cost: 0.100000 km / s\n",
      "6012 x 7740 km x 0.0 deg (GCRS) orbit around Earth (♁) at epoch J2000.000 (TT)\n",
      "a(𝑎)=6875.82km, b=6821.33km, e=0.13, i=0.00deg raan(Ω)=0.00deg argp(𝜔)=91.87deg nu(𝜈)=8.13deg\n",
      "period=5674.12s perapis=6012km(-366.26km) apoapsis=7740km(1361.63km)\n"
     ]
    }
   ],
   "source": [
    "# Perform prograde maneuver with delta-v 100m/s. Perform it immediately (no delay) at periapsis.\n",
    "# This will raise the apoapsis height.\n",
    "man = prograde_maneuver(orb1, 100, 0*u.s )\n",
    "print(man)\n",
    "orb3 = orb1.apply_maneuver(man)\n",
    "print_orb(orb3)"
   ]
  },
  {
   "cell_type": "code",
   "execution_count": 5,
   "metadata": {},
   "outputs": [
    {
     "output_type": "stream",
     "name": "stdout",
     "text": [
      "v before maneuver=[0.         7.72576046 0.        ] km / s\n[0.         7.72576046 0.        ] km / s\nNumber of impulses: 1, Total cost: 3.999148 km / s\n6678 x 6678 km x 0.0 deg (GCRS) orbit around Earth (♁) at epoch J2000.000 (TT)\na(𝑎)=6678.14km, b=6678.14km, e=0.00, i=0.00deg raan(Ω)=0.00deg argp(𝜔)=0.00deg nu(𝜈)=0.00deg\nperiod=5431.18s perapis=6678km(300.00km) apoapsis=6678km(300.00km)\n6678 x 6678 km x 30.0 deg (GCRS) orbit around Earth (♁) at epoch J2000.000 (TT)\na(𝑎)=6678.14km, b=6678.14km, e=0.00, i=30.00deg raan(Ω)=180.00deg argp(𝜔)=0.00deg nu(𝜈)=-180.00deg\nperiod=5431.18s perapis=6678km(300.00km) apoapsis=6678km(300.00km)\n"
     ]
    }
   ],
   "source": [
    "orb1 = Orbit.circular(Earth, 300*u.km)\n",
    "\n",
    "print(\"v before maneuver=%s\" % orb1.v)\n",
    "man1 = plane_change_maneuver(orb1, 30*u.deg)\n",
    "print(orb1.v)\n",
    "print(man1)\n",
    "orb2 = orb1.apply_maneuver(man1)\n",
    "print_orb(orb1)\n",
    "print_orb(orb2)"
   ]
  },
  {
   "cell_type": "code",
   "execution_count": null,
   "metadata": {},
   "outputs": [],
   "source": []
  }
 ],
 "metadata": {
  "kernelspec": {
   "display_name": "Python 3.8.5 64-bit ('venv')",
   "language": "python",
   "name": "python38564bitvenv457adb68d6e549088956e9e8eeb78c48"
  },
  "language_info": {
   "codemirror_mode": {
    "name": "ipython",
    "version": 3
   },
   "file_extension": ".py",
   "mimetype": "text/x-python",
   "name": "python",
   "nbconvert_exporter": "python",
   "pygments_lexer": "ipython3",
   "version": "3.8.5-final"
  }
 },
 "nbformat": 4,
 "nbformat_minor": 4
}