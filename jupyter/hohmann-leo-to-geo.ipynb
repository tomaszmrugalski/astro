{
 "cells": [
  {
   "cell_type": "code",
   "execution_count": 1,
   "metadata": {},
   "outputs": [
    {
     "output_type": "stream",
     "name": "stdout",
     "text": [
      "/home/thomson/devel/perylune/venv/bin/python\nPython 3.8.5\n"
     ]
    }
   ],
   "source": [
    "!which python; python -V;\n",
    "from astropy import units as u\n",
    "\n",
    "from poliastro.bodies import Earth, Mars, Sun\n",
    "from poliastro.twobody import Orbit\n",
    "\n",
    "# Needed to handle TLE into Poliastro's Orbit\n",
    "from tletools import TLE\n",
    "\n",
    "# Needed for defining manouvers\n",
    "from poliastro.maneuver import Maneuver\n",
    "\n",
    "from perylune.orbit_tools import *"
   ]
  },
  {
   "cell_type": "code",
   "execution_count": 2,
   "metadata": {},
   "outputs": [
    {
     "output_type": "execute_result",
     "data": {
      "text/plain": [
       "[<matplotlib.lines.Line2D at 0x7f65f2a8c9a0>,\n",
       " <matplotlib.lines.Line2D at 0x7f65f25de790>]"
      ]
     },
     "metadata": {},
     "execution_count": 2
    },
    {
     "output_type": "display_data",
     "data": {
      "text/plain": "<Figure size 1008x432 with 1 Axes>",
      "image/svg+xml": "<?xml version=\"1.0\" encoding=\"utf-8\" standalone=\"no\"?>\n<!DOCTYPE svg PUBLIC \"-//W3C//DTD SVG 1.1//EN\"\n  \"http://www.w3.org/Graphics/SVG/1.1/DTD/svg11.dtd\">\n<!-- Created with matplotlib (https://matplotlib.org/) -->\n<svg height=\"370.91625pt\" version=\"1.1\" viewBox=\"0 0 542.496406 370.91625\" width=\"542.496406pt\" xmlns=\"http://www.w3.org/2000/svg\" xmlns:xlink=\"http://www.w3.org/1999/xlink\">\n <defs>\n  <style type=\"text/css\">\n*{stroke-linecap:butt;stroke-linejoin:round;}\n  </style>\n </defs>\n <g id=\"figure_1\">\n  <g id=\"patch_1\">\n   <path d=\"M 0 370.91625 \nL 542.496406 370.91625 \nL 542.496406 0 \nL 0 0 \nz\n\" style=\"fill:none;\"/>\n  </g>\n  <g id=\"axes_1\">\n   <g id=\"patch_2\">\n    <path d=\"M 61.729687 333.36 \nL 387.876562 333.36 \nL 387.876562 7.2 \nL 61.729687 7.2 \nz\n\" style=\"fill:#ffffff;\"/>\n   </g>\n   <g id=\"patch_3\">\n    <path clip-path=\"url(#pceb32707c1)\" d=\"M 224.981934 301.870142 \nC 259.879469 301.870142 293.352389 288.005204 318.028673 263.328921 \nC 342.704957 238.652637 356.569895 205.179716 356.569895 170.282181 \nC 356.569895 135.384646 342.704957 101.911725 318.028673 77.235442 \nC 293.352389 52.559158 259.879469 38.69422 224.981934 38.69422 \nC 190.084398 38.69422 156.611478 52.559158 131.935194 77.235442 \nC 107.25891 101.911725 93.393973 135.384646 93.393973 170.282181 \nC 93.393973 205.179716 107.25891 238.652637 131.935194 263.328921 \nC 156.611478 288.005204 190.084398 301.870142 224.981934 301.870142 \nz\n\" style=\"fill:#2a7bd1;\"/>\n   </g>\n   <g id=\"matplotlib.axis_1\">\n    <g id=\"xtick_1\">\n     <g id=\"line2d_1\">\n      <defs>\n       <path d=\"M 0 0 \nL 0 3.5 \n\" id=\"mf4ed86774f\" style=\"stroke:#000000;stroke-width:0.8;\"/>\n      </defs>\n      <g>\n       <use style=\"stroke:#000000;stroke-width:0.8;\" x=\"101.195346\" xlink:href=\"#mf4ed86774f\" y=\"333.36\"/>\n      </g>\n     </g>\n     <g id=\"text_1\">\n      <!-- −6000 -->\n      <defs>\n       <path d=\"M 10.59375 35.5 \nL 73.1875 35.5 \nL 73.1875 27.203125 \nL 10.59375 27.203125 \nz\n\" id=\"DejaVuSans-8722\"/>\n       <path d=\"M 33.015625 40.375 \nQ 26.375 40.375 22.484375 35.828125 \nQ 18.609375 31.296875 18.609375 23.390625 \nQ 18.609375 15.53125 22.484375 10.953125 \nQ 26.375 6.390625 33.015625 6.390625 \nQ 39.65625 6.390625 43.53125 10.953125 \nQ 47.40625 15.53125 47.40625 23.390625 \nQ 47.40625 31.296875 43.53125 35.828125 \nQ 39.65625 40.375 33.015625 40.375 \nz\nM 52.59375 71.296875 \nL 52.59375 62.3125 \nQ 48.875 64.0625 45.09375 64.984375 \nQ 41.3125 65.921875 37.59375 65.921875 \nQ 27.828125 65.921875 22.671875 59.328125 \nQ 17.53125 52.734375 16.796875 39.40625 \nQ 19.671875 43.65625 24.015625 45.921875 \nQ 28.375 48.1875 33.59375 48.1875 \nQ 44.578125 48.1875 50.953125 41.515625 \nQ 57.328125 34.859375 57.328125 23.390625 \nQ 57.328125 12.15625 50.6875 5.359375 \nQ 44.046875 -1.421875 33.015625 -1.421875 \nQ 20.359375 -1.421875 13.671875 8.265625 \nQ 6.984375 17.96875 6.984375 36.375 \nQ 6.984375 53.65625 15.1875 63.9375 \nQ 23.390625 74.21875 37.203125 74.21875 \nQ 40.921875 74.21875 44.703125 73.484375 \nQ 48.484375 72.75 52.59375 71.296875 \nz\n\" id=\"DejaVuSans-54\"/>\n       <path d=\"M 31.78125 66.40625 \nQ 24.171875 66.40625 20.328125 58.90625 \nQ 16.5 51.421875 16.5 36.375 \nQ 16.5 21.390625 20.328125 13.890625 \nQ 24.171875 6.390625 31.78125 6.390625 \nQ 39.453125 6.390625 43.28125 13.890625 \nQ 47.125 21.390625 47.125 36.375 \nQ 47.125 51.421875 43.28125 58.90625 \nQ 39.453125 66.40625 31.78125 66.40625 \nz\nM 31.78125 74.21875 \nQ 44.046875 74.21875 50.515625 64.515625 \nQ 56.984375 54.828125 56.984375 36.375 \nQ 56.984375 17.96875 50.515625 8.265625 \nQ 44.046875 -1.421875 31.78125 -1.421875 \nQ 19.53125 -1.421875 13.0625 8.265625 \nQ 6.59375 17.96875 6.59375 36.375 \nQ 6.59375 54.828125 13.0625 64.515625 \nQ 19.53125 74.21875 31.78125 74.21875 \nz\n\" id=\"DejaVuSans-48\"/>\n      </defs>\n      <g transform=\"translate(84.280502 347.958438)scale(0.1 -0.1)\">\n       <use xlink:href=\"#DejaVuSans-8722\"/>\n       <use x=\"83.789062\" xlink:href=\"#DejaVuSans-54\"/>\n       <use x=\"147.412109\" xlink:href=\"#DejaVuSans-48\"/>\n       <use x=\"211.035156\" xlink:href=\"#DejaVuSans-48\"/>\n       <use x=\"274.658203\" xlink:href=\"#DejaVuSans-48\"/>\n      </g>\n     </g>\n    </g>\n    <g id=\"xtick_2\">\n     <g id=\"line2d_2\">\n      <g>\n       <use style=\"stroke:#000000;stroke-width:0.8;\" x=\"142.457542\" xlink:href=\"#mf4ed86774f\" y=\"333.36\"/>\n      </g>\n     </g>\n     <g id=\"text_2\">\n      <!-- −4000 -->\n      <defs>\n       <path d=\"M 37.796875 64.3125 \nL 12.890625 25.390625 \nL 37.796875 25.390625 \nz\nM 35.203125 72.90625 \nL 47.609375 72.90625 \nL 47.609375 25.390625 \nL 58.015625 25.390625 \nL 58.015625 17.1875 \nL 47.609375 17.1875 \nL 47.609375 0 \nL 37.796875 0 \nL 37.796875 17.1875 \nL 4.890625 17.1875 \nL 4.890625 26.703125 \nz\n\" id=\"DejaVuSans-52\"/>\n      </defs>\n      <g transform=\"translate(125.542698 347.958438)scale(0.1 -0.1)\">\n       <use xlink:href=\"#DejaVuSans-8722\"/>\n       <use x=\"83.789062\" xlink:href=\"#DejaVuSans-52\"/>\n       <use x=\"147.412109\" xlink:href=\"#DejaVuSans-48\"/>\n       <use x=\"211.035156\" xlink:href=\"#DejaVuSans-48\"/>\n       <use x=\"274.658203\" xlink:href=\"#DejaVuSans-48\"/>\n      </g>\n     </g>\n    </g>\n    <g id=\"xtick_3\">\n     <g id=\"line2d_3\">\n      <g>\n       <use style=\"stroke:#000000;stroke-width:0.8;\" x=\"183.719738\" xlink:href=\"#mf4ed86774f\" y=\"333.36\"/>\n      </g>\n     </g>\n     <g id=\"text_3\">\n      <!-- −2000 -->\n      <defs>\n       <path d=\"M 19.1875 8.296875 \nL 53.609375 8.296875 \nL 53.609375 0 \nL 7.328125 0 \nL 7.328125 8.296875 \nQ 12.9375 14.109375 22.625 23.890625 \nQ 32.328125 33.6875 34.8125 36.53125 \nQ 39.546875 41.84375 41.421875 45.53125 \nQ 43.3125 49.21875 43.3125 52.78125 \nQ 43.3125 58.59375 39.234375 62.25 \nQ 35.15625 65.921875 28.609375 65.921875 \nQ 23.96875 65.921875 18.8125 64.3125 \nQ 13.671875 62.703125 7.8125 59.421875 \nL 7.8125 69.390625 \nQ 13.765625 71.78125 18.9375 73 \nQ 24.125 74.21875 28.421875 74.21875 \nQ 39.75 74.21875 46.484375 68.546875 \nQ 53.21875 62.890625 53.21875 53.421875 \nQ 53.21875 48.921875 51.53125 44.890625 \nQ 49.859375 40.875 45.40625 35.40625 \nQ 44.1875 33.984375 37.640625 27.21875 \nQ 31.109375 20.453125 19.1875 8.296875 \nz\n\" id=\"DejaVuSans-50\"/>\n      </defs>\n      <g transform=\"translate(166.804894 347.958438)scale(0.1 -0.1)\">\n       <use xlink:href=\"#DejaVuSans-8722\"/>\n       <use x=\"83.789062\" xlink:href=\"#DejaVuSans-50\"/>\n       <use x=\"147.412109\" xlink:href=\"#DejaVuSans-48\"/>\n       <use x=\"211.035156\" xlink:href=\"#DejaVuSans-48\"/>\n       <use x=\"274.658203\" xlink:href=\"#DejaVuSans-48\"/>\n      </g>\n     </g>\n    </g>\n    <g id=\"xtick_4\">\n     <g id=\"line2d_4\">\n      <g>\n       <use style=\"stroke:#000000;stroke-width:0.8;\" x=\"224.981934\" xlink:href=\"#mf4ed86774f\" y=\"333.36\"/>\n      </g>\n     </g>\n     <g id=\"text_4\">\n      <!-- 0 -->\n      <g transform=\"translate(221.800684 347.958438)scale(0.1 -0.1)\">\n       <use xlink:href=\"#DejaVuSans-48\"/>\n      </g>\n     </g>\n    </g>\n    <g id=\"xtick_5\">\n     <g id=\"line2d_5\">\n      <g>\n       <use style=\"stroke:#000000;stroke-width:0.8;\" x=\"266.24413\" xlink:href=\"#mf4ed86774f\" y=\"333.36\"/>\n      </g>\n     </g>\n     <g id=\"text_5\">\n      <!-- 2000 -->\n      <g transform=\"translate(253.51913 347.958438)scale(0.1 -0.1)\">\n       <use xlink:href=\"#DejaVuSans-50\"/>\n       <use x=\"63.623047\" xlink:href=\"#DejaVuSans-48\"/>\n       <use x=\"127.246094\" xlink:href=\"#DejaVuSans-48\"/>\n       <use x=\"190.869141\" xlink:href=\"#DejaVuSans-48\"/>\n      </g>\n     </g>\n    </g>\n    <g id=\"xtick_6\">\n     <g id=\"line2d_6\">\n      <g>\n       <use style=\"stroke:#000000;stroke-width:0.8;\" x=\"307.506325\" xlink:href=\"#mf4ed86774f\" y=\"333.36\"/>\n      </g>\n     </g>\n     <g id=\"text_6\">\n      <!-- 4000 -->\n      <g transform=\"translate(294.781325 347.958438)scale(0.1 -0.1)\">\n       <use xlink:href=\"#DejaVuSans-52\"/>\n       <use x=\"63.623047\" xlink:href=\"#DejaVuSans-48\"/>\n       <use x=\"127.246094\" xlink:href=\"#DejaVuSans-48\"/>\n       <use x=\"190.869141\" xlink:href=\"#DejaVuSans-48\"/>\n      </g>\n     </g>\n    </g>\n    <g id=\"xtick_7\">\n     <g id=\"line2d_7\">\n      <g>\n       <use style=\"stroke:#000000;stroke-width:0.8;\" x=\"348.768521\" xlink:href=\"#mf4ed86774f\" y=\"333.36\"/>\n      </g>\n     </g>\n     <g id=\"text_7\">\n      <!-- 6000 -->\n      <g transform=\"translate(336.043521 347.958438)scale(0.1 -0.1)\">\n       <use xlink:href=\"#DejaVuSans-54\"/>\n       <use x=\"63.623047\" xlink:href=\"#DejaVuSans-48\"/>\n       <use x=\"127.246094\" xlink:href=\"#DejaVuSans-48\"/>\n       <use x=\"190.869141\" xlink:href=\"#DejaVuSans-48\"/>\n      </g>\n     </g>\n    </g>\n    <g id=\"text_8\">\n     <!-- $x$ (km) -->\n     <defs>\n      <path d=\"M 60.015625 54.6875 \nL 34.90625 27.875 \nL 50.296875 0 \nL 39.984375 0 \nL 28.421875 21.6875 \nL 8.296875 0 \nL -2.59375 0 \nL 24.3125 28.8125 \nL 10.015625 54.6875 \nL 20.3125 54.6875 \nL 30.8125 34.90625 \nL 49.125 54.6875 \nz\n\" id=\"DejaVuSans-Oblique-120\"/>\n      <path id=\"DejaVuSans-32\"/>\n      <path d=\"M 31 75.875 \nQ 24.46875 64.65625 21.28125 53.65625 \nQ 18.109375 42.671875 18.109375 31.390625 \nQ 18.109375 20.125 21.3125 9.0625 \nQ 24.515625 -2 31 -13.1875 \nL 23.1875 -13.1875 \nQ 15.875 -1.703125 12.234375 9.375 \nQ 8.59375 20.453125 8.59375 31.390625 \nQ 8.59375 42.28125 12.203125 53.3125 \nQ 15.828125 64.359375 23.1875 75.875 \nz\n\" id=\"DejaVuSans-40\"/>\n      <path d=\"M 9.078125 75.984375 \nL 18.109375 75.984375 \nL 18.109375 31.109375 \nL 44.921875 54.6875 \nL 56.390625 54.6875 \nL 27.390625 29.109375 \nL 57.625 0 \nL 45.90625 0 \nL 18.109375 26.703125 \nL 18.109375 0 \nL 9.078125 0 \nz\n\" id=\"DejaVuSans-107\"/>\n      <path d=\"M 52 44.1875 \nQ 55.375 50.25 60.0625 53.125 \nQ 64.75 56 71.09375 56 \nQ 79.640625 56 84.28125 50.015625 \nQ 88.921875 44.046875 88.921875 33.015625 \nL 88.921875 0 \nL 79.890625 0 \nL 79.890625 32.71875 \nQ 79.890625 40.578125 77.09375 44.375 \nQ 74.3125 48.1875 68.609375 48.1875 \nQ 61.625 48.1875 57.5625 43.546875 \nQ 53.515625 38.921875 53.515625 30.90625 \nL 53.515625 0 \nL 44.484375 0 \nL 44.484375 32.71875 \nQ 44.484375 40.625 41.703125 44.40625 \nQ 38.921875 48.1875 33.109375 48.1875 \nQ 26.21875 48.1875 22.15625 43.53125 \nQ 18.109375 38.875 18.109375 30.90625 \nL 18.109375 0 \nL 9.078125 0 \nL 9.078125 54.6875 \nL 18.109375 54.6875 \nL 18.109375 46.1875 \nQ 21.1875 51.21875 25.484375 53.609375 \nQ 29.78125 56 35.6875 56 \nQ 41.65625 56 45.828125 52.96875 \nQ 50 49.953125 52 44.1875 \nz\n\" id=\"DejaVuSans-109\"/>\n      <path d=\"M 8.015625 75.875 \nL 15.828125 75.875 \nQ 23.140625 64.359375 26.78125 53.3125 \nQ 30.421875 42.28125 30.421875 31.390625 \nQ 30.421875 20.453125 26.78125 9.375 \nQ 23.140625 -1.703125 15.828125 -13.1875 \nL 8.015625 -13.1875 \nQ 14.5 -2 17.703125 9.0625 \nQ 20.90625 20.125 20.90625 31.390625 \nQ 20.90625 42.671875 17.703125 53.65625 \nQ 14.5 64.65625 8.015625 75.875 \nz\n\" id=\"DejaVuSans-41\"/>\n     </defs>\n     <g transform=\"translate(208.553125 361.636562)scale(0.1 -0.1)\">\n      <use transform=\"translate(0 0.015625)\" xlink:href=\"#DejaVuSans-Oblique-120\"/>\n      <use transform=\"translate(59.179688 0.015625)\" xlink:href=\"#DejaVuSans-32\"/>\n      <use transform=\"translate(90.966797 0.015625)\" xlink:href=\"#DejaVuSans-40\"/>\n      <use transform=\"translate(129.980469 0.015625)\" xlink:href=\"#DejaVuSans-107\"/>\n      <use transform=\"translate(187.890625 0.015625)\" xlink:href=\"#DejaVuSans-109\"/>\n      <use transform=\"translate(285.302734 0.015625)\" xlink:href=\"#DejaVuSans-41\"/>\n     </g>\n    </g>\n   </g>\n   <g id=\"matplotlib.axis_2\">\n    <g id=\"ytick_1\">\n     <g id=\"line2d_8\">\n      <defs>\n       <path d=\"M 0 0 \nL -3.5 0 \n\" id=\"mb4cb0cf7a9\" style=\"stroke:#000000;stroke-width:0.8;\"/>\n      </defs>\n      <g>\n       <use style=\"stroke:#000000;stroke-width:0.8;\" x=\"61.729687\" xlink:href=\"#mb4cb0cf7a9\" y=\"294.068769\"/>\n      </g>\n     </g>\n     <g id=\"text_9\">\n      <!-- −6000 -->\n      <g transform=\"translate(20.9 297.867988)scale(0.1 -0.1)\">\n       <use xlink:href=\"#DejaVuSans-8722\"/>\n       <use x=\"83.789062\" xlink:href=\"#DejaVuSans-54\"/>\n       <use x=\"147.412109\" xlink:href=\"#DejaVuSans-48\"/>\n       <use x=\"211.035156\" xlink:href=\"#DejaVuSans-48\"/>\n       <use x=\"274.658203\" xlink:href=\"#DejaVuSans-48\"/>\n      </g>\n     </g>\n    </g>\n    <g id=\"ytick_2\">\n     <g id=\"line2d_9\">\n      <g>\n       <use style=\"stroke:#000000;stroke-width:0.8;\" x=\"61.729687\" xlink:href=\"#mb4cb0cf7a9\" y=\"252.806573\"/>\n      </g>\n     </g>\n     <g id=\"text_10\">\n      <!-- −4000 -->\n      <g transform=\"translate(20.9 256.605792)scale(0.1 -0.1)\">\n       <use xlink:href=\"#DejaVuSans-8722\"/>\n       <use x=\"83.789062\" xlink:href=\"#DejaVuSans-52\"/>\n       <use x=\"147.412109\" xlink:href=\"#DejaVuSans-48\"/>\n       <use x=\"211.035156\" xlink:href=\"#DejaVuSans-48\"/>\n       <use x=\"274.658203\" xlink:href=\"#DejaVuSans-48\"/>\n      </g>\n     </g>\n    </g>\n    <g id=\"ytick_3\">\n     <g id=\"line2d_10\">\n      <g>\n       <use style=\"stroke:#000000;stroke-width:0.8;\" x=\"61.729687\" xlink:href=\"#mb4cb0cf7a9\" y=\"211.544377\"/>\n      </g>\n     </g>\n     <g id=\"text_11\">\n      <!-- −2000 -->\n      <g transform=\"translate(20.9 215.343596)scale(0.1 -0.1)\">\n       <use xlink:href=\"#DejaVuSans-8722\"/>\n       <use x=\"83.789062\" xlink:href=\"#DejaVuSans-50\"/>\n       <use x=\"147.412109\" xlink:href=\"#DejaVuSans-48\"/>\n       <use x=\"211.035156\" xlink:href=\"#DejaVuSans-48\"/>\n       <use x=\"274.658203\" xlink:href=\"#DejaVuSans-48\"/>\n      </g>\n     </g>\n    </g>\n    <g id=\"ytick_4\">\n     <g id=\"line2d_11\">\n      <g>\n       <use style=\"stroke:#000000;stroke-width:0.8;\" x=\"61.729687\" xlink:href=\"#mb4cb0cf7a9\" y=\"170.282181\"/>\n      </g>\n     </g>\n     <g id=\"text_12\">\n      <!-- 0 -->\n      <g transform=\"translate(48.367187 174.0814)scale(0.1 -0.1)\">\n       <use xlink:href=\"#DejaVuSans-48\"/>\n      </g>\n     </g>\n    </g>\n    <g id=\"ytick_5\">\n     <g id=\"line2d_12\">\n      <g>\n       <use style=\"stroke:#000000;stroke-width:0.8;\" x=\"61.729687\" xlink:href=\"#mb4cb0cf7a9\" y=\"129.019985\"/>\n      </g>\n     </g>\n     <g id=\"text_13\">\n      <!-- 2000 -->\n      <g transform=\"translate(29.279687 132.819204)scale(0.1 -0.1)\">\n       <use xlink:href=\"#DejaVuSans-50\"/>\n       <use x=\"63.623047\" xlink:href=\"#DejaVuSans-48\"/>\n       <use x=\"127.246094\" xlink:href=\"#DejaVuSans-48\"/>\n       <use x=\"190.869141\" xlink:href=\"#DejaVuSans-48\"/>\n      </g>\n     </g>\n    </g>\n    <g id=\"ytick_6\">\n     <g id=\"line2d_13\">\n      <g>\n       <use style=\"stroke:#000000;stroke-width:0.8;\" x=\"61.729687\" xlink:href=\"#mb4cb0cf7a9\" y=\"87.757789\"/>\n      </g>\n     </g>\n     <g id=\"text_14\">\n      <!-- 4000 -->\n      <g transform=\"translate(29.279687 91.557008)scale(0.1 -0.1)\">\n       <use xlink:href=\"#DejaVuSans-52\"/>\n       <use x=\"63.623047\" xlink:href=\"#DejaVuSans-48\"/>\n       <use x=\"127.246094\" xlink:href=\"#DejaVuSans-48\"/>\n       <use x=\"190.869141\" xlink:href=\"#DejaVuSans-48\"/>\n      </g>\n     </g>\n    </g>\n    <g id=\"ytick_7\">\n     <g id=\"line2d_14\">\n      <g>\n       <use style=\"stroke:#000000;stroke-width:0.8;\" x=\"61.729687\" xlink:href=\"#mb4cb0cf7a9\" y=\"46.495593\"/>\n      </g>\n     </g>\n     <g id=\"text_15\">\n      <!-- 6000 -->\n      <g transform=\"translate(29.279687 50.294812)scale(0.1 -0.1)\">\n       <use xlink:href=\"#DejaVuSans-54\"/>\n       <use x=\"63.623047\" xlink:href=\"#DejaVuSans-48\"/>\n       <use x=\"127.246094\" xlink:href=\"#DejaVuSans-48\"/>\n       <use x=\"190.869141\" xlink:href=\"#DejaVuSans-48\"/>\n      </g>\n     </g>\n    </g>\n    <g id=\"text_16\">\n     <!-- $y$ (km) -->\n     <defs>\n      <path d=\"M 24.8125 -5.078125 \nQ 18.5625 -15.578125 14.625 -18.1875 \nQ 10.6875 -20.796875 4.59375 -20.796875 \nL -2.484375 -20.796875 \nL -0.984375 -13.28125 \nL 4.203125 -13.28125 \nQ 7.953125 -13.28125 10.59375 -11.234375 \nQ 13.234375 -9.1875 16.5 -3.21875 \nL 19.28125 2 \nL 7.171875 54.6875 \nL 16.703125 54.6875 \nL 25.78125 12.796875 \nL 50.875 54.6875 \nL 60.296875 54.6875 \nz\n\" id=\"DejaVuSans-Oblique-121\"/>\n     </defs>\n     <g transform=\"translate(14.8 186.53)rotate(-90)scale(0.1 -0.1)\">\n      <use transform=\"translate(0 0.015625)\" xlink:href=\"#DejaVuSans-Oblique-121\"/>\n      <use transform=\"translate(59.179688 0.015625)\" xlink:href=\"#DejaVuSans-32\"/>\n      <use transform=\"translate(90.966797 0.015625)\" xlink:href=\"#DejaVuSans-40\"/>\n      <use transform=\"translate(129.980469 0.015625)\" xlink:href=\"#DejaVuSans-107\"/>\n      <use transform=\"translate(187.890625 0.015625)\" xlink:href=\"#DejaVuSans-109\"/>\n      <use transform=\"translate(285.302734 0.015625)\" xlink:href=\"#DejaVuSans-41\"/>\n     </g>\n    </g>\n   </g>\n   <g id=\"line2d_15\">\n    <path clip-path=\"url(#pceb32707c1)\" d=\"M 349.809027 90.538757 \nL 346.336203 85.340438 \nL 342.647324 80.293142 \nL 338.748947 75.405844 \nL 334.648004 70.687232 \nL 330.351786 66.145696 \nL 325.867932 61.789312 \nL 321.204414 57.625823 \nL 316.369524 53.662634 \nL 311.371857 49.90679 \nL 306.220299 46.364969 \nL 300.92401 43.043468 \nL 295.492407 39.948193 \nL 289.935146 37.084647 \nL 284.262107 34.457921 \nL 278.483379 32.072686 \nL 272.609234 29.933183 \nL 266.650117 28.043214 \nL 260.616624 26.406142 \nL 254.51948 25.024876 \nL 248.369528 23.901872 \nL 242.1777 23.039127 \nL 235.955007 22.438174 \nL 229.712511 22.100083 \nL 223.461312 22.025455 \nL 217.212524 22.214421 \nL 210.977258 22.666646 \nL 204.766599 23.381327 \nL 198.591589 24.357192 \nL 192.463208 25.592506 \nL 186.392352 27.085073 \nL 180.389813 28.832239 \nL 174.466266 30.830898 \nL 168.632241 33.077497 \nL 162.898112 35.56804 \nL 157.274072 38.2981 \nL 151.770122 41.262823 \nL 146.396048 44.456938 \nL 141.161404 47.874765 \nL 136.075497 51.510229 \nL 131.14737 55.356864 \nL 126.385786 59.407833 \nL 121.799209 63.655932 \nL 117.395794 68.093609 \nL 113.183372 72.712973 \nL 109.16943 77.505812 \nL 105.361107 82.463604 \nL 101.765172 87.577534 \nL 98.38802 92.838509 \nL 95.235655 98.237177 \nL 92.313681 103.763939 \nL 89.627295 109.408967 \nL 87.181271 115.162225 \nL 84.979959 121.013485 \nL 83.027274 126.952343 \nL 81.326686 132.96824 \nL 79.881219 139.050479 \nL 78.693443 145.188248 \nL 77.765471 151.370632 \nL 77.098952 157.586641 \nL 76.695071 163.825221 \nL 76.554545 170.075282 \nL 76.677626 176.325711 \nL 77.064094 182.565395 \nL 77.713262 188.783239 \nL 78.623976 194.968189 \nL 79.794617 201.109249 \nL 81.223102 207.195499 \nL 82.906893 213.216118 \nL 84.842996 219.160403 \nL 87.027969 225.017784 \nL 89.457926 230.777847 \nL 92.128547 236.430351 \nL 95.035084 241.965246 \nL 98.172369 247.372691 \nL 101.534825 252.643071 \nL 105.116473 257.767018 \nL 108.910944 262.735419 \nL 112.911493 267.539442 \nL 117.111007 272.170545 \nL 121.502019 276.620494 \nL 126.076722 280.881378 \nL 130.826982 284.94562 \nL 135.744354 288.805995 \nL 140.820094 292.455639 \nL 146.045178 295.888063 \nL 151.410317 299.097164 \nL 156.905971 302.077237 \nL 162.522369 304.822983 \nL 168.249525 307.32952 \nL 174.077257 309.592392 \nL 179.995204 311.607576 \nL 185.992842 313.371489 \nL 192.059509 314.880993 \nL 198.184418 316.133407 \nL 204.35668 317.126502 \nL 210.565321 317.858514 \nL 216.799301 318.32814 \nL 223.047537 318.534545 \nL 229.29892 318.477364 \nL 235.542335 318.156697 \nL 241.766681 317.573114 \nL 247.960892 316.727654 \nL 254.113955 315.621818 \nL 260.21493 314.257575 \nL 266.252969 312.637348 \nL 272.217338 310.764019 \nL 278.097431 308.640918 \nL 283.882794 306.27182 \nL 289.563141 303.660938 \nL 295.128373 300.812914 \nL 300.568594 297.73281 \nL 305.874133 294.426104 \nL 311.035555 290.898675 \nL 316.043685 287.156793 \nL 320.889618 283.207113 \nL 325.564738 279.056657 \nL 330.060733 274.712804 \nL 334.369609 270.183276 \nL 338.483706 265.476129 \nL 342.395708 260.599729 \nL 346.09866 255.562749 \nL 349.585978 250.374143 \nL 352.851463 245.043136 \nL 355.889307 239.579207 \nL 358.694111 233.99207 \nL 361.260887 228.29166 \nL 363.585071 222.488111 \nL 365.662531 216.591741 \nL 367.489574 210.613035 \nL 369.062951 204.562622 \nL 370.379865 198.45126 \nL 371.437974 192.289814 \nL 372.235397 186.089239 \nL 372.770716 179.86056 \nL 373.04298 173.614851 \nL 373.051704 167.363217 \nL 372.796873 161.116772 \nL 372.27894 154.886624 \nL 371.498826 148.683847 \nL 370.457917 142.519472 \nL 369.158065 136.404458 \nL 367.601581 130.349678 \nL 365.791231 124.365896 \nL 363.730236 118.463751 \nL 361.422258 112.653738 \nL 358.871402 106.946186 \nL 356.082203 101.351243 \nL 353.05962 95.878857 \nL 349.809027 90.538757 \nL 349.809027 90.538757 \n\" style=\"fill:none;stroke:#1f77b4;stroke-dasharray:5.55,2.4;stroke-dashoffset:0;stroke-width:1.5;\"/>\n   </g>\n   <g id=\"line2d_16\">\n    <defs>\n     <path d=\"M 0 3 \nC 0.795609 3 1.55874 2.683901 2.12132 2.12132 \nC 2.683901 1.55874 3 0.795609 3 0 \nC 3 -0.795609 2.683901 -1.55874 2.12132 -2.12132 \nC 1.55874 -2.683901 0.795609 -3 0 -3 \nC -0.795609 -3 -1.55874 -2.683901 -2.12132 -2.12132 \nC -2.683901 -1.55874 -3 -0.795609 -3 0 \nC -3 0.795609 -2.683901 1.55874 -2.12132 2.12132 \nC -1.55874 2.683901 -0.795609 3 0 3 \nz\n\" id=\"me725c6e7b0\"/>\n    </defs>\n    <g clip-path=\"url(#pceb32707c1)\">\n     <use style=\"fill:#1f77b4;\" x=\"349.809027\" xlink:href=\"#me725c6e7b0\" y=\"90.538757\"/>\n    </g>\n   </g>\n   <g id=\"patch_4\">\n    <path d=\"M 61.729687 333.36 \nL 61.729687 7.2 \n\" style=\"fill:none;stroke:#000000;stroke-linecap:square;stroke-linejoin:miter;stroke-width:0.8;\"/>\n   </g>\n   <g id=\"patch_5\">\n    <path d=\"M 387.876562 333.36 \nL 387.876562 7.2 \n\" style=\"fill:none;stroke:#000000;stroke-linecap:square;stroke-linejoin:miter;stroke-width:0.8;\"/>\n   </g>\n   <g id=\"patch_6\">\n    <path d=\"M 61.729687 333.36 \nL 387.876562 333.36 \n\" style=\"fill:none;stroke:#000000;stroke-linecap:square;stroke-linejoin:miter;stroke-width:0.8;\"/>\n   </g>\n   <g id=\"patch_7\">\n    <path d=\"M 61.729687 7.2 \nL 387.876562 7.2 \n\" style=\"fill:none;stroke:#000000;stroke-linecap:square;stroke-linejoin:miter;stroke-width:0.8;\"/>\n   </g>\n   <g id=\"legend_1\">\n    <g id=\"patch_8\">\n     <path d=\"M 411.183906 39.66385 \nL 533.296406 39.66385 \nQ 535.296406 39.66385 535.296406 37.66385 \nL 535.296406 9.3076 \nQ 535.296406 7.3076 533.296406 7.3076 \nL 411.183906 7.3076 \nQ 409.183906 7.3076 409.183906 9.3076 \nL 409.183906 37.66385 \nQ 409.183906 39.66385 411.183906 39.66385 \nz\n\" style=\"fill:#ffffff;opacity:0.8;stroke:#cccccc;stroke-linejoin:miter;\"/>\n    </g>\n    <g id=\"text_17\">\n     <!-- Names and epochs -->\n     <defs>\n      <path d=\"M 9.8125 72.90625 \nL 23.09375 72.90625 \nL 55.421875 11.921875 \nL 55.421875 72.90625 \nL 64.984375 72.90625 \nL 64.984375 0 \nL 51.703125 0 \nL 19.390625 60.984375 \nL 19.390625 0 \nL 9.8125 0 \nz\n\" id=\"DejaVuSans-78\"/>\n      <path d=\"M 34.28125 27.484375 \nQ 23.390625 27.484375 19.1875 25 \nQ 14.984375 22.515625 14.984375 16.5 \nQ 14.984375 11.71875 18.140625 8.90625 \nQ 21.296875 6.109375 26.703125 6.109375 \nQ 34.1875 6.109375 38.703125 11.40625 \nQ 43.21875 16.703125 43.21875 25.484375 \nL 43.21875 27.484375 \nz\nM 52.203125 31.203125 \nL 52.203125 0 \nL 43.21875 0 \nL 43.21875 8.296875 \nQ 40.140625 3.328125 35.546875 0.953125 \nQ 30.953125 -1.421875 24.3125 -1.421875 \nQ 15.921875 -1.421875 10.953125 3.296875 \nQ 6 8.015625 6 15.921875 \nQ 6 25.140625 12.171875 29.828125 \nQ 18.359375 34.515625 30.609375 34.515625 \nL 43.21875 34.515625 \nL 43.21875 35.40625 \nQ 43.21875 41.609375 39.140625 45 \nQ 35.0625 48.390625 27.6875 48.390625 \nQ 23 48.390625 18.546875 47.265625 \nQ 14.109375 46.140625 10.015625 43.890625 \nL 10.015625 52.203125 \nQ 14.9375 54.109375 19.578125 55.046875 \nQ 24.21875 56 28.609375 56 \nQ 40.484375 56 46.34375 49.84375 \nQ 52.203125 43.703125 52.203125 31.203125 \nz\n\" id=\"DejaVuSans-97\"/>\n      <path d=\"M 56.203125 29.59375 \nL 56.203125 25.203125 \nL 14.890625 25.203125 \nQ 15.484375 15.921875 20.484375 11.0625 \nQ 25.484375 6.203125 34.421875 6.203125 \nQ 39.59375 6.203125 44.453125 7.46875 \nQ 49.3125 8.734375 54.109375 11.28125 \nL 54.109375 2.78125 \nQ 49.265625 0.734375 44.1875 -0.34375 \nQ 39.109375 -1.421875 33.890625 -1.421875 \nQ 20.796875 -1.421875 13.15625 6.1875 \nQ 5.515625 13.8125 5.515625 26.8125 \nQ 5.515625 40.234375 12.765625 48.109375 \nQ 20.015625 56 32.328125 56 \nQ 43.359375 56 49.78125 48.890625 \nQ 56.203125 41.796875 56.203125 29.59375 \nz\nM 47.21875 32.234375 \nQ 47.125 39.59375 43.09375 43.984375 \nQ 39.0625 48.390625 32.421875 48.390625 \nQ 24.90625 48.390625 20.390625 44.140625 \nQ 15.875 39.890625 15.1875 32.171875 \nz\n\" id=\"DejaVuSans-101\"/>\n      <path d=\"M 44.28125 53.078125 \nL 44.28125 44.578125 \nQ 40.484375 46.53125 36.375 47.5 \nQ 32.28125 48.484375 27.875 48.484375 \nQ 21.1875 48.484375 17.84375 46.4375 \nQ 14.5 44.390625 14.5 40.28125 \nQ 14.5 37.15625 16.890625 35.375 \nQ 19.28125 33.59375 26.515625 31.984375 \nL 29.59375 31.296875 \nQ 39.15625 29.25 43.1875 25.515625 \nQ 47.21875 21.78125 47.21875 15.09375 \nQ 47.21875 7.46875 41.1875 3.015625 \nQ 35.15625 -1.421875 24.609375 -1.421875 \nQ 20.21875 -1.421875 15.453125 -0.5625 \nQ 10.6875 0.296875 5.421875 2 \nL 5.421875 11.28125 \nQ 10.40625 8.6875 15.234375 7.390625 \nQ 20.0625 6.109375 24.8125 6.109375 \nQ 31.15625 6.109375 34.5625 8.28125 \nQ 37.984375 10.453125 37.984375 14.40625 \nQ 37.984375 18.0625 35.515625 20.015625 \nQ 33.0625 21.96875 24.703125 23.78125 \nL 21.578125 24.515625 \nQ 13.234375 26.265625 9.515625 29.90625 \nQ 5.8125 33.546875 5.8125 39.890625 \nQ 5.8125 47.609375 11.28125 51.796875 \nQ 16.75 56 26.8125 56 \nQ 31.78125 56 36.171875 55.265625 \nQ 40.578125 54.546875 44.28125 53.078125 \nz\n\" id=\"DejaVuSans-115\"/>\n      <path d=\"M 54.890625 33.015625 \nL 54.890625 0 \nL 45.90625 0 \nL 45.90625 32.71875 \nQ 45.90625 40.484375 42.875 44.328125 \nQ 39.84375 48.1875 33.796875 48.1875 \nQ 26.515625 48.1875 22.3125 43.546875 \nQ 18.109375 38.921875 18.109375 30.90625 \nL 18.109375 0 \nL 9.078125 0 \nL 9.078125 54.6875 \nL 18.109375 54.6875 \nL 18.109375 46.1875 \nQ 21.34375 51.125 25.703125 53.5625 \nQ 30.078125 56 35.796875 56 \nQ 45.21875 56 50.046875 50.171875 \nQ 54.890625 44.34375 54.890625 33.015625 \nz\n\" id=\"DejaVuSans-110\"/>\n      <path d=\"M 45.40625 46.390625 \nL 45.40625 75.984375 \nL 54.390625 75.984375 \nL 54.390625 0 \nL 45.40625 0 \nL 45.40625 8.203125 \nQ 42.578125 3.328125 38.25 0.953125 \nQ 33.9375 -1.421875 27.875 -1.421875 \nQ 17.96875 -1.421875 11.734375 6.484375 \nQ 5.515625 14.40625 5.515625 27.296875 \nQ 5.515625 40.1875 11.734375 48.09375 \nQ 17.96875 56 27.875 56 \nQ 33.9375 56 38.25 53.625 \nQ 42.578125 51.265625 45.40625 46.390625 \nz\nM 14.796875 27.296875 \nQ 14.796875 17.390625 18.875 11.75 \nQ 22.953125 6.109375 30.078125 6.109375 \nQ 37.203125 6.109375 41.296875 11.75 \nQ 45.40625 17.390625 45.40625 27.296875 \nQ 45.40625 37.203125 41.296875 42.84375 \nQ 37.203125 48.484375 30.078125 48.484375 \nQ 22.953125 48.484375 18.875 42.84375 \nQ 14.796875 37.203125 14.796875 27.296875 \nz\n\" id=\"DejaVuSans-100\"/>\n      <path d=\"M 18.109375 8.203125 \nL 18.109375 -20.796875 \nL 9.078125 -20.796875 \nL 9.078125 54.6875 \nL 18.109375 54.6875 \nL 18.109375 46.390625 \nQ 20.953125 51.265625 25.265625 53.625 \nQ 29.59375 56 35.59375 56 \nQ 45.5625 56 51.78125 48.09375 \nQ 58.015625 40.1875 58.015625 27.296875 \nQ 58.015625 14.40625 51.78125 6.484375 \nQ 45.5625 -1.421875 35.59375 -1.421875 \nQ 29.59375 -1.421875 25.265625 0.953125 \nQ 20.953125 3.328125 18.109375 8.203125 \nz\nM 48.6875 27.296875 \nQ 48.6875 37.203125 44.609375 42.84375 \nQ 40.53125 48.484375 33.40625 48.484375 \nQ 26.265625 48.484375 22.1875 42.84375 \nQ 18.109375 37.203125 18.109375 27.296875 \nQ 18.109375 17.390625 22.1875 11.75 \nQ 26.265625 6.109375 33.40625 6.109375 \nQ 40.53125 6.109375 44.609375 11.75 \nQ 48.6875 17.390625 48.6875 27.296875 \nz\n\" id=\"DejaVuSans-112\"/>\n      <path d=\"M 30.609375 48.390625 \nQ 23.390625 48.390625 19.1875 42.75 \nQ 14.984375 37.109375 14.984375 27.296875 \nQ 14.984375 17.484375 19.15625 11.84375 \nQ 23.34375 6.203125 30.609375 6.203125 \nQ 37.796875 6.203125 41.984375 11.859375 \nQ 46.1875 17.53125 46.1875 27.296875 \nQ 46.1875 37.015625 41.984375 42.703125 \nQ 37.796875 48.390625 30.609375 48.390625 \nz\nM 30.609375 56 \nQ 42.328125 56 49.015625 48.375 \nQ 55.71875 40.765625 55.71875 27.296875 \nQ 55.71875 13.875 49.015625 6.21875 \nQ 42.328125 -1.421875 30.609375 -1.421875 \nQ 18.84375 -1.421875 12.171875 6.21875 \nQ 5.515625 13.875 5.515625 27.296875 \nQ 5.515625 40.765625 12.171875 48.375 \nQ 18.84375 56 30.609375 56 \nz\n\" id=\"DejaVuSans-111\"/>\n      <path d=\"M 48.78125 52.59375 \nL 48.78125 44.1875 \nQ 44.96875 46.296875 41.140625 47.34375 \nQ 37.3125 48.390625 33.40625 48.390625 \nQ 24.65625 48.390625 19.8125 42.84375 \nQ 14.984375 37.3125 14.984375 27.296875 \nQ 14.984375 17.28125 19.8125 11.734375 \nQ 24.65625 6.203125 33.40625 6.203125 \nQ 37.3125 6.203125 41.140625 7.25 \nQ 44.96875 8.296875 48.78125 10.40625 \nL 48.78125 2.09375 \nQ 45.015625 0.34375 40.984375 -0.53125 \nQ 36.96875 -1.421875 32.421875 -1.421875 \nQ 20.0625 -1.421875 12.78125 6.34375 \nQ 5.515625 14.109375 5.515625 27.296875 \nQ 5.515625 40.671875 12.859375 48.328125 \nQ 20.21875 56 33.015625 56 \nQ 37.15625 56 41.109375 55.140625 \nQ 45.0625 54.296875 48.78125 52.59375 \nz\n\" id=\"DejaVuSans-99\"/>\n      <path d=\"M 54.890625 33.015625 \nL 54.890625 0 \nL 45.90625 0 \nL 45.90625 32.71875 \nQ 45.90625 40.484375 42.875 44.328125 \nQ 39.84375 48.1875 33.796875 48.1875 \nQ 26.515625 48.1875 22.3125 43.546875 \nQ 18.109375 38.921875 18.109375 30.90625 \nL 18.109375 0 \nL 9.078125 0 \nL 9.078125 75.984375 \nL 18.109375 75.984375 \nL 18.109375 46.1875 \nQ 21.34375 51.125 25.703125 53.5625 \nQ 30.078125 56 35.796875 56 \nQ 45.21875 56 50.046875 50.171875 \nQ 54.890625 44.34375 54.890625 33.015625 \nz\n\" id=\"DejaVuSans-104\"/>\n     </defs>\n     <g transform=\"translate(424.465937 18.906037)scale(0.1 -0.1)\">\n      <use xlink:href=\"#DejaVuSans-78\"/>\n      <use x=\"74.804688\" xlink:href=\"#DejaVuSans-97\"/>\n      <use x=\"136.083984\" xlink:href=\"#DejaVuSans-109\"/>\n      <use x=\"233.496094\" xlink:href=\"#DejaVuSans-101\"/>\n      <use x=\"295.019531\" xlink:href=\"#DejaVuSans-115\"/>\n      <use x=\"347.119141\" xlink:href=\"#DejaVuSans-32\"/>\n      <use x=\"378.90625\" xlink:href=\"#DejaVuSans-97\"/>\n      <use x=\"440.185547\" xlink:href=\"#DejaVuSans-110\"/>\n      <use x=\"503.564453\" xlink:href=\"#DejaVuSans-100\"/>\n      <use x=\"567.041016\" xlink:href=\"#DejaVuSans-32\"/>\n      <use x=\"598.828125\" xlink:href=\"#DejaVuSans-101\"/>\n      <use x=\"660.351562\" xlink:href=\"#DejaVuSans-112\"/>\n      <use x=\"723.828125\" xlink:href=\"#DejaVuSans-111\"/>\n      <use x=\"785.009766\" xlink:href=\"#DejaVuSans-99\"/>\n      <use x=\"839.990234\" xlink:href=\"#DejaVuSans-104\"/>\n      <use x=\"903.369141\" xlink:href=\"#DejaVuSans-115\"/>\n     </g>\n    </g>\n    <g id=\"line2d_17\"/>\n    <g id=\"line2d_18\">\n     <g>\n      <use style=\"fill:#1f77b4;\" x=\"423.183906\" xlink:href=\"#me725c6e7b0\" y=\"30.084162\"/>\n     </g>\n    </g>\n    <g id=\"text_18\">\n     <!-- 2020-09-19 19:25 -->\n     <defs>\n      <path d=\"M 4.890625 31.390625 \nL 31.203125 31.390625 \nL 31.203125 23.390625 \nL 4.890625 23.390625 \nz\n\" id=\"DejaVuSans-45\"/>\n      <path d=\"M 10.984375 1.515625 \nL 10.984375 10.5 \nQ 14.703125 8.734375 18.5 7.8125 \nQ 22.3125 6.890625 25.984375 6.890625 \nQ 35.75 6.890625 40.890625 13.453125 \nQ 46.046875 20.015625 46.78125 33.40625 \nQ 43.953125 29.203125 39.59375 26.953125 \nQ 35.25 24.703125 29.984375 24.703125 \nQ 19.046875 24.703125 12.671875 31.3125 \nQ 6.296875 37.9375 6.296875 49.421875 \nQ 6.296875 60.640625 12.9375 67.421875 \nQ 19.578125 74.21875 30.609375 74.21875 \nQ 43.265625 74.21875 49.921875 64.515625 \nQ 56.59375 54.828125 56.59375 36.375 \nQ 56.59375 19.140625 48.40625 8.859375 \nQ 40.234375 -1.421875 26.421875 -1.421875 \nQ 22.703125 -1.421875 18.890625 -0.6875 \nQ 15.09375 0.046875 10.984375 1.515625 \nz\nM 30.609375 32.421875 \nQ 37.25 32.421875 41.125 36.953125 \nQ 45.015625 41.5 45.015625 49.421875 \nQ 45.015625 57.28125 41.125 61.84375 \nQ 37.25 66.40625 30.609375 66.40625 \nQ 23.96875 66.40625 20.09375 61.84375 \nQ 16.21875 57.28125 16.21875 49.421875 \nQ 16.21875 41.5 20.09375 36.953125 \nQ 23.96875 32.421875 30.609375 32.421875 \nz\n\" id=\"DejaVuSans-57\"/>\n      <path d=\"M 12.40625 8.296875 \nL 28.515625 8.296875 \nL 28.515625 63.921875 \nL 10.984375 60.40625 \nL 10.984375 69.390625 \nL 28.421875 72.90625 \nL 38.28125 72.90625 \nL 38.28125 8.296875 \nL 54.390625 8.296875 \nL 54.390625 0 \nL 12.40625 0 \nz\n\" id=\"DejaVuSans-49\"/>\n      <path d=\"M 11.71875 12.40625 \nL 22.015625 12.40625 \nL 22.015625 0 \nL 11.71875 0 \nz\nM 11.71875 51.703125 \nL 22.015625 51.703125 \nL 22.015625 39.3125 \nL 11.71875 39.3125 \nz\n\" id=\"DejaVuSans-58\"/>\n      <path d=\"M 10.796875 72.90625 \nL 49.515625 72.90625 \nL 49.515625 64.59375 \nL 19.828125 64.59375 \nL 19.828125 46.734375 \nQ 21.96875 47.46875 24.109375 47.828125 \nQ 26.265625 48.1875 28.421875 48.1875 \nQ 40.625 48.1875 47.75 41.5 \nQ 54.890625 34.8125 54.890625 23.390625 \nQ 54.890625 11.625 47.5625 5.09375 \nQ 40.234375 -1.421875 26.90625 -1.421875 \nQ 22.3125 -1.421875 17.546875 -0.640625 \nQ 12.796875 0.140625 7.71875 1.703125 \nL 7.71875 11.625 \nQ 12.109375 9.234375 16.796875 8.0625 \nQ 21.484375 6.890625 26.703125 6.890625 \nQ 35.15625 6.890625 40.078125 11.328125 \nQ 45.015625 15.765625 45.015625 23.390625 \nQ 45.015625 31 40.078125 35.4375 \nQ 35.15625 39.890625 26.703125 39.890625 \nQ 22.75 39.890625 18.8125 39.015625 \nQ 14.890625 38.140625 10.796875 36.28125 \nz\n\" id=\"DejaVuSans-53\"/>\n     </defs>\n     <g transform=\"translate(441.183906 33.584162)scale(0.1 -0.1)\">\n      <use xlink:href=\"#DejaVuSans-50\"/>\n      <use x=\"63.623047\" xlink:href=\"#DejaVuSans-48\"/>\n      <use x=\"127.246094\" xlink:href=\"#DejaVuSans-50\"/>\n      <use x=\"190.869141\" xlink:href=\"#DejaVuSans-48\"/>\n      <use x=\"254.492188\" xlink:href=\"#DejaVuSans-45\"/>\n      <use x=\"290.576172\" xlink:href=\"#DejaVuSans-48\"/>\n      <use x=\"354.199219\" xlink:href=\"#DejaVuSans-57\"/>\n      <use x=\"417.822266\" xlink:href=\"#DejaVuSans-45\"/>\n      <use x=\"453.90625\" xlink:href=\"#DejaVuSans-49\"/>\n      <use x=\"517.529297\" xlink:href=\"#DejaVuSans-57\"/>\n      <use x=\"581.152344\" xlink:href=\"#DejaVuSans-32\"/>\n      <use x=\"612.939453\" xlink:href=\"#DejaVuSans-49\"/>\n      <use x=\"676.5625\" xlink:href=\"#DejaVuSans-57\"/>\n      <use x=\"740.185547\" xlink:href=\"#DejaVuSans-58\"/>\n      <use x=\"773.876953\" xlink:href=\"#DejaVuSans-50\"/>\n      <use x=\"837.5\" xlink:href=\"#DejaVuSans-53\"/>\n     </g>\n    </g>\n   </g>\n  </g>\n </g>\n <defs>\n  <clipPath id=\"pceb32707c1\">\n   <rect height=\"326.16\" width=\"326.146875\" x=\"61.729687\" y=\"7.2\"/>\n  </clipPath>\n </defs>\n</svg>\n",
      "image/png": "[encoded data removed]"
     },
     "metadata": {
      "needs_background": "light"
     }
    }
   ],
   "source": [
    "# Let's get the TLE orbital data for the target satellite. As an example, let's pick a dead NOAA-17 sat.\n",
    "# Its TLE data can be obtained from many places, such as celestrak or n2yo (https://www.n2yo.com/satellite/?s=27453)\n",
    "\n",
    "tle_text = \"\"\"NOAA-17\n",
    "1 27453U 02032A   20263.80942421 -.00000011 +00000-0 +13583-4 0  9998\n",
    "2 27453 098.5909 208.3215 0011096 327.5463 032.5033 14.25072668948324\"\"\"\n",
    "tle_lines = tle_text.strip().splitlines()\n",
    "\n",
    "tle = TLE.from_lines(*tle_lines)\n",
    "\n",
    "orb2 = tle.to_orbit()\n",
    "\n",
    "orb2.plot()"
   ]
  },
  {
   "cell_type": "code",
   "execution_count": 3,
   "metadata": {},
   "outputs": [
    {
     "output_type": "execute_result",
     "data": {
      "text/plain": [
       "7178 x 7194 km x 98.6 deg (GCRS) orbit around Earth (♁) at epoch 2020-09-19T19:25:34.251744000 (UTC)"
      ]
     },
     "metadata": {},
     "execution_count": 3
    }
   ],
   "source": [
    "orb2"
   ]
  },
  {
   "cell_type": "code",
   "execution_count": 4,
   "metadata": {},
   "outputs": [
    {
     "output_type": "execute_result",
     "data": {
      "text/plain": [
       "(<Quantity 7186.38534253 km>,\n",
       " <Quantity 0.0011096>,\n",
       " <Quantity 98.5909 deg>,\n",
       " <Quantity 208.3215 deg>,\n",
       " <Quantity 327.5463 deg>,\n",
       " <Quantity 32.57170424 deg>)"
      ]
     },
     "metadata": {},
     "execution_count": 4
    }
   ],
   "source": [
    "# This will return classical elements: Semimajor axis (𝑎), eccentricity (e), inclination (i), RAAN (Ω) - right ascension of the ascending node, argument or perigeum (𝜔), nu (𝜈) - true anomaly\n",
    "orb2.classical()"
   ]
  },
  {
   "cell_type": "code",
   "execution_count": 5,
   "metadata": {
    "tags": []
   },
   "outputs": [
    {
     "output_type": "stream",
     "name": "stdout",
     "text": [
      "There are 2 impulses needed to conduct Hohmann transfer\n(<Quantity -547.39608549 s>, <Quantity [-1153.06909054,  -311.1783978 ,  1807.77931493] m / s>)\n(<Quantity 15784.68720455 s>, <Quantity [  749.72472309,   202.32797847, -1175.41685698] m / s>)\nThe total Delta-v cost is 3.575440182097535 km / s, the total time is 15237.29111905773 s\n"
     ]
    }
   ],
   "source": [
    "# Define a Hohmann manouver that raises an orbit to 36000km\n",
    "hoh = Maneuver.hohmann(orb2, 36000 * u.km)\n",
    "print(\"There are %s impulses needed to conduct Hohmann transfer\" % len(hoh.impulses))\n",
    "print(hoh.impulses[0])\n",
    "print(hoh.impulses[1])\n",
    "print(\"The total Delta-v cost is %s, the total time is %s\" % (hoh.get_total_cost(), hoh.get_total_time()))"
   ]
  },
  {
   "cell_type": "code",
   "execution_count": 6,
   "metadata": {},
   "outputs": [
    {
     "output_type": "display_data",
     "data": {
      "application/vnd.plotly.v1+json": {
       "config": {
        "plotlyServerURL": "https://plot.ly"
       },
       "data": [
        {
         "hoverinfo": "none",
         "line": {
          "color": "rgb(31, 119, 180)",
          "dash": "dash",
          "width": 2
         },
         "mode": "lines",
         "name": "2020-09-19 19:25 (NOAA-17 - LEO,Initial orbit)",
         "type": "scatter",
         "x": [
          6050.43383295228,
          5882.104275915697,
          5703.302374627773,
          5514.346032343978,
          5315.571206545306,
          5107.3313116181425,
          4889.99659049636,
          4663.953456382917,
          4429.603805721283,
          4187.364303638199,
          3937.6656431283313,
          3680.951779297804,
          3417.679140028252,
          3148.315814464675,
          2873.3407207700616,
          2593.24275462633,
          2308.5199199956705,
          2019.6784436876587,
          1727.2318753064656,
          1431.700174178437,
          1133.6087848833313,
          833.4877030330649,
          531.8705329588402,
          229.29353898214595,
          -73.70530804368354,
          -376.5872872259747,
          -678.8138854588015,
          -979.8477548796859,
          -1279.153668254406,
          -1576.1994705915652,
          -1870.4570252947035,
          -2161.4031531698965,
          -2448.520562619284,
          -2731.2987693666473,
          -3009.2350040797996,
          -3281.835106276164,
          -3548.6144029220404,
          -3809.0985701635473,
          -4062.824476657203,
          -4309.341007000461,
          -4548.209863798522,
          -4779.006346941026,
          -5001.320108703406,
          -5214.755883330154,
          -5418.934189802885,
          -5613.492006543776,
          -5798.083416854669,
          -5972.380223944318,
          -6136.072534450333,
          -6288.869309418258,
          -6430.498881758214,
          -6560.709439259075,
          -6679.26947230137,
          -6785.96818547297,
          -6880.615872355607,
          -6963.044252815982,
          -7033.106772201702,
          -7090.678861910089,
          -7135.658160866618,
          -7167.964697519172,
          -7187.54103202455,
          -7194.352358374399,
          -7188.386566279032,
          -7169.6542626990895,
          -7138.188752986735,
          -7094.045981669967,
          -7037.304432985288,
          -6968.064991335585,
          -6886.450761921356,
          -6792.606851864153,
          -6686.700112211409,
          -6568.918841281376,
          -6439.472449875573,
          -6298.591088954029,
          -6146.525240435279,
          -5983.545271848647,
          -5809.940955630655,
          -5626.020953920197,
          -5432.1122697685205,
          -5228.559665739725,
          -5015.725050935544,
          -4793.986837534112,
          -4563.739267986958,
          -4325.391714070338,
          -4079.3679490370696,
          -3826.10539416324,
          -3566.0543410291166,
          -3299.6771509171085,
          -3027.4474327503485,
          -2749.849201033239,
          -2467.376015291396,
          -2180.5301025407634,
          -1889.8214643463334,
          -1595.7669700580032,
          -1298.8894378356654,
          -999.7167050976809,
          -698.7806900451233,
          -396.61644593070787,
          -93.76120975357708,
          209.24655292842453,
          511.8681053709306,
          813.5653974972629,
          1113.8020225318496,
          1412.0441707119394,
          1707.7615783817964,
          2000.4284707822242,
          2289.524496858815,
          2574.5356544271904,
          2854.9552040501126,
          3130.284570001696,
          3400.0342267168835,
          3663.7245691499934,
          3920.886765495064,
          4171.06359075159,
          4413.810239653975,
          4648.695117519033,
          4875.3006076055735,
          5093.2238136217275,
          5302.077276059882,
          5501.4896610855085,
          5691.1064207551935,
          5870.590423389922,
          6039.622552982927,
          6197.90227657628,
          6345.14817859753,
          6481.09846120634,
          6605.511409761457,
          6718.165822580555,
          6818.861404228741,
          6907.419121636527,
          6983.681522414103,
          7047.513014795928,
          7098.80010871795,
          7137.451617598796,
          7163.398820466187,
          7176.595584140312,
          7177.018445256954,
          7164.666651984473,
          7139.562165360561,
          7101.74962024629,
          7051.296245966982,
          6988.291746780913,
          6912.848142388408,
          6825.099568764917,
          6725.202039672129,
          6613.333169271211,
          6489.69185633131,
          6354.497930594783,
          6207.991761927962,
          6050.43383295228
         ],
         "y": [
          3865.205074401939,
          4117.170286648986,
          4361.815320374292,
          4598.705205635728,
          4827.418760862118,
          5047.549341698716,
          5258.705564006026,
          5460.511999726511,
          5652.609844381974,
          5834.6575550148555,
          6006.331457439112,
          6167.326321721133,
          6317.355904867411,
          6456.153459754149,
          6583.472209393888,
          6699.0857856960165,
          6802.788631940954,
          6894.396368252508,
          6973.746119418563,
          7040.696804477248,
          7095.129387553767,
          7136.947089501814,
          7166.075559973381,
          7182.463009610956,
          7186.080302127109,
          7176.921006107754,
          7155.001406446961,
          7120.360475393014,
          7073.059803257179,
          7013.183488908366,
          6940.837990248425,
          6856.151934933866,
          6759.275891680587,
          6650.382102558195,
          6529.664176749895,
          6397.336746322409,
          6253.635084618003,
          6098.814687947097,
          5933.150821325099,
          5756.938029061301,
          5570.489611069799,
          5374.13706583373,
          5168.22950101303,
          4953.133012743753,
          4729.230034732536,
          4496.918658303388,
          4256.611924605851,
          4008.7370902429266,
          3753.7348676244223,
          3492.0586413963497,
          3224.173662339597,
          2950.556220170988,
          2671.69279671759,
          2388.0792009697175,
          2100.2196875507148,
          1808.626060170588,
          1513.8167616576661,
          1216.3159521862453,
          916.6525773388566,
          615.3594276603885,
          312.9721913758349,
          10.028501956311175,
          -292.93301777374336,
          -595.3737132881774,
          -896.755856067356,
          -1196.5435996597694,
          -1494.203932397455,
          -1789.207625071333,
          -2081.0301718814017,
          -2369.152722988908,
          -2653.0630070124507,
          -2932.2562418277607,
          -3206.2360320519524,
          -3474.5152516163403,
          -3736.61690985887,
          -3992.074999596054,
          -4240.435325666775,
          -4481.256312474685,
          -4714.109789093528,
          -4938.58175053941,
          -5154.27309385652,
          -5360.800327707676,
          -5557.796254207895,
          -5744.910621788808,
          -5921.810747933248,
          -6088.182110672544,
          -6243.728907795123,
          -6388.174582772087,
          -6521.26231646457,
          -6642.755483738852,
          -6752.438074177157,
          -6850.115076136341,
          -6935.612823471449,
          -7008.779304307783,
          -7069.484431312487,
          -7117.620272985056,
          -7153.101245555616,
          -7175.864265149745,
          -7185.8688599493,
          -7183.097242149821,
          -7167.55433958661,
          -7139.26778697322,
          -7098.287876767934,
          -7044.687469755618,
          -6978.5618655039025,
          -6900.028632924019,
          -6809.227401237586,
          -6706.31961172093,
          -6591.488230668396,
          -6464.937424084954,
          -6326.892194686489,
          -6177.597981853196,
          -6017.320225247277,
          -5846.34389287098,
          -5664.97297440382,
          -5473.5299407200655,
          -5272.355170547267,
          -5061.806345285333,
          -4842.257813062008,
          -4614.0999231556025,
          -4377.738331968202,
          -4133.593281783396,
          -3882.0988535908227,
          -3623.702195306021,
          -3358.8627267577604,
          -3088.051322856313,
          -2811.749476395112,
          -2530.448441974066,
          -2244.648362566859,
          -1954.8573802849783,
          -1661.5907329195702,
          -1365.3698378674771,
          -1066.721365070095,
          -766.1763006135011,
          -464.2690026544824,
          -161.53625135132006,
          141.4837055117987,
          444.25210950968994,
          746.2306494689669,
          1046.8824185656813,
          1345.6728689260758,
          1642.070762033166,
          1935.5491132494647,
          2225.586128776411,
          2511.66613338472,
          2793.2804872661222,
          3069.928490376359,
          3341.118272661632,
          3606.3676685855576,
          3865.205074401939
         ]
        },
        {
         "marker": {
          "color": "rgb(31, 119, 180)",
          "size": 10
         },
         "mode": "markers",
         "name": "2020-09-19 19:25 (NOAA-17 - LEO,Initial orbit)",
         "type": "scatter",
         "x": [
          6050.433832952278
         ],
         "y": [
          3865.2050744019384
         ]
        },
        {
         "hoverinfo": "none",
         "line": {
          "color": "rgb(255, 127, 14)",
          "dash": "dash",
          "width": 2
         },
         "mode": "lines",
         "name": "2020-09-19 19:16 (Transfer orbit - Hohmann transfer)",
         "type": "scatter",
         "x": [
          7178.4113293525925,
          7159.218919444202,
          7101.6758131234565,
          7005.8843199334715,
          6872.014753653423,
          6700.305129486852,
          6491.060740879324,
          6244.65361671783,
          5961.521859876993,
          5642.168868288146,
          5287.16243991617,
          4897.13376323549,
          4472.776294999896,
          4014.8445273018474,
          3524.1526461129797,
          3001.5730836912676,
          2448.0349674281606,
          1864.5224678941313,
          1252.0730490191963,
          611.7756235200204,
          -55.23138314726293,
          -747.7620568658367,
          -1464.5851033704248,
          -2204.426037443339,
          -2965.9694489027875,
          -3747.86134135426,
          -4548.711539546513,
          -5367.096161052636,
          -6201.560147880884,
          -7050.619853514763,
          -7912.765680782402,
          -8786.46476586522,
          -9670.163703673861,
          -10562.291309745717,
          -11461.261413753604,
          -12365.47567965872,
          -13273.32644749381,
          -14183.199591723796,
          -15093.47739110233,
          -16002.541404920845,
          -16908.77535053725,
          -17810.567977067447,
          -18706.3159301306,
          -19594.426602554697,
          -20473.320965973937,
          -21341.436378283735,
          -22197.22936196115,
          -23039.178348311594,
          -23865.786382762635,
          -24675.583786394396,
          -25467.130768975214,
          -26239.019988855915,
          -26989.879055172183,
          -27718.372967905158,
          -28423.206491462995,
          -29103.12645756225,
          -29756.92399331552,
          -30383.4366705633,
          -30981.550572628767,
          -31550.202274821007,
          -32088.380735165345,
          -32595.129091999064,
          -33069.54636523643,
          -33510.78905827859,
          -33918.07265771957,
          -34290.67302818253,
          -34627.92769980616,
          -34929.23704609169,
          -35194.06535001716,
          -35421.94175652253,
          -35612.461109672964,
          -35765.28467301115,
          -35880.14073181848,
          -35956.82507621385,
          -35995.20136423134,
          -35995.20136423134,
          -35956.825076213856,
          -35880.14073181849,
          -35765.28467301117,
          -35612.46110967298,
          -35421.94175652256,
          -35194.06535001719,
          -34929.23704609173,
          -34627.92769980619,
          -34290.67302818258,
          -33918.07265771961,
          -33510.789058278635,
          -33069.54636523647,
          -32595.129091999108,
          -32088.380735165403,
          -31550.20227482106,
          -30981.550572628825,
          -30383.43667056336,
          -29756.92399331559,
          -29103.126457562314,
          -28423.206491463076,
          -27718.37296790524,
          -26989.879055172267,
          -26239.019988855987,
          -25467.130768975287,
          -24675.58378639447,
          -23865.786382762708,
          -23039.17834831167,
          -22197.229361961214,
          -21341.43637828385,
          -20473.320965974028,
          -19594.42660255476,
          -18706.315930130713,
          -17810.567977067545,
          -16908.775350537348,
          -16002.541404920928,
          -15093.477391102431,
          -14183.199591723896,
          -13273.32644749388,
          -12365.475679658817,
          -11461.261413753686,
          -10562.2913097458,
          -9670.163703673943,
          -8786.464765865321,
          -7912.76568078249,
          -7050.619853514842,
          -6201.560147880946,
          -5367.096161052701,
          -4548.711539546588,
          -3747.8613413543335,
          -2965.9694489028598,
          -2204.426037443408,
          -1464.585103370493,
          -747.7620568659158,
          -55.23138314732569,
          611.7756235199595,
          1252.0730490191272,
          1864.5224678940758,
          2448.0349674281083,
          3001.573083691217,
          3524.152646112947,
          4014.844527301792,
          4472.776294999856,
          4897.1337632354525,
          5287.162439916136,
          5642.168868288114,
          5961.521859876956,
          6244.653616717806,
          6491.060740879304,
          6700.305129486835,
          6872.0147536534105,
          7005.884319933461,
          7101.675813123449,
          7159.218919444197,
          7178.4113293525925
         ],
         "y": [
          -1.9099388737231493e-11,
          677.6887878340222,
          1354.1726697341805,
          2028.2488820453882,
          2698.7189418612143,
          3364.390777882783,
          4024.080849878012,
          4676.616252972962,
          5320.836803033907,
          5955.597099432391,
          6579.768561525738,
          7192.241435232203,
          7791.926766133351,
          8377.75833559514,
          8948.694556465849,
          9503.720324979899,
          10041.84882557547,
          10562.123285416412,
          11063.618675499527,
          11545.4433553223,
          12006.740658187256,
          12446.690414323995,
          12864.510409121236,
          13259.457773875713,
          13630.830306585704,
          13977.967720440574,
          14300.252817786553,
          14597.112587481726,
          14868.01922368888,
          15112.491064295022,
          15330.093447289082,
          15520.439483575059,
          15683.190744846726,
          15818.057865300838,
          15924.801056118935,
          16003.23053180311,
          16053.206847607724,
          16074.641147467068,
          16067.495321978206,
          16031.782076158062,
          15967.564906854437,
          15874.957989850862,
          15754.125976866275,
          15605.28370281024,
          15428.695803814324,
          15224.676246718715,
          14993.587770850634,
          14735.841243087089,
          14451.894927348472,
          14142.253669822123,
          13807.468001364168,
          13448.133158675828,
          13064.888025994147,
          12658.413999179305,
          12229.433774217481,
          11778.7100622939,
          11307.044233720128,
          10815.274893126818,
          10304.27638845542,
          9774.957256399373,
          9228.25860705904,
          8665.152450682233,
          8086.639969465576,
          7493.749737488999,
          6887.535891948632,
          6269.076258939302,
          5639.470437118973,
          4999.8378426627005,
          4351.315718981279,
          3695.057114744117,
          3032.2288338006365,
          2364.0093606458704,
          1691.5867651176268,
          1016.1565900521327,
          338.9197256521238,
          -338.9197256519219,
          -1016.156590051949,
          -1691.586765117443,
          -2364.009360645652,
          -3032.2288338004582,
          -3695.057114743917,
          -4351.31571898111,
          -4999.83784266252,
          -5639.470437118791,
          -6269.076258939109,
          -6887.535891948461,
          -7493.749737488837,
          -8086.639969465403,
          -8665.152450682062,
          -9228.258607058855,
          -9774.95725639921,
          -10304.276388455253,
          -10815.27489312666,
          -11307.044233719967,
          -11778.710062293747,
          -12229.433774217327,
          -12658.413999179153,
          -13064.888025994,
          -13448.13315867569,
          -13807.468001364034,
          -14142.253669821992,
          -14451.894927348343,
          -14735.841243086967,
          -14993.587770850525,
          -15224.6762467186,
          -15428.695803814211,
          -15605.283702810138,
          -15754.125976866173,
          -15874.957989850765,
          -15967.564906854344,
          -16031.782076157979,
          -16067.495321978126,
          -16074.641147466995,
          -16053.206847607653,
          -16003.230531803043,
          -15924.801056118875,
          -15818.057865300785,
          -15683.190744846677,
          -15520.439483575014,
          -15330.09344728904,
          -15112.491064294985,
          -14868.019223688842,
          -14597.112587481697,
          -14300.252817786528,
          -13977.967720440553,
          -13630.830306585689,
          -13259.457773875702,
          -12864.510409121229,
          -12446.690414323999,
          -12006.740658187255,
          -11545.443355322303,
          -11063.618675499541,
          -10562.123285416421,
          -10041.848825575482,
          -9503.720324979913,
          -8948.694556465849,
          -8377.758335595174,
          -7791.926766133374,
          -7192.241435232229,
          -6579.768561525766,
          -5955.59709943242,
          -5320.836803033957,
          -4676.616252972995,
          -4024.0808498780452,
          -3364.390777882819,
          -2698.7189418612516,
          -2028.2488820454255,
          -1354.1726697342174,
          -677.6887878340613,
          -1.9099388737231493e-11
         ]
        },
        {
         "marker": {
          "color": "rgb(255, 127, 14)",
          "size": 10
         },
         "mode": "markers",
         "name": "2020-09-19 19:16 (Transfer orbit - Hohmann transfer)",
         "type": "scatter",
         "x": [
          7178.41132935259
         ],
         "y": [
          -1.5006662579253316e-11
         ]
        },
        {
         "hoverinfo": "none",
         "line": {
          "color": "rgb(44, 160, 44)",
          "dash": "dash",
          "width": 2
         },
         "mode": "lines",
         "name": "2020-09-19 23:39 (Final orbit - GEO)",
         "type": "scatter",
         "x": [
          -36000.0000000052,
          -35967.99665687933,
          -35872.043528277834,
          -35712.31121536177,
          -35489.08371635438,
          -35202.75792160266,
          -34853.842907920814,
          -34442.959033470164,
          -33970.83683478515,
          -33438.31572790582,
          -32846.34251592693,
          -32195.969705616546,
          -31488.353636097258,
          -30724.752422917674,
          -29906.523721168753,
          -29035.122311622476,
          -28112.097514185072,
          -27139.090433262434,
          -26117.831039936445,
          -25050.135096139602,
          -23937.900926296516,
          -22783.10604217252,
          -21587.803626929475,
          -20354.11888464168,
          -19084.24526175998,
          -17780.440547244278,
          -16445.022858297343,
          -15080.36651883667,
          -13688.897838033452,
          -12273.090796423194,
          -10835.46264725889,
          -9378.569440926367,
          -7905.0014803800605,
          -6417.378715678949,
          -4918.346085810746,
          -3410.5688160872287,
          -1896.727679470603,
          -379.5142302572276,
          1138.3739814080182,
          2654.2382056769693,
          4165.3832912773305,
          5669.122477393214,
          7162.782170627515,
          8643.706698553993,
          10109.26303140523,
          11556.84546350404,
          12983.880246112743,
          14387.830163464725,
          15766.199043841265,
          17116.536197673802,
          18436.44077478076,
          19723.566032991323,
          20975.623510567366,
          22190.387095005266,
          23365.696980982135,
          24499.46351041136,
          25589.670887778135,
          26634.380764150475,
          27631.735683492763,
          28579.962385154882,
          29477.374956664953,
          30322.37783122011,
          31113.468624546076,
          31849.240806081594,
          32528.386199738467,
          33149.69730979075,
          33712.06946775838,
          34214.502796467066,
          34656.1039877937,
          35036.087890935465,
          35353.7789083793,
          35608.61219708974,
          35800.13467277904,
          35928.00581547467,
          35991.99827495132,
          35991.998274951344,
          35928.005815474695,
          35800.13467277909,
          35608.6121970898,
          35353.77890837941,
          35036.08789093557,
          34656.103987793824,
          34214.502796467204,
          33712.06946775853,
          33149.69730979094,
          32528.38619973864,
          31849.240806081798,
          31113.468624546305,
          30322.377831220343,
          29477.374956665193,
          28579.96238515515,
          27631.73568349304,
          26634.380764150766,
          25589.670887778455,
          24499.46351041169,
          23365.696980982488,
          22190.387095005604,
          20975.623510567773,
          19723.566032991668,
          18436.44077478114,
          17116.5361976742,
          15766.199043841634,
          14387.830163465165,
          12983.880246113202,
          11556.84546350449,
          10109.263031405666,
          8643.706698554406,
          7162.782170627972,
          5669.122477393617,
          4165.383291277789,
          2654.238205677364,
          1138.3739814084456,
          -379.5142302567583,
          -1896.727679470192,
          -3410.5688160867867,
          -4918.346085810321,
          -6417.378715678507,
          -7905.001480379642,
          -9378.56944092595,
          -10835.462647258435,
          -12273.090796422777,
          -13688.897838033008,
          -15080.366518836277,
          -16445.022858296958,
          -17780.44054724391,
          -19084.245261759588,
          -20354.118884641302,
          -21587.80362692913,
          -22783.106042172134,
          -23937.90092629621,
          -25050.135096139275,
          -26117.83103993615,
          -27139.09043326218,
          -28112.09751418487,
          -29035.122311622275,
          -29906.523721168523,
          -30724.75242291745,
          -31488.353636097054,
          -32195.96970561635,
          -32846.34251592676,
          -33438.315727905654,
          -33970.83683478499,
          -34442.95903347004,
          -34853.84290792071,
          -35202.757921602584,
          -35489.083716354304,
          -35712.31121536171,
          -35872.0435282778,
          -35967.9966568793,
          -36000.0000000052
         ],
         "y": [
          1.8553691916167736e-10,
          -1517.6351640275134,
          -3032.572028116674,
          -4542.117089807511,
          -6043.5864330681725,
          -7534.310500199481,
          -9011.638838211009,
          -10472.944811230052,
          -11915.63027056398,
          -13337.130174113998,
          -14734.917146926422,
          -16106.505974772972,
          -17449.458022771254,
          -18761.38557118823,
          -20039.956060718963,
          -21282.896239692058,
          -22487.99620582779,
          -23653.113335364098,
          -24776.17609256335,
          -25855.187712827203,
          -26888.229752871182,
          -27873.465501646853,
          -28809.143245947205,
          -29693.599384888457,
          -30525.261387732076,
          -31302.650589786906,
          -32024.3848214209,
          -32689.18086550846,
          -33295.85673894363,
          -33843.33379416287,
          -34330.63863694108,
          -34756.904857051006,
          -35121.37456870905,
          -35423.399758068466,
          -35662.44343536438,
          -35838.08058966198,
          -35949.99894451046,
          -35997.99951315913,
          -35981.99695234863,
          -35902.01971404809,
          -35758.209994868594,
          -35550.8234832428,
          -35280.22890482022,
          -34946.90736688649,
          -34551.45150297213,
          -34094.56441917183,
          -33577.0584440474,
          -32999.853684337235,
          -32363.976389040166,
          -31670.557124782208,
          -30920.82876571022,
          -30116.12430148676,
          -29257.874467283225,
          -28347.605199984595,
          -27386.934925129764,
          -26377.571679409608,
          -25321.31007384036,
          -24220.028103010554,
          -23075.683806075205,
          -21890.31178543378,
          -20666.01958928112,
          -19404.98396446386,
          -18109.446986303992,
          -16781.712072270664,
          -15424.13988658791,
          -14039.144143060126,
          -12629.187313576473,
          -11196.776249926324,
          -9744.457726707846,
          -8274.813913255806,
          -6790.457782638825,
          -5294.028465888559,
          -3788.186559720947,
          -2275.6093960924736,
          -758.986282001566,
          758.9862820010567,
          2275.609396091977,
          3788.186559720458,
          5294.028465888037,
          6790.457782638299,
          8274.813913255284,
          9744.457726707335,
          11196.776249925837,
          12629.187313575976,
          14039.144143059599,
          15424.139886587453,
          16781.712072270187,
          18109.446986303545,
          19404.983964463412,
          20666.019589280684,
          21890.311785433343,
          23075.683806074798,
          24220.028103010132,
          25321.310073839973,
          26377.571679409226,
          27386.934925129375,
          28347.60519998424,
          29257.874467282854,
          30116.12430148646,
          30920.828765709903,
          31670.557124781913,
          32363.97638903991,
          32999.853684336966,
          33577.05844404714,
          34094.5644191716,
          34551.451502971926,
          34946.9073668863,
          35280.228904820055,
          35550.82348324265,
          35758.20999486846,
          35902.01971404799,
          35981.99695234855,
          35997.99951315906,
          35949.998944510415,
          35838.08058966195,
          35662.44343536436,
          35423.399758068466,
          35121.37456870907,
          34756.90485705104,
          34330.63863694115,
          33843.33379416295,
          33295.85673894373,
          32689.18086550857,
          32024.384821421012,
          31302.650589787045,
          30525.261387732247,
          29693.59938488864,
          28809.143245947398,
          27873.46550164709,
          26888.22975287139,
          25855.187712827432,
          24776.176092563586,
          23653.11333536432,
          22487.996205827963,
          21282.896239692254,
          20039.956060719218,
          18761.385571188523,
          17449.458022771556,
          16106.505974773285,
          14734.917146926738,
          13337.130174114329,
          11915.630270564321,
          10472.944811230433,
          9011.63883821136,
          7534.310500199776,
          6043.5864330685,
          4542.117089807836,
          3032.572028117007,
          1517.6351640279227,
          1.8553691916167736e-10
         ]
        },
        {
         "marker": {
          "color": "rgb(44, 160, 44)",
          "size": 10
         },
         "mode": "markers",
         "name": "2020-09-19 23:39 (Final orbit - GEO)",
         "type": "scatter",
         "x": [
          -36000.00000000516
         ],
         "y": [
          1.9463186617940664e-10
         ]
        }
       ],
       "layout": {
        "autosize": true,
        "shapes": [
         {
          "fillcolor": "#2a7bd1",
          "line": {
           "color": "#2a7bd1"
          },
          "opacity": 1,
          "type": "circle",
          "x0": -6378.1366,
          "x1": 6378.1366,
          "xref": "x",
          "y0": -6378.1366,
          "y1": 6378.1366,
          "yref": "y"
         },
         {
          "fillcolor": "#2a7bd1",
          "line": {
           "color": "#2a7bd1"
          },
          "opacity": 1,
          "type": "circle",
          "x0": -6378.1366,
          "x1": 6378.1366,
          "xref": "x",
          "y0": -6378.1366,
          "y1": 6378.1366,
          "yref": "y"
         },
         {
          "fillcolor": "#2a7bd1",
          "line": {
           "color": "#2a7bd1"
          },
          "opacity": 1,
          "type": "circle",
          "x0": -6378.1366,
          "x1": 6378.1366,
          "xref": "x",
          "y0": -6378.1366,
          "y1": 6378.1366,
          "yref": "y"
         },
         {
          "fillcolor": "#2a7bd1",
          "line": {
           "color": "#2a7bd1"
          },
          "opacity": 1,
          "type": "circle",
          "x0": -6378.1366,
          "x1": 6378.1366,
          "xref": "x",
          "y0": -6378.1366,
          "y1": 6378.1366,
          "yref": "y"
         },
         {
          "fillcolor": "#2a7bd1",
          "line": {
           "color": "#2a7bd1"
          },
          "opacity": 1,
          "type": "circle",
          "x0": -6378.1366,
          "x1": 6378.1366,
          "xref": "x",
          "y0": -6378.1366,
          "y1": 6378.1366,
          "yref": "y"
         },
         {
          "fillcolor": "#2a7bd1",
          "line": {
           "color": "#2a7bd1"
          },
          "opacity": 1,
          "type": "circle",
          "x0": -6378.1366,
          "x1": 6378.1366,
          "xref": "x",
          "y0": -6378.1366,
          "y1": 6378.1366,
          "yref": "y"
         }
        ],
        "template": {
         "data": {
          "bar": [
           {
            "error_x": {
             "color": "#2a3f5f"
            },
            "error_y": {
             "color": "#2a3f5f"
            },
            "marker": {
             "line": {
              "color": "#E5ECF6",
              "width": 0.5
             }
            },
            "type": "bar"
           }
          ],
          "barpolar": [
           {
            "marker": {
             "line": {
              "color": "#E5ECF6",
              "width": 0.5
             }
            },
            "type": "barpolar"
           }
          ],
          "carpet": [
           {
            "aaxis": {
             "endlinecolor": "#2a3f5f",
             "gridcolor": "white",
             "linecolor": "white",
             "minorgridcolor": "white",
             "startlinecolor": "#2a3f5f"
            },
            "baxis": {
             "endlinecolor": "#2a3f5f",
             "gridcolor": "white",
             "linecolor": "white",
             "minorgridcolor": "white",
             "startlinecolor": "#2a3f5f"
            },
            "type": "carpet"
           }
          ],
          "choropleth": [
           {
            "colorbar": {
             "outlinewidth": 0,
             "ticks": ""
            },
            "type": "choropleth"
           }
          ],
          "contour": [
           {
            "colorbar": {
             "outlinewidth": 0,
             "ticks": ""
            },
            "colorscale": [
             [
              0,
              "#0d0887"
             ],
             [
              0.1111111111111111,
              "#46039f"
             ],
             [
              0.2222222222222222,
              "#7201a8"
             ],
             [
              0.3333333333333333,
              "#9c179e"
             ],
             [
              0.4444444444444444,
              "#bd3786"
             ],
             [
              0.5555555555555556,
              "#d8576b"
             ],
             [
              0.6666666666666666,
              "#ed7953"
             ],
             [
              0.7777777777777778,
              "#fb9f3a"
             ],
             [
              0.8888888888888888,
              "#fdca26"
             ],
             [
              1,
              "#f0f921"
             ]
            ],
            "type": "contour"
           }
          ],
          "contourcarpet": [
           {
            "colorbar": {
             "outlinewidth": 0,
             "ticks": ""
            },
            "type": "contourcarpet"
           }
          ],
          "heatmap": [
           {
            "colorbar": {
             "outlinewidth": 0,
             "ticks": ""
            },
            "colorscale": [
             [
              0,
              "#0d0887"
             ],
             [
              0.1111111111111111,
              "#46039f"
             ],
             [
              0.2222222222222222,
              "#7201a8"
             ],
             [
              0.3333333333333333,
              "#9c179e"
             ],
             [
              0.4444444444444444,
              "#bd3786"
             ],
             [
              0.5555555555555556,
              "#d8576b"
             ],
             [
              0.6666666666666666,
              "#ed7953"
             ],
             [
              0.7777777777777778,
              "#fb9f3a"
             ],
             [
              0.8888888888888888,
              "#fdca26"
             ],
             [
              1,
              "#f0f921"
             ]
            ],
            "type": "heatmap"
           }
          ],
          "heatmapgl": [
           {
            "colorbar": {
             "outlinewidth": 0,
             "ticks": ""
            },
            "colorscale": [
             [
              0,
              "#0d0887"
             ],
             [
              0.1111111111111111,
              "#46039f"
             ],
             [
              0.2222222222222222,
              "#7201a8"
             ],
             [
              0.3333333333333333,
              "#9c179e"
             ],
             [
              0.4444444444444444,
              "#bd3786"
             ],
             [
              0.5555555555555556,
              "#d8576b"
             ],
             [
              0.6666666666666666,
              "#ed7953"
             ],
             [
              0.7777777777777778,
              "#fb9f3a"
             ],
             [
              0.8888888888888888,
              "#fdca26"
             ],
             [
              1,
              "#f0f921"
             ]
            ],
            "type": "heatmapgl"
           }
          ],
          "histogram": [
           {
            "marker": {
             "colorbar": {
              "outlinewidth": 0,
              "ticks": ""
             }
            },
            "type": "histogram"
           }
          ],
          "histogram2d": [
           {
            "colorbar": {
             "outlinewidth": 0,
             "ticks": ""
            },
            "colorscale": [
             [
              0,
              "#0d0887"
             ],
             [
              0.1111111111111111,
              "#46039f"
             ],
             [
              0.2222222222222222,
              "#7201a8"
             ],
             [
              0.3333333333333333,
              "#9c179e"
             ],
             [
              0.4444444444444444,
              "#bd3786"
             ],
             [
              0.5555555555555556,
              "#d8576b"
             ],
             [
              0.6666666666666666,
              "#ed7953"
             ],
             [
              0.7777777777777778,
              "#fb9f3a"
             ],
             [
              0.8888888888888888,
              "#fdca26"
             ],
             [
              1,
              "#f0f921"
             ]
            ],
            "type": "histogram2d"
           }
          ],
          "histogram2dcontour": [
           {
            "colorbar": {
             "outlinewidth": 0,
             "ticks": ""
            },
            "colorscale": [
             [
              0,
              "#0d0887"
             ],
             [
              0.1111111111111111,
              "#46039f"
             ],
             [
              0.2222222222222222,
              "#7201a8"
             ],
             [
              0.3333333333333333,
              "#9c179e"
             ],
             [
              0.4444444444444444,
              "#bd3786"
             ],
             [
              0.5555555555555556,
              "#d8576b"
             ],
             [
              0.6666666666666666,
              "#ed7953"
             ],
             [
              0.7777777777777778,
              "#fb9f3a"
             ],
             [
              0.8888888888888888,
              "#fdca26"
             ],
             [
              1,
              "#f0f921"
             ]
            ],
            "type": "histogram2dcontour"
           }
          ],
          "mesh3d": [
           {
            "colorbar": {
             "outlinewidth": 0,
             "ticks": ""
            },
            "type": "mesh3d"
           }
          ],
          "parcoords": [
           {
            "line": {
             "colorbar": {
              "outlinewidth": 0,
              "ticks": ""
             }
            },
            "type": "parcoords"
           }
          ],
          "pie": [
           {
            "automargin": true,
            "type": "pie"
           }
          ],
          "scatter": [
           {
            "marker": {
             "colorbar": {
              "outlinewidth": 0,
              "ticks": ""
             }
            },
            "type": "scatter"
           }
          ],
          "scatter3d": [
           {
            "line": {
             "colorbar": {
              "outlinewidth": 0,
              "ticks": ""
             }
            },
            "marker": {
             "colorbar": {
              "outlinewidth": 0,
              "ticks": ""
             }
            },
            "type": "scatter3d"
           }
          ],
          "scattercarpet": [
           {
            "marker": {
             "colorbar": {
              "outlinewidth": 0,
              "ticks": ""
             }
            },
            "type": "scattercarpet"
           }
          ],
          "scattergeo": [
           {
            "marker": {
             "colorbar": {
              "outlinewidth": 0,
              "ticks": ""
             }
            },
            "type": "scattergeo"
           }
          ],
          "scattergl": [
           {
            "marker": {
             "colorbar": {
              "outlinewidth": 0,
              "ticks": ""
             }
            },
            "type": "scattergl"
           }
          ],
          "scattermapbox": [
           {
            "marker": {
             "colorbar": {
              "outlinewidth": 0,
              "ticks": ""
             }
            },
            "type": "scattermapbox"
           }
          ],
          "scatterpolar": [
           {
            "marker": {
             "colorbar": {
              "outlinewidth": 0,
              "ticks": ""
             }
            },
            "type": "scatterpolar"
           }
          ],
          "scatterpolargl": [
           {
            "marker": {
             "colorbar": {
              "outlinewidth": 0,
              "ticks": ""
             }
            },
            "type": "scatterpolargl"
           }
          ],
          "scatterternary": [
           {
            "marker": {
             "colorbar": {
              "outlinewidth": 0,
              "ticks": ""
             }
            },
            "type": "scatterternary"
           }
          ],
          "surface": [
           {
            "colorbar": {
             "outlinewidth": 0,
             "ticks": ""
            },
            "colorscale": [
             [
              0,
              "#0d0887"
             ],
             [
              0.1111111111111111,
              "#46039f"
             ],
             [
              0.2222222222222222,
              "#7201a8"
             ],
             [
              0.3333333333333333,
              "#9c179e"
             ],
             [
              0.4444444444444444,
              "#bd3786"
             ],
             [
              0.5555555555555556,
              "#d8576b"
             ],
             [
              0.6666666666666666,
              "#ed7953"
             ],
             [
              0.7777777777777778,
              "#fb9f3a"
             ],
             [
              0.8888888888888888,
              "#fdca26"
             ],
             [
              1,
              "#f0f921"
             ]
            ],
            "type": "surface"
           }
          ],
          "table": [
           {
            "cells": {
             "fill": {
              "color": "#EBF0F8"
             },
             "line": {
              "color": "white"
             }
            },
            "header": {
             "fill": {
              "color": "#C8D4E3"
             },
             "line": {
              "color": "white"
             }
            },
            "type": "table"
           }
          ]
         },
         "layout": {
          "annotationdefaults": {
           "arrowcolor": "#2a3f5f",
           "arrowhead": 0,
           "arrowwidth": 1
          },
          "coloraxis": {
           "colorbar": {
            "outlinewidth": 0,
            "ticks": ""
           }
          },
          "colorscale": {
           "diverging": [
            [
             0,
             "#8e0152"
            ],
            [
             0.1,
             "#c51b7d"
            ],
            [
             0.2,
             "#de77ae"
            ],
            [
             0.3,
             "#f1b6da"
            ],
            [
             0.4,
             "#fde0ef"
            ],
            [
             0.5,
             "#f7f7f7"
            ],
            [
             0.6,
             "#e6f5d0"
            ],
            [
             0.7,
             "#b8e186"
            ],
            [
             0.8,
             "#7fbc41"
            ],
            [
             0.9,
             "#4d9221"
            ],
            [
             1,
             "#276419"
            ]
           ],
           "sequential": [
            [
             0,
             "#0d0887"
            ],
            [
             0.1111111111111111,
             "#46039f"
            ],
            [
             0.2222222222222222,
             "#7201a8"
            ],
            [
             0.3333333333333333,
             "#9c179e"
            ],
            [
             0.4444444444444444,
             "#bd3786"
            ],
            [
             0.5555555555555556,
             "#d8576b"
            ],
            [
             0.6666666666666666,
             "#ed7953"
            ],
            [
             0.7777777777777778,
             "#fb9f3a"
            ],
            [
             0.8888888888888888,
             "#fdca26"
            ],
            [
             1,
             "#f0f921"
            ]
           ],
           "sequentialminus": [
            [
             0,
             "#0d0887"
            ],
            [
             0.1111111111111111,
             "#46039f"
            ],
            [
             0.2222222222222222,
             "#7201a8"
            ],
            [
             0.3333333333333333,
             "#9c179e"
            ],
            [
             0.4444444444444444,
             "#bd3786"
            ],
            [
             0.5555555555555556,
             "#d8576b"
            ],
            [
             0.6666666666666666,
             "#ed7953"
            ],
            [
             0.7777777777777778,
             "#fb9f3a"
            ],
            [
             0.8888888888888888,
             "#fdca26"
            ],
            [
             1,
             "#f0f921"
            ]
           ]
          },
          "colorway": [
           "#636efa",
           "#EF553B",
           "#00cc96",
           "#ab63fa",
           "#FFA15A",
           "#19d3f3",
           "#FF6692",
           "#B6E880",
           "#FF97FF",
           "#FECB52"
          ],
          "font": {
           "color": "#2a3f5f"
          },
          "geo": {
           "bgcolor": "white",
           "lakecolor": "white",
           "landcolor": "#E5ECF6",
           "showlakes": true,
           "showland": true,
           "subunitcolor": "white"
          },
          "hoverlabel": {
           "align": "left"
          },
          "hovermode": "closest",
          "mapbox": {
           "style": "light"
          },
          "paper_bgcolor": "white",
          "plot_bgcolor": "#E5ECF6",
          "polar": {
           "angularaxis": {
            "gridcolor": "white",
            "linecolor": "white",
            "ticks": ""
           },
           "bgcolor": "#E5ECF6",
           "radialaxis": {
            "gridcolor": "white",
            "linecolor": "white",
            "ticks": ""
           }
          },
          "scene": {
           "xaxis": {
            "backgroundcolor": "#E5ECF6",
            "gridcolor": "white",
            "gridwidth": 2,
            "linecolor": "white",
            "showbackground": true,
            "ticks": "",
            "zerolinecolor": "white"
           },
           "yaxis": {
            "backgroundcolor": "#E5ECF6",
            "gridcolor": "white",
            "gridwidth": 2,
            "linecolor": "white",
            "showbackground": true,
            "ticks": "",
            "zerolinecolor": "white"
           },
           "zaxis": {
            "backgroundcolor": "#E5ECF6",
            "gridcolor": "white",
            "gridwidth": 2,
            "linecolor": "white",
            "showbackground": true,
            "ticks": "",
            "zerolinecolor": "white"
           }
          },
          "shapedefaults": {
           "line": {
            "color": "#2a3f5f"
           }
          },
          "ternary": {
           "aaxis": {
            "gridcolor": "white",
            "linecolor": "white",
            "ticks": ""
           },
           "baxis": {
            "gridcolor": "white",
            "linecolor": "white",
            "ticks": ""
           },
           "bgcolor": "#E5ECF6",
           "caxis": {
            "gridcolor": "white",
            "linecolor": "white",
            "ticks": ""
           }
          },
          "title": {
           "x": 0.05
          },
          "xaxis": {
           "automargin": true,
           "gridcolor": "white",
           "linecolor": "white",
           "ticks": "",
           "title": {
            "standoff": 15
           },
           "zerolinecolor": "white",
           "zerolinewidth": 2
          },
          "yaxis": {
           "automargin": true,
           "gridcolor": "white",
           "linecolor": "white",
           "ticks": "",
           "title": {
            "standoff": 15
           },
           "zerolinecolor": "white",
           "zerolinewidth": 2
          }
         }
        },
        "xaxis": {
         "constrain": "domain",
         "title": {
          "text": "x (km)"
         }
        },
        "yaxis": {
         "scaleanchor": "x",
         "title": {
          "text": "y (km)"
         }
        }
       }
      }
     },
     "metadata": {}
    }
   ],
   "source": [
    "# Obtain the orbit after applying Hohmann transfer.\n",
    "\n",
    "from poliastro.plotting import OrbitPlotter2D\n",
    "\n",
    "op = OrbitPlotter2D()\n",
    "orb3, orb4 = orb2.apply_maneuver(hoh, intermediate=True)\n",
    "op.plot(orb2, label=\"NOAA-17 - LEO,Initial orbit\")\n",
    "op.plot(orb3, label=\"Transfer orbit - Hohmann transfer\")\n",
    "op.plot(orb4, label=\"Final orbit - GEO\")"
   ]
  }
 ],
 "metadata": {
  "kernelspec": {
   "display_name": "Python 3",
   "language": "python",
   "name": "python3"
  },
  "language_info": {
   "codemirror_mode": {
    "name": "ipython",
    "version": 3
   },
   "file_extension": ".py",
   "mimetype": "text/x-python",
   "name": "python",
   "nbconvert_exporter": "python",
   "pygments_lexer": "ipython3",
   "version": "3.8.5-final"
  }
 },
 "nbformat": 4,
 "nbformat_minor": 4
}