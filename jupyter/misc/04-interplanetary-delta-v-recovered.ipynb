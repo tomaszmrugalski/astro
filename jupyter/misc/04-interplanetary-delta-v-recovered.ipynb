{
 "cells": [
  {
   "cell_type": "code",
   "execution_count": 1,
   "metadata": {},
   "outputs": [
    {
     "output_type": "stream",
     "name": "stdout",
     "text": [
      "/home/thomson/devel/perylune/venv/bin/python\nPython 3.8.5\n"
     ]
    },
    {
     "output_type": "execute_result",
     "data": {
      "text/plain": [
       "<ScienceState solar_system_ephemeris: 'jpl'>"
      ]
     },
     "metadata": {},
     "execution_count": 1
    }
   ],
   "source": [
    "!which python; python -V;\n",
    "\n",
    "# This makes the diagrams to more reliably appear in Jupyter environment\n",
    "import plotly.io as pio\n",
    "pio.renderers.default = \"notebook_connected\"\n",
    "\n",
    "# This will cause the ephemerides to be imported from JPL horizons system\n",
    "from astropy.coordinates import solar_system_ephemeris\n",
    "solar_system_ephemeris.set(\"jpl\")"
   ]
  },
  {
   "cell_type": "code",
   "execution_count": 2,
   "metadata": {},
   "outputs": [],
   "source": [
    "from poliastro.bodies import Mercury, Venus, Earth, Mars, Jupiter, Saturn, Uranus, Neptune, Sun, Pluto\n",
    "from poliastro.twobody import Orbit\n",
    "from poliastro.constants import GM_earth, GM_sun\n",
    "from poliastro.frames import Planes\n",
    "from poliastro.maneuver import Maneuver\n",
    "\n",
    "from perylune.orbit_tools import *\n",
    "from perylune.interplanetary import *\n",
    "from perylune.constants import *\n",
    "from perylune.horizons import *\n",
    "\n",
    "from astropy import units as u\n",
    "from astropy import time\n",
    "import numpy as np\n",
    "from math import pi"
   ]
  },
  {
   "cell_type": "code",
   "execution_count": 3,
   "metadata": {},
   "outputs": [],
   "source": [
    "from poliastro.ephem import Ephem\n",
    "from poliastro.util import time_range\n",
    "import plotly.graph_objs as go\n",
    "\n",
    "def heliocentric_velocity(orbit):\n",
    "\n",
    "    if orbit.attractor != Sun:\n",
    "        gm = G * orbit.attractor.mass\n",
    "    else:\n",
    "        gm = GM_sun\n",
    "\n",
    "    # We could use the current distance (orbit.r), periapsis or apoapsis (orbit.r_a or orbit.r_p),\n",
    "    # but we'll simply go with a = (r_a + r_p) / 2\n",
    "    a = orbit.a.to(u.m)\n",
    "\n",
    "    v = np.sqrt(gm*(1.0/a))\n",
    "\n",
    "    return v\n",
    "\n",
    "def hohmann_velocity(orbit1, orbit2):\n",
    "    \"\"\"Calculates Hohmann transfer velocities and time of flight between orbit1 and orbit.\n",
    "       This assumes the orbits are co-planar.\n",
    "\n",
    "       v1 - departing heliocentric velocity required\n",
    "       v2 - arrival heliocentric velocity required\n",
    "       returns: v1, v2, tof\"\"\"\n",
    "\n",
    "    r1 = np.linalg.norm(orbit1.a).to(u.m)\n",
    "    r2 = np.linalg.norm(orbit2.a).to(u.m)\n",
    "\n",
    "    # reference: BMW2, eq. 8-1\n",
    "    # Calculate energy of the Hohmann transfer orbit.\n",
    "    E0 = - GM_sun / (r1 + r2)\n",
    "\n",
    "    # reference BMW2, eq. 8-2\n",
    "    # now calculate transfer velocity at departure\n",
    "    v1 = np.sqrt(2*(GM_sun/r1 + E0) )\n",
    "\n",
    "    # now calculate transfer velocity at intercept\n",
    "    v2 = np.sqrt(2*(GM_sun/r2 + E0) )\n",
    "\n",
    "    # Calculate flight time\n",
    "    # reference BMW2, eq. 8-3\n",
    "    tof = np.sqrt(((r1+r2)**3)/(8*GM_sun))* np.pi\n",
    "    tof = tof.to(u.day) # convert to days\n",
    "\n",
    "    return v1, v2, tof\n",
    "\n",
    "\n",
    "def transfer_delta_v(body1, body2, attractor):\n",
    "    \"\"\"Returns transfer parameters for body1 (e.g. Earth) to body2 (e.g. Mars).\n",
    "       Optionally, the main attractor can be specified. If omitted, Sun is assumed.\"\"\"\n",
    "\n",
    "    # How to obtain the \n",
    "    method = \"horizons_orbit\" # allowed values are ephem, horizons_orbit\n",
    "\n",
    "    if attractor is None:\n",
    "        attractor = Sun\n",
    "\n",
    "    from astropy import time\n",
    "    from poliastro.ephem import Ephem\n",
    "    from poliastro.util import time_range\n",
    "\n",
    "    # Let's assume the calculations are done for 2020.\n",
    "    date_start = time.Time(\"2020-01-01 00:00\", scale=\"utc\").tdb\n",
    "    date_end =   time.Time(\"2021-12-31 23:59\", scale=\"utc\").tdb\n",
    "\n",
    "    name1, id_type1 = name_to_horizons_id(body1)\n",
    "    name2, id_type2 = name_to_horizons_id(body2)\n",
    "\n",
    "    if method == \"ephem\":\n",
    "        # Get the ephemerides first and then contruct orbit based on them. This is the recommended\n",
    "        # way. See warning in Orbit.from_horizons about deprecation.\n",
    "        ephem1 = Ephem.from_horizons(name=name1, epochs=time_range(date_start, end=date_end), plane=Planes.EARTH_ECLIPTIC, id_type=id_type1)\n",
    "        ephem2 = Ephem.from_horizons(name=name2, epochs=time_range(date_start, end=date_end), plane=Planes.EARTH_ECLIPTIC, id_type=id_type2)\n",
    "\n",
    "        # Solve for departure and target orbits\n",
    "        orb1 = Orbit.from_ephem(Sun, ephem1, date_start + 180 * u.day)\n",
    "        orb2 = Orbit.from_ephem(Sun, ephem2, date_end)\n",
    "    elif method == \"horizons_orbit\":\n",
    "        # This is the old way. Sadly, it produces way better values.\n",
    "        orb1 = Orbit.from_horizons(name=name1, attractor=attractor, plane=Planes.EARTH_ECLIPTIC, id_type=id_type1)\n",
    "        orb2 = Orbit.from_horizons(name=name2, attractor=attractor, plane=Planes.EARTH_ECLIPTIC, id_type=id_type2)\n",
    "    else:\n",
    "        raise \"Invalid method set.\"\n",
    "\n",
    "    print(\"=== Departure ===\")\n",
    "    print_orb(orb1)\n",
    "\n",
    "    print(\"=== Arrival ===\")\n",
    "    print_orb(orb2)\n",
    "\n",
    "    # The escape_delta_v returns a tuple of escape velocity at current, periapsis, apoapsis.\n",
    "    helio1 = heliocentric_velocity(orb1)\n",
    "    helio2 = heliocentric_velocity(orb2)\n",
    "\n",
    "    vesc1 = escape_delta_v(orb1, False)[1]\n",
    "    vesc2 = escape_delta_v(orb2, False)[1]\n",
    "\n",
    "    hoh1, hoh2, tof = hohmann_velocity(orb1, orb2)\n",
    "\n",
    "    dv = np.abs(hoh1-helio1) + np.abs(hoh2-helio2)\n",
    "    print(\"burn 1=%s\" % (hoh1 - helio1))\n",
    "    print(\"burn 2=%s\" % (hoh2 - helio2))\n",
    "    print(\"total dv=%s\" % dv)\n",
    "\n",
    "    return helio1, vesc1, helio2, vesc2, hoh1, hoh2, tof"
   ]
  },
  {
   "cell_type": "code",
   "execution_count": 4,
   "metadata": {},
   "outputs": [
    {
     "output_type": "stream",
     "name": "stdout",
     "text": [
      "=== Departure ===\n",
      "1 x 1 AU x 0.0 deg (HeliocentricEclipticIAU76) orbit around Sun (☉) at epoch 2020-11-06 18:41:37.267291 (TDB)\n",
      "a(𝑎)=0.9997AU, b=0.9996AU, e=0.02, i=0.00deg raan(Ω)=193.75deg argp(𝜔)=269.43deg nu(𝜈)=-58.66deg\n",
      "period=31544109.73s perapis=0.9834AU apoapsis=1.0160AU\n",
      "=== Arrival ===\n",
      "1 x 2 AU x 1.8 deg (HeliocentricEclipticIAU76) orbit around Sun (☉) at epoch 2020-11-06 18:41:38.254856 (TDB)\n",
      "a(𝑎)=1.5236AU, b=1.5170AU, e=0.09, i=1.85deg raan(Ω)=49.49deg argp(𝜔)=286.62deg nu(𝜈)=58.80deg\n",
      "period=59350948.42s perapis=1.3814AU apoapsis=1.6658AU\n",
      "burn 1=2946.8115699264345 m / s\n",
      "burn 2=-2650.629448849537 m / s\n",
      "total dv=5597.441018775971 m / s\n",
      "(<Quantity 29789.12486394 m / s>, <Quantity 12191.88120325 m / s>, <Quantity 24129.84961831 m / s>, <Quantity 9335.91433747 m / s>, <Quantity 32735.93643386 m / s>, <Quantity 21479.22016946 m / s>, <Quantity 258.8110731 d>)\n"
     ]
    }
   ],
   "source": [
    "# Calculate delta-v necessary to reach escape velocity for circular orbit. The values returned are current position, periapsis, apoapis.\n",
    "# No surprises here - it's perfectly circular, so it's always the same.\n",
    "#escape_delta_v(orb1, False)\n",
    "v = transfer_delta_v(\"earth\", \"mars\", None)\n",
    "print(v)"
   ]
  },
  {
   "cell_type": "code",
   "execution_count": null,
   "metadata": {},
   "outputs": [],
   "source": []
  }
 ],
 "metadata": {
  "kernelspec": {
   "display_name": "Python 3.8.5 64-bit ('venv': venv)",
   "language": "python",
   "name": "python38564bitvenvvenv83ba967ace5240319bcf0470eba02fe6"
  },
  "language_info": {
   "codemirror_mode": {
    "name": "ipython",
    "version": 3
   },
   "file_extension": ".py",
   "mimetype": "text/x-python",
   "name": "python",
   "nbconvert_exporter": "python",
   "pygments_lexer": "ipython3",
   "version": "3.8.5-final"
  }
 },
 "nbformat": 4,
 "nbformat_minor": 4
}