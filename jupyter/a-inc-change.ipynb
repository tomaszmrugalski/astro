{
 "cells": [
  {
   "cell_type": "code",
   "execution_count": 1,
   "metadata": {},
   "outputs": [
    {
     "name": "stdout",
     "output_type": "stream",
     "text": [
      "/home/thomson/devel/perylune/venv/bin/python\n",
      "Python 3.8.5\n"
     ]
    }
   ],
   "source": [
    "!which python; python -V;\n",
    "from astropy import units as u\n",
    "import numpy as np\n",
    "\n",
    "from poliastro.bodies import Earth, Mars, Sun\n",
    "from poliastro.twobody import Orbit\n",
    "\n",
    "# Needed to handle TLE into Poliastro's Orbit\n",
    "from tletools import TLE\n",
    "\n",
    "# Needed for defining manouvers\n",
    "from poliastro.maneuver import Maneuver\n",
    "from poliastro.twobody import thrust\n",
    "from poliastro.twobody.propagation import cowell\n",
    "from poliastro.plotting import OrbitPlotter2D, OrbitPlotter3D\n",
    "\n",
    "from perylune.orbit_tools import *"
   ]
  },
  {
   "cell_type": "code",
   "execution_count": 2,
   "metadata": {},
   "outputs": [],
   "source": [
    "# STEP 1: LAUNCH\n",
    "# Let's use ANDESITE sat as an example. It was launched as shareride by RocketLab's Electron on\n",
    "# the latest rideshare launch on 2020 June 13. NORAD ID is 45726. \n",
    "# TLE elements taken from n2yo website, details https://www.n2yo.com/satellite/?s=45726\n",
    "tle_text = \"\"\"GDASAT-1\n",
    "1 45726U 20037D   20278.45278018  .00000608  00000-0  65390-4 0  9991\n",
    "2 45726  97.7132  96.2906 0012962 283.6573  76.3213 14.92011802 14275\"\"\"\n",
    "tle_lines = tle_text.strip().splitlines()\n",
    "tle1 = TLE.from_lines(*tle_lines)\n",
    "orb1 = tle1.to_orbit()\n",
    "\n",
    "# STEP 0: DEFINE TARGET ORBIT\n",
    "# Let's get the TLE orbital data for the target satellite. As an example, let's pick a dead NOAA-17 sat.\n",
    "# Its TLE data can be obtained from many places, such as celestrak or n2yo (https://www.n2yo.com/satellite/?s=27453)\n",
    "tle_text = \"\"\"NOAA-17\n",
    "1 27453U 02032A   20263.80942421 -.00000011 +00000-0 +13583-4 0  9998\n",
    "2 27453 098.5909 208.3215 0011096 327.5463 032.5033 14.25072668948324\"\"\"\n",
    "tle_lines = tle_text.strip().splitlines()\n",
    "tle_target = TLE.from_lines(*tle_lines)\n",
    "orb_target = tle_target.to_orbit()"
   ]
  },
  {
   "cell_type": "code",
   "execution_count": 3,
   "metadata": {},
   "outputs": [
    {
     "name": "stdout",
     "output_type": "stream",
     "text": [
      "a, inc change: a_0=6969.800314 a_f =>7186.385343, inc_0=97.713200 => inc_f=98.590900\n",
      "<function change_a_inc.<locals>.a_d at 0x7fc11e14d670>\n",
      "9.547198021519023\n",
      "Time of flight 795599.835127 [s]\n",
      "orb1=\n",
      "6961 x 6979 km x 97.7 deg (GCRS) orbit around Earth (♁) at epoch 2020-10-04T10:52:00.207552000 (UTC)\n",
      "a(𝑎)=6969.80km, b=6969.79km, e=0.00, i=97.71deg raan(Ω)=96.29deg argp(𝜔)=283.66deg nu(𝜈)=76.47deg\n",
      "period=5790.84s perapis=6961km(582.63km) apoapsis=6979km(600.70km)\n",
      "orb2=\n",
      "7172 x 7201 km x 98.6 deg (GCRS) orbit around Earth (♁) at epoch 2020-10-13T15:52:00.042678585 (UTC)\n",
      "a(𝑎)=7186.34km, b=7186.33km, e=0.00, i=98.64deg raan(Ω)=85.01deg argp(𝜔)=351.80deg nu(𝜈)=-109.68deg\n",
      "period=6062.80s perapis=7172km(793.82km) apoapsis=7201km(822.59km)\n",
      "orb_target=\n",
      "7178 x 7194 km x 98.6 deg (GCRS) orbit around Earth (♁) at epoch 2020-09-19T19:25:34.251744000 (UTC)\n",
      "a(𝑎)=7186.39km, b=7186.38km, e=0.00, i=98.59deg raan(Ω)=208.32deg argp(𝜔)=327.55deg nu(𝜈)=32.57deg\n",
      "period=6062.85s perapis=7178km(800.27km) apoapsis=7194km(816.22km)\n"
     ]
    }
   ],
   "source": [
    "# This is my attempt to do inclination change using chane_a_inc function from thrust package.\n",
    "\n",
    "f = 0.000012 #1e-6 # km / s2\n",
    "\n",
    "k = Earth.k.to(u.km ** 3 / u.s ** 2).value\n",
    "\n",
    "a_0, _, inc_0, _, _, _ = orb1.classical()\n",
    "a_f, _, inc_f, _, _, _ = orb_target.classical()\n",
    "\n",
    "a_0 = a_0.value\n",
    "a_f = a_f.value\n",
    "inc_0 = inc_0.value\n",
    "inc_f = inc_f.value\n",
    "\n",
    "print(\"a, inc change: a_0=%f a_f =>%f, inc_0=%f => inc_f=%f\" % (a_0, a_f, inc_0, inc_f))\n",
    "\n",
    "# This is some serious shit.\n",
    "a_d, delta_v, t_f = thrust.change_a_inc(k, a_0, a_f, inc_0, inc_f, f)\n",
    "print(a_d)\n",
    "print(delta_v)\n",
    "print(\"Time of flight %f [s]\" % t_f)\n",
    "\n",
    "orb2 = orb1.propagate(t_f * u.s, method=cowell, ad=a_d, rtol=1e-6)\n",
    "\n",
    "print(\"orb1=\")\n",
    "print_orb(orb1)\n",
    "print(\"orb2=\")\n",
    "print_orb(orb2)\n",
    "print(\"orb_target=\")\n",
    "print_orb(orb_target)"
   ]
  }
 ],
 "metadata": {
  "kernelspec": {
   "display_name": "Python 3.8.5 64-bit ('venv': venv)",
   "language": "python",
   "name": "python38564bitvenvvenv83ba967ace5240319bcf0470eba02fe6"
  },
  "language_info": {
   "codemirror_mode": {
    "name": "ipython",
    "version": 3
   },
   "file_extension": ".py",
   "mimetype": "text/x-python",
   "name": "python",
   "nbconvert_exporter": "python",
   "pygments_lexer": "ipython3",
   "version": "3.8.5"
  }
 },
 "nbformat": 4,
 "nbformat_minor": 4
}