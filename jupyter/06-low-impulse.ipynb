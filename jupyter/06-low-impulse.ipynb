{
 "metadata": {
  "language_info": {
   "codemirror_mode": {
    "name": "ipython",
    "version": 3
   },
   "file_extension": ".py",
   "mimetype": "text/x-python",
   "name": "python",
   "nbconvert_exporter": "python",
   "pygments_lexer": "ipython3",
   "version": "3.8.5-final"
  },
  "orig_nbformat": 2,
  "kernelspec": {
   "name": "python38564bitvenv0731df0f414b48ca8c5036be93b0940f",
   "display_name": "Python 3.8.5 64-bit ('venv')"
  }
 },
 "nbformat": 4,
 "nbformat_minor": 2,
 "cells": [
  {
   "cell_type": "code",
   "execution_count": null,
   "metadata": {},
   "outputs": [],
   "source": [
    "import numpy as np\n",
    "from astropy import units as u\n",
    "from astropy import time\n",
    "\n",
    "from poliastro.bodies import Earth\n",
    "from poliastro.twobody import Orbit\n",
    "from poliastro.twobody.propagation import propagate\n",
    "from poliastro.examples import iss\n",
    "\n",
    "from poliastro.twobody.propagation import cowell\n",
    "from poliastro.plotting import OrbitPlotter3D\n",
    "from poliastro.util import norm\n",
    "\n",
    "from perylune import orbit_tools"
   ]
  },
  {
   "cell_type": "code",
   "execution_count": null,
   "metadata": {},
   "outputs": [],
   "source": [
    "import plotly.io as pio\n",
    "pio.renderers.default = \"notebook_connected\""
   ]
  },
  {
   "cell_type": "code",
   "execution_count": null,
   "metadata": {},
   "outputs": [],
   "source": [
    "# Perturber 1: This is a constant forward acceleration. This could model an ion engine.\n",
    "#\n",
    "# Based on poliastro example.\n",
    "accel = 2e-5\n",
    "\n",
    "def pert_constant_accel(accel):\n",
    "    def constant_acc(t0, u, k):\n",
    "        \"\"\" My **guesses** at the parameters:\n",
    "        t0 - time in seconds since beginning\n",
    "        u - state vectors, u[0:2] is r (position), u[3:5] - velocity\n",
    "        k - GM constant, expressed in km3/s2 (so it's 398600.4418 for Earth)\n",
    "        return 3 values - x,y,z acceleration\n",
    "        \"\"\"\n",
    "        \n",
    "        v = u[3:]\n",
    "        norm_v = (v[0]**2 + v[1]**2 + v[2]**2)**.5 # expressed in km/s\n",
    "        print(norm_v)\n",
    "        return accel * v / norm_v\n",
    "        #return 0,0,0.0001\n",
    "\n",
    "    return constant_acc"
   ]
  },
  {
   "cell_type": "code",
   "execution_count": null,
   "metadata": {},
   "outputs": [],
   "source": [
    "# Perturber 2: Constant brake. This slowly slows down (constant deceleration)\n",
    "accel2 = -2e-5\n"
   ]
  },
  {
   "cell_type": "code",
   "execution_count": null,
   "metadata": {},
   "outputs": [],
   "source": [
    "# Perturber 3: Solar pressure. Uses solar pressure of the Sun. Parameters:\n",
    "\n",
    "solar_rad_pressure = 4.5e-6 # Pascals, or N/m2, source: https://en.wikipedia.org/wiki/Radiation_pressure#Pressures_of_absorption_and_reflection\n",
    "\n",
    "area = 4 # sail area in m2, source: https://pw-sat.pl/wp-content/uploads/2018/11/PW-Sat2-w-liczbach-1.pdf\n",
    "mass = 2.5 # mass of the sat in kilograms, source: https://pw-sat.pl/wp-content/uploads/2018/11/PW-Sat2-w-liczbach-1.pdf\n",
    "\n",
    "f = solar_rad_pressure * area\n",
    "\n",
    "a = solar_rad_pressure * area / mass\n",
    "\n",
    "print(f,a) # m/s^2\n",
    "\n",
    "\n",
    "def pert_solar_sail(accel):\n",
    "\n",
    "    RE = 6378.137 # Earth radius\n",
    "    def in_shadow(v):\n",
    "        \"\"\" Determines whether an object is in shadow or sunlit. It assumes the Sun is at [147000000,0,0] position. \"\"\"\n",
    "\n",
    "        if v[0] > 0: \n",
    "            return True # This spacecraft is above terminator, so it's always lit.\n",
    "        r = (v[1]**2 + v[2]**2)**.5\n",
    "\n",
    "        return r > RE # If the spacecraft is farther away from the X axis than the Earth radius, it is above the Earth shadow.\n",
    "\n",
    "    def accel_solar(t0, u, k):\n",
    "        \"\"\" My **guesses** at the parameters:\n",
    "        t0 - time in seconds since beginning\n",
    "        u - state vectors, u[0:2] is r (position), u[3:5] - velocity\n",
    "        k - GM constant, expressed in km3/s2 (so it's 398600.4418 for Earth)\n",
    "        return 3 values - x,y,z acceleration\n",
    "        \"\"\"\n",
    "        \n",
    "        r = u[:3]\n",
    "        v = u[3:]\n",
    "        norm_v = (v[0]**2 + v[1]**2 + v[2]**2)**.5 # expressed in km/s\n",
    "        print(in_shadow(r))\n",
    "        #print(norm_v)\n",
    "        #return accel * v / norm_v\n",
    "        return 0,0,0.000001\n",
    "\n",
    "    return accel_solar"
   ]
  },
  {
   "cell_type": "code",
   "execution_count": null,
   "metadata": {},
   "outputs": [],
   "source": [
    "times = np.linspace(0, 2 * iss.period, 50)\n",
    "orbit_tools.print_orb(iss)"
   ]
  },
  {
   "cell_type": "code",
   "execution_count": null,
   "metadata": {},
   "outputs": [],
   "source": [
    "positions = propagate(\n",
    "    iss,\n",
    "    time.TimeDelta(times),\n",
    "    method=cowell,\n",
    "    rtol=1e-11,\n",
    "    #ad=pert_constant_accel(accel),\n",
    "    ad=pert_solar_sail(accel)\n",
    ")"
   ]
  },
  {
   "cell_type": "code",
   "execution_count": null,
   "metadata": {},
   "outputs": [],
   "source": [
    "frame = OrbitPlotter3D()\n",
    "\n",
    "frame.set_attractor(Earth)\n",
    "frame.plot_trajectory(positions, color=\"green\", label=\"ISS\")\n",
    "\n",
    "# Let's pretend this is the Sun\n",
    "frame._draw_point(696*u.km, \"red\", \"Sun\", center=[14700, 0, 0] * u.km)\n",
    "\n",
    "\n",
    "#frame._draw_point(696*u.km, \"red\", \"X\", center=[14700, 0, 0] * u.km)\n",
    "#frame._draw_point(696*u.km, \"yellow\", \"Y\", center=[0, 14700, 0] * u.km)\n",
    "#frame._draw_point(696*u.km, \"green\", \"Z\", center=[0, 0, 14700] * u.km)\n",
    "frame._layout.width = 1200\n",
    "frame._layout.height = 800\n",
    "frame._layout.margin=dict(l=10, r=10, b=10, t=10, pad=4 )\n",
    "frame.show()"
   ]
  },
  {
   "cell_type": "code",
   "execution_count": null,
   "metadata": {},
   "outputs": [],
   "source": [
    "Earth.k"
   ]
  },
  {
   "cell_type": "code",
   "execution_count": null,
   "metadata": {},
   "outputs": [],
   "source": [
    "iss.period*10"
   ]
  },
  {
   "cell_type": "code",
   "execution_count": null,
   "metadata": {},
   "outputs": [],
   "source": []
  }
 ]
}