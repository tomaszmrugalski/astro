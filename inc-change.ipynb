{
 "cells": [
  {
   "cell_type": "code",
   "execution_count": 1,
   "metadata": {},
   "outputs": [],
   "source": [
    "# Imports\n",
    "\n",
    "from astropy import units as u\n",
    "import numpy as np\n",
    "from math import pi\n",
    "\n",
    "from poliastro.bodies import Earth, Mars, Sun\n",
    "from poliastro.twobody import Orbit\n",
    "\n",
    "# Needed to handle TLE into Poliastro's Orbit\n",
    "from tletools import TLE\n",
    "\n",
    "# Needed for defining manouvers\n",
    "from poliastro.maneuver import Maneuver\n",
    "from poliastro.twobody import thrust\n",
    "from poliastro.twobody.propagation import cowell\n",
    "\n",
    "from perylune.orbit_tools import *"
   ]
  },
  {
   "cell_type": "code",
   "execution_count": 9,
   "metadata": {},
   "outputs": [
    {
     "output_type": "stream",
     "name": "stdout",
     "text": [
      "Inclination change from 0.0 deg to 60.0 deg requires delta-v 7725.760463451861 m / s\n"
     ]
    }
   ],
   "source": [
    "# Create circular, equatorial orbit:\n",
    "\n",
    "orb1 = Orbit.circular(Earth, 300 * u.km, 0*u.deg)\n",
    "orb2 = Orbit.circular(Earth, 300 * u.km, 60*u.deg)\n",
    "\n",
    "# Calculate the delta-v cost of inclination change from 87 to 88.4 degrees\n",
    "dv_inc = inc_change(orb1, orb2)\n",
    "print(\"Inclination change from %s to %s requires delta-v %s\" % (orb1.inc, orb2.inc, dv_inc))"
   ]
  },
  {
   "cell_type": "code",
   "execution_count": 11,
   "metadata": {},
   "outputs": [
    {
     "output_type": "stream",
     "name": "stdout",
     "text": [
      "6010 x 7346 km x 0.0 deg (GCRS) orbit around Earth (♁) at epoch J2000.000 (TT)\n𝑎=6678.14km, b=6644.66km, e=0.10, i=0.00deg raan(Ω)=0.00deg argp(𝜔)=0.00deg nu(𝜈)=0.00deg period=5431.176641180842 s perapis=6010.32294 km apoapsis=7345.95026 km\n"
     ]
    }
   ],
   "source": [
    "# Now calculate the cost for 60 deg change for eccentric orbits (300km)\n",
    "alt = 300*u.km\n",
    "orb3 = Orbit.from_classical(Earth, Earth.R + alt, 0.1*u.one, 0.0*u.deg, 0*u.deg, 0*u.deg, 0*u.deg)\n",
    "orb4 = Orbit.from_classical(Earth, Earth.R + alt, 0.1*u.one, 60.0*u.deg, 0*u.deg, 0*u.deg, 0*u.deg)\n",
    "print_orb(orb3)"
   ]
  },
  {
   "cell_type": "code",
   "execution_count": 24,
   "metadata": {},
   "outputs": [
    {
     "output_type": "stream",
     "name": "stdout",
     "text": [
      "v=8.54 km / s at 2000-01-01 12:01:00.000, nu=0.0852460276884015 rad time to argp=-0.08524602768840145 rad, delta-v cost=6.965136658338098 km / s\nv=8.52 km / s at 2000-01-01 12:02:48.624, nu=0.2392129425144507 rad time to argp=-0.2392129425144507 rad, delta-v cost=6.806842812334337 km / s\nv=8.49 km / s at 2000-01-01 12:04:37.247, nu=0.39216523891136656 rad time to argp=-0.39216523891136573 rad, delta-v cost=6.502571317224405 km / s\nv=8.44 km / s at 2000-01-01 12:06:25.871, nu=0.5435017853067654 rad time to argp=5.73968352187282 rad, delta-v cost=6.060625456173863 km / s\nv=8.38 km / s at 2000-01-01 12:08:14.494, nu=0.6926922623334821 rad time to argp=5.590493044846103 rad, delta-v cost=5.492718946067656 km / s\nv=8.30 km / s at 2000-01-01 12:10:03.118, nu=0.8392945823397118 rad time to argp=5.443890724839873 rad, delta-v cost=4.8133223134493095 km / s\nv=8.22 km / s at 2000-01-01 12:11:51.741, nu=0.9829645096257495 rad time to argp=5.300220797553834 rad, delta-v cost=4.038925321744704 km / s\nv=8.13 km / s at 2000-01-01 12:13:40.365, nu=1.1234578203805405 rad time to argp=5.159727486799043 rad, delta-v cost=3.187289286405507 km / s\nv=8.04 km / s at 2000-01-01 12:15:28.988, nu=1.2606262286209393 rad time to argp=5.022559078558644 rad, delta-v cost=2.2767503682991266 km / s\nv=7.94 km / s at 2000-01-01 12:17:17.612, nu=1.3944087812091395 rad time to argp=4.888776525970441 rad, delta-v cost=1.3256160316348764 km / s\nv=7.84 km / s at 2000-01-01 12:19:06.235, nu=1.5248205111841528 rad time to argp=4.758364795995431 rad, delta-v cost=0.3516768973905402 km / s\nv=7.74 km / s at 2000-01-01 12:20:54.859, nu=1.6519399395394432 rad time to argp=4.631245367640141 rad, delta-v cost=0.6281610226251941 km / s\nv=7.64 km / s at 2000-01-01 12:22:43.482, nu=1.7758966627675052 rad time to argp=4.50728864441208 rad, delta-v cost=1.5981313353065503 km / s\nv=7.55 km / s at 2000-01-01 12:24:32.106, nu=1.8968598709599824 rad time to argp=-1.8968598709599824 rad, delta-v cost=2.5437647923779765 km / s\nv=7.46 km / s at 2000-01-01 12:26:20.729, nu=2.0150282853302723 rad time to argp=-2.0150282853302706 rad, delta-v cost=3.451968001226084 km / s\nv=7.38 km / s at 2000-01-01 12:28:09.353, nu=2.1306217225454738 rad time to argp=-2.1306217225454698 rad, delta-v cost=4.311042282846971 km / s\nv=7.31 km / s at 2000-01-01 12:29:57.977, nu=2.243874294898994 rad time to argp=-2.2438742948989887 rad, delta-v cost=5.110660006661532 km / s\nv=7.24 km / s at 2000-01-01 12:31:46.600, nu=2.3550291314519924 rad time to argp=-2.355029131451988 rad, delta-v cost=5.841813138329413 km / s\nv=7.18 km / s at 2000-01-01 12:33:35.224, nu=2.4643344396272457 rad time to argp=-2.464334439627241 rad, delta-v cost=6.496745866325 km / s\nv=7.12 km / s at 2000-01-01 12:35:23.847, nu=2.572040702084756 rad time to argp=-2.5720407020847493 rad, delta-v cost=7.068880447101878 km / s\nv=7.08 km / s at 2000-01-01 12:37:12.471, nu=2.6783988050557426 rad time to argp=-2.6783988050557355 rad, delta-v cost=7.552743043963812 km / s\nv=7.04 km / s at 2000-01-01 12:39:01.094, nu=2.783658910142602 rad time to argp=-2.783658910142595 rad, delta-v cost=7.943894408788606 km / s\nv=7.02 km / s at 2000-01-01 12:40:49.718, nu=2.8880699038134825 rad time to argp=-2.888069903813475 rad, delta-v cost=8.238868761855803 km / s\nv=7.00 km / s at 2000-01-01 12:42:38.341, nu=2.9918792821645557 rad time to argp=-2.991879282164548 rad, delta-v cost=8.435123112478255 km / s\nv=6.99 km / s at 2000-01-01 12:44:26.965, nu=3.0953333498105113 rad time to argp=-3.095333349810504 rad, delta-v cost=8.53099846303968 km / s\nv=6.99 km / s at 2000-01-01 12:46:15.588, nu=-3.08450767795492 rad time to argp=-3.1986776292246586 rad, delta-v cost=8.525693779166211 km / s\nv=7.00 km / s at 2000-01-01 12:48:04.212, nu=-2.9810279175866357 rad time to argp=-3.3021573895929426 rad, delta-v cost=8.419253220637717 km / s\nv=7.02 km / s at 2000-01-01 12:49:52.835, nu=-2.877167095304368 rad time to argp=-3.40601821187521 rad, delta-v cost=8.212566848710223 km / s\nv=7.05 km / s at 2000-01-01 12:51:41.459, nu=-2.772678798042891 rad time to argp=-3.5105065091366874 rad, delta-v cost=7.907384798353744 km / s\nv=7.08 km / s at 2000-01-01 12:53:30.082, nu=-2.667315388890286 rad time to argp=-3.615869918289293 rad, delta-v cost=7.50634467390599 km / s\nv=7.13 km / s at 2000-01-01 12:55:18.706, nu=-2.560827835971515 rad time to argp=-3.722357471208065 rad, delta-v cost=7.013011639038031 km / s\nv=7.18 km / s at 2000-01-01 12:57:07.330, nu=-2.452965867253262 rad time to argp=-3.830219439926316 rad, delta-v cost=6.431930268853699 km / s\nv=7.24 km / s at 2000-01-01 12:58:55.953, nu=-2.3434785744814373 rad time to argp=-3.939706732698142 rad, delta-v cost=5.768686650216945 km / s\nv=7.31 km / s at 2000-01-01 13:00:44.577, nu=-2.2321156110680134 rad time to argp=-4.051069696111566 rad, delta-v cost=5.029978386987155 km / s\nv=7.39 km / s at 2000-01-01 13:02:33.200, nu=-2.1186291521497562 rad time to argp=-4.1645561550298265 rad, delta-v cost=4.223689017422106 km / s\nv=7.47 km / s at 2000-01-01 13:04:21.824, nu=-2.002776806883072 rad time to argp=-4.2804085002965095 rad, delta-v cost=3.3589618137342385 km / s\nv=7.56 km / s at 2000-01-01 13:06:10.447, nu=-1.8843256877876784 rad time to argp=-4.398859619391903 rad, delta-v cost=2.4462659611040825 km / s\nv=7.65 km / s at 2000-01-01 13:07:59.071, nu=-1.7630578411786215 rad time to argp=-4.5201274660009565 rad, delta-v cost=1.497445705375136 km / s\nv=7.75 km / s at 2000-01-01 13:09:47.694, nu=-1.6387772145361572 rad time to argp=-4.644408092643422 rad, delta-v cost=0.5257403044468639 km / s\nv=7.85 km / s at 2000-01-01 13:11:36.318, nu=-1.5113182657447986 rad time to argp=-4.77186704143478 rad, delta-v cost=0.4542402468746182 km / s\nv=7.95 km / s at 2000-01-01 13:13:24.941, nu=-1.3805561881259196 rad time to argp=-4.902629119053662 rad, delta-v cost=1.4266012787929168 km / s\nv=8.05 km / s at 2000-01-01 13:15:13.565, nu=-1.246418518325332 rad time to argp=-5.036766788854251 rad, delta-v cost=2.3743303361830534 km / s\nv=8.14 km / s at 2000-01-01 13:17:02.188, nu=-1.1088976040282064 rad time to argp=-5.174287703151375 rad, delta-v cost=3.279563375101243 km / s\nv=8.23 km / s at 2000-01-01 13:18:50.812, nu=-0.968063046336145 rad time to argp=-5.315122260843432 rad, delta-v cost=4.123964955152199 km / s\nv=8.31 km / s at 2000-01-01 13:20:39.435, nu=-0.8240728389815457 rad time to argp=-5.459112468198028 rad, delta-v cost=4.889228968912485 km / s\nv=8.38 km / s at 2000-01-01 13:22:28.059, nu=-0.6771815839493001 rad time to argp=-5.606003723230272 rad, delta-v cost=5.5576933159293915 km / s\nv=8.44 km / s at 2000-01-01 13:24:16.683, nu=-0.527743987696085 rad time to argp=-5.755441319483487 rad, delta-v cost=6.113044277221037 km / s\nv=8.49 km / s at 2000-01-01 13:26:05.306, nu=-0.37621196525913225 rad time to argp=-5.906973341920438 rad, delta-v cost=6.54106629437993 km / s\nv=8.52 km / s at 2000-01-01 13:27:53.930, nu=-0.22312420039976022 rad time to argp=-6.060061106779811 rad, delta-v cost=6.830374345242565 km / s\n"
     ]
    }
   ],
   "source": [
    "# Calculate velocity vector magnitudes for 100 intervals, each 5 seconds\n",
    "samples = 50\n",
    "delta_t = orb3.period / samples\n",
    "vel = calc_vel_inc_cost(orb3, orb4, delta_t, samples)\n",
    "for v,t,nu,argp, dv in vel:\n",
    "    nu2pi = nu + 2*pi*u.rad*(nu<0) # nu normalized to 0..2pi\n",
    "    time_to_periapis = argp - nu2pi\n",
    "    print(\"v=%4.2f %s at %s, nu=%s time to argp=%s, delta-v cost=%s\" % (v.value, v.unit, t.iso, nu, (time_to_periapis), abs(dv)))"
   ]
  },
  {
   "cell_type": "code",
   "execution_count": 25,
   "metadata": {},
   "outputs": [
    {
     "output_type": "stream",
     "name": "stdout",
     "text": [
      "orb1 v=[-0.53583321  7.70715625  0.        ] km / s, r=[6662.05514628  463.17348383    0.        ] km\norb3 v=[-1.06908577  7.65143322  0.        ] km / s, r=[6613.88823583  924.11625469    0.        ] km\n"
     ]
    }
   ],
   "source": [
    "# This is how the orbit can be propagated (the object moving forward in time)\n",
    "# Observing how the velocity and position vectors change over time\n",
    "print(\"orb1 v=%s, r=%s\" % (orb1.v, orb1.r))\n",
    "orb1 = orb1.propagate(1 * u.min) # Let's see how far it moved in 1 minute\n",
    "print(\"orb3 v=%s, r=%s\" % (orb1.v, orb1.r))"
   ]
  },
  {
   "cell_type": "code",
   "execution_count": 43,
   "metadata": {},
   "outputs": [
    {
     "output_type": "display_data",
     "data": {
      "application/vnd.plotly.v1+json": {
       "config": {
        "plotlyServerURL": "https://plot.ly"
       },
       "data": [
        {
         "hovertemplate": "variable=wide_variable_0<br>mean anomaly [0..2pi]=%{x}<br>value=%{y}<extra></extra>",
         "legendgroup": "wide_variable_0",
         "marker": {
          "color": "#636efa",
          "symbol": "circle"
         },
         "mode": "markers",
         "name": "wide_variable_0",
         "orientation": "v",
         "showlegend": true,
         "type": "scatter",
         "x": [
          0.0852460276884015,
          0.2392129425144507,
          0.39216523891136656,
          0.5435017853067654,
          0.6926922623334821,
          0.8392945823397118,
          0.9829645096257495,
          1.1234578203805405,
          1.2606262286209393,
          1.3944087812091395,
          1.5248205111841528,
          1.6519399395394432,
          1.7758966627675052,
          1.8968598709599824,
          2.0150282853302723,
          2.1306217225454738,
          2.243874294898994,
          2.3550291314519924,
          2.4643344396272457,
          2.572040702084756,
          2.6783988050557426,
          2.783658910142602,
          2.8880699038134825,
          2.9918792821645557,
          3.0953333498105113,
          -3.08450767795492,
          -2.9810279175866357,
          -2.877167095304368,
          -2.772678798042891,
          -2.667315388890286,
          -2.560827835971515,
          -2.452965867253262,
          -2.3434785744814373,
          -2.2321156110680134,
          -2.1186291521497562,
          -2.002776806883072,
          -1.8843256877876784,
          -1.7630578411786215,
          -1.6387772145361572,
          -1.5113182657447986,
          -1.3805561881259196,
          -1.246418518325332,
          -1.1088976040282064,
          -0.968063046336145,
          -0.8240728389815457,
          -0.6771815839493001,
          -0.527743987696085,
          -0.37621196525913225,
          -0.22312420039976022
         ],
         "xaxis": "x",
         "y": [
          8.538585952254241,
          8.521025745918887,
          8.487392576997175,
          8.438821396267162,
          8.376885439910566,
          8.303482160784787,
          8.220709973032497,
          8.13075044241683,
          8.035766764432292,
          7.937824601809378,
          7.83883689972715,
          7.740530954939997,
          7.644434031704459,
          7.551873044037662,
          7.463983920284861,
          7.381726866406336,
          7.30590455083455,
          7.237181046432933,
          7.176100074314468,
          7.1231016565101894,
          7.078536697071127,
          7.042679292392917,
          7.015736747229138,
          6.99785736892611,
          6.989136151333961,
          6.989618459596761,
          6.999301801356628,
          7.018135729256738,
          7.046019872208736,
          7.08280004583581,
          7.128262353007869,
          7.1821251618413,
          7.244028851675022,
          7.3135232615205705,
          7.390052878760839,
          7.47293999134748,
          7.56136632055348,
          7.654354078976869,
          7.7507479767618,
          7.849200422030608,
          7.948162980073025,
          8.045887951787776,
          8.140444495089447,
          8.229753736068774,
          8.31164643084828,
          8.383944615270838,
          8.444565200834829,
          8.491638941584249,
          8.523633461375278
         ],
         "yaxis": "y"
        },
        {
         "hovertemplate": "variable=wide_variable_1<br>mean anomaly [0..2pi]=%{x}<br>value=%{y}<extra></extra>",
         "legendgroup": "wide_variable_1",
         "marker": {
          "color": "#EF553B",
          "symbol": "circle"
         },
         "mode": "markers",
         "name": "wide_variable_1",
         "orientation": "v",
         "showlegend": true,
         "type": "scatter",
         "x": [
          0.0852460276884015,
          0.2392129425144507,
          0.39216523891136656,
          0.5435017853067654,
          0.6926922623334821,
          0.8392945823397118,
          0.9829645096257495,
          1.1234578203805405,
          1.2606262286209393,
          1.3944087812091395,
          1.5248205111841528,
          1.6519399395394432,
          1.7758966627675052,
          1.8968598709599824,
          2.0150282853302723,
          2.1306217225454738,
          2.243874294898994,
          2.3550291314519924,
          2.4643344396272457,
          2.572040702084756,
          2.6783988050557426,
          2.783658910142602,
          2.8880699038134825,
          2.9918792821645557,
          3.0953333498105113,
          -3.08450767795492,
          -2.9810279175866357,
          -2.877167095304368,
          -2.772678798042891,
          -2.667315388890286,
          -2.560827835971515,
          -2.452965867253262,
          -2.3434785744814373,
          -2.2321156110680134,
          -2.1186291521497562,
          -2.002776806883072,
          -1.8843256877876784,
          -1.7630578411786215,
          -1.6387772145361572,
          -1.5113182657447986,
          -1.3805561881259196,
          -1.246418518325332,
          -1.1088976040282064,
          -0.968063046336145,
          -0.8240728389815457,
          -0.6771815839493001,
          -0.527743987696085,
          -0.37621196525913225,
          -0.22312420039976022
         ],
         "xaxis": "x",
         "y": [
          6.965136658338098,
          6.806842812334337,
          6.502571317224405,
          6.060625456173863,
          5.492718946067656,
          4.8133223134493095,
          4.038925321744704,
          3.187289286405507,
          2.2767503682991266,
          1.3256160316348764,
          0.3516768973905402,
          0.6281610226251941,
          1.5981313353065503,
          2.5437647923779765,
          3.451968001226084,
          4.311042282846971,
          5.110660006661532,
          5.841813138329413,
          6.496745866325,
          7.068880447101878,
          7.552743043963812,
          7.943894408788606,
          8.238868761855803,
          8.435123112478255,
          8.53099846303968,
          8.525693779166211,
          8.419253220637717,
          8.212566848710223,
          7.907384798353744,
          7.50634467390599,
          7.013011639038031,
          6.431930268853699,
          5.768686650216945,
          5.029978386987155,
          4.223689017422106,
          3.3589618137342385,
          2.4462659611040825,
          1.497445705375136,
          0.5257403044468639,
          0.4542402468746182,
          1.4266012787929168,
          2.3743303361830534,
          3.279563375101243,
          4.123964955152199,
          4.889228968912485,
          5.5576933159293915,
          6.113044277221037,
          6.54106629437993,
          6.830374345242565
         ],
         "yaxis": "y"
        }
       ],
       "layout": {
        "legend": {
         "title": {
          "text": "variable"
         },
         "tracegroupgap": 0
        },
        "margin": {
         "t": 60
        },
        "template": {
         "data": {
          "bar": [
           {
            "error_x": {
             "color": "#2a3f5f"
            },
            "error_y": {
             "color": "#2a3f5f"
            },
            "marker": {
             "line": {
              "color": "#E5ECF6",
              "width": 0.5
             }
            },
            "type": "bar"
           }
          ],
          "barpolar": [
           {
            "marker": {
             "line": {
              "color": "#E5ECF6",
              "width": 0.5
             }
            },
            "type": "barpolar"
           }
          ],
          "carpet": [
           {
            "aaxis": {
             "endlinecolor": "#2a3f5f",
             "gridcolor": "white",
             "linecolor": "white",
             "minorgridcolor": "white",
             "startlinecolor": "#2a3f5f"
            },
            "baxis": {
             "endlinecolor": "#2a3f5f",
             "gridcolor": "white",
             "linecolor": "white",
             "minorgridcolor": "white",
             "startlinecolor": "#2a3f5f"
            },
            "type": "carpet"
           }
          ],
          "choropleth": [
           {
            "colorbar": {
             "outlinewidth": 0,
             "ticks": ""
            },
            "type": "choropleth"
           }
          ],
          "contour": [
           {
            "colorbar": {
             "outlinewidth": 0,
             "ticks": ""
            },
            "colorscale": [
             [
              0,
              "#0d0887"
             ],
             [
              0.1111111111111111,
              "#46039f"
             ],
             [
              0.2222222222222222,
              "#7201a8"
             ],
             [
              0.3333333333333333,
              "#9c179e"
             ],
             [
              0.4444444444444444,
              "#bd3786"
             ],
             [
              0.5555555555555556,
              "#d8576b"
             ],
             [
              0.6666666666666666,
              "#ed7953"
             ],
             [
              0.7777777777777778,
              "#fb9f3a"
             ],
             [
              0.8888888888888888,
              "#fdca26"
             ],
             [
              1,
              "#f0f921"
             ]
            ],
            "type": "contour"
           }
          ],
          "contourcarpet": [
           {
            "colorbar": {
             "outlinewidth": 0,
             "ticks": ""
            },
            "type": "contourcarpet"
           }
          ],
          "heatmap": [
           {
            "colorbar": {
             "outlinewidth": 0,
             "ticks": ""
            },
            "colorscale": [
             [
              0,
              "#0d0887"
             ],
             [
              0.1111111111111111,
              "#46039f"
             ],
             [
              0.2222222222222222,
              "#7201a8"
             ],
             [
              0.3333333333333333,
              "#9c179e"
             ],
             [
              0.4444444444444444,
              "#bd3786"
             ],
             [
              0.5555555555555556,
              "#d8576b"
             ],
             [
              0.6666666666666666,
              "#ed7953"
             ],
             [
              0.7777777777777778,
              "#fb9f3a"
             ],
             [
              0.8888888888888888,
              "#fdca26"
             ],
             [
              1,
              "#f0f921"
             ]
            ],
            "type": "heatmap"
           }
          ],
          "heatmapgl": [
           {
            "colorbar": {
             "outlinewidth": 0,
             "ticks": ""
            },
            "colorscale": [
             [
              0,
              "#0d0887"
             ],
             [
              0.1111111111111111,
              "#46039f"
             ],
             [
              0.2222222222222222,
              "#7201a8"
             ],
             [
              0.3333333333333333,
              "#9c179e"
             ],
             [
              0.4444444444444444,
              "#bd3786"
             ],
             [
              0.5555555555555556,
              "#d8576b"
             ],
             [
              0.6666666666666666,
              "#ed7953"
             ],
             [
              0.7777777777777778,
              "#fb9f3a"
             ],
             [
              0.8888888888888888,
              "#fdca26"
             ],
             [
              1,
              "#f0f921"
             ]
            ],
            "type": "heatmapgl"
           }
          ],
          "histogram": [
           {
            "marker": {
             "colorbar": {
              "outlinewidth": 0,
              "ticks": ""
             }
            },
            "type": "histogram"
           }
          ],
          "histogram2d": [
           {
            "colorbar": {
             "outlinewidth": 0,
             "ticks": ""
            },
            "colorscale": [
             [
              0,
              "#0d0887"
             ],
             [
              0.1111111111111111,
              "#46039f"
             ],
             [
              0.2222222222222222,
              "#7201a8"
             ],
             [
              0.3333333333333333,
              "#9c179e"
             ],
             [
              0.4444444444444444,
              "#bd3786"
             ],
             [
              0.5555555555555556,
              "#d8576b"
             ],
             [
              0.6666666666666666,
              "#ed7953"
             ],
             [
              0.7777777777777778,
              "#fb9f3a"
             ],
             [
              0.8888888888888888,
              "#fdca26"
             ],
             [
              1,
              "#f0f921"
             ]
            ],
            "type": "histogram2d"
           }
          ],
          "histogram2dcontour": [
           {
            "colorbar": {
             "outlinewidth": 0,
             "ticks": ""
            },
            "colorscale": [
             [
              0,
              "#0d0887"
             ],
             [
              0.1111111111111111,
              "#46039f"
             ],
             [
              0.2222222222222222,
              "#7201a8"
             ],
             [
              0.3333333333333333,
              "#9c179e"
             ],
             [
              0.4444444444444444,
              "#bd3786"
             ],
             [
              0.5555555555555556,
              "#d8576b"
             ],
             [
              0.6666666666666666,
              "#ed7953"
             ],
             [
              0.7777777777777778,
              "#fb9f3a"
             ],
             [
              0.8888888888888888,
              "#fdca26"
             ],
             [
              1,
              "#f0f921"
             ]
            ],
            "type": "histogram2dcontour"
           }
          ],
          "mesh3d": [
           {
            "colorbar": {
             "outlinewidth": 0,
             "ticks": ""
            },
            "type": "mesh3d"
           }
          ],
          "parcoords": [
           {
            "line": {
             "colorbar": {
              "outlinewidth": 0,
              "ticks": ""
             }
            },
            "type": "parcoords"
           }
          ],
          "pie": [
           {
            "automargin": true,
            "type": "pie"
           }
          ],
          "scatter": [
           {
            "marker": {
             "colorbar": {
              "outlinewidth": 0,
              "ticks": ""
             }
            },
            "type": "scatter"
           }
          ],
          "scatter3d": [
           {
            "line": {
             "colorbar": {
              "outlinewidth": 0,
              "ticks": ""
             }
            },
            "marker": {
             "colorbar": {
              "outlinewidth": 0,
              "ticks": ""
             }
            },
            "type": "scatter3d"
           }
          ],
          "scattercarpet": [
           {
            "marker": {
             "colorbar": {
              "outlinewidth": 0,
              "ticks": ""
             }
            },
            "type": "scattercarpet"
           }
          ],
          "scattergeo": [
           {
            "marker": {
             "colorbar": {
              "outlinewidth": 0,
              "ticks": ""
             }
            },
            "type": "scattergeo"
           }
          ],
          "scattergl": [
           {
            "marker": {
             "colorbar": {
              "outlinewidth": 0,
              "ticks": ""
             }
            },
            "type": "scattergl"
           }
          ],
          "scattermapbox": [
           {
            "marker": {
             "colorbar": {
              "outlinewidth": 0,
              "ticks": ""
             }
            },
            "type": "scattermapbox"
           }
          ],
          "scatterpolar": [
           {
            "marker": {
             "colorbar": {
              "outlinewidth": 0,
              "ticks": ""
             }
            },
            "type": "scatterpolar"
           }
          ],
          "scatterpolargl": [
           {
            "marker": {
             "colorbar": {
              "outlinewidth": 0,
              "ticks": ""
             }
            },
            "type": "scatterpolargl"
           }
          ],
          "scatterternary": [
           {
            "marker": {
             "colorbar": {
              "outlinewidth": 0,
              "ticks": ""
             }
            },
            "type": "scatterternary"
           }
          ],
          "surface": [
           {
            "colorbar": {
             "outlinewidth": 0,
             "ticks": ""
            },
            "colorscale": [
             [
              0,
              "#0d0887"
             ],
             [
              0.1111111111111111,
              "#46039f"
             ],
             [
              0.2222222222222222,
              "#7201a8"
             ],
             [
              0.3333333333333333,
              "#9c179e"
             ],
             [
              0.4444444444444444,
              "#bd3786"
             ],
             [
              0.5555555555555556,
              "#d8576b"
             ],
             [
              0.6666666666666666,
              "#ed7953"
             ],
             [
              0.7777777777777778,
              "#fb9f3a"
             ],
             [
              0.8888888888888888,
              "#fdca26"
             ],
             [
              1,
              "#f0f921"
             ]
            ],
            "type": "surface"
           }
          ],
          "table": [
           {
            "cells": {
             "fill": {
              "color": "#EBF0F8"
             },
             "line": {
              "color": "white"
             }
            },
            "header": {
             "fill": {
              "color": "#C8D4E3"
             },
             "line": {
              "color": "white"
             }
            },
            "type": "table"
           }
          ]
         },
         "layout": {
          "annotationdefaults": {
           "arrowcolor": "#2a3f5f",
           "arrowhead": 0,
           "arrowwidth": 1
          },
          "coloraxis": {
           "colorbar": {
            "outlinewidth": 0,
            "ticks": ""
           }
          },
          "colorscale": {
           "diverging": [
            [
             0,
             "#8e0152"
            ],
            [
             0.1,
             "#c51b7d"
            ],
            [
             0.2,
             "#de77ae"
            ],
            [
             0.3,
             "#f1b6da"
            ],
            [
             0.4,
             "#fde0ef"
            ],
            [
             0.5,
             "#f7f7f7"
            ],
            [
             0.6,
             "#e6f5d0"
            ],
            [
             0.7,
             "#b8e186"
            ],
            [
             0.8,
             "#7fbc41"
            ],
            [
             0.9,
             "#4d9221"
            ],
            [
             1,
             "#276419"
            ]
           ],
           "sequential": [
            [
             0,
             "#0d0887"
            ],
            [
             0.1111111111111111,
             "#46039f"
            ],
            [
             0.2222222222222222,
             "#7201a8"
            ],
            [
             0.3333333333333333,
             "#9c179e"
            ],
            [
             0.4444444444444444,
             "#bd3786"
            ],
            [
             0.5555555555555556,
             "#d8576b"
            ],
            [
             0.6666666666666666,
             "#ed7953"
            ],
            [
             0.7777777777777778,
             "#fb9f3a"
            ],
            [
             0.8888888888888888,
             "#fdca26"
            ],
            [
             1,
             "#f0f921"
            ]
           ],
           "sequentialminus": [
            [
             0,
             "#0d0887"
            ],
            [
             0.1111111111111111,
             "#46039f"
            ],
            [
             0.2222222222222222,
             "#7201a8"
            ],
            [
             0.3333333333333333,
             "#9c179e"
            ],
            [
             0.4444444444444444,
             "#bd3786"
            ],
            [
             0.5555555555555556,
             "#d8576b"
            ],
            [
             0.6666666666666666,
             "#ed7953"
            ],
            [
             0.7777777777777778,
             "#fb9f3a"
            ],
            [
             0.8888888888888888,
             "#fdca26"
            ],
            [
             1,
             "#f0f921"
            ]
           ]
          },
          "colorway": [
           "#636efa",
           "#EF553B",
           "#00cc96",
           "#ab63fa",
           "#FFA15A",
           "#19d3f3",
           "#FF6692",
           "#B6E880",
           "#FF97FF",
           "#FECB52"
          ],
          "font": {
           "color": "#2a3f5f"
          },
          "geo": {
           "bgcolor": "white",
           "lakecolor": "white",
           "landcolor": "#E5ECF6",
           "showlakes": true,
           "showland": true,
           "subunitcolor": "white"
          },
          "hoverlabel": {
           "align": "left"
          },
          "hovermode": "closest",
          "mapbox": {
           "style": "light"
          },
          "paper_bgcolor": "white",
          "plot_bgcolor": "#E5ECF6",
          "polar": {
           "angularaxis": {
            "gridcolor": "white",
            "linecolor": "white",
            "ticks": ""
           },
           "bgcolor": "#E5ECF6",
           "radialaxis": {
            "gridcolor": "white",
            "linecolor": "white",
            "ticks": ""
           }
          },
          "scene": {
           "xaxis": {
            "backgroundcolor": "#E5ECF6",
            "gridcolor": "white",
            "gridwidth": 2,
            "linecolor": "white",
            "showbackground": true,
            "ticks": "",
            "zerolinecolor": "white"
           },
           "yaxis": {
            "backgroundcolor": "#E5ECF6",
            "gridcolor": "white",
            "gridwidth": 2,
            "linecolor": "white",
            "showbackground": true,
            "ticks": "",
            "zerolinecolor": "white"
           },
           "zaxis": {
            "backgroundcolor": "#E5ECF6",
            "gridcolor": "white",
            "gridwidth": 2,
            "linecolor": "white",
            "showbackground": true,
            "ticks": "",
            "zerolinecolor": "white"
           }
          },
          "shapedefaults": {
           "line": {
            "color": "#2a3f5f"
           }
          },
          "ternary": {
           "aaxis": {
            "gridcolor": "white",
            "linecolor": "white",
            "ticks": ""
           },
           "baxis": {
            "gridcolor": "white",
            "linecolor": "white",
            "ticks": ""
           },
           "bgcolor": "#E5ECF6",
           "caxis": {
            "gridcolor": "white",
            "linecolor": "white",
            "ticks": ""
           }
          },
          "title": {
           "x": 0.05
          },
          "xaxis": {
           "automargin": true,
           "gridcolor": "white",
           "linecolor": "white",
           "ticks": "",
           "title": {
            "standoff": 15
           },
           "zerolinecolor": "white",
           "zerolinewidth": 2
          },
          "yaxis": {
           "automargin": true,
           "gridcolor": "white",
           "linecolor": "white",
           "ticks": "",
           "title": {
            "standoff": 15
           },
           "zerolinecolor": "white",
           "zerolinewidth": 2
          }
         }
        },
        "xaxis": {
         "anchor": "y",
         "domain": [
          0,
          1
         ],
         "title": {
          "text": "mean anomaly [0..2pi]"
         }
        },
        "yaxis": {
         "anchor": "x",
         "domain": [
          0,
          1
         ],
         "title": {
          "text": "value"
         }
        }
       }
      }
     },
     "metadata": {}
    }
   ],
   "source": [
    "import plotly.express as px\n",
    "import numpy as np\n",
    "\n",
    "# y - blue - orbital velocity [km/s]\n",
    "# y2 - red - delta-v cost for inclination change [km/s]\n",
    "\n",
    "# Note the lowest cost is when the object passes lines of apides (i.e. in the middle between apoapsis and periapsis)\n",
    "\n",
    "x = []\n",
    "y = []\n",
    "y2 = []\n",
    "for v,t,nu,argp, dv in vel:\n",
    "    x.append(nu.value)\n",
    "    y.append(v.value)\n",
    "    y2.append(abs(dv.value))\n",
    "\n",
    "df = px.data.iris()\n",
    "fig = px.scatter(x=x, y=[y,y2], labels={'x':'mean anomaly [0..2pi]', 'wide_variable_0': 'velocity[km/s]'})\n",
    "\n",
    "fig.show()\n"
   ]
  },
  {
   "cell_type": "code",
   "execution_count": null,
   "metadata": {},
   "outputs": [],
   "source": []
  }
 ],
 "metadata": {
  "kernelspec": {
   "display_name": "Python 3",
   "language": "python",
   "name": "python3"
  },
  "language_info": {
   "codemirror_mode": {
    "name": "ipython",
    "version": 3
   },
   "file_extension": ".py",
   "mimetype": "text/x-python",
   "name": "python",
   "nbconvert_exporter": "python",
   "pygments_lexer": "ipython3",
   "version": "3.8.5-final"
  }
 },
 "nbformat": 4,
 "nbformat_minor": 4
}