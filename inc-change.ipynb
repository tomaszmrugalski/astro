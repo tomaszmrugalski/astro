{
 "cells": [
  {
   "cell_type": "code",
   "execution_count": 1,
   "metadata": {},
   "outputs": [],
   "source": [
    "# Imports\n",
    "\n",
    "from astropy import units as u\n",
    "import numpy as np\n",
    "from math import pi\n",
    "\n",
    "from poliastro.bodies import Earth, Mars, Sun\n",
    "from poliastro.twobody import Orbit\n",
    "\n",
    "# Needed to handle TLE into Poliastro's Orbit\n",
    "from tletools import TLE\n",
    "\n",
    "# Needed for defining manouvers\n",
    "from poliastro.maneuver import Maneuver\n",
    "from poliastro.twobody import thrust\n",
    "from poliastro.twobody.propagation import cowell\n",
    "\n",
    "from perylune.orbit_tools import *"
   ]
  },
  {
   "cell_type": "code",
   "execution_count": 2,
   "metadata": {},
   "outputs": [
    {
     "output_type": "stream",
     "name": "stdout",
     "text": [
      "inc_change: n=<Quantity 0.00115687 1 / s> a=<Quantity 6678.1366 km> n*a=<Quantity 7.72576046 km / s> (1 + ecos(nu)=<Quantity 1.>\nInclination change from 0.0 deg to 60.0 deg requires delta-v 7.725760463451862 km / s\n"
     ]
    }
   ],
   "source": [
    "# Create circular, equatorial orbit:\n",
    "\n",
    "orb1 = Orbit.circular(Earth, 300 * u.km, 0*u.deg)\n",
    "orb2 = Orbit.circular(Earth, 300 * u.km, 60*u.deg)\n",
    "\n",
    "# Calculate the delta-v cost of inclination change from 87 to 88.4 degrees\n",
    "dv_inc = inc_change(orb1, orb2)\n",
    "print(\"Inclination change from %s to %s requires delta-v %s\" % (orb1.inc, orb2.inc, dv_inc))"
   ]
  },
  {
   "cell_type": "code",
   "execution_count": 3,
   "metadata": {},
   "outputs": [
    {
     "output_type": "stream",
     "name": "stdout",
     "text": [
      "6010 x 7346 km x 0.0 deg (GCRS) orbit around Earth (♁) at epoch J2000.000 (TT)\n𝑎=6678.14m, b=6644.66m, e=0.10, i=0.00deg raan(Ω)=0.00deg argp(𝜔)=0.00deg nu(𝜈)=0.00deg period=5431.176641180842 s perapis=6010.322939999999 m apoapsis=7345.95026 m\n"
     ]
    }
   ],
   "source": [
    "# Now calculate the cost for 60 deg change for eccentric orbits (300km)\n",
    "alt = 300*u.km\n",
    "orb3 = Orbit.from_classical(Earth, Earth.R + alt, 0.1*u.one, 0.0*u.deg, 0*u.deg, 0*u.deg, 0*u.deg)\n",
    "orb4 = Orbit.from_classical(Earth, Earth.R + alt, 0.1*u.one, 60.0*u.deg, 0*u.deg, 0*u.deg, 0*u.deg)\n",
    "print_orb(orb3)"
   ]
  },
  {
   "cell_type": "code",
   "execution_count": 31,
   "metadata": {
    "tags": [
     "outputPrepend"
    ]
   },
   "outputs": [
    {
     "output_type": "stream",
     "name": "stdout",
     "text": [
      "356676>\n",
      "inc_change: n=<Quantity 0.00115687 1 / s> a=<Quantity 6678.1366 km> n*a=<Quantity 7.72576046 km / s> (1 + ecos(nu)=<Quantity 0.97065804>\n",
      "inc_change: n=<Quantity 0.00115687 1 / s> a=<Quantity 6678.1366 km> n*a=<Quantity 7.72576046 km / s> (1 + ecos(nu)=<Quantity 0.96779324>\n",
      "inc_change: n=<Quantity 0.00115687 1 / s> a=<Quantity 6678.1366 km> n*a=<Quantity 7.72576046 km / s> (1 + ecos(nu)=<Quantity 0.96497415>\n",
      "inc_change: n=<Quantity 0.00115687 1 / s> a=<Quantity 6678.1366 km> n*a=<Quantity 7.72576046 km / s> (1 + ecos(nu)=<Quantity 0.96220246>\n",
      "inc_change: n=<Quantity 0.00115687 1 / s> a=<Quantity 6678.1366 km> n*a=<Quantity 7.72576046 km / s> (1 + ecos(nu)=<Quantity 0.95947974>\n",
      "inc_change: n=<Quantity 0.00115687 1 / s> a=<Quantity 6678.1366 km> n*a=<Quantity 7.72576046 km / s> (1 + ecos(nu)=<Quantity 0.95680746>\n",
      "inc_change: n=<Quantity 0.00115687 1 / s> a=<Quantity 6678.1366 km> n*a=<Quantity 7.72576046 km / s> (1 + ecos(nu)=<Quantity 0.95418701>\n",
      "inc_change: n=<Quantity 0.00115687 1 / s> a=<Quantity 6678.1366 km> n*a=<Quantity 7.72576046 km / s> (1 + ecos(nu)=<Quantity 0.95161968>\n",
      "inc_change: n=<Quantity 0.00115687 1 / s> a=<Quantity 6678.1366 km> n*a=<Quantity 7.72576046 km / s> (1 + ecos(nu)=<Quantity 0.94910667>\n",
      "inc_change: n=<Quantity 0.00115687 1 / s> a=<Quantity 6678.1366 km> n*a=<Quantity 7.72576046 km / s> (1 + ecos(nu)=<Quantity 0.94664909>\n",
      "inc_change: n=<Quantity 0.00115687 1 / s> a=<Quantity 6678.1366 km> n*a=<Quantity 7.72576046 km / s> (1 + ecos(nu)=<Quantity 0.944248>\n",
      "inc_change: n=<Quantity 0.00115687 1 / s> a=<Quantity 6678.1366 km> n*a=<Quantity 7.72576046 km / s> (1 + ecos(nu)=<Quantity 0.94190436>\n",
      "inc_change: n=<Quantity 0.00115687 1 / s> a=<Quantity 6678.1366 km> n*a=<Quantity 7.72576046 km / s> (1 + ecos(nu)=<Quantity 0.93961908>\n",
      "inc_change: n=<Quantity 0.00115687 1 / s> a=<Quantity 6678.1366 km> n*a=<Quantity 7.72576046 km / s> (1 + ecos(nu)=<Quantity 0.93739297>\n",
      "inc_change: n=<Quantity 0.00115687 1 / s> a=<Quantity 6678.1366 km> n*a=<Quantity 7.72576046 km / s> (1 + ecos(nu)=<Quantity 0.93522682>\n",
      "inc_change: n=<Quantity 0.00115687 1 / s> a=<Quantity 6678.1366 km> n*a=<Quantity 7.72576046 km / s> (1 + ecos(nu)=<Quantity 0.93312133>\n",
      "inc_change: n=<Quantity 0.00115687 1 / s> a=<Quantity 6678.1366 km> n*a=<Quantity 7.72576046 km / s> (1 + ecos(nu)=<Quantity 0.93107716>\n",
      "inc_change: n=<Quantity 0.00115687 1 / s> a=<Quantity 6678.1366 km> n*a=<Quantity 7.72576046 km / s> (1 + ecos(nu)=<Quantity 0.92909491>\n",
      "inc_change: n=<Quantity 0.00115687 1 / s> a=<Quantity 6678.1366 km> n*a=<Quantity 7.72576046 km / s> (1 + ecos(nu)=<Quantity 0.92717513>\n",
      "inc_change: n=<Quantity 0.00115687 1 / s> a=<Quantity 6678.1366 km> n*a=<Quantity 7.72576046 km / s> (1 + ecos(nu)=<Quantity 0.92531833>\n",
      "inc_change: n=<Quantity 0.00115687 1 / s> a=<Quantity 6678.1366 km> n*a=<Quantity 7.72576046 km / s> (1 + ecos(nu)=<Quantity 0.92352499>\n",
      "inc_change: n=<Quantity 0.00115687 1 / s> a=<Quantity 6678.1366 km> n*a=<Quantity 7.72576046 km / s> (1 + ecos(nu)=<Quantity 0.92179551>\n",
      "inc_change: n=<Quantity 0.00115687 1 / s> a=<Quantity 6678.1366 km> n*a=<Quantity 7.72576046 km / s> (1 + ecos(nu)=<Quantity 0.9201303>\n",
      "inc_change: n=<Quantity 0.00115687 1 / s> a=<Quantity 6678.1366 km> n*a=<Quantity 7.72576046 km / s> (1 + ecos(nu)=<Quantity 0.91852969>\n",
      "inc_change: n=<Quantity 0.00115687 1 / s> a=<Quantity 6678.1366 km> n*a=<Quantity 7.72576046 km / s> (1 + ecos(nu)=<Quantity 0.91699403>\n",
      "inc_change: n=<Quantity 0.00115687 1 / s> a=<Quantity 6678.1366 km> n*a=<Quantity 7.72576046 km / s> (1 + ecos(nu)=<Quantity 0.91552359>\n",
      "inc_change: n=<Quantity 0.00115687 1 / s> a=<Quantity 6678.1366 km> n*a=<Quantity 7.72576046 km / s> (1 + ecos(nu)=<Quantity 0.91411864>\n",
      "inc_change: n=<Quantity 0.00115687 1 / s> a=<Quantity 6678.1366 km> n*a=<Quantity 7.72576046 km / s> (1 + ecos(nu)=<Quantity 0.91277941>\n",
      "inc_change: n=<Quantity 0.00115687 1 / s> a=<Quantity 6678.1366 km> n*a=<Quantity 7.72576046 km / s> (1 + ecos(nu)=<Quantity 0.91150613>\n",
      "inc_change: n=<Quantity 0.00115687 1 / s> a=<Quantity 6678.1366 km> n*a=<Quantity 7.72576046 km / s> (1 + ecos(nu)=<Quantity 0.91029899>\n",
      "inc_change: n=<Quantity 0.00115687 1 / s> a=<Quantity 6678.1366 km> n*a=<Quantity 7.72576046 km / s> (1 + ecos(nu)=<Quantity 0.90915816>\n",
      "inc_change: n=<Quantity 0.00115687 1 / s> a=<Quantity 6678.1366 km> n*a=<Quantity 7.72576046 km / s> (1 + ecos(nu)=<Quantity 0.90808378>\n",
      "inc_change: n=<Quantity 0.00115687 1 / s> a=<Quantity 6678.1366 km> n*a=<Quantity 7.72576046 km / s> (1 + ecos(nu)=<Quantity 0.90707602>\n",
      "inc_change: n=<Quantity 0.00115687 1 / s> a=<Quantity 6678.1366 km> n*a=<Quantity 7.72576046 km / s> (1 + ecos(nu)=<Quantity 0.90613497>\n",
      "inc_change: n=<Quantity 0.00115687 1 / s> a=<Quantity 6678.1366 km> n*a=<Quantity 7.72576046 km / s> (1 + ecos(nu)=<Quantity 0.90526076>\n",
      "inc_change: n=<Quantity 0.00115687 1 / s> a=<Quantity 6678.1366 km> n*a=<Quantity 7.72576046 km / s> (1 + ecos(nu)=<Quantity 0.90445348>\n",
      "inc_change: n=<Quantity 0.00115687 1 / s> a=<Quantity 6678.1366 km> n*a=<Quantity 7.72576046 km / s> (1 + ecos(nu)=<Quantity 0.90371321>\n",
      "inc_change: n=<Quantity 0.00115687 1 / s> a=<Quantity 6678.1366 km> n*a=<Quantity 7.72576046 km / s> (1 + ecos(nu)=<Quantity 0.90304004>\n",
      "inc_change: n=<Quantity 0.00115687 1 / s> a=<Quantity 6678.1366 km> n*a=<Quantity 7.72576046 km / s> (1 + ecos(nu)=<Quantity 0.90243401>\n",
      "inc_change: n=<Quantity 0.00115687 1 / s> a=<Quantity 6678.1366 km> n*a=<Quantity 7.72576046 km / s> (1 + ecos(nu)=<Quantity 0.90189519>\n",
      "inc_change: n=<Quantity 0.00115687 1 / s> a=<Quantity 6678.1366 km> n*a=<Quantity 7.72576046 km / s> (1 + ecos(nu)=<Quantity 0.90142363>\n",
      "inc_change: n=<Quantity 0.00115687 1 / s> a=<Quantity 6678.1366 km> n*a=<Quantity 7.72576046 km / s> (1 + ecos(nu)=<Quantity 0.90101937>\n",
      "inc_change: n=<Quantity 0.00115687 1 / s> a=<Quantity 6678.1366 km> n*a=<Quantity 7.72576046 km / s> (1 + ecos(nu)=<Quantity 0.90068243>\n",
      "inc_change: n=<Quantity 0.00115687 1 / s> a=<Quantity 6678.1366 km> n*a=<Quantity 7.72576046 km / s> (1 + ecos(nu)=<Quantity 0.90041285>\n",
      "inc_change: n=<Quantity 0.00115687 1 / s> a=<Quantity 6678.1366 km> n*a=<Quantity 7.72576046 km / s> (1 + ecos(nu)=<Quantity 0.90021064>\n",
      "inc_change: n=<Quantity 0.00115687 1 / s> a=<Quantity 6678.1366 km> n*a=<Quantity 7.72576046 km / s> (1 + ecos(nu)=<Quantity 0.90007583>\n",
      "inc_change: n=<Quantity 0.00115687 1 / s> a=<Quantity 6678.1366 km> n*a=<Quantity 7.72576046 km / s> (1 + ecos(nu)=<Quantity 0.90000843>\n",
      "inc_change: n=<Quantity 0.00115687 1 / s> a=<Quantity 6678.1366 km> n*a=<Quantity 7.72576046 km / s> (1 + ecos(nu)=<Quantity 0.90000843>\n",
      "inc_change: n=<Quantity 0.00115687 1 / s> a=<Quantity 6678.1366 km> n*a=<Quantity 7.72576046 km / s> (1 + ecos(nu)=<Quantity 0.90007583>\n",
      "inc_change: n=<Quantity 0.00115687 1 / s> a=<Quantity 6678.1366 km> n*a=<Quantity 7.72576046 km / s> (1 + ecos(nu)=<Quantity 0.90021064>\n",
      "inc_change: n=<Quantity 0.00115687 1 / s> a=<Quantity 6678.1366 km> n*a=<Quantity 7.72576046 km / s> (1 + ecos(nu)=<Quantity 0.90041285>\n",
      "inc_change: n=<Quantity 0.00115687 1 / s> a=<Quantity 6678.1366 km> n*a=<Quantity 7.72576046 km / s> (1 + ecos(nu)=<Quantity 0.90068243>\n",
      "inc_change: n=<Quantity 0.00115687 1 / s> a=<Quantity 6678.1366 km> n*a=<Quantity 7.72576046 km / s> (1 + ecos(nu)=<Quantity 0.90101937>\n",
      "inc_change: n=<Quantity 0.00115687 1 / s> a=<Quantity 6678.1366 km> n*a=<Quantity 7.72576046 km / s> (1 + ecos(nu)=<Quantity 0.90142363>\n",
      "inc_change: n=<Quantity 0.00115687 1 / s> a=<Quantity 6678.1366 km> n*a=<Quantity 7.72576046 km / s> (1 + ecos(nu)=<Quantity 0.90189519>\n",
      "inc_change: n=<Quantity 0.00115687 1 / s> a=<Quantity 6678.1366 km> n*a=<Quantity 7.72576046 km / s> (1 + ecos(nu)=<Quantity 0.90243401>\n",
      "inc_change: n=<Quantity 0.00115687 1 / s> a=<Quantity 6678.1366 km> n*a=<Quantity 7.72576046 km / s> (1 + ecos(nu)=<Quantity 0.90304004>\n",
      "inc_change: n=<Quantity 0.00115687 1 / s> a=<Quantity 6678.1366 km> n*a=<Quantity 7.72576046 km / s> (1 + ecos(nu)=<Quantity 0.90371321>\n",
      "inc_change: n=<Quantity 0.00115687 1 / s> a=<Quantity 6678.1366 km> n*a=<Quantity 7.72576046 km / s> (1 + ecos(nu)=<Quantity 0.90445348>\n",
      "inc_change: n=<Quantity 0.00115687 1 / s> a=<Quantity 6678.1366 km> n*a=<Quantity 7.72576046 km / s> (1 + ecos(nu)=<Quantity 0.90526076>\n",
      "inc_change: n=<Quantity 0.00115687 1 / s> a=<Quantity 6678.1366 km> n*a=<Quantity 7.72576046 km / s> (1 + ecos(nu)=<Quantity 0.90613497>\n",
      "inc_change: n=<Quantity 0.00115687 1 / s> a=<Quantity 6678.1366 km> n*a=<Quantity 7.72576046 km / s> (1 + ecos(nu)=<Quantity 0.90707602>\n",
      "inc_change: n=<Quantity 0.00115687 1 / s> a=<Quantity 6678.1366 km> n*a=<Quantity 7.72576046 km / s> (1 + ecos(nu)=<Quantity 0.90808378>\n",
      "inc_change: n=<Quantity 0.00115687 1 / s> a=<Quantity 6678.1366 km> n*a=<Quantity 7.72576046 km / s> (1 + ecos(nu)=<Quantity 0.90915816>\n",
      "inc_change: n=<Quantity 0.00115687 1 / s> a=<Quantity 6678.1366 km> n*a=<Quantity 7.72576046 km / s> (1 + ecos(nu)=<Quantity 0.91029899>\n",
      "inc_change: n=<Quantity 0.00115687 1 / s> a=<Quantity 6678.1366 km> n*a=<Quantity 7.72576046 km / s> (1 + ecos(nu)=<Quantity 0.91150613>\n",
      "inc_change: n=<Quantity 0.00115687 1 / s> a=<Quantity 6678.1366 km> n*a=<Quantity 7.72576046 km / s> (1 + ecos(nu)=<Quantity 0.91277941>\n",
      "inc_change: n=<Quantity 0.00115687 1 / s> a=<Quantity 6678.1366 km> n*a=<Quantity 7.72576046 km / s> (1 + ecos(nu)=<Quantity 0.91411864>\n",
      "inc_change: n=<Quantity 0.00115687 1 / s> a=<Quantity 6678.1366 km> n*a=<Quantity 7.72576046 km / s> (1 + ecos(nu)=<Quantity 0.91552359>\n",
      "inc_change: n=<Quantity 0.00115687 1 / s> a=<Quantity 6678.1366 km> n*a=<Quantity 7.72576046 km / s> (1 + ecos(nu)=<Quantity 0.91699403>\n",
      "inc_change: n=<Quantity 0.00115687 1 / s> a=<Quantity 6678.1366 km> n*a=<Quantity 7.72576046 km / s> (1 + ecos(nu)=<Quantity 0.91852969>\n",
      "inc_change: n=<Quantity 0.00115687 1 / s> a=<Quantity 6678.1366 km> n*a=<Quantity 7.72576046 km / s> (1 + ecos(nu)=<Quantity 0.9201303>\n",
      "inc_change: n=<Quantity 0.00115687 1 / s> a=<Quantity 6678.1366 km> n*a=<Quantity 7.72576046 km / s> (1 + ecos(nu)=<Quantity 0.92179551>\n",
      "inc_change: n=<Quantity 0.00115687 1 / s> a=<Quantity 6678.1366 km> n*a=<Quantity 7.72576046 km / s> (1 + ecos(nu)=<Quantity 0.92352499>\n",
      "inc_change: n=<Quantity 0.00115687 1 / s> a=<Quantity 6678.1366 km> n*a=<Quantity 7.72576046 km / s> (1 + ecos(nu)=<Quantity 0.92531833>\n",
      "inc_change: n=<Quantity 0.00115687 1 / s> a=<Quantity 6678.1366 km> n*a=<Quantity 7.72576046 km / s> (1 + ecos(nu)=<Quantity 0.92717513>\n",
      "inc_change: n=<Quantity 0.00115687 1 / s> a=<Quantity 6678.1366 km> n*a=<Quantity 7.72576046 km / s> (1 + ecos(nu)=<Quantity 0.92909491>\n",
      "inc_change: n=<Quantity 0.00115687 1 / s> a=<Quantity 6678.1366 km> n*a=<Quantity 7.72576046 km / s> (1 + ecos(nu)=<Quantity 0.93107716>\n",
      "inc_change: n=<Quantity 0.00115687 1 / s> a=<Quantity 6678.1366 km> n*a=<Quantity 7.72576046 km / s> (1 + ecos(nu)=<Quantity 0.93312133>\n",
      "inc_change: n=<Quantity 0.00115687 1 / s> a=<Quantity 6678.1366 km> n*a=<Quantity 7.72576046 km / s> (1 + ecos(nu)=<Quantity 0.93522682>\n",
      "inc_change: n=<Quantity 0.00115687 1 / s> a=<Quantity 6678.1366 km> n*a=<Quantity 7.72576046 km / s> (1 + ecos(nu)=<Quantity 0.93739297>\n",
      "inc_change: n=<Quantity 0.00115687 1 / s> a=<Quantity 6678.1366 km> n*a=<Quantity 7.72576046 km / s> (1 + ecos(nu)=<Quantity 0.93961908>\n",
      "inc_change: n=<Quantity 0.00115687 1 / s> a=<Quantity 6678.1366 km> n*a=<Quantity 7.72576046 km / s> (1 + ecos(nu)=<Quantity 0.94190436>\n",
      "inc_change: n=<Quantity 0.00115687 1 / s> a=<Quantity 6678.1366 km> n*a=<Quantity 7.72576046 km / s> (1 + ecos(nu)=<Quantity 0.944248>\n",
      "inc_change: n=<Quantity 0.00115687 1 / s> a=<Quantity 6678.1366 km> n*a=<Quantity 7.72576046 km / s> (1 + ecos(nu)=<Quantity 0.94664909>\n",
      "inc_change: n=<Quantity 0.00115687 1 / s> a=<Quantity 6678.1366 km> n*a=<Quantity 7.72576046 km / s> (1 + ecos(nu)=<Quantity 0.94910667>\n",
      "inc_change: n=<Quantity 0.00115687 1 / s> a=<Quantity 6678.1366 km> n*a=<Quantity 7.72576046 km / s> (1 + ecos(nu)=<Quantity 0.95161968>\n",
      "inc_change: n=<Quantity 0.00115687 1 / s> a=<Quantity 6678.1366 km> n*a=<Quantity 7.72576046 km / s> (1 + ecos(nu)=<Quantity 0.95418701>\n",
      "inc_change: n=<Quantity 0.00115687 1 / s> a=<Quantity 6678.1366 km> n*a=<Quantity 7.72576046 km / s> (1 + ecos(nu)=<Quantity 0.95680746>\n",
      "inc_change: n=<Quantity 0.00115687 1 / s> a=<Quantity 6678.1366 km> n*a=<Quantity 7.72576046 km / s> (1 + ecos(nu)=<Quantity 0.95947974>\n",
      "inc_change: n=<Quantity 0.00115687 1 / s> a=<Quantity 6678.1366 km> n*a=<Quantity 7.72576046 km / s> (1 + ecos(nu)=<Quantity 0.96220246>\n",
      "inc_change: n=<Quantity 0.00115687 1 / s> a=<Quantity 6678.1366 km> n*a=<Quantity 7.72576046 km / s> (1 + ecos(nu)=<Quantity 0.96497415>\n",
      "inc_change: n=<Quantity 0.00115687 1 / s> a=<Quantity 6678.1366 km> n*a=<Quantity 7.72576046 km / s> (1 + ecos(nu)=<Quantity 0.96779324>\n",
      "inc_change: n=<Quantity 0.00115687 1 / s> a=<Quantity 6678.1366 km> n*a=<Quantity 7.72576046 km / s> (1 + ecos(nu)=<Quantity 0.97065804>\n",
      "inc_change: n=<Quantity 0.00115687 1 / s> a=<Quantity 6678.1366 km> n*a=<Quantity 7.72576046 km / s> (1 + ecos(nu)=<Quantity 0.97356676>\n",
      "inc_change: n=<Quantity 0.00115687 1 / s> a=<Quantity 6678.1366 km> n*a=<Quantity 7.72576046 km / s> (1 + ecos(nu)=<Quantity 0.97651751>\n",
      "inc_change: n=<Quantity 0.00115687 1 / s> a=<Quantity 6678.1366 km> n*a=<Quantity 7.72576046 km / s> (1 + ecos(nu)=<Quantity 0.97950827>\n",
      "inc_change: n=<Quantity 0.00115687 1 / s> a=<Quantity 6678.1366 km> n*a=<Quantity 7.72576046 km / s> (1 + ecos(nu)=<Quantity 0.98253689>\n",
      "inc_change: n=<Quantity 0.00115687 1 / s> a=<Quantity 6678.1366 km> n*a=<Quantity 7.72576046 km / s> (1 + ecos(nu)=<Quantity 0.98560113>\n",
      "inc_change: n=<Quantity 0.00115687 1 / s> a=<Quantity 6678.1366 km> n*a=<Quantity 7.72576046 km / s> (1 + ecos(nu)=<Quantity 0.98869857>\n",
      "inc_change: n=<Quantity 0.00115687 1 / s> a=<Quantity 6678.1366 km> n*a=<Quantity 7.72576046 km / s> (1 + ecos(nu)=<Quantity 0.99182671>\n",
      "inc_change: n=<Quantity 0.00115687 1 / s> a=<Quantity 6678.1366 km> n*a=<Quantity 7.72576046 km / s> (1 + ecos(nu)=<Quantity 0.99498288>\n",
      "inc_change: n=<Quantity 0.00115687 1 / s> a=<Quantity 6678.1366 km> n*a=<Quantity 7.72576046 km / s> (1 + ecos(nu)=<Quantity 0.99816428>\n",
      "inc_change: n=<Quantity 0.00115687 1 / s> a=<Quantity 6678.1366 km> n*a=<Quantity 7.72576046 km / s> (1 + ecos(nu)=<Quantity 1.00136796>\n",
      "inc_change: n=<Quantity 0.00115687 1 / s> a=<Quantity 6678.1366 km> n*a=<Quantity 7.72576046 km / s> (1 + ecos(nu)=<Quantity 1.00459085>\n",
      "inc_change: n=<Quantity 0.00115687 1 / s> a=<Quantity 6678.1366 km> n*a=<Quantity 7.72576046 km / s> (1 + ecos(nu)=<Quantity 1.00782971>\n",
      "inc_change: n=<Quantity 0.00115687 1 / s> a=<Quantity 6678.1366 km> n*a=<Quantity 7.72576046 km / s> (1 + ecos(nu)=<Quantity 1.01108117>\n",
      "inc_change: n=<Quantity 0.00115687 1 / s> a=<Quantity 6678.1366 km> n*a=<Quantity 7.72576046 km / s> (1 + ecos(nu)=<Quantity 1.01434169>\n",
      "inc_change: n=<Quantity 0.00115687 1 / s> a=<Quantity 6678.1366 km> n*a=<Quantity 7.72576046 km / s> (1 + ecos(nu)=<Quantity 1.01760761>\n",
      "inc_change: n=<Quantity 0.00115687 1 / s> a=<Quantity 6678.1366 km> n*a=<Quantity 7.72576046 km / s> (1 + ecos(nu)=<Quantity 1.0208751>\n",
      "inc_change: n=<Quantity 0.00115687 1 / s> a=<Quantity 6678.1366 km> n*a=<Quantity 7.72576046 km / s> (1 + ecos(nu)=<Quantity 1.02414019>\n",
      "inc_change: n=<Quantity 0.00115687 1 / s> a=<Quantity 6678.1366 km> n*a=<Quantity 7.72576046 km / s> (1 + ecos(nu)=<Quantity 1.02739877>\n",
      "inc_change: n=<Quantity 0.00115687 1 / s> a=<Quantity 6678.1366 km> n*a=<Quantity 7.72576046 km / s> (1 + ecos(nu)=<Quantity 1.03064659>\n",
      "inc_change: n=<Quantity 0.00115687 1 / s> a=<Quantity 6678.1366 km> n*a=<Quantity 7.72576046 km / s> (1 + ecos(nu)=<Quantity 1.03387925>\n",
      "inc_change: n=<Quantity 0.00115687 1 / s> a=<Quantity 6678.1366 km> n*a=<Quantity 7.72576046 km / s> (1 + ecos(nu)=<Quantity 1.03709223>\n",
      "inc_change: n=<Quantity 0.00115687 1 / s> a=<Quantity 6678.1366 km> n*a=<Quantity 7.72576046 km / s> (1 + ecos(nu)=<Quantity 1.04028088>\n",
      "inc_change: n=<Quantity 0.00115687 1 / s> a=<Quantity 6678.1366 km> n*a=<Quantity 7.72576046 km / s> (1 + ecos(nu)=<Quantity 1.04344044>\n",
      "inc_change: n=<Quantity 0.00115687 1 / s> a=<Quantity 6678.1366 km> n*a=<Quantity 7.72576046 km / s> (1 + ecos(nu)=<Quantity 1.04656602>\n",
      "inc_change: n=<Quantity 0.00115687 1 / s> a=<Quantity 6678.1366 km> n*a=<Quantity 7.72576046 km / s> (1 + ecos(nu)=<Quantity 1.04965264>\n",
      "inc_change: n=<Quantity 0.00115687 1 / s> a=<Quantity 6678.1366 km> n*a=<Quantity 7.72576046 km / s> (1 + ecos(nu)=<Quantity 1.05269523>\n",
      "inc_change: n=<Quantity 0.00115687 1 / s> a=<Quantity 6678.1366 km> n*a=<Quantity 7.72576046 km / s> (1 + ecos(nu)=<Quantity 1.05568865>\n",
      "inc_change: n=<Quantity 0.00115687 1 / s> a=<Quantity 6678.1366 km> n*a=<Quantity 7.72576046 km / s> (1 + ecos(nu)=<Quantity 1.05862768>\n",
      "inc_change: n=<Quantity 0.00115687 1 / s> a=<Quantity 6678.1366 km> n*a=<Quantity 7.72576046 km / s> (1 + ecos(nu)=<Quantity 1.06150705>\n",
      "inc_change: n=<Quantity 0.00115687 1 / s> a=<Quantity 6678.1366 km> n*a=<Quantity 7.72576046 km / s> (1 + ecos(nu)=<Quantity 1.06432146>\n",
      "inc_change: n=<Quantity 0.00115687 1 / s> a=<Quantity 6678.1366 km> n*a=<Quantity 7.72576046 km / s> (1 + ecos(nu)=<Quantity 1.0670656>\n",
      "inc_change: n=<Quantity 0.00115687 1 / s> a=<Quantity 6678.1366 km> n*a=<Quantity 7.72576046 km / s> (1 + ecos(nu)=<Quantity 1.06973415>\n",
      "inc_change: n=<Quantity 0.00115687 1 / s> a=<Quantity 6678.1366 km> n*a=<Quantity 7.72576046 km / s> (1 + ecos(nu)=<Quantity 1.07232179>\n",
      "inc_change: n=<Quantity 0.00115687 1 / s> a=<Quantity 6678.1366 km> n*a=<Quantity 7.72576046 km / s> (1 + ecos(nu)=<Quantity 1.07482329>\n",
      "inc_change: n=<Quantity 0.00115687 1 / s> a=<Quantity 6678.1366 km> n*a=<Quantity 7.72576046 km / s> (1 + ecos(nu)=<Quantity 1.07723342>\n",
      "inc_change: n=<Quantity 0.00115687 1 / s> a=<Quantity 6678.1366 km> n*a=<Quantity 7.72576046 km / s> (1 + ecos(nu)=<Quantity 1.07954707>\n",
      "inc_change: n=<Quantity 0.00115687 1 / s> a=<Quantity 6678.1366 km> n*a=<Quantity 7.72576046 km / s> (1 + ecos(nu)=<Quantity 1.08175922>\n",
      "inc_change: n=<Quantity 0.00115687 1 / s> a=<Quantity 6678.1366 km> n*a=<Quantity 7.72576046 km / s> (1 + ecos(nu)=<Quantity 1.08386498>\n",
      "inc_change: n=<Quantity 0.00115687 1 / s> a=<Quantity 6678.1366 km> n*a=<Quantity 7.72576046 km / s> (1 + ecos(nu)=<Quantity 1.0858596>\n",
      "inc_change: n=<Quantity 0.00115687 1 / s> a=<Quantity 6678.1366 km> n*a=<Quantity 7.72576046 km / s> (1 + ecos(nu)=<Quantity 1.08773851>\n",
      "inc_change: n=<Quantity 0.00115687 1 / s> a=<Quantity 6678.1366 km> n*a=<Quantity 7.72576046 km / s> (1 + ecos(nu)=<Quantity 1.08949733>\n",
      "inc_change: n=<Quantity 0.00115687 1 / s> a=<Quantity 6678.1366 km> n*a=<Quantity 7.72576046 km / s> (1 + ecos(nu)=<Quantity 1.09113191>\n",
      "inc_change: n=<Quantity 0.00115687 1 / s> a=<Quantity 6678.1366 km> n*a=<Quantity 7.72576046 km / s> (1 + ecos(nu)=<Quantity 1.09263831>\n",
      "inc_change: n=<Quantity 0.00115687 1 / s> a=<Quantity 6678.1366 km> n*a=<Quantity 7.72576046 km / s> (1 + ecos(nu)=<Quantity 1.09401289>\n",
      "inc_change: n=<Quantity 0.00115687 1 / s> a=<Quantity 6678.1366 km> n*a=<Quantity 7.72576046 km / s> (1 + ecos(nu)=<Quantity 1.09525224>\n",
      "inc_change: n=<Quantity 0.00115687 1 / s> a=<Quantity 6678.1366 km> n*a=<Quantity 7.72576046 km / s> (1 + ecos(nu)=<Quantity 1.09635331>\n",
      "inc_change: n=<Quantity 0.00115687 1 / s> a=<Quantity 6678.1366 km> n*a=<Quantity 7.72576046 km / s> (1 + ecos(nu)=<Quantity 1.09731331>\n",
      "inc_change: n=<Quantity 0.00115687 1 / s> a=<Quantity 6678.1366 km> n*a=<Quantity 7.72576046 km / s> (1 + ecos(nu)=<Quantity 1.09812982>\n",
      "inc_change: n=<Quantity 0.00115687 1 / s> a=<Quantity 6678.1366 km> n*a=<Quantity 7.72576046 km / s> (1 + ecos(nu)=<Quantity 1.09880076>\n",
      "inc_change: n=<Quantity 0.00115687 1 / s> a=<Quantity 6678.1366 km> n*a=<Quantity 7.72576046 km / s> (1 + ecos(nu)=<Quantity 1.09932441>\n",
      "inc_change: n=<Quantity 0.00115687 1 / s> a=<Quantity 6678.1366 km> n*a=<Quantity 7.72576046 km / s> (1 + ecos(nu)=<Quantity 1.09969941>\n",
      "inc_change: n=<Quantity 0.00115687 1 / s> a=<Quantity 6678.1366 km> n*a=<Quantity 7.72576046 km / s> (1 + ecos(nu)=<Quantity 1.0999248>\n"
     ]
    }
   ],
   "source": [
    "# Calculate velocity vector magnitudes for 100 intervals, each 5 seconds\n",
    "samples = 200\n",
    "delta_t = orb3.period / (samples - 1)\n",
    "vel = calc_vel_inc_cost(orb3, orb4, delta_t, samples)\n",
    "for v,t,nu,argp, dv in vel:\n",
    "    nu2pi = nu + 2*pi*u.rad*(nu<0) # nu normalized to 0..2pi\n",
    "    time_to_periapis = argp - nu2pi\n",
    "    #print(\"v=%4.2f %s at %s, nu=%s time to argp=%s, delta-v cost=%s\" % (v.value, v.unit, t.iso, nu, (time_to_periapis), abs(dv)))"
   ]
  },
  {
   "cell_type": "code",
   "execution_count": 34,
   "metadata": {},
   "outputs": [
    {
     "output_type": "display_data",
     "data": {
      "application/vnd.plotly.v1+json": {
       "config": {
        "plotlyServerURL": "https://plot.ly"
       },
       "data": [
        {
         "mode": "markers",
         "name": "Delta-v [km/s]",
         "type": "scatter",
         "x": [
          0,
          0.038782837126782876,
          0.07755507466789346,
          0.1163061448745153,
          0.15502554344470898,
          0.19370286068284281,
          0.2323278119907437,
          0.2708902674818381,
          0.30938028052117117,
          0.34778811500826157,
          0.3861042712359395,
          0.4243195101763231,
          0.46242487606454663,
          0.5004117171713238,
          0.5382717046766978,
          0.5759968495787353,
          0.6135795175924219,
          0.6510124420149204,
          0.6882887345537467,
          0.7254018941334923,
          0.7623458137148029,
          0.799114785175739,
          0.8357035023205768,
          0.8721070620940541,
          0.9083209640905379,
          0.9443411084568716,
          0.980163792295313,
          1.0157857046787138,
          1.0512039203941743,
          1.0864158925337488,
          1.1214194440517504,
          1.1562127584075839,
          1.1907943694113277,
          1.2251631503864422,
          1.2593183027601036,
          1.2932593441870806,
          1.326986096307773,
          1.3604986722352521,
          1.3937974638599275,
          1.426883129054115,
          1.4597565788520477,
          1.4924189646743278,
          1.5248716656591847,
          1.5571162761563553,
          1.5891545934331814,
          1.6209886056362546,
          1.6526204800462878,
          1.6840525516582687,
          1.7152873121137562,
          1.746327399007427,
          1.7771755855853302,
          1.8078347708483582,
          1.8383079700705247,
          1.8685983057382964,
          1.8987089989141213,
          1.9286433610245073,
          1.9584047860706733,
          1.9879967432575052,
          2.017422770034827,
          2.0466864655432673,
          2.0757914844557543,
          2.1047415312044677,
          2.133540354582112,
          2.1621917427057245,
          2.19069951833053,
          2.2190675345009847,
          2.2472996705258446,
          2.275399828263901,
          2.3033719287069,
          2.3312199088462675,
          2.3589477188102705,
          2.38655931925838,
          2.414058679019945,
          2.441449772964373,
          2.4687365800904164,
          2.495923081822472,
          2.52301326050212,
          2.550011098063539,
          2.5769205748817754,
          2.6037456687832528,
          2.6304903542083053,
          2.657158601515868,
          2.6837543764209038,
          2.710281639555464,
          2.736744346144677,
          2.7631464457893244,
          2.7894918823469874,
          2.8157845939040893,
          2.8420285128314493,
          2.8682275659162997,
          2.8943856745639565,
          2.920506755062606,
          2.9465947189049144,
          2.9726534731603866,
          2.9986869208925793,
          3.0246989616154867,
          3.0506934917835435,
          3.076674405309844,
          3.1026455941072903,
          3.128610948647469,
          -3.1286109486474354,
          -3.102645594107257,
          -3.076674405309811,
          -3.05069349178351,
          -3.0246989616154516,
          -2.9986869208925437,
          -2.972653473160351,
          -2.9465947189048785,
          -2.92050675506257,
          -2.8943856745639205,
          -2.8682275659162637,
          -2.8420285128314116,
          -2.815784593904051,
          -2.789491882346949,
          -2.7631464457892854,
          -2.7367443461446386,
          -2.7102816395554257,
          -2.683754376420865,
          -2.657158601515828,
          -2.630490354208265,
          -2.6037456687832132,
          -2.576920574881733,
          -2.5500110980634956,
          -2.523013260502075,
          -2.4959230818224283,
          -2.468736580090372,
          -2.4414497729643276,
          -2.4140586790198992,
          -2.3865593192583328,
          -2.358947718810225,
          -2.331219908846223,
          -2.3033719287068526,
          -2.2753998282638515,
          -2.247299670525795,
          -2.2190675345009323,
          -2.19069951833048,
          -2.162191742705674,
          -2.133540354582059,
          -2.1047415312044175,
          -2.075791484455704,
          -2.046686465543216,
          -2.0174227700347798,
          -1.9879967432574595,
          -1.9584047860706248,
          -1.928643361024459,
          -1.8987089989140713,
          -1.8685983057382503,
          -1.8383079700704754,
          -1.8078347708483107,
          -1.777175585585288,
          -1.7463273990073858,
          -1.715287312113713,
          -1.6840525516582217,
          -1.6526204800462427,
          -1.6209886056362095,
          -1.5891545934331348,
          -1.55711627615631,
          -1.5248716656591341,
          -1.4924189646742811,
          -1.459756578852002,
          -1.426883129054072,
          -1.393797463859883,
          -1.36049867223521,
          -1.3269860963077351,
          -1.29325934418704,
          -1.2593183027600654,
          -1.2251631503864042,
          -1.190794369411292,
          -1.156212758407552,
          -1.1214194440517198,
          -1.08641589253372,
          -1.0512039203941441,
          -1.0157857046786871,
          -0.9801637922952877,
          -0.9443411084568458,
          -0.9083209640905126,
          -0.8721070620940292,
          -0.8357035023205528,
          -0.7991147851757123,
          -0.7623458137147732,
          -0.7254018941334648,
          -0.6882887345537183,
          -0.651012442014892,
          -0.6135795175923926,
          -0.5759968495787087,
          -0.5382717046766698,
          -0.5004117171712958,
          -0.4624248760645182,
          -0.42431951017629865,
          -0.38610427123591506,
          -0.3477881150082389,
          -0.30938028052114896,
          -0.2708902674818141,
          -0.23232781199072017,
          -0.19370286068281972,
          -0.15502554344468722,
          -0.11630614487449309,
          -0.07755507466787126,
          -0.03878283712676067
         ],
         "y": [
          6.988213275663291,
          6.983435806681882,
          6.969111888386656,
          6.94526695240061,
          6.911943270656657,
          6.869199785312785,
          6.817111872762212,
          6.755771043827073,
          6.685284582763992,
          6.605775128209399,
          6.51738019964398,
          6.4202516733540165,
          6.314555212207495,
          6.200469653841347,
          6.0781863620714915,
          5.947908546488215,
          5.809850555286632,
          5.664237146407372,
          5.511302742028727,
          5.351290671362265,
          5.184452406563852,
          5.011046796386094,
          4.831339301972353,
          4.645601238932383,
          4.454109029551521,
          4.257143468675221,
          4.054989006484646,
          3.8479330510426606,
          3.636265293148184,
          3.420277055695697,
          3.200260669400119,
          2.976508876418989,
          2.7493142630877374,
          2.5189687226826467,
          2.285762948841795,
          2.0499859600093013,
          1.8119246550232604,
          1.5718633997443767,
          1.330083644420279,
          1.0868635713001726,
          0.8424777718561504,
          0.597196952829393,
          0.351287670201937,
          0.10501209009665619,
          0.1413722244725056,
          0.387612502141124,
          0.6334609282143451,
          0.878674787388584,
          1.1230165854172038,
          1.3662541509714832,
          1.6081607189462122,
          1.8485149964489331,
          2.087101212692926,
          2.323709153988941,
          2.5581341849995516,
          2.7901772573841477,
          3.019644906923725,
          3.246349240171203,
          3.4701079116291575,
          3.690744092410271,
          3.9080864312887806,
          4.121969009003315,
          4.33223128662445,
          4.538718048752498,
          4.741279342265334,
          4.939770411289905,
          5.134051629027606,
          5.3239884270204705,
          5.5094512224043415,
          5.690315343655601,
          5.866460955300364,
          6.037772982019189,
          6.2041410325467545,
          6.365459323733183,
          6.521626605104,
          6.672546084227205,
          6.818125353169004,
          6.958276316295193,
          7.0929151196521385,
          7.221962082139082,
          7.345341628664405,
          7.46298222545937,
          7.574816317705991,
          7.680780269620085,
          7.78081430711594,
          7.874862463165898,
          7.962872525956017,
          8.04479598992787,
          8.120588009786436,
          8.190207357544866,
          8.253616382668566,
          8.310780975373262,
          8.36167053312504,
          8.406257930383852,
          8.44451949162639,
          8.476434967678902,
          8.501987515385832,
          8.52116368063577,
          8.533953384762011,
          8.540349914331392,
          8.540349914331395,
          8.533953384762015,
          8.52116368063578,
          8.50198751538585,
          8.476434967678921,
          8.444519491626416,
          8.406257930383882,
          8.361670533125073,
          8.310780975373296,
          8.253616382668605,
          8.190207357544914,
          8.120588009786479,
          8.044795989927922,
          7.96287252595607,
          7.874862463165955,
          7.7808143071160005,
          7.680780269620158,
          7.574816317706069,
          7.462982225459449,
          7.345341628664491,
          7.22196208213917,
          7.092915119652226,
          6.958276316295287,
          6.818125353169091,
          6.672546084227309,
          6.5216266051041,
          6.365459323733278,
          6.204141032546862,
          6.037772982019301,
          5.866460955300484,
          5.690315343655735,
          5.509451222404461,
          5.323988427020586,
          5.134051629027725,
          4.939770411290027,
          4.741279342265457,
          4.538718048752626,
          4.332231286624574,
          4.121969009003452,
          3.908086431288908,
          3.6907440924104007,
          3.4701079116292797,
          3.246349240171329,
          3.0196449069238525,
          2.7901772573842645,
          2.558134184999665,
          2.323709153989073,
          2.087101212693039,
          1.8485149964490484,
          1.608160718946331,
          1.3662541509716035,
          1.123016585417318,
          0.8786747873886989,
          0.6334609282144618,
          0.387612502141242,
          0.14137222447263154,
          0.10501209009653592,
          0.35128767020180884,
          0.5971969528292643,
          0.8424777718560347,
          1.0868635713000432,
          1.3300836444201427,
          1.571863399744247,
          1.8119246550231194,
          2.0499859600091668,
          2.285762948841662,
          2.518968722682508,
          2.7493142630875944,
          2.976508876418843,
          3.200260669399978,
          3.420277055695548,
          3.6362652931480395,
          3.8479330510425265,
          4.054989006484506,
          4.25714346867508,
          4.454109029551386,
          4.645601238932259,
          4.831339301972236,
          5.011046796385976,
          5.184452406563733,
          5.351290671362149,
          5.511302742028614,
          5.664237146407264,
          5.80985055528653,
          5.947908546488118,
          6.078186362071402,
          6.200469653841265,
          6.314555212207418,
          6.420251673353953,
          6.5173801996439265,
          6.605775128209355,
          6.685284582763952,
          6.755771043827026,
          6.817111872762171,
          6.869199785312754,
          6.911943270656636,
          6.9452669524005906,
          6.969111888386643,
          6.983435806681873
         ]
        },
        {
         "mode": "markers",
         "name": "Orbital velocity [km/s]",
         "type": "scatter",
         "x": [
          0,
          0.038782837126782876,
          0.07755507466789346,
          0.1163061448745153,
          0.15502554344470898,
          0.19370286068284281,
          0.2323278119907437,
          0.2708902674818381,
          0.30938028052117117,
          0.34778811500826157,
          0.3861042712359395,
          0.4243195101763231,
          0.46242487606454663,
          0.5004117171713238,
          0.5382717046766978,
          0.5759968495787353,
          0.6135795175924219,
          0.6510124420149204,
          0.6882887345537467,
          0.7254018941334923,
          0.7623458137148029,
          0.799114785175739,
          0.8357035023205768,
          0.8721070620940541,
          0.9083209640905379,
          0.9443411084568716,
          0.980163792295313,
          1.0157857046787138,
          1.0512039203941743,
          1.0864158925337488,
          1.1214194440517504,
          1.1562127584075839,
          1.1907943694113277,
          1.2251631503864422,
          1.2593183027601036,
          1.2932593441870806,
          1.326986096307773,
          1.3604986722352521,
          1.3937974638599275,
          1.426883129054115,
          1.4597565788520477,
          1.4924189646743278,
          1.5248716656591847,
          1.5571162761563553,
          1.5891545934331814,
          1.6209886056362546,
          1.6526204800462878,
          1.6840525516582687,
          1.7152873121137562,
          1.746327399007427,
          1.7771755855853302,
          1.8078347708483582,
          1.8383079700705247,
          1.8685983057382964,
          1.8987089989141213,
          1.9286433610245073,
          1.9584047860706733,
          1.9879967432575052,
          2.017422770034827,
          2.0466864655432673,
          2.0757914844557543,
          2.1047415312044677,
          2.133540354582112,
          2.1621917427057245,
          2.19069951833053,
          2.2190675345009847,
          2.2472996705258446,
          2.275399828263901,
          2.3033719287069,
          2.3312199088462675,
          2.3589477188102705,
          2.38655931925838,
          2.414058679019945,
          2.441449772964373,
          2.4687365800904164,
          2.495923081822472,
          2.52301326050212,
          2.550011098063539,
          2.5769205748817754,
          2.6037456687832528,
          2.6304903542083053,
          2.657158601515868,
          2.6837543764209038,
          2.710281639555464,
          2.736744346144677,
          2.7631464457893244,
          2.7894918823469874,
          2.8157845939040893,
          2.8420285128314493,
          2.8682275659162997,
          2.8943856745639565,
          2.920506755062606,
          2.9465947189049144,
          2.9726534731603866,
          2.9986869208925793,
          3.0246989616154867,
          3.0506934917835435,
          3.076674405309844,
          3.1026455941072903,
          3.128610948647469,
          -3.1286109486474354,
          -3.102645594107257,
          -3.076674405309811,
          -3.05069349178351,
          -3.0246989616154516,
          -2.9986869208925437,
          -2.972653473160351,
          -2.9465947189048785,
          -2.92050675506257,
          -2.8943856745639205,
          -2.8682275659162637,
          -2.8420285128314116,
          -2.815784593904051,
          -2.789491882346949,
          -2.7631464457892854,
          -2.7367443461446386,
          -2.7102816395554257,
          -2.683754376420865,
          -2.657158601515828,
          -2.630490354208265,
          -2.6037456687832132,
          -2.576920574881733,
          -2.5500110980634956,
          -2.523013260502075,
          -2.4959230818224283,
          -2.468736580090372,
          -2.4414497729643276,
          -2.4140586790198992,
          -2.3865593192583328,
          -2.358947718810225,
          -2.331219908846223,
          -2.3033719287068526,
          -2.2753998282638515,
          -2.247299670525795,
          -2.2190675345009323,
          -2.19069951833048,
          -2.162191742705674,
          -2.133540354582059,
          -2.1047415312044175,
          -2.075791484455704,
          -2.046686465543216,
          -2.0174227700347798,
          -1.9879967432574595,
          -1.9584047860706248,
          -1.928643361024459,
          -1.8987089989140713,
          -1.8685983057382503,
          -1.8383079700704754,
          -1.8078347708483107,
          -1.777175585585288,
          -1.7463273990073858,
          -1.715287312113713,
          -1.6840525516582217,
          -1.6526204800462427,
          -1.6209886056362095,
          -1.5891545934331348,
          -1.55711627615631,
          -1.5248716656591341,
          -1.4924189646742811,
          -1.459756578852002,
          -1.426883129054072,
          -1.393797463859883,
          -1.36049867223521,
          -1.3269860963077351,
          -1.29325934418704,
          -1.2593183027600654,
          -1.2251631503864042,
          -1.190794369411292,
          -1.156212758407552,
          -1.1214194440517198,
          -1.08641589253372,
          -1.0512039203941441,
          -1.0157857046786871,
          -0.9801637922952877,
          -0.9443411084568458,
          -0.9083209640905126,
          -0.8721070620940292,
          -0.8357035023205528,
          -0.7991147851757123,
          -0.7623458137147732,
          -0.7254018941334648,
          -0.6882887345537183,
          -0.651012442014892,
          -0.6135795175923926,
          -0.5759968495787087,
          -0.5382717046766698,
          -0.5004117171712958,
          -0.4624248760645182,
          -0.42431951017629865,
          -0.38610427123591506,
          -0.3477881150082389,
          -0.30938028052114896,
          -0.2708902674818141,
          -0.23232781199072017,
          -0.19370286068281972,
          -0.15502554344468722,
          -0.11630614487449309,
          -0.07755507466787126,
          -0.03878283712676067
         ],
         "y": [
          8.541149559144023,
          8.540618749050498,
          8.539027499131539,
          8.536379344105033,
          8.53268015401561,
          8.52793810275503,
          8.522163624482229,
          8.515369358423442,
          8.507570082654654,
          8.498782637579295,
          8.489025839912175,
          8.478320388064269,
          8.466688759891252,
          8.454155103820943,
          8.440745124410679,
          8.426485963405115,
          8.411406077368639,
          8.395535112955116,
          8.378903780852104,
          8.361543729398301,
          8.343487418823425,
          8.324767997000162,
          8.305419177530537,
          8.285475120915317,
          8.264970319476712,
          8.243939486623479,
          8.22241745096492,
          8.200439055697801,
          8.1780390636091,
          8.155252067959038,
          8.132112409433741,
          8.108654099286303,
          8.084910748719361,
          8.06091550450199,
          8.036700990759408,
          8.012299256825452,
          7.987741731005346,
          7.963059180059821,
          7.938281674190894,
          7.913438557284517,
          7.8885584221453655,
          7.863669090444127,
          7.838797597087102,
          7.813970178711657,
          7.78921226600834,
          7.764548479571114,
          7.74000262898062,
          7.715597714831292,
          7.691355933421107,
          7.667298683832507,
          7.6434465771440205,
          7.61981944752433,
          7.596436364973413,
          7.573315649488846,
          7.550474886449207,
          7.5279309430203885,
          7.505699985404512,
          7.483797496764846,
          7.4622382956735525,
          7.4410365549420066,
          7.420205820706062,
          7.399759031650507,
          7.379708538268448,
          7.3600661220620935,
          7.3408430146015435,
          7.322049916367749,
          7.3036970153145875,
          7.28579400509327,
          7.26835010288983,
          7.251374066833459,
          7.234874212939781,
          7.2188584315590205,
          7.20333420330421,
          7.188308614439409,
          7.173788371712129,
          7.159779816617953,
          7.146288939088744,
          7.133321390598781,
          7.120882496685784,
          7.1089772688860124,
          7.097610416084599,
          7.086786355283876,
          7.0765092217938195,
          7.066782878849891,
          7.05761092666443,
          7.048996710918378,
          7.040943330700706,
          7.033453645903148,
          7.026530284078079,
          7.020175646767358,
          7.014391915309868,
          7.009181056135304,
          7.004544825551411,
          7.000484774031502,
          6.997002250008594,
          6.9940984031819715,
          6.991774187341378,
          6.990030362713365,
          6.988867497833676,
          6.988285970948748,
          6.988285970948748,
          6.9888674978336764,
          6.990030362713368,
          6.991774187341381,
          6.994098403181975,
          6.997002250008598,
          7.000484774031506,
          7.004544825551415,
          7.00918105613531,
          7.014391915309876,
          7.020175646767366,
          7.026530284078089,
          7.033453645903157,
          7.040943330700718,
          7.048996710918391,
          7.057610926664442,
          7.066782878849901,
          7.076509221793831,
          7.086786355283891,
          7.097610416084615,
          7.1089772688860275,
          7.1208824966858,
          7.133321390598801,
          7.146288939088765,
          7.1597798166179745,
          7.173788371712152,
          7.188308614439434,
          7.203334203304236,
          7.218858431559046,
          7.234874212939808,
          7.251374066833486,
          7.268350102889859,
          7.2857940050933,
          7.3036970153146195,
          7.322049916367779,
          7.340843014601573,
          7.360066122062124,
          7.3797085382684795,
          7.399759031650537,
          7.420205820706093,
          7.441036554942038,
          7.46223829567358,
          7.483797496764875,
          7.50569998540454,
          7.527930943020419,
          7.550474886449236,
          7.573315649488874,
          7.596436364973443,
          7.6198194475243595,
          7.643446577144046,
          7.667298683832532,
          7.691355933421133,
          7.715597714831316,
          7.740002628980641,
          7.764548479571134,
          7.78921226600836,
          7.813970178711677,
          7.8387975970871215,
          7.863669090444144,
          7.8885584221453815,
          7.913438557284531,
          7.938281674190907,
          7.963059180059832,
          7.987741731005356,
          8.012299256825461,
          8.036700990759414,
          8.060915504501992,
          8.084910748719361,
          8.108654099286301,
          8.132112409433738,
          8.155252067959037,
          8.178039063609097,
          8.200439055697794,
          8.222417450964912,
          8.243939486623468,
          8.2649703194767,
          8.285475120915303,
          8.305419177530522,
          8.324767997000146,
          8.34348741882341,
          8.361543729398285,
          8.378903780852086,
          8.3955351129551,
          8.411406077368621,
          8.426485963405096,
          8.440745124410657,
          8.45415510382092,
          8.46668875989123,
          8.478320388064246,
          8.489025839912149,
          8.498782637579268,
          8.50757008265463,
          8.515369358423419,
          8.522163624482204,
          8.527938102755003,
          8.532680154015582,
          8.536379344105002,
          8.53902749913151,
          8.540618749050472
         ]
        }
       ],
       "layout": {
        "legend": {
         "orientation": "h",
         "x": 1,
         "xanchor": "right",
         "y": 1.02,
         "yanchor": "bottom"
        },
        "margin": {
         "b": 20,
         "l": 20,
         "r": 20,
         "t": 20
        },
        "template": {
         "data": {
          "bar": [
           {
            "error_x": {
             "color": "#2a3f5f"
            },
            "error_y": {
             "color": "#2a3f5f"
            },
            "marker": {
             "line": {
              "color": "#E5ECF6",
              "width": 0.5
             }
            },
            "type": "bar"
           }
          ],
          "barpolar": [
           {
            "marker": {
             "line": {
              "color": "#E5ECF6",
              "width": 0.5
             }
            },
            "type": "barpolar"
           }
          ],
          "carpet": [
           {
            "aaxis": {
             "endlinecolor": "#2a3f5f",
             "gridcolor": "white",
             "linecolor": "white",
             "minorgridcolor": "white",
             "startlinecolor": "#2a3f5f"
            },
            "baxis": {
             "endlinecolor": "#2a3f5f",
             "gridcolor": "white",
             "linecolor": "white",
             "minorgridcolor": "white",
             "startlinecolor": "#2a3f5f"
            },
            "type": "carpet"
           }
          ],
          "choropleth": [
           {
            "colorbar": {
             "outlinewidth": 0,
             "ticks": ""
            },
            "type": "choropleth"
           }
          ],
          "contour": [
           {
            "colorbar": {
             "outlinewidth": 0,
             "ticks": ""
            },
            "colorscale": [
             [
              0,
              "#0d0887"
             ],
             [
              0.1111111111111111,
              "#46039f"
             ],
             [
              0.2222222222222222,
              "#7201a8"
             ],
             [
              0.3333333333333333,
              "#9c179e"
             ],
             [
              0.4444444444444444,
              "#bd3786"
             ],
             [
              0.5555555555555556,
              "#d8576b"
             ],
             [
              0.6666666666666666,
              "#ed7953"
             ],
             [
              0.7777777777777778,
              "#fb9f3a"
             ],
             [
              0.8888888888888888,
              "#fdca26"
             ],
             [
              1,
              "#f0f921"
             ]
            ],
            "type": "contour"
           }
          ],
          "contourcarpet": [
           {
            "colorbar": {
             "outlinewidth": 0,
             "ticks": ""
            },
            "type": "contourcarpet"
           }
          ],
          "heatmap": [
           {
            "colorbar": {
             "outlinewidth": 0,
             "ticks": ""
            },
            "colorscale": [
             [
              0,
              "#0d0887"
             ],
             [
              0.1111111111111111,
              "#46039f"
             ],
             [
              0.2222222222222222,
              "#7201a8"
             ],
             [
              0.3333333333333333,
              "#9c179e"
             ],
             [
              0.4444444444444444,
              "#bd3786"
             ],
             [
              0.5555555555555556,
              "#d8576b"
             ],
             [
              0.6666666666666666,
              "#ed7953"
             ],
             [
              0.7777777777777778,
              "#fb9f3a"
             ],
             [
              0.8888888888888888,
              "#fdca26"
             ],
             [
              1,
              "#f0f921"
             ]
            ],
            "type": "heatmap"
           }
          ],
          "heatmapgl": [
           {
            "colorbar": {
             "outlinewidth": 0,
             "ticks": ""
            },
            "colorscale": [
             [
              0,
              "#0d0887"
             ],
             [
              0.1111111111111111,
              "#46039f"
             ],
             [
              0.2222222222222222,
              "#7201a8"
             ],
             [
              0.3333333333333333,
              "#9c179e"
             ],
             [
              0.4444444444444444,
              "#bd3786"
             ],
             [
              0.5555555555555556,
              "#d8576b"
             ],
             [
              0.6666666666666666,
              "#ed7953"
             ],
             [
              0.7777777777777778,
              "#fb9f3a"
             ],
             [
              0.8888888888888888,
              "#fdca26"
             ],
             [
              1,
              "#f0f921"
             ]
            ],
            "type": "heatmapgl"
           }
          ],
          "histogram": [
           {
            "marker": {
             "colorbar": {
              "outlinewidth": 0,
              "ticks": ""
             }
            },
            "type": "histogram"
           }
          ],
          "histogram2d": [
           {
            "colorbar": {
             "outlinewidth": 0,
             "ticks": ""
            },
            "colorscale": [
             [
              0,
              "#0d0887"
             ],
             [
              0.1111111111111111,
              "#46039f"
             ],
             [
              0.2222222222222222,
              "#7201a8"
             ],
             [
              0.3333333333333333,
              "#9c179e"
             ],
             [
              0.4444444444444444,
              "#bd3786"
             ],
             [
              0.5555555555555556,
              "#d8576b"
             ],
             [
              0.6666666666666666,
              "#ed7953"
             ],
             [
              0.7777777777777778,
              "#fb9f3a"
             ],
             [
              0.8888888888888888,
              "#fdca26"
             ],
             [
              1,
              "#f0f921"
             ]
            ],
            "type": "histogram2d"
           }
          ],
          "histogram2dcontour": [
           {
            "colorbar": {
             "outlinewidth": 0,
             "ticks": ""
            },
            "colorscale": [
             [
              0,
              "#0d0887"
             ],
             [
              0.1111111111111111,
              "#46039f"
             ],
             [
              0.2222222222222222,
              "#7201a8"
             ],
             [
              0.3333333333333333,
              "#9c179e"
             ],
             [
              0.4444444444444444,
              "#bd3786"
             ],
             [
              0.5555555555555556,
              "#d8576b"
             ],
             [
              0.6666666666666666,
              "#ed7953"
             ],
             [
              0.7777777777777778,
              "#fb9f3a"
             ],
             [
              0.8888888888888888,
              "#fdca26"
             ],
             [
              1,
              "#f0f921"
             ]
            ],
            "type": "histogram2dcontour"
           }
          ],
          "mesh3d": [
           {
            "colorbar": {
             "outlinewidth": 0,
             "ticks": ""
            },
            "type": "mesh3d"
           }
          ],
          "parcoords": [
           {
            "line": {
             "colorbar": {
              "outlinewidth": 0,
              "ticks": ""
             }
            },
            "type": "parcoords"
           }
          ],
          "pie": [
           {
            "automargin": true,
            "type": "pie"
           }
          ],
          "scatter": [
           {
            "marker": {
             "colorbar": {
              "outlinewidth": 0,
              "ticks": ""
             }
            },
            "type": "scatter"
           }
          ],
          "scatter3d": [
           {
            "line": {
             "colorbar": {
              "outlinewidth": 0,
              "ticks": ""
             }
            },
            "marker": {
             "colorbar": {
              "outlinewidth": 0,
              "ticks": ""
             }
            },
            "type": "scatter3d"
           }
          ],
          "scattercarpet": [
           {
            "marker": {
             "colorbar": {
              "outlinewidth": 0,
              "ticks": ""
             }
            },
            "type": "scattercarpet"
           }
          ],
          "scattergeo": [
           {
            "marker": {
             "colorbar": {
              "outlinewidth": 0,
              "ticks": ""
             }
            },
            "type": "scattergeo"
           }
          ],
          "scattergl": [
           {
            "marker": {
             "colorbar": {
              "outlinewidth": 0,
              "ticks": ""
             }
            },
            "type": "scattergl"
           }
          ],
          "scattermapbox": [
           {
            "marker": {
             "colorbar": {
              "outlinewidth": 0,
              "ticks": ""
             }
            },
            "type": "scattermapbox"
           }
          ],
          "scatterpolar": [
           {
            "marker": {
             "colorbar": {
              "outlinewidth": 0,
              "ticks": ""
             }
            },
            "type": "scatterpolar"
           }
          ],
          "scatterpolargl": [
           {
            "marker": {
             "colorbar": {
              "outlinewidth": 0,
              "ticks": ""
             }
            },
            "type": "scatterpolargl"
           }
          ],
          "scatterternary": [
           {
            "marker": {
             "colorbar": {
              "outlinewidth": 0,
              "ticks": ""
             }
            },
            "type": "scatterternary"
           }
          ],
          "surface": [
           {
            "colorbar": {
             "outlinewidth": 0,
             "ticks": ""
            },
            "colorscale": [
             [
              0,
              "#0d0887"
             ],
             [
              0.1111111111111111,
              "#46039f"
             ],
             [
              0.2222222222222222,
              "#7201a8"
             ],
             [
              0.3333333333333333,
              "#9c179e"
             ],
             [
              0.4444444444444444,
              "#bd3786"
             ],
             [
              0.5555555555555556,
              "#d8576b"
             ],
             [
              0.6666666666666666,
              "#ed7953"
             ],
             [
              0.7777777777777778,
              "#fb9f3a"
             ],
             [
              0.8888888888888888,
              "#fdca26"
             ],
             [
              1,
              "#f0f921"
             ]
            ],
            "type": "surface"
           }
          ],
          "table": [
           {
            "cells": {
             "fill": {
              "color": "#EBF0F8"
             },
             "line": {
              "color": "white"
             }
            },
            "header": {
             "fill": {
              "color": "#C8D4E3"
             },
             "line": {
              "color": "white"
             }
            },
            "type": "table"
           }
          ]
         },
         "layout": {
          "annotationdefaults": {
           "arrowcolor": "#2a3f5f",
           "arrowhead": 0,
           "arrowwidth": 1
          },
          "coloraxis": {
           "colorbar": {
            "outlinewidth": 0,
            "ticks": ""
           }
          },
          "colorscale": {
           "diverging": [
            [
             0,
             "#8e0152"
            ],
            [
             0.1,
             "#c51b7d"
            ],
            [
             0.2,
             "#de77ae"
            ],
            [
             0.3,
             "#f1b6da"
            ],
            [
             0.4,
             "#fde0ef"
            ],
            [
             0.5,
             "#f7f7f7"
            ],
            [
             0.6,
             "#e6f5d0"
            ],
            [
             0.7,
             "#b8e186"
            ],
            [
             0.8,
             "#7fbc41"
            ],
            [
             0.9,
             "#4d9221"
            ],
            [
             1,
             "#276419"
            ]
           ],
           "sequential": [
            [
             0,
             "#0d0887"
            ],
            [
             0.1111111111111111,
             "#46039f"
            ],
            [
             0.2222222222222222,
             "#7201a8"
            ],
            [
             0.3333333333333333,
             "#9c179e"
            ],
            [
             0.4444444444444444,
             "#bd3786"
            ],
            [
             0.5555555555555556,
             "#d8576b"
            ],
            [
             0.6666666666666666,
             "#ed7953"
            ],
            [
             0.7777777777777778,
             "#fb9f3a"
            ],
            [
             0.8888888888888888,
             "#fdca26"
            ],
            [
             1,
             "#f0f921"
            ]
           ],
           "sequentialminus": [
            [
             0,
             "#0d0887"
            ],
            [
             0.1111111111111111,
             "#46039f"
            ],
            [
             0.2222222222222222,
             "#7201a8"
            ],
            [
             0.3333333333333333,
             "#9c179e"
            ],
            [
             0.4444444444444444,
             "#bd3786"
            ],
            [
             0.5555555555555556,
             "#d8576b"
            ],
            [
             0.6666666666666666,
             "#ed7953"
            ],
            [
             0.7777777777777778,
             "#fb9f3a"
            ],
            [
             0.8888888888888888,
             "#fdca26"
            ],
            [
             1,
             "#f0f921"
            ]
           ]
          },
          "colorway": [
           "#636efa",
           "#EF553B",
           "#00cc96",
           "#ab63fa",
           "#FFA15A",
           "#19d3f3",
           "#FF6692",
           "#B6E880",
           "#FF97FF",
           "#FECB52"
          ],
          "font": {
           "color": "#2a3f5f"
          },
          "geo": {
           "bgcolor": "white",
           "lakecolor": "white",
           "landcolor": "#E5ECF6",
           "showlakes": true,
           "showland": true,
           "subunitcolor": "white"
          },
          "hoverlabel": {
           "align": "left"
          },
          "hovermode": "closest",
          "mapbox": {
           "style": "light"
          },
          "paper_bgcolor": "white",
          "plot_bgcolor": "#E5ECF6",
          "polar": {
           "angularaxis": {
            "gridcolor": "white",
            "linecolor": "white",
            "ticks": ""
           },
           "bgcolor": "#E5ECF6",
           "radialaxis": {
            "gridcolor": "white",
            "linecolor": "white",
            "ticks": ""
           }
          },
          "scene": {
           "xaxis": {
            "backgroundcolor": "#E5ECF6",
            "gridcolor": "white",
            "gridwidth": 2,
            "linecolor": "white",
            "showbackground": true,
            "ticks": "",
            "zerolinecolor": "white"
           },
           "yaxis": {
            "backgroundcolor": "#E5ECF6",
            "gridcolor": "white",
            "gridwidth": 2,
            "linecolor": "white",
            "showbackground": true,
            "ticks": "",
            "zerolinecolor": "white"
           },
           "zaxis": {
            "backgroundcolor": "#E5ECF6",
            "gridcolor": "white",
            "gridwidth": 2,
            "linecolor": "white",
            "showbackground": true,
            "ticks": "",
            "zerolinecolor": "white"
           }
          },
          "shapedefaults": {
           "line": {
            "color": "#2a3f5f"
           }
          },
          "ternary": {
           "aaxis": {
            "gridcolor": "white",
            "linecolor": "white",
            "ticks": ""
           },
           "baxis": {
            "gridcolor": "white",
            "linecolor": "white",
            "ticks": ""
           },
           "bgcolor": "#E5ECF6",
           "caxis": {
            "gridcolor": "white",
            "linecolor": "white",
            "ticks": ""
           }
          },
          "title": {
           "x": 0.05
          },
          "xaxis": {
           "automargin": true,
           "gridcolor": "white",
           "linecolor": "white",
           "ticks": "",
           "title": {
            "standoff": 15
           },
           "zerolinecolor": "white",
           "zerolinewidth": 2
          },
          "yaxis": {
           "automargin": true,
           "gridcolor": "white",
           "linecolor": "white",
           "ticks": "",
           "title": {
            "standoff": 15
           },
           "zerolinecolor": "white",
           "zerolinewidth": 2
          }
         }
        },
        "title": {
         "text": "Orbit 300x300km"
        },
        "xaxis": {
         "title": {
          "text": "True anomaly 𝜈 [rad]"
         }
        },
        "yaxis": {
         "title": {
          "text": "Veloicty [km/s]"
         }
        }
       }
      }
     },
     "metadata": {}
    }
   ],
   "source": [
    "import plotly.express as px\n",
    "import plotly.graph_objs as go\n",
    "import numpy as np\n",
    "\n",
    "# y - blue - orbital velocity [km/s]\n",
    "# y2 - red - delta-v cost for inclination change [km/s]\n",
    "\n",
    "# Note the lowest cost is when the object passes lines of apides (i.e. in the middle between apoapsis and periapsis)\n",
    "\n",
    "nu_tbl = []\n",
    "v_tbl = []\n",
    "dv_tbl = []\n",
    "for v,t,nu,argp, dv in vel:\n",
    "    nu_tbl.append(nu.value)\n",
    "    v_tbl.append(v.value)\n",
    "    dv_tbl.append(abs(dv.value))\n",
    "\n",
    "fig = go.Figure()\n",
    "fig.add_trace(go.Scatter(x = nu_tbl, y = dv_tbl, mode=\"markers\", name=\"Delta-v [km/s]\"))\n",
    "fig.add_trace(go.Scatter(x = nu_tbl, y = v_tbl, mode=\"markers\", name=\"Orbital velocity [km/s]\"))\n",
    "\n",
    "# Update legend to show at the top\n",
    "fig.update_layout(legend=dict(\n",
    "    orientation=\"h\",\n",
    "    yanchor=\"bottom\",\n",
    "    y=1.02,\n",
    "    xanchor=\"right\",\n",
    "    x=1\n",
    "), xaxis_title=\"True anomaly 𝜈 [rad]\", yaxis_title=\"Veloicty [km/s]\", title=\"Orbit 300x300km\", margin=dict(l=20, r=20, t=20, b=20))\n",
    "\n",
    "fig.show()\n"
   ]
  },
  {
   "cell_type": "code",
   "execution_count": 6,
   "metadata": {},
   "outputs": [
    {
     "output_type": "stream",
     "name": "stdout",
     "text": [
      "orb1 v=[0.         7.72576046 0.        ] km / s, r=[6678.1366    0.        0.    ] km\norb3 v=[-0.53583321  7.70715625  0.        ] km / s, r=[6662.05514628  463.17348383    0.        ] km\n"
     ]
    }
   ],
   "source": [
    "# This is how the orbit can be propagated (the object moving forward in time)\n",
    "# Observing how the velocity and position vectors change over time\n",
    "print(\"orb1 v=%s, r=%s\" % (orb1.v, orb1.r))\n",
    "orb1 = orb1.propagate(1 * u.min) # Let's see how far it moved in 1 minute\n",
    "print(\"orb3 v=%s, r=%s\" % (orb1.v, orb1.r))"
   ]
  },
  {
   "cell_type": "code",
   "execution_count": null,
   "metadata": {},
   "outputs": [],
   "source": []
  }
 ],
 "metadata": {
  "kernelspec": {
   "display_name": "Python 3",
   "language": "python",
   "name": "python3"
  },
  "language_info": {
   "codemirror_mode": {
    "name": "ipython",
    "version": 3
   },
   "file_extension": ".py",
   "mimetype": "text/x-python",
   "name": "python",
   "nbconvert_exporter": "python",
   "pygments_lexer": "ipython3",
   "version": "3.8.2-final"
  }
 },
 "nbformat": 4,
 "nbformat_minor": 4
}